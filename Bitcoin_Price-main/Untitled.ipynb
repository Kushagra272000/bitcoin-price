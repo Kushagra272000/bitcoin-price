{
 "cells": [
  {
   "cell_type": "code",
   "execution_count": 1,
   "id": "c40fc2f5",
   "metadata": {},
   "outputs": [],
   "source": [
    "import paho.mqtt.client as paho\n",
    "import json"
   ]
  },
  {
   "cell_type": "code",
   "execution_count": 2,
   "id": "3161f918",
   "metadata": {},
   "outputs": [],
   "source": [
    "electricity_price = 3.6\n",
    "network_hashrate = 180000000000\n",
    "bitcoin_prc = 4088730"
   ]
  },
  {
   "cell_type": "code",
   "execution_count": 3,
   "id": "5d3a6965",
   "metadata": {},
   "outputs": [],
   "source": [
    "def prob(hashrate):\n",
    "    return(hashrate/network_hashrate)\n",
    "def daily_reward(hashrate):\n",
    "    daily_block_reward = 15.5 * 144\n",
    "    our_hourly_block_reward = (prob(hashrate) * daily_block_reward)/24\n",
    "    return(our_hourly_block_reward)\n",
    "def earning(hashrate, bitcoin_price):\n",
    "    return(daily_reward(hashrate)*bitcoin_price)"
   ]
  },
  {
   "cell_type": "code",
   "execution_count": 4,
   "id": "063ad0f9",
   "metadata": {},
   "outputs": [],
   "source": [
    "#powerstat -d 0 30 120 or kill-a-watt\n",
    "def cost(power_consumption):\n",
    "    return((power_consumption/1000) * electricity_price)"
   ]
  },
  {
   "cell_type": "code",
   "execution_count": 5,
   "id": "e285c5d0",
   "metadata": {},
   "outputs": [],
   "source": [
    "def profit(hashrate, bitcoin_price, power_consumption):\n",
    "    return(earning(hashrate, bitcoin_price) - cost(power_consumption))"
   ]
  },
  {
   "cell_type": "code",
   "execution_count": 6,
   "id": "6f373f4e",
   "metadata": {},
   "outputs": [],
   "source": [
    "def on_message(mosq, obj, msg):\n",
    "    msg.payload = str(msg.payload.decode(\"utf-8\",\"ignore\"))\n",
    "    payload = json.loads(msg.payload)\n",
    "    power_consumption = float(str(payload['Power_Consumption']))\n",
    "    hashrate = float(str(payload['HashRate']))\n",
    "    profits = profit(hashrate, bitcoin_prc, power_consumption)\n",
    "    print(profits)"
   ]
  },
  {
   "cell_type": "code",
   "execution_count": null,
   "id": "fcb817f1",
   "metadata": {},
   "outputs": [
    {
     "name": "stdout",
     "output_type": "stream",
     "text": [
      "0.12119715093120621\n",
      "0.10226849440733647\n",
      "0.10729074824047087\n",
      "0.11586843355102228\n",
      "0.1501695831378588\n"
     ]
    }
   ],
   "source": [
    "mqttc = paho.Client()\n",
    "mqttc.on_message = on_message\n",
    "mqttc.connect(\"broker.mqttdashboard.com\")\n",
    "mqttc.subscribe(\"BitPred/#\")\n",
    "mqttc.loop_forever()\n",
    "mqttc.on_message = on_message"
   ]
  },
  {
   "cell_type": "code",
   "execution_count": null,
   "id": "bbc17f9e",
   "metadata": {},
   "outputs": [],
   "source": []
  }
 ],
 "metadata": {
  "kernelspec": {
   "display_name": "Python 3",
   "language": "python",
   "name": "python3"
  },
  "language_info": {
   "codemirror_mode": {
    "name": "ipython",
    "version": 3
   },
   "file_extension": ".py",
   "mimetype": "text/x-python",
   "name": "python",
   "nbconvert_exporter": "python",
   "pygments_lexer": "ipython3",
   "version": "3.9.5"
  }
 },
 "nbformat": 4,
 "nbformat_minor": 5
}
