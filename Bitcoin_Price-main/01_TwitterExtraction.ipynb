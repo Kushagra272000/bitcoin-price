{
 "cells": [
  {
   "cell_type": "markdown",
   "metadata": {},
   "source": [
    "# Twitter extraction\n",
    "\n",
    "This notebook aims to retrieve tweets, clean them and compute a sentiment in order to observe a correlation between crypto currencies and tweets' sentiments. The following steps are executed in this notebook :\n",
    "\n",
    "- Retrieve tweets with Twython API (Twitter API wrapper for python)\n",
    "- Extract the wanted data (tweet's text, #followers, #likes, etc.)\n",
    "- Clean the textual data (remove unnecessary elements like media, websites link, pseudos, ...)\n",
    "- Compute for each tweet a sentiment score with Vader (named compound) and a score linked to the popularity of the tweet and its compound\n",
    "\n",
    "This notebook is written using Python 3.6.\n",
    "\n",
    "## Setup"
   ]
  },
  {
   "cell_type": "code",
   "execution_count": 1,
   "metadata": {},
   "outputs": [],
   "source": [
    "# Define the currency\n",
    "#CURRENCY = \"zilliqa\"\n",
    "#CURRENCY_SYMBOL = \"ZIL\"\n",
    "#CURRENCY = \"nexo\"\n",
    "#CURRENCY_SYMBOL = \"NEXO\"\n",
    "CURRENCY = \"bitcoin\"\n",
    "CURRENCY_SYMBOL = \"BTC\"\n",
    "\n",
    "## personal config\n",
    "TWEETS_FOLDER    = f\"data/crypto/{CURRENCY_SYMBOL}\" # Relative path to historical data\n",
    "SEP_CHAR         = '~' # character seperating dates from and to in filename\n",
    "ENVS             = ['CRYPTO', 'LINE_COUNT', 'MOST_RECENT_FILE', 'MOST_RECENT_ID'] # Stored in var.csv\n",
    "MAX_ROW_PER_FILE = 20000 # Each file storing data has a maximum amount of rows\n",
    "\n",
    "#tweets_raw_file = f'data/twitter/{CURRENCY_SYMBOL}/{CURRENCY}_tweets_raw.csv'\n",
    "#tweets_clean_file = f'data/twitter/{CURRENCY_SYMBOL}/{CURRENCY}_tweets_clean.csv'\n",
    "query = f'#{CURRENCY} OR #{CURRENCY_SYMBOL}' ####TODO PUT BACK  OR {CURRENCY} OR ${CURRENCY} OR ${CURRENCY_SYMBOL}"
   ]
  },
  {
   "cell_type": "markdown",
   "metadata": {},
   "source": [
    "## 1. Retrieve the tweets from Twitter API"
   ]
  },
  {
   "cell_type": "markdown",
   "metadata": {},
   "source": [
    "### 1.1 Import Twython\n",
    "We use the *twython* package as my Python interface with the Twitter API: https://twython.readthedocs.io/en/latest/usage/starting_out.html\n",
    "\n",
    "The twython package must be installed using *pip install twython* from the command line."
   ]
  },
  {
   "cell_type": "code",
   "execution_count": 2,
   "metadata": {},
   "outputs": [],
   "source": [
    "from twython import Twython"
   ]
  },
  {
   "cell_type": "markdown",
   "metadata": {},
   "source": [
    "### 1.2 OAuth2 Authentication (*app* authentication)\n",
    "Here we use the method *OAuth2* along with the Twithon library to authenticate on the twitter API.\n",
    "\n",
    "OAuth1 will give you *user* access to the API, whereas OAuth2 will give the *app* access. For academic use the rate limits are generally better for *OAuth2* (app) authentication, with a few exceptions. For a chart showing the API limits for user and app authentication for the various parts of the Twitter API, see this chart: https://dev.twitter.com/rest/public/rate-limits\n",
    "\n",
    "Running the code block below shows that we now have a rate limit of 450 API calls. This means we can make 450 different calls to the API within the current 15-minute window. With the search API we can access 100 tweets per call. This means that, if we were downloading tweets with a specific hashtag, such as *#arnova16*, we could download 450 $\\times$ 100 or 45,000 tweets per window. This is much better than the 18,000 tweets we can access using the OAuth1 or user authentication."
   ]
  },
  {
   "cell_type": "code",
   "execution_count": 3,
   "metadata": {
    "scrolled": true
   },
   "outputs": [
    {
     "data": {
      "text/plain": [
       "{'/search/tweets': {'limit': 450, 'remaining': 450, 'reset': 1619492885}}"
      ]
     },
     "execution_count": 3,
     "metadata": {},
     "output_type": "execute_result"
    }
   ],
   "source": [
    "APP_KEY = 'vJB7L6fhV3hYPQjXdgSDtzWdy'\n",
    "APP_SECRET = 'dUTeph2pJCaojtpuiv7M7UDLeEiuR6qTBhD0fOzdaTuOE8xTZF'\n",
    "twitter = Twython(APP_KEY, APP_SECRET, oauth_version=2)\n",
    "ACCESS_TOKEN = twitter.obtain_access_token()\n",
    "twitter = Twython(APP_KEY, access_token=ACCESS_TOKEN)\n",
    "twitter.get_application_rate_limit_status()['resources']['search']"
   ]
  },
  {
   "cell_type": "markdown",
   "metadata": {},
   "source": [
    "### 1.3 Query the twitter API\n",
    "Here we query the twitter API to get the latest tweets about bitcoin. Then we transform it to store only the useful data inside a Pandas Dataframe.\n",
    "\n",
    "The following fields are retrieved from the response:\n",
    "\n",
    "- **id** (int) : unique identifier of the tweet\n",
    "- **text** (string) : UTF-8 textual content of the tweet, max 140 chars\n",
    "- user\n",
    "  - **name** (string) : twitter's pseudo of the user\n",
    "  - **followers_count** (int) : Number of followers the user has\n",
    "- **retweet_count** (int) : Number of times the tweet has been retweeted\n",
    "- **favorite_count** (int) : Number of likes\n",
    "- **created_at** (datetime) : creation date and time of the tweet\n",
    "\n",
    "Also, we wanted to retrieve the following fields but it is not possible with the standard free API, Enteprise or premium is needed (https://developer.twitter.com/en/docs/tweets/data-dictionary/overview/tweet-object.html):\n",
    "\n",
    "- reply_count (int) : Number of times the Tweet has been replied to\n",
    "\n",
    "The pandas package must be installed using *pip install pandas* from the command line.\n",
    "\n",
    "We used the search opertators that are explained here (https://lifehacker.com/search-twitter-more-efficiently-with-these-search-opera-1598165519) to not only search by hashtag but also the tweets that contain the currency name or that have the hashtag with the currency's abreviation."
   ]
  },
  {
   "cell_type": "code",
   "execution_count": 4,
   "metadata": {},
   "outputs": [],
   "source": [
    "from time import sleep\n",
    "import json\n",
    "import pandas as pd\n",
    "import io\n",
    "from tqdm import tqdm"
   ]
  },
  {
   "cell_type": "code",
   "execution_count": 5,
   "metadata": {
    "scrolled": true
   },
   "outputs": [
    {
     "name": "stderr",
     "output_type": "stream",
     "text": [
      "  0%|          | 1/450 [00:01<08:20,  1.12s/it]"
     ]
    },
    {
     "name": "stdout",
     "output_type": "stream",
     "text": [
      "{'statuses': [], 'search_metadata': {'completed_in': 0.011, 'max_id': 1386879849202024456, 'max_id_str': '1386879849202024456', 'query': '%23bitcoin+OR+%23BTC+since%3A2021-04-11+until%3A2021-04-19', 'refresh_url': '?since_id=1386879849202024456&q=%23bitcoin%20OR%20%23BTC%20since%3A2021-04-11%20until%3A2021-04-19&lang=en&result_type=recent&include_entities=1', 'count': 100, 'since_id': 0, 'since_id_str': '0'}}\n"
     ]
    },
    {
     "name": "stderr",
     "output_type": "stream",
     "text": [
      "\r",
      "  0%|          | 2/450 [00:01<05:17,  1.41it/s]"
     ]
    },
    {
     "name": "stdout",
     "output_type": "stream",
     "text": [
      "{'statuses': [], 'search_metadata': {'completed_in': 0.006, 'max_id': 1386879849202024456, 'max_id_str': '1386879849202024456', 'query': '%23bitcoin+OR+%23BTC+since%3A2021-04-11+until%3A2021-04-19', 'refresh_url': '?since_id=1386879849202024456&q=%23bitcoin%20OR%20%23BTC%20since%3A2021-04-11%20until%3A2021-04-19&lang=en&result_type=recent&include_entities=1', 'count': 100, 'since_id': 0, 'since_id_str': '0'}}\n"
     ]
    },
    {
     "name": "stderr",
     "output_type": "stream",
     "text": [
      "\r",
      "  1%|          | 3/450 [00:01<04:20,  1.72it/s]"
     ]
    },
    {
     "name": "stdout",
     "output_type": "stream",
     "text": [
      "{'statuses': [], 'search_metadata': {'completed_in': 0.005, 'max_id': 1386879849202024456, 'max_id_str': '1386879849202024456', 'query': '%23bitcoin+OR+%23BTC+since%3A2021-04-11+until%3A2021-04-19', 'refresh_url': '?since_id=1386879849202024456&q=%23bitcoin%20OR%20%23BTC%20since%3A2021-04-11%20until%3A2021-04-19&lang=en&result_type=recent&include_entities=1', 'count': 100, 'since_id': 0, 'since_id_str': '0'}}\n"
     ]
    },
    {
     "name": "stderr",
     "output_type": "stream",
     "text": [
      "\r",
      "  1%|          | 4/450 [00:02<03:50,  1.94it/s]"
     ]
    },
    {
     "name": "stdout",
     "output_type": "stream",
     "text": [
      "{'statuses': [], 'search_metadata': {'completed_in': 0.006, 'max_id': 1386879849202024456, 'max_id_str': '1386879849202024456', 'query': '%23bitcoin+OR+%23BTC+since%3A2021-04-11+until%3A2021-04-19', 'refresh_url': '?since_id=1386879849202024456&q=%23bitcoin%20OR%20%23BTC%20since%3A2021-04-11%20until%3A2021-04-19&lang=en&result_type=recent&include_entities=1', 'count': 100, 'since_id': 0, 'since_id_str': '0'}}\n"
     ]
    },
    {
     "name": "stderr",
     "output_type": "stream",
     "text": [
      "\r",
      "  1%|          | 5/450 [00:02<03:33,  2.09it/s]"
     ]
    },
    {
     "name": "stdout",
     "output_type": "stream",
     "text": [
      "{'statuses': [], 'search_metadata': {'completed_in': 0.006, 'max_id': 1386879849202024456, 'max_id_str': '1386879849202024456', 'query': '%23bitcoin+OR+%23BTC+since%3A2021-04-11+until%3A2021-04-19', 'refresh_url': '?since_id=1386879849202024456&q=%23bitcoin%20OR%20%23BTC%20since%3A2021-04-11%20until%3A2021-04-19&lang=en&result_type=recent&include_entities=1', 'count': 100, 'since_id': 0, 'since_id_str': '0'}}\n"
     ]
    },
    {
     "name": "stderr",
     "output_type": "stream",
     "text": [
      "\r",
      "  1%|▏         | 6/450 [00:03<03:23,  2.18it/s]"
     ]
    },
    {
     "name": "stdout",
     "output_type": "stream",
     "text": [
      "{'statuses': [], 'search_metadata': {'completed_in': 0.007, 'max_id': 1386879849202024456, 'max_id_str': '1386879849202024456', 'query': '%23bitcoin+OR+%23BTC+since%3A2021-04-11+until%3A2021-04-19', 'refresh_url': '?since_id=1386879849202024456&q=%23bitcoin%20OR%20%23BTC%20since%3A2021-04-11%20until%3A2021-04-19&lang=en&result_type=recent&include_entities=1', 'count': 100, 'since_id': 0, 'since_id_str': '0'}}\n"
     ]
    },
    {
     "name": "stderr",
     "output_type": "stream",
     "text": [
      "\r",
      "  2%|▏         | 7/450 [00:03<03:16,  2.25it/s]"
     ]
    },
    {
     "name": "stdout",
     "output_type": "stream",
     "text": [
      "{'statuses': [], 'search_metadata': {'completed_in': 0.005, 'max_id': 1386879849202024456, 'max_id_str': '1386879849202024456', 'query': '%23bitcoin+OR+%23BTC+since%3A2021-04-11+until%3A2021-04-19', 'refresh_url': '?since_id=1386879849202024456&q=%23bitcoin%20OR%20%23BTC%20since%3A2021-04-11%20until%3A2021-04-19&lang=en&result_type=recent&include_entities=1', 'count': 100, 'since_id': 0, 'since_id_str': '0'}}\n"
     ]
    },
    {
     "name": "stderr",
     "output_type": "stream",
     "text": [
      "\r",
      "  2%|▏         | 8/450 [00:04<03:12,  2.30it/s]"
     ]
    },
    {
     "name": "stdout",
     "output_type": "stream",
     "text": [
      "{'statuses': [], 'search_metadata': {'completed_in': 0.005, 'max_id': 1386879849202024456, 'max_id_str': '1386879849202024456', 'query': '%23bitcoin+OR+%23BTC+since%3A2021-04-11+until%3A2021-04-19', 'refresh_url': '?since_id=1386879849202024456&q=%23bitcoin%20OR%20%23BTC%20since%3A2021-04-11%20until%3A2021-04-19&lang=en&result_type=recent&include_entities=1', 'count': 100, 'since_id': 0, 'since_id_str': '0'}}\n"
     ]
    },
    {
     "name": "stderr",
     "output_type": "stream",
     "text": [
      "\r",
      "  2%|▏         | 9/450 [00:04<03:08,  2.34it/s]"
     ]
    },
    {
     "name": "stdout",
     "output_type": "stream",
     "text": [
      "{'statuses': [], 'search_metadata': {'completed_in': 0.005, 'max_id': 1386879849202024456, 'max_id_str': '1386879849202024456', 'query': '%23bitcoin+OR+%23BTC+since%3A2021-04-11+until%3A2021-04-19', 'refresh_url': '?since_id=1386879849202024456&q=%23bitcoin%20OR%20%23BTC%20since%3A2021-04-11%20until%3A2021-04-19&lang=en&result_type=recent&include_entities=1', 'count': 100, 'since_id': 0, 'since_id_str': '0'}}\n"
     ]
    },
    {
     "name": "stderr",
     "output_type": "stream",
     "text": [
      "\r",
      "  2%|▏         | 10/450 [00:04<03:06,  2.36it/s]"
     ]
    },
    {
     "name": "stdout",
     "output_type": "stream",
     "text": [
      "{'statuses': [], 'search_metadata': {'completed_in': 0.006, 'max_id': 1386879849202024456, 'max_id_str': '1386879849202024456', 'query': '%23bitcoin+OR+%23BTC+since%3A2021-04-11+until%3A2021-04-19', 'refresh_url': '?since_id=1386879849202024456&q=%23bitcoin%20OR%20%23BTC%20since%3A2021-04-11%20until%3A2021-04-19&lang=en&result_type=recent&include_entities=1', 'count': 100, 'since_id': 0, 'since_id_str': '0'}}\n"
     ]
    },
    {
     "name": "stderr",
     "output_type": "stream",
     "text": [
      "\r",
      "  2%|▏         | 11/450 [00:05<03:05,  2.37it/s]"
     ]
    },
    {
     "name": "stdout",
     "output_type": "stream",
     "text": [
      "{'statuses': [], 'search_metadata': {'completed_in': 0.007, 'max_id': 1386879849202024456, 'max_id_str': '1386879849202024456', 'query': '%23bitcoin+OR+%23BTC+since%3A2021-04-11+until%3A2021-04-19', 'refresh_url': '?since_id=1386879849202024456&q=%23bitcoin%20OR%20%23BTC%20since%3A2021-04-11%20until%3A2021-04-19&lang=en&result_type=recent&include_entities=1', 'count': 100, 'since_id': 0, 'since_id_str': '0'}}\n"
     ]
    },
    {
     "name": "stderr",
     "output_type": "stream",
     "text": [
      "\r",
      "  3%|▎         | 12/450 [00:05<03:04,  2.38it/s]"
     ]
    },
    {
     "name": "stdout",
     "output_type": "stream",
     "text": [
      "{'statuses': [], 'search_metadata': {'completed_in': 0.007, 'max_id': 1386879849202024456, 'max_id_str': '1386879849202024456', 'query': '%23bitcoin+OR+%23BTC+since%3A2021-04-11+until%3A2021-04-19', 'refresh_url': '?since_id=1386879849202024456&q=%23bitcoin%20OR%20%23BTC%20since%3A2021-04-11%20until%3A2021-04-19&lang=en&result_type=recent&include_entities=1', 'count': 100, 'since_id': 0, 'since_id_str': '0'}}\n"
     ]
    },
    {
     "name": "stderr",
     "output_type": "stream",
     "text": [
      "\r",
      "  3%|▎         | 13/450 [00:06<03:03,  2.38it/s]"
     ]
    },
    {
     "name": "stdout",
     "output_type": "stream",
     "text": [
      "{'statuses': [], 'search_metadata': {'completed_in': 0.006, 'max_id': 1386879849202024456, 'max_id_str': '1386879849202024456', 'query': '%23bitcoin+OR+%23BTC+since%3A2021-04-11+until%3A2021-04-19', 'refresh_url': '?since_id=1386879849202024456&q=%23bitcoin%20OR%20%23BTC%20since%3A2021-04-11%20until%3A2021-04-19&lang=en&result_type=recent&include_entities=1', 'count': 100, 'since_id': 0, 'since_id_str': '0'}}\n"
     ]
    },
    {
     "name": "stderr",
     "output_type": "stream",
     "text": [
      "\r",
      "  3%|▎         | 14/450 [00:06<03:02,  2.39it/s]"
     ]
    },
    {
     "name": "stdout",
     "output_type": "stream",
     "text": [
      "{'statuses': [], 'search_metadata': {'completed_in': 0.005, 'max_id': 1386879849202024456, 'max_id_str': '1386879849202024456', 'query': '%23bitcoin+OR+%23BTC+since%3A2021-04-11+until%3A2021-04-19', 'refresh_url': '?since_id=1386879849202024456&q=%23bitcoin%20OR%20%23BTC%20since%3A2021-04-11%20until%3A2021-04-19&lang=en&result_type=recent&include_entities=1', 'count': 100, 'since_id': 0, 'since_id_str': '0'}}\n"
     ]
    },
    {
     "name": "stderr",
     "output_type": "stream",
     "text": [
      "\r",
      "  3%|▎         | 15/450 [00:06<03:02,  2.39it/s]"
     ]
    },
    {
     "name": "stdout",
     "output_type": "stream",
     "text": [
      "{'statuses': [], 'search_metadata': {'completed_in': 0.006, 'max_id': 1386879849202024456, 'max_id_str': '1386879849202024456', 'query': '%23bitcoin+OR+%23BTC+since%3A2021-04-11+until%3A2021-04-19', 'refresh_url': '?since_id=1386879849202024456&q=%23bitcoin%20OR%20%23BTC%20since%3A2021-04-11%20until%3A2021-04-19&lang=en&result_type=recent&include_entities=1', 'count': 100, 'since_id': 0, 'since_id_str': '0'}}\n"
     ]
    },
    {
     "name": "stderr",
     "output_type": "stream",
     "text": [
      "\r",
      "  4%|▎         | 16/450 [00:07<03:01,  2.40it/s]"
     ]
    },
    {
     "name": "stdout",
     "output_type": "stream",
     "text": [
      "{'statuses': [], 'search_metadata': {'completed_in': 0.005, 'max_id': 1386879849202024456, 'max_id_str': '1386879849202024456', 'query': '%23bitcoin+OR+%23BTC+since%3A2021-04-11+until%3A2021-04-19', 'refresh_url': '?since_id=1386879849202024456&q=%23bitcoin%20OR%20%23BTC%20since%3A2021-04-11%20until%3A2021-04-19&lang=en&result_type=recent&include_entities=1', 'count': 100, 'since_id': 0, 'since_id_str': '0'}}\n"
     ]
    },
    {
     "name": "stderr",
     "output_type": "stream",
     "text": [
      "\r",
      "  4%|▍         | 17/450 [00:07<03:00,  2.39it/s]"
     ]
    },
    {
     "name": "stdout",
     "output_type": "stream",
     "text": [
      "{'statuses': [], 'search_metadata': {'completed_in': 0.006, 'max_id': 1386879849202024456, 'max_id_str': '1386879849202024456', 'query': '%23bitcoin+OR+%23BTC+since%3A2021-04-11+until%3A2021-04-19', 'refresh_url': '?since_id=1386879849202024456&q=%23bitcoin%20OR%20%23BTC%20since%3A2021-04-11%20until%3A2021-04-19&lang=en&result_type=recent&include_entities=1', 'count': 100, 'since_id': 0, 'since_id_str': '0'}}\n"
     ]
    },
    {
     "name": "stderr",
     "output_type": "stream",
     "text": [
      "\r",
      "  4%|▍         | 18/450 [00:08<03:00,  2.39it/s]"
     ]
    },
    {
     "name": "stdout",
     "output_type": "stream",
     "text": [
      "{'statuses': [], 'search_metadata': {'completed_in': 0.006, 'max_id': 1386879849202024456, 'max_id_str': '1386879849202024456', 'query': '%23bitcoin+OR+%23BTC+since%3A2021-04-11+until%3A2021-04-19', 'refresh_url': '?since_id=1386879849202024456&q=%23bitcoin%20OR%20%23BTC%20since%3A2021-04-11%20until%3A2021-04-19&lang=en&result_type=recent&include_entities=1', 'count': 100, 'since_id': 0, 'since_id_str': '0'}}\n"
     ]
    },
    {
     "name": "stderr",
     "output_type": "stream",
     "text": [
      "\r",
      "  4%|▍         | 19/450 [00:08<03:00,  2.39it/s]"
     ]
    },
    {
     "name": "stdout",
     "output_type": "stream",
     "text": [
      "{'statuses': [], 'search_metadata': {'completed_in': 0.005, 'max_id': 1386879849202024456, 'max_id_str': '1386879849202024456', 'query': '%23bitcoin+OR+%23BTC+since%3A2021-04-11+until%3A2021-04-19', 'refresh_url': '?since_id=1386879849202024456&q=%23bitcoin%20OR%20%23BTC%20since%3A2021-04-11%20until%3A2021-04-19&lang=en&result_type=recent&include_entities=1', 'count': 100, 'since_id': 0, 'since_id_str': '0'}}\n"
     ]
    },
    {
     "name": "stderr",
     "output_type": "stream",
     "text": [
      "\r",
      "  4%|▍         | 20/450 [00:09<02:59,  2.40it/s]"
     ]
    },
    {
     "name": "stdout",
     "output_type": "stream",
     "text": [
      "{'statuses': [], 'search_metadata': {'completed_in': 0.005, 'max_id': 1386879849202024456, 'max_id_str': '1386879849202024456', 'query': '%23bitcoin+OR+%23BTC+since%3A2021-04-11+until%3A2021-04-19', 'refresh_url': '?since_id=1386879849202024456&q=%23bitcoin%20OR%20%23BTC%20since%3A2021-04-11%20until%3A2021-04-19&lang=en&result_type=recent&include_entities=1', 'count': 100, 'since_id': 0, 'since_id_str': '0'}}\n"
     ]
    },
    {
     "name": "stderr",
     "output_type": "stream",
     "text": [
      "\r",
      "  5%|▍         | 21/450 [00:09<02:58,  2.40it/s]"
     ]
    },
    {
     "name": "stdout",
     "output_type": "stream",
     "text": [
      "{'statuses': [], 'search_metadata': {'completed_in': 0.005, 'max_id': 1386879849202024456, 'max_id_str': '1386879849202024456', 'query': '%23bitcoin+OR+%23BTC+since%3A2021-04-11+until%3A2021-04-19', 'refresh_url': '?since_id=1386879849202024456&q=%23bitcoin%20OR%20%23BTC%20since%3A2021-04-11%20until%3A2021-04-19&lang=en&result_type=recent&include_entities=1', 'count': 100, 'since_id': 0, 'since_id_str': '0'}}\n"
     ]
    },
    {
     "name": "stderr",
     "output_type": "stream",
     "text": [
      "\r",
      "  5%|▍         | 22/450 [00:09<02:58,  2.40it/s]"
     ]
    },
    {
     "name": "stdout",
     "output_type": "stream",
     "text": [
      "{'statuses': [], 'search_metadata': {'completed_in': 0.005, 'max_id': 1386879849202024456, 'max_id_str': '1386879849202024456', 'query': '%23bitcoin+OR+%23BTC+since%3A2021-04-11+until%3A2021-04-19', 'refresh_url': '?since_id=1386879849202024456&q=%23bitcoin%20OR%20%23BTC%20since%3A2021-04-11%20until%3A2021-04-19&lang=en&result_type=recent&include_entities=1', 'count': 100, 'since_id': 0, 'since_id_str': '0'}}\n"
     ]
    },
    {
     "name": "stderr",
     "output_type": "stream",
     "text": [
      "\r",
      "  5%|▌         | 23/450 [00:10<02:57,  2.40it/s]"
     ]
    },
    {
     "name": "stdout",
     "output_type": "stream",
     "text": [
      "{'statuses': [], 'search_metadata': {'completed_in': 0.006, 'max_id': 1386879849202024456, 'max_id_str': '1386879849202024456', 'query': '%23bitcoin+OR+%23BTC+since%3A2021-04-11+until%3A2021-04-19', 'refresh_url': '?since_id=1386879849202024456&q=%23bitcoin%20OR%20%23BTC%20since%3A2021-04-11%20until%3A2021-04-19&lang=en&result_type=recent&include_entities=1', 'count': 100, 'since_id': 0, 'since_id_str': '0'}}\n"
     ]
    },
    {
     "name": "stderr",
     "output_type": "stream",
     "text": [
      "\r",
      "  5%|▌         | 24/450 [00:10<02:57,  2.40it/s]"
     ]
    },
    {
     "name": "stdout",
     "output_type": "stream",
     "text": [
      "{'statuses': [], 'search_metadata': {'completed_in': 0.006, 'max_id': 1386879849202024456, 'max_id_str': '1386879849202024456', 'query': '%23bitcoin+OR+%23BTC+since%3A2021-04-11+until%3A2021-04-19', 'refresh_url': '?since_id=1386879849202024456&q=%23bitcoin%20OR%20%23BTC%20since%3A2021-04-11%20until%3A2021-04-19&lang=en&result_type=recent&include_entities=1', 'count': 100, 'since_id': 0, 'since_id_str': '0'}}\n"
     ]
    },
    {
     "name": "stderr",
     "output_type": "stream",
     "text": [
      "\r",
      "  6%|▌         | 25/450 [00:11<02:57,  2.40it/s]"
     ]
    },
    {
     "name": "stdout",
     "output_type": "stream",
     "text": [
      "{'statuses': [], 'search_metadata': {'completed_in': 0.006, 'max_id': 1386879849202024456, 'max_id_str': '1386879849202024456', 'query': '%23bitcoin+OR+%23BTC+since%3A2021-04-11+until%3A2021-04-19', 'refresh_url': '?since_id=1386879849202024456&q=%23bitcoin%20OR%20%23BTC%20since%3A2021-04-11%20until%3A2021-04-19&lang=en&result_type=recent&include_entities=1', 'count': 100, 'since_id': 0, 'since_id_str': '0'}}\n"
     ]
    },
    {
     "name": "stderr",
     "output_type": "stream",
     "text": [
      "\r",
      "  6%|▌         | 26/450 [00:11<02:56,  2.40it/s]"
     ]
    },
    {
     "name": "stdout",
     "output_type": "stream",
     "text": [
      "{'statuses': [], 'search_metadata': {'completed_in': 0.006, 'max_id': 1386879849202024456, 'max_id_str': '1386879849202024456', 'query': '%23bitcoin+OR+%23BTC+since%3A2021-04-11+until%3A2021-04-19', 'refresh_url': '?since_id=1386879849202024456&q=%23bitcoin%20OR%20%23BTC%20since%3A2021-04-11%20until%3A2021-04-19&lang=en&result_type=recent&include_entities=1', 'count': 100, 'since_id': 0, 'since_id_str': '0'}}\n"
     ]
    },
    {
     "name": "stderr",
     "output_type": "stream",
     "text": [
      "\r",
      "  6%|▌         | 27/450 [00:11<02:56,  2.40it/s]"
     ]
    },
    {
     "name": "stdout",
     "output_type": "stream",
     "text": [
      "{'statuses': [], 'search_metadata': {'completed_in': 0.006, 'max_id': 1386879849202024456, 'max_id_str': '1386879849202024456', 'query': '%23bitcoin+OR+%23BTC+since%3A2021-04-11+until%3A2021-04-19', 'refresh_url': '?since_id=1386879849202024456&q=%23bitcoin%20OR%20%23BTC%20since%3A2021-04-11%20until%3A2021-04-19&lang=en&result_type=recent&include_entities=1', 'count': 100, 'since_id': 0, 'since_id_str': '0'}}\n"
     ]
    },
    {
     "name": "stderr",
     "output_type": "stream",
     "text": [
      "\r",
      "  6%|▌         | 28/450 [00:12<02:55,  2.41it/s]"
     ]
    },
    {
     "name": "stdout",
     "output_type": "stream",
     "text": [
      "{'statuses': [], 'search_metadata': {'completed_in': 0.006, 'max_id': 1386879849202024456, 'max_id_str': '1386879849202024456', 'query': '%23bitcoin+OR+%23BTC+since%3A2021-04-11+until%3A2021-04-19', 'refresh_url': '?since_id=1386879849202024456&q=%23bitcoin%20OR%20%23BTC%20since%3A2021-04-11%20until%3A2021-04-19&lang=en&result_type=recent&include_entities=1', 'count': 100, 'since_id': 0, 'since_id_str': '0'}}\n"
     ]
    },
    {
     "name": "stderr",
     "output_type": "stream",
     "text": [
      "\r",
      "  6%|▋         | 29/450 [00:12<02:54,  2.41it/s]"
     ]
    },
    {
     "name": "stdout",
     "output_type": "stream",
     "text": [
      "{'statuses': [], 'search_metadata': {'completed_in': 0.004, 'max_id': 1386879849202024456, 'max_id_str': '1386879849202024456', 'query': '%23bitcoin+OR+%23BTC+since%3A2021-04-11+until%3A2021-04-19', 'refresh_url': '?since_id=1386879849202024456&q=%23bitcoin%20OR%20%23BTC%20since%3A2021-04-11%20until%3A2021-04-19&lang=en&result_type=recent&include_entities=1', 'count': 100, 'since_id': 0, 'since_id_str': '0'}}\n"
     ]
    },
    {
     "name": "stderr",
     "output_type": "stream",
     "text": [
      "\r",
      "  7%|▋         | 30/450 [00:13<02:53,  2.41it/s]"
     ]
    },
    {
     "name": "stdout",
     "output_type": "stream",
     "text": [
      "{'statuses': [], 'search_metadata': {'completed_in': 0.005, 'max_id': 1386879849202024456, 'max_id_str': '1386879849202024456', 'query': '%23bitcoin+OR+%23BTC+since%3A2021-04-11+until%3A2021-04-19', 'refresh_url': '?since_id=1386879849202024456&q=%23bitcoin%20OR%20%23BTC%20since%3A2021-04-11%20until%3A2021-04-19&lang=en&result_type=recent&include_entities=1', 'count': 100, 'since_id': 0, 'since_id_str': '0'}}\n"
     ]
    },
    {
     "name": "stderr",
     "output_type": "stream",
     "text": [
      "\r",
      "  7%|▋         | 31/450 [00:13<02:54,  2.40it/s]"
     ]
    },
    {
     "name": "stdout",
     "output_type": "stream",
     "text": [
      "{'statuses': [], 'search_metadata': {'completed_in': 0.007, 'max_id': 1386879849202024456, 'max_id_str': '1386879849202024456', 'query': '%23bitcoin+OR+%23BTC+since%3A2021-04-11+until%3A2021-04-19', 'refresh_url': '?since_id=1386879849202024456&q=%23bitcoin%20OR%20%23BTC%20since%3A2021-04-11%20until%3A2021-04-19&lang=en&result_type=recent&include_entities=1', 'count': 100, 'since_id': 0, 'since_id_str': '0'}}\n"
     ]
    },
    {
     "name": "stderr",
     "output_type": "stream",
     "text": [
      "\r",
      "  7%|▋         | 32/450 [00:14<02:54,  2.39it/s]"
     ]
    },
    {
     "name": "stdout",
     "output_type": "stream",
     "text": [
      "{'statuses': [], 'search_metadata': {'completed_in': 0.006, 'max_id': 1386879849202024456, 'max_id_str': '1386879849202024456', 'query': '%23bitcoin+OR+%23BTC+since%3A2021-04-11+until%3A2021-04-19', 'refresh_url': '?since_id=1386879849202024456&q=%23bitcoin%20OR%20%23BTC%20since%3A2021-04-11%20until%3A2021-04-19&lang=en&result_type=recent&include_entities=1', 'count': 100, 'since_id': 0, 'since_id_str': '0'}}\n"
     ]
    },
    {
     "name": "stderr",
     "output_type": "stream",
     "text": [
      "\r",
      "  7%|▋         | 33/450 [00:14<02:54,  2.39it/s]"
     ]
    },
    {
     "name": "stdout",
     "output_type": "stream",
     "text": [
      "{'statuses': [], 'search_metadata': {'completed_in': 0.006, 'max_id': 1386879849202024456, 'max_id_str': '1386879849202024456', 'query': '%23bitcoin+OR+%23BTC+since%3A2021-04-11+until%3A2021-04-19', 'refresh_url': '?since_id=1386879849202024456&q=%23bitcoin%20OR%20%23BTC%20since%3A2021-04-11%20until%3A2021-04-19&lang=en&result_type=recent&include_entities=1', 'count': 100, 'since_id': 0, 'since_id_str': '0'}}\n"
     ]
    },
    {
     "name": "stderr",
     "output_type": "stream",
     "text": [
      "\r",
      "  8%|▊         | 34/450 [00:14<02:53,  2.39it/s]"
     ]
    },
    {
     "name": "stdout",
     "output_type": "stream",
     "text": [
      "{'statuses': [], 'search_metadata': {'completed_in': 0.007, 'max_id': 1386879849202024456, 'max_id_str': '1386879849202024456', 'query': '%23bitcoin+OR+%23BTC+since%3A2021-04-11+until%3A2021-04-19', 'refresh_url': '?since_id=1386879849202024456&q=%23bitcoin%20OR%20%23BTC%20since%3A2021-04-11%20until%3A2021-04-19&lang=en&result_type=recent&include_entities=1', 'count': 100, 'since_id': 0, 'since_id_str': '0'}}\n"
     ]
    },
    {
     "name": "stderr",
     "output_type": "stream",
     "text": [
      "\r",
      "  8%|▊         | 35/450 [00:15<02:53,  2.39it/s]"
     ]
    },
    {
     "name": "stdout",
     "output_type": "stream",
     "text": [
      "{'statuses': [], 'search_metadata': {'completed_in': 0.006, 'max_id': 1386879849202024456, 'max_id_str': '1386879849202024456', 'query': '%23bitcoin+OR+%23BTC+since%3A2021-04-11+until%3A2021-04-19', 'refresh_url': '?since_id=1386879849202024456&q=%23bitcoin%20OR%20%23BTC%20since%3A2021-04-11%20until%3A2021-04-19&lang=en&result_type=recent&include_entities=1', 'count': 100, 'since_id': 0, 'since_id_str': '0'}}\n"
     ]
    },
    {
     "name": "stderr",
     "output_type": "stream",
     "text": [
      "\r",
      "  8%|▊         | 36/450 [00:15<02:53,  2.39it/s]"
     ]
    },
    {
     "name": "stdout",
     "output_type": "stream",
     "text": [
      "{'statuses': [], 'search_metadata': {'completed_in': 0.006, 'max_id': 1386879849202024456, 'max_id_str': '1386879849202024456', 'query': '%23bitcoin+OR+%23BTC+since%3A2021-04-11+until%3A2021-04-19', 'refresh_url': '?since_id=1386879849202024456&q=%23bitcoin%20OR%20%23BTC%20since%3A2021-04-11%20until%3A2021-04-19&lang=en&result_type=recent&include_entities=1', 'count': 100, 'since_id': 0, 'since_id_str': '0'}}\n"
     ]
    },
    {
     "name": "stderr",
     "output_type": "stream",
     "text": [
      "\r",
      "  8%|▊         | 37/450 [00:16<02:51,  2.40it/s]"
     ]
    },
    {
     "name": "stdout",
     "output_type": "stream",
     "text": [
      "{'statuses': [], 'search_metadata': {'completed_in': 0.007, 'max_id': 1386879849202024456, 'max_id_str': '1386879849202024456', 'query': '%23bitcoin+OR+%23BTC+since%3A2021-04-11+until%3A2021-04-19', 'refresh_url': '?since_id=1386879849202024456&q=%23bitcoin%20OR%20%23BTC%20since%3A2021-04-11%20until%3A2021-04-19&lang=en&result_type=recent&include_entities=1', 'count': 100, 'since_id': 0, 'since_id_str': '0'}}\n"
     ]
    },
    {
     "name": "stderr",
     "output_type": "stream",
     "text": [
      "\r",
      "  8%|▊         | 38/450 [00:16<02:50,  2.41it/s]"
     ]
    },
    {
     "name": "stdout",
     "output_type": "stream",
     "text": [
      "{'statuses': [], 'search_metadata': {'completed_in': 0.007, 'max_id': 1386879849202024456, 'max_id_str': '1386879849202024456', 'query': '%23bitcoin+OR+%23BTC+since%3A2021-04-11+until%3A2021-04-19', 'refresh_url': '?since_id=1386879849202024456&q=%23bitcoin%20OR%20%23BTC%20since%3A2021-04-11%20until%3A2021-04-19&lang=en&result_type=recent&include_entities=1', 'count': 100, 'since_id': 0, 'since_id_str': '0'}}\n"
     ]
    },
    {
     "name": "stderr",
     "output_type": "stream",
     "text": [
      "\r",
      "  9%|▊         | 39/450 [00:16<02:50,  2.41it/s]"
     ]
    },
    {
     "name": "stdout",
     "output_type": "stream",
     "text": [
      "{'statuses': [], 'search_metadata': {'completed_in': 0.006, 'max_id': 1386879849202024456, 'max_id_str': '1386879849202024456', 'query': '%23bitcoin+OR+%23BTC+since%3A2021-04-11+until%3A2021-04-19', 'refresh_url': '?since_id=1386879849202024456&q=%23bitcoin%20OR%20%23BTC%20since%3A2021-04-11%20until%3A2021-04-19&lang=en&result_type=recent&include_entities=1', 'count': 100, 'since_id': 0, 'since_id_str': '0'}}\n"
     ]
    },
    {
     "name": "stderr",
     "output_type": "stream",
     "text": [
      "\r",
      "  9%|▉         | 40/450 [00:17<02:50,  2.41it/s]"
     ]
    },
    {
     "name": "stdout",
     "output_type": "stream",
     "text": [
      "{'statuses': [], 'search_metadata': {'completed_in': 0.006, 'max_id': 1386879849202024456, 'max_id_str': '1386879849202024456', 'query': '%23bitcoin+OR+%23BTC+since%3A2021-04-11+until%3A2021-04-19', 'refresh_url': '?since_id=1386879849202024456&q=%23bitcoin%20OR%20%23BTC%20since%3A2021-04-11%20until%3A2021-04-19&lang=en&result_type=recent&include_entities=1', 'count': 100, 'since_id': 0, 'since_id_str': '0'}}\n"
     ]
    },
    {
     "name": "stderr",
     "output_type": "stream",
     "text": [
      "\r",
      "  9%|▉         | 41/450 [00:17<02:50,  2.40it/s]"
     ]
    },
    {
     "name": "stdout",
     "output_type": "stream",
     "text": [
      "{'statuses': [], 'search_metadata': {'completed_in': 0.006, 'max_id': 1386879849202024456, 'max_id_str': '1386879849202024456', 'query': '%23bitcoin+OR+%23BTC+since%3A2021-04-11+until%3A2021-04-19', 'refresh_url': '?since_id=1386879849202024456&q=%23bitcoin%20OR%20%23BTC%20since%3A2021-04-11%20until%3A2021-04-19&lang=en&result_type=recent&include_entities=1', 'count': 100, 'since_id': 0, 'since_id_str': '0'}}\n"
     ]
    },
    {
     "name": "stderr",
     "output_type": "stream",
     "text": [
      "\r",
      "  9%|▉         | 42/450 [00:18<02:50,  2.40it/s]"
     ]
    },
    {
     "name": "stdout",
     "output_type": "stream",
     "text": [
      "{'statuses': [], 'search_metadata': {'completed_in': 0.006, 'max_id': 1386879849202024456, 'max_id_str': '1386879849202024456', 'query': '%23bitcoin+OR+%23BTC+since%3A2021-04-11+until%3A2021-04-19', 'refresh_url': '?since_id=1386879849202024456&q=%23bitcoin%20OR%20%23BTC%20since%3A2021-04-11%20until%3A2021-04-19&lang=en&result_type=recent&include_entities=1', 'count': 100, 'since_id': 0, 'since_id_str': '0'}}\n"
     ]
    },
    {
     "name": "stderr",
     "output_type": "stream",
     "text": [
      "\r",
      " 10%|▉         | 43/450 [00:18<02:49,  2.40it/s]"
     ]
    },
    {
     "name": "stdout",
     "output_type": "stream",
     "text": [
      "{'statuses': [], 'search_metadata': {'completed_in': 0.005, 'max_id': 1386879849202024456, 'max_id_str': '1386879849202024456', 'query': '%23bitcoin+OR+%23BTC+since%3A2021-04-11+until%3A2021-04-19', 'refresh_url': '?since_id=1386879849202024456&q=%23bitcoin%20OR%20%23BTC%20since%3A2021-04-11%20until%3A2021-04-19&lang=en&result_type=recent&include_entities=1', 'count': 100, 'since_id': 0, 'since_id_str': '0'}}\n"
     ]
    },
    {
     "name": "stderr",
     "output_type": "stream",
     "text": [
      "\r",
      " 10%|▉         | 44/450 [00:19<02:49,  2.40it/s]"
     ]
    },
    {
     "name": "stdout",
     "output_type": "stream",
     "text": [
      "{'statuses': [], 'search_metadata': {'completed_in': 0.008, 'max_id': 1386879849202024456, 'max_id_str': '1386879849202024456', 'query': '%23bitcoin+OR+%23BTC+since%3A2021-04-11+until%3A2021-04-19', 'refresh_url': '?since_id=1386879849202024456&q=%23bitcoin%20OR%20%23BTC%20since%3A2021-04-11%20until%3A2021-04-19&lang=en&result_type=recent&include_entities=1', 'count': 100, 'since_id': 0, 'since_id_str': '0'}}\n"
     ]
    },
    {
     "name": "stderr",
     "output_type": "stream",
     "text": [
      "\r",
      " 10%|█         | 45/450 [00:19<02:48,  2.40it/s]"
     ]
    },
    {
     "name": "stdout",
     "output_type": "stream",
     "text": [
      "{'statuses': [], 'search_metadata': {'completed_in': 0.007, 'max_id': 1386879849202024456, 'max_id_str': '1386879849202024456', 'query': '%23bitcoin+OR+%23BTC+since%3A2021-04-11+until%3A2021-04-19', 'refresh_url': '?since_id=1386879849202024456&q=%23bitcoin%20OR%20%23BTC%20since%3A2021-04-11%20until%3A2021-04-19&lang=en&result_type=recent&include_entities=1', 'count': 100, 'since_id': 0, 'since_id_str': '0'}}\n"
     ]
    },
    {
     "name": "stderr",
     "output_type": "stream",
     "text": [
      "\r",
      " 10%|█         | 46/450 [00:19<02:47,  2.40it/s]"
     ]
    },
    {
     "name": "stdout",
     "output_type": "stream",
     "text": [
      "{'statuses': [], 'search_metadata': {'completed_in': 0.007, 'max_id': 1386879849202024456, 'max_id_str': '1386879849202024456', 'query': '%23bitcoin+OR+%23BTC+since%3A2021-04-11+until%3A2021-04-19', 'refresh_url': '?since_id=1386879849202024456&q=%23bitcoin%20OR%20%23BTC%20since%3A2021-04-11%20until%3A2021-04-19&lang=en&result_type=recent&include_entities=1', 'count': 100, 'since_id': 0, 'since_id_str': '0'}}\n"
     ]
    },
    {
     "name": "stderr",
     "output_type": "stream",
     "text": [
      "\r",
      " 10%|█         | 47/450 [00:20<02:47,  2.40it/s]"
     ]
    },
    {
     "name": "stdout",
     "output_type": "stream",
     "text": [
      "{'statuses': [], 'search_metadata': {'completed_in': 0.008, 'max_id': 1386879929728466944, 'max_id_str': '1386879929728466944', 'query': '%23bitcoin+OR+%23BTC+since%3A2021-04-11+until%3A2021-04-19', 'refresh_url': '?since_id=1386879929728466944&q=%23bitcoin%20OR%20%23BTC%20since%3A2021-04-11%20until%3A2021-04-19&lang=en&result_type=recent&include_entities=1', 'count': 100, 'since_id': 0, 'since_id_str': '0'}}\n"
     ]
    },
    {
     "name": "stderr",
     "output_type": "stream",
     "text": [
      "\r",
      " 11%|█         | 48/450 [00:20<02:47,  2.40it/s]"
     ]
    },
    {
     "name": "stdout",
     "output_type": "stream",
     "text": [
      "{'statuses': [], 'search_metadata': {'completed_in': 0.007, 'max_id': 1386879929728466944, 'max_id_str': '1386879929728466944', 'query': '%23bitcoin+OR+%23BTC+since%3A2021-04-11+until%3A2021-04-19', 'refresh_url': '?since_id=1386879929728466944&q=%23bitcoin%20OR%20%23BTC%20since%3A2021-04-11%20until%3A2021-04-19&lang=en&result_type=recent&include_entities=1', 'count': 100, 'since_id': 0, 'since_id_str': '0'}}\n"
     ]
    },
    {
     "name": "stderr",
     "output_type": "stream",
     "text": [
      "\r",
      " 11%|█         | 49/450 [00:21<02:47,  2.40it/s]"
     ]
    },
    {
     "name": "stdout",
     "output_type": "stream",
     "text": [
      "{'statuses': [], 'search_metadata': {'completed_in': 0.006, 'max_id': 1386879929728466944, 'max_id_str': '1386879929728466944', 'query': '%23bitcoin+OR+%23BTC+since%3A2021-04-11+until%3A2021-04-19', 'refresh_url': '?since_id=1386879929728466944&q=%23bitcoin%20OR%20%23BTC%20since%3A2021-04-11%20until%3A2021-04-19&lang=en&result_type=recent&include_entities=1', 'count': 100, 'since_id': 0, 'since_id_str': '0'}}\n"
     ]
    },
    {
     "name": "stderr",
     "output_type": "stream",
     "text": [
      "\r",
      " 11%|█         | 50/450 [00:21<02:46,  2.40it/s]"
     ]
    },
    {
     "name": "stdout",
     "output_type": "stream",
     "text": [
      "{'statuses': [], 'search_metadata': {'completed_in': 0.005, 'max_id': 1386879929728466944, 'max_id_str': '1386879929728466944', 'query': '%23bitcoin+OR+%23BTC+since%3A2021-04-11+until%3A2021-04-19', 'refresh_url': '?since_id=1386879929728466944&q=%23bitcoin%20OR%20%23BTC%20since%3A2021-04-11%20until%3A2021-04-19&lang=en&result_type=recent&include_entities=1', 'count': 100, 'since_id': 0, 'since_id_str': '0'}}\n"
     ]
    },
    {
     "name": "stderr",
     "output_type": "stream",
     "text": [
      "\r",
      " 11%|█▏        | 51/450 [00:22<04:11,  1.59it/s]"
     ]
    },
    {
     "name": "stdout",
     "output_type": "stream",
     "text": [
      "{'statuses': [], 'search_metadata': {'completed_in': 0.006, 'max_id': 1386879929728466944, 'max_id_str': '1386879929728466944', 'query': '%23bitcoin+OR+%23BTC+since%3A2021-04-11+until%3A2021-04-19', 'refresh_url': '?since_id=1386879929728466944&q=%23bitcoin%20OR%20%23BTC%20since%3A2021-04-11%20until%3A2021-04-19&lang=en&result_type=recent&include_entities=1', 'count': 100, 'since_id': 0, 'since_id_str': '0'}}\n"
     ]
    },
    {
     "name": "stderr",
     "output_type": "stream",
     "text": [
      "\r",
      " 12%|█▏        | 52/450 [00:23<03:45,  1.77it/s]"
     ]
    },
    {
     "name": "stdout",
     "output_type": "stream",
     "text": [
      "{'statuses': [], 'search_metadata': {'completed_in': 0.007, 'max_id': 1386879929728466944, 'max_id_str': '1386879929728466944', 'query': '%23bitcoin+OR+%23BTC+since%3A2021-04-11+until%3A2021-04-19', 'refresh_url': '?since_id=1386879929728466944&q=%23bitcoin%20OR%20%23BTC%20since%3A2021-04-11%20until%3A2021-04-19&lang=en&result_type=recent&include_entities=1', 'count': 100, 'since_id': 0, 'since_id_str': '0'}}\n"
     ]
    },
    {
     "name": "stderr",
     "output_type": "stream",
     "text": [
      "\r",
      " 12%|█▏        | 53/450 [00:23<03:27,  1.92it/s]"
     ]
    },
    {
     "name": "stdout",
     "output_type": "stream",
     "text": [
      "{'statuses': [], 'search_metadata': {'completed_in': 0.005, 'max_id': 1386879929728466944, 'max_id_str': '1386879929728466944', 'query': '%23bitcoin+OR+%23BTC+since%3A2021-04-11+until%3A2021-04-19', 'refresh_url': '?since_id=1386879929728466944&q=%23bitcoin%20OR%20%23BTC%20since%3A2021-04-11%20until%3A2021-04-19&lang=en&result_type=recent&include_entities=1', 'count': 100, 'since_id': 0, 'since_id_str': '0'}}\n"
     ]
    },
    {
     "name": "stderr",
     "output_type": "stream",
     "text": [
      "\r",
      " 12%|█▏        | 54/450 [00:23<03:14,  2.03it/s]"
     ]
    },
    {
     "name": "stdout",
     "output_type": "stream",
     "text": [
      "{'statuses': [], 'search_metadata': {'completed_in': 0.005, 'max_id': 1386879929728466944, 'max_id_str': '1386879929728466944', 'query': '%23bitcoin+OR+%23BTC+since%3A2021-04-11+until%3A2021-04-19', 'refresh_url': '?since_id=1386879929728466944&q=%23bitcoin%20OR%20%23BTC%20since%3A2021-04-11%20until%3A2021-04-19&lang=en&result_type=recent&include_entities=1', 'count': 100, 'since_id': 0, 'since_id_str': '0'}}\n"
     ]
    },
    {
     "name": "stderr",
     "output_type": "stream",
     "text": [
      "\r",
      " 12%|█▏        | 55/450 [00:24<03:05,  2.13it/s]"
     ]
    },
    {
     "name": "stdout",
     "output_type": "stream",
     "text": [
      "{'statuses': [], 'search_metadata': {'completed_in': 0.006, 'max_id': 1386879929728466944, 'max_id_str': '1386879929728466944', 'query': '%23bitcoin+OR+%23BTC+since%3A2021-04-11+until%3A2021-04-19', 'refresh_url': '?since_id=1386879929728466944&q=%23bitcoin%20OR%20%23BTC%20since%3A2021-04-11%20until%3A2021-04-19&lang=en&result_type=recent&include_entities=1', 'count': 100, 'since_id': 0, 'since_id_str': '0'}}\n"
     ]
    },
    {
     "name": "stderr",
     "output_type": "stream",
     "text": [
      "\r",
      " 12%|█▏        | 56/450 [00:24<02:58,  2.20it/s]"
     ]
    },
    {
     "name": "stdout",
     "output_type": "stream",
     "text": [
      "{'statuses': [], 'search_metadata': {'completed_in': 0.006, 'max_id': 1386879929728466944, 'max_id_str': '1386879929728466944', 'query': '%23bitcoin+OR+%23BTC+since%3A2021-04-11+until%3A2021-04-19', 'refresh_url': '?since_id=1386879929728466944&q=%23bitcoin%20OR%20%23BTC%20since%3A2021-04-11%20until%3A2021-04-19&lang=en&result_type=recent&include_entities=1', 'count': 100, 'since_id': 0, 'since_id_str': '0'}}\n"
     ]
    },
    {
     "name": "stderr",
     "output_type": "stream",
     "text": [
      "\r",
      " 13%|█▎        | 57/450 [00:25<02:54,  2.26it/s]"
     ]
    },
    {
     "name": "stdout",
     "output_type": "stream",
     "text": [
      "{'statuses': [], 'search_metadata': {'completed_in': 0.006, 'max_id': 1386879929728466944, 'max_id_str': '1386879929728466944', 'query': '%23bitcoin+OR+%23BTC+since%3A2021-04-11+until%3A2021-04-19', 'refresh_url': '?since_id=1386879929728466944&q=%23bitcoin%20OR%20%23BTC%20since%3A2021-04-11%20until%3A2021-04-19&lang=en&result_type=recent&include_entities=1', 'count': 100, 'since_id': 0, 'since_id_str': '0'}}\n"
     ]
    },
    {
     "name": "stderr",
     "output_type": "stream",
     "text": [
      "\r",
      " 13%|█▎        | 58/450 [00:25<02:50,  2.30it/s]"
     ]
    },
    {
     "name": "stdout",
     "output_type": "stream",
     "text": [
      "{'statuses': [], 'search_metadata': {'completed_in': 0.006, 'max_id': 1386879929728466944, 'max_id_str': '1386879929728466944', 'query': '%23bitcoin+OR+%23BTC+since%3A2021-04-11+until%3A2021-04-19', 'refresh_url': '?since_id=1386879929728466944&q=%23bitcoin%20OR%20%23BTC%20since%3A2021-04-11%20until%3A2021-04-19&lang=en&result_type=recent&include_entities=1', 'count': 100, 'since_id': 0, 'since_id_str': '0'}}\n"
     ]
    },
    {
     "name": "stderr",
     "output_type": "stream",
     "text": [
      "\r",
      " 13%|█▎        | 59/450 [00:26<02:48,  2.32it/s]"
     ]
    },
    {
     "name": "stdout",
     "output_type": "stream",
     "text": [
      "{'statuses': [], 'search_metadata': {'completed_in': 0.006, 'max_id': 1386879929728466944, 'max_id_str': '1386879929728466944', 'query': '%23bitcoin+OR+%23BTC+since%3A2021-04-11+until%3A2021-04-19', 'refresh_url': '?since_id=1386879929728466944&q=%23bitcoin%20OR%20%23BTC%20since%3A2021-04-11%20until%3A2021-04-19&lang=en&result_type=recent&include_entities=1', 'count': 100, 'since_id': 0, 'since_id_str': '0'}}\n"
     ]
    },
    {
     "name": "stderr",
     "output_type": "stream",
     "text": [
      "\r",
      " 13%|█▎        | 60/450 [00:26<02:46,  2.34it/s]"
     ]
    },
    {
     "name": "stdout",
     "output_type": "stream",
     "text": [
      "{'statuses': [], 'search_metadata': {'completed_in': 0.006, 'max_id': 1386879929728466944, 'max_id_str': '1386879929728466944', 'query': '%23bitcoin+OR+%23BTC+since%3A2021-04-11+until%3A2021-04-19', 'refresh_url': '?since_id=1386879929728466944&q=%23bitcoin%20OR%20%23BTC%20since%3A2021-04-11%20until%3A2021-04-19&lang=en&result_type=recent&include_entities=1', 'count': 100, 'since_id': 0, 'since_id_str': '0'}}\n"
     ]
    },
    {
     "name": "stderr",
     "output_type": "stream",
     "text": [
      "\r",
      " 14%|█▎        | 61/450 [00:26<02:45,  2.35it/s]"
     ]
    },
    {
     "name": "stdout",
     "output_type": "stream",
     "text": [
      "{'statuses': [], 'search_metadata': {'completed_in': 0.007, 'max_id': 1386879929728466944, 'max_id_str': '1386879929728466944', 'query': '%23bitcoin+OR+%23BTC+since%3A2021-04-11+until%3A2021-04-19', 'refresh_url': '?since_id=1386879929728466944&q=%23bitcoin%20OR%20%23BTC%20since%3A2021-04-11%20until%3A2021-04-19&lang=en&result_type=recent&include_entities=1', 'count': 100, 'since_id': 0, 'since_id_str': '0'}}\n"
     ]
    },
    {
     "name": "stderr",
     "output_type": "stream",
     "text": [
      "\r",
      " 14%|█▍        | 62/450 [00:27<02:43,  2.37it/s]"
     ]
    },
    {
     "name": "stdout",
     "output_type": "stream",
     "text": [
      "{'statuses': [], 'search_metadata': {'completed_in': 0.005, 'max_id': 1386879929728466944, 'max_id_str': '1386879929728466944', 'query': '%23bitcoin+OR+%23BTC+since%3A2021-04-11+until%3A2021-04-19', 'refresh_url': '?since_id=1386879929728466944&q=%23bitcoin%20OR%20%23BTC%20since%3A2021-04-11%20until%3A2021-04-19&lang=en&result_type=recent&include_entities=1', 'count': 100, 'since_id': 0, 'since_id_str': '0'}}\n"
     ]
    },
    {
     "name": "stderr",
     "output_type": "stream",
     "text": [
      "\r",
      " 14%|█▍        | 63/450 [00:27<02:44,  2.35it/s]"
     ]
    },
    {
     "name": "stdout",
     "output_type": "stream",
     "text": [
      "{'statuses': [], 'search_metadata': {'completed_in': 0.006, 'max_id': 1386879929728466944, 'max_id_str': '1386879929728466944', 'query': '%23bitcoin+OR+%23BTC+since%3A2021-04-11+until%3A2021-04-19', 'refresh_url': '?since_id=1386879929728466944&q=%23bitcoin%20OR%20%23BTC%20since%3A2021-04-11%20until%3A2021-04-19&lang=en&result_type=recent&include_entities=1', 'count': 100, 'since_id': 0, 'since_id_str': '0'}}\n"
     ]
    },
    {
     "name": "stderr",
     "output_type": "stream",
     "text": [
      "\r",
      " 14%|█▍        | 64/450 [00:28<02:42,  2.37it/s]"
     ]
    },
    {
     "name": "stdout",
     "output_type": "stream",
     "text": [
      "{'statuses': [], 'search_metadata': {'completed_in': 0.006, 'max_id': 1386879929728466944, 'max_id_str': '1386879929728466944', 'query': '%23bitcoin+OR+%23BTC+since%3A2021-04-11+until%3A2021-04-19', 'refresh_url': '?since_id=1386879929728466944&q=%23bitcoin%20OR%20%23BTC%20since%3A2021-04-11%20until%3A2021-04-19&lang=en&result_type=recent&include_entities=1', 'count': 100, 'since_id': 0, 'since_id_str': '0'}}\n"
     ]
    },
    {
     "name": "stderr",
     "output_type": "stream",
     "text": [
      "\r",
      " 14%|█▍        | 65/450 [00:28<02:41,  2.38it/s]"
     ]
    },
    {
     "name": "stdout",
     "output_type": "stream",
     "text": [
      "{'statuses': [], 'search_metadata': {'completed_in': 0.007, 'max_id': 1386879929728466944, 'max_id_str': '1386879929728466944', 'query': '%23bitcoin+OR+%23BTC+since%3A2021-04-11+until%3A2021-04-19', 'refresh_url': '?since_id=1386879929728466944&q=%23bitcoin%20OR%20%23BTC%20since%3A2021-04-11%20until%3A2021-04-19&lang=en&result_type=recent&include_entities=1', 'count': 100, 'since_id': 0, 'since_id_str': '0'}}\n"
     ]
    },
    {
     "name": "stderr",
     "output_type": "stream",
     "text": [
      "\r",
      " 15%|█▍        | 66/450 [00:28<02:41,  2.38it/s]"
     ]
    },
    {
     "name": "stdout",
     "output_type": "stream",
     "text": [
      "{'statuses': [], 'search_metadata': {'completed_in': 0.006, 'max_id': 1386879929728466944, 'max_id_str': '1386879929728466944', 'query': '%23bitcoin+OR+%23BTC+since%3A2021-04-11+until%3A2021-04-19', 'refresh_url': '?since_id=1386879929728466944&q=%23bitcoin%20OR%20%23BTC%20since%3A2021-04-11%20until%3A2021-04-19&lang=en&result_type=recent&include_entities=1', 'count': 100, 'since_id': 0, 'since_id_str': '0'}}\n"
     ]
    },
    {
     "name": "stderr",
     "output_type": "stream",
     "text": [
      "\r",
      " 15%|█▍        | 67/450 [00:29<02:40,  2.38it/s]"
     ]
    },
    {
     "name": "stdout",
     "output_type": "stream",
     "text": [
      "{'statuses': [], 'search_metadata': {'completed_in': 0.006, 'max_id': 1386879929728466944, 'max_id_str': '1386879929728466944', 'query': '%23bitcoin+OR+%23BTC+since%3A2021-04-11+until%3A2021-04-19', 'refresh_url': '?since_id=1386879929728466944&q=%23bitcoin%20OR%20%23BTC%20since%3A2021-04-11%20until%3A2021-04-19&lang=en&result_type=recent&include_entities=1', 'count': 100, 'since_id': 0, 'since_id_str': '0'}}\n"
     ]
    },
    {
     "name": "stderr",
     "output_type": "stream",
     "text": [
      "\r",
      " 15%|█▌        | 68/450 [00:29<02:51,  2.23it/s]"
     ]
    },
    {
     "name": "stdout",
     "output_type": "stream",
     "text": [
      "{'statuses': [], 'search_metadata': {'completed_in': 0.006, 'max_id': 1386879929728466944, 'max_id_str': '1386879929728466944', 'query': '%23bitcoin+OR+%23BTC+since%3A2021-04-11+until%3A2021-04-19', 'refresh_url': '?since_id=1386879929728466944&q=%23bitcoin%20OR%20%23BTC%20since%3A2021-04-11%20until%3A2021-04-19&lang=en&result_type=recent&include_entities=1', 'count': 100, 'since_id': 0, 'since_id_str': '0'}}\n"
     ]
    },
    {
     "name": "stderr",
     "output_type": "stream",
     "text": [
      "\r",
      " 15%|█▌        | 69/450 [00:30<02:49,  2.25it/s]"
     ]
    },
    {
     "name": "stdout",
     "output_type": "stream",
     "text": [
      "{'statuses': [], 'search_metadata': {'completed_in': 0.005, 'max_id': 1386879929728466944, 'max_id_str': '1386879929728466944', 'query': '%23bitcoin+OR+%23BTC+since%3A2021-04-11+until%3A2021-04-19', 'refresh_url': '?since_id=1386879929728466944&q=%23bitcoin%20OR%20%23BTC%20since%3A2021-04-11%20until%3A2021-04-19&lang=en&result_type=recent&include_entities=1', 'count': 100, 'since_id': 0, 'since_id_str': '0'}}\n"
     ]
    },
    {
     "name": "stderr",
     "output_type": "stream",
     "text": [
      "\r",
      " 16%|█▌        | 70/450 [00:30<02:46,  2.29it/s]"
     ]
    },
    {
     "name": "stdout",
     "output_type": "stream",
     "text": [
      "{'statuses': [], 'search_metadata': {'completed_in': 0.006, 'max_id': 1386879929728466944, 'max_id_str': '1386879929728466944', 'query': '%23bitcoin+OR+%23BTC+since%3A2021-04-11+until%3A2021-04-19', 'refresh_url': '?since_id=1386879929728466944&q=%23bitcoin%20OR%20%23BTC%20since%3A2021-04-11%20until%3A2021-04-19&lang=en&result_type=recent&include_entities=1', 'count': 100, 'since_id': 0, 'since_id_str': '0'}}\n"
     ]
    },
    {
     "name": "stderr",
     "output_type": "stream",
     "text": [
      "\r",
      " 16%|█▌        | 71/450 [00:31<02:42,  2.33it/s]"
     ]
    },
    {
     "name": "stdout",
     "output_type": "stream",
     "text": [
      "{'statuses': [], 'search_metadata': {'completed_in': 0.005, 'max_id': 1386879929728466944, 'max_id_str': '1386879929728466944', 'query': '%23bitcoin+OR+%23BTC+since%3A2021-04-11+until%3A2021-04-19', 'refresh_url': '?since_id=1386879929728466944&q=%23bitcoin%20OR%20%23BTC%20since%3A2021-04-11%20until%3A2021-04-19&lang=en&result_type=recent&include_entities=1', 'count': 100, 'since_id': 0, 'since_id_str': '0'}}\n"
     ]
    },
    {
     "name": "stderr",
     "output_type": "stream",
     "text": [
      "\r",
      " 16%|█▌        | 72/450 [00:31<02:41,  2.34it/s]"
     ]
    },
    {
     "name": "stdout",
     "output_type": "stream",
     "text": [
      "{'statuses': [], 'search_metadata': {'completed_in': 0.006, 'max_id': 1386879929728466944, 'max_id_str': '1386879929728466944', 'query': '%23bitcoin+OR+%23BTC+since%3A2021-04-11+until%3A2021-04-19', 'refresh_url': '?since_id=1386879929728466944&q=%23bitcoin%20OR%20%23BTC%20since%3A2021-04-11%20until%3A2021-04-19&lang=en&result_type=recent&include_entities=1', 'count': 100, 'since_id': 0, 'since_id_str': '0'}}\n"
     ]
    },
    {
     "name": "stderr",
     "output_type": "stream",
     "text": [
      "\r",
      " 16%|█▌        | 73/450 [00:31<02:40,  2.36it/s]"
     ]
    },
    {
     "name": "stdout",
     "output_type": "stream",
     "text": [
      "{'statuses': [], 'search_metadata': {'completed_in': 0.005, 'max_id': 1386879929728466944, 'max_id_str': '1386879929728466944', 'query': '%23bitcoin+OR+%23BTC+since%3A2021-04-11+until%3A2021-04-19', 'refresh_url': '?since_id=1386879929728466944&q=%23bitcoin%20OR%20%23BTC%20since%3A2021-04-11%20until%3A2021-04-19&lang=en&result_type=recent&include_entities=1', 'count': 100, 'since_id': 0, 'since_id_str': '0'}}\n"
     ]
    },
    {
     "name": "stderr",
     "output_type": "stream",
     "text": [
      "\r",
      " 16%|█▋        | 74/450 [00:32<02:38,  2.37it/s]"
     ]
    },
    {
     "name": "stdout",
     "output_type": "stream",
     "text": [
      "{'statuses': [], 'search_metadata': {'completed_in': 0.006, 'max_id': 1386879929728466944, 'max_id_str': '1386879929728466944', 'query': '%23bitcoin+OR+%23BTC+since%3A2021-04-11+until%3A2021-04-19', 'refresh_url': '?since_id=1386879929728466944&q=%23bitcoin%20OR%20%23BTC%20since%3A2021-04-11%20until%3A2021-04-19&lang=en&result_type=recent&include_entities=1', 'count': 100, 'since_id': 0, 'since_id_str': '0'}}\n"
     ]
    },
    {
     "name": "stderr",
     "output_type": "stream",
     "text": [
      "\r",
      " 17%|█▋        | 75/450 [00:32<02:38,  2.37it/s]"
     ]
    },
    {
     "name": "stdout",
     "output_type": "stream",
     "text": [
      "{'statuses': [], 'search_metadata': {'completed_in': 0.006, 'max_id': 1386879929728466944, 'max_id_str': '1386879929728466944', 'query': '%23bitcoin+OR+%23BTC+since%3A2021-04-11+until%3A2021-04-19', 'refresh_url': '?since_id=1386879929728466944&q=%23bitcoin%20OR%20%23BTC%20since%3A2021-04-11%20until%3A2021-04-19&lang=en&result_type=recent&include_entities=1', 'count': 100, 'since_id': 0, 'since_id_str': '0'}}\n"
     ]
    },
    {
     "name": "stderr",
     "output_type": "stream",
     "text": [
      "\r",
      " 17%|█▋        | 76/450 [00:33<02:38,  2.36it/s]"
     ]
    },
    {
     "name": "stdout",
     "output_type": "stream",
     "text": [
      "{'statuses': [], 'search_metadata': {'completed_in': 0.005, 'max_id': 1386879929728466944, 'max_id_str': '1386879929728466944', 'query': '%23bitcoin+OR+%23BTC+since%3A2021-04-11+until%3A2021-04-19', 'refresh_url': '?since_id=1386879929728466944&q=%23bitcoin%20OR%20%23BTC%20since%3A2021-04-11%20until%3A2021-04-19&lang=en&result_type=recent&include_entities=1', 'count': 100, 'since_id': 0, 'since_id_str': '0'}}\n"
     ]
    },
    {
     "name": "stderr",
     "output_type": "stream",
     "text": [
      "\r",
      " 17%|█▋        | 77/450 [00:33<02:37,  2.37it/s]"
     ]
    },
    {
     "name": "stdout",
     "output_type": "stream",
     "text": [
      "{'statuses': [], 'search_metadata': {'completed_in': 0.006, 'max_id': 1386879929728466944, 'max_id_str': '1386879929728466944', 'query': '%23bitcoin+OR+%23BTC+since%3A2021-04-11+until%3A2021-04-19', 'refresh_url': '?since_id=1386879929728466944&q=%23bitcoin%20OR%20%23BTC%20since%3A2021-04-11%20until%3A2021-04-19&lang=en&result_type=recent&include_entities=1', 'count': 100, 'since_id': 0, 'since_id_str': '0'}}\n"
     ]
    },
    {
     "name": "stderr",
     "output_type": "stream",
     "text": [
      "\r",
      " 17%|█▋        | 78/450 [00:34<02:36,  2.38it/s]"
     ]
    },
    {
     "name": "stdout",
     "output_type": "stream",
     "text": [
      "{'statuses': [], 'search_metadata': {'completed_in': 0.005, 'max_id': 1386879929728466944, 'max_id_str': '1386879929728466944', 'query': '%23bitcoin+OR+%23BTC+since%3A2021-04-11+until%3A2021-04-19', 'refresh_url': '?since_id=1386879929728466944&q=%23bitcoin%20OR%20%23BTC%20since%3A2021-04-11%20until%3A2021-04-19&lang=en&result_type=recent&include_entities=1', 'count': 100, 'since_id': 0, 'since_id_str': '0'}}\n"
     ]
    },
    {
     "name": "stderr",
     "output_type": "stream",
     "text": [
      "\r",
      " 18%|█▊        | 79/450 [00:34<02:35,  2.38it/s]"
     ]
    },
    {
     "name": "stdout",
     "output_type": "stream",
     "text": [
      "{'statuses': [], 'search_metadata': {'completed_in': 0.007, 'max_id': 1386879929728466944, 'max_id_str': '1386879929728466944', 'query': '%23bitcoin+OR+%23BTC+since%3A2021-04-11+until%3A2021-04-19', 'refresh_url': '?since_id=1386879929728466944&q=%23bitcoin%20OR%20%23BTC%20since%3A2021-04-11%20until%3A2021-04-19&lang=en&result_type=recent&include_entities=1', 'count': 100, 'since_id': 0, 'since_id_str': '0'}}\n"
     ]
    },
    {
     "name": "stderr",
     "output_type": "stream",
     "text": [
      "\r",
      " 18%|█▊        | 80/450 [00:34<02:35,  2.39it/s]"
     ]
    },
    {
     "name": "stdout",
     "output_type": "stream",
     "text": [
      "{'statuses': [], 'search_metadata': {'completed_in': 0.005, 'max_id': 1386879929728466944, 'max_id_str': '1386879929728466944', 'query': '%23bitcoin+OR+%23BTC+since%3A2021-04-11+until%3A2021-04-19', 'refresh_url': '?since_id=1386879929728466944&q=%23bitcoin%20OR%20%23BTC%20since%3A2021-04-11%20until%3A2021-04-19&lang=en&result_type=recent&include_entities=1', 'count': 100, 'since_id': 0, 'since_id_str': '0'}}\n"
     ]
    },
    {
     "name": "stderr",
     "output_type": "stream",
     "text": [
      "\r",
      " 18%|█▊        | 81/450 [00:35<02:34,  2.39it/s]"
     ]
    },
    {
     "name": "stdout",
     "output_type": "stream",
     "text": [
      "{'statuses': [], 'search_metadata': {'completed_in': 0.006, 'max_id': 1386879929728466944, 'max_id_str': '1386879929728466944', 'query': '%23bitcoin+OR+%23BTC+since%3A2021-04-11+until%3A2021-04-19', 'refresh_url': '?since_id=1386879929728466944&q=%23bitcoin%20OR%20%23BTC%20since%3A2021-04-11%20until%3A2021-04-19&lang=en&result_type=recent&include_entities=1', 'count': 100, 'since_id': 0, 'since_id_str': '0'}}\n"
     ]
    },
    {
     "name": "stderr",
     "output_type": "stream",
     "text": [
      "\r",
      " 18%|█▊        | 82/450 [00:35<02:33,  2.39it/s]"
     ]
    },
    {
     "name": "stdout",
     "output_type": "stream",
     "text": [
      "{'statuses': [], 'search_metadata': {'completed_in': 0.008, 'max_id': 1386879929728466944, 'max_id_str': '1386879929728466944', 'query': '%23bitcoin+OR+%23BTC+since%3A2021-04-11+until%3A2021-04-19', 'refresh_url': '?since_id=1386879929728466944&q=%23bitcoin%20OR%20%23BTC%20since%3A2021-04-11%20until%3A2021-04-19&lang=en&result_type=recent&include_entities=1', 'count': 100, 'since_id': 0, 'since_id_str': '0'}}\n"
     ]
    },
    {
     "name": "stderr",
     "output_type": "stream",
     "text": [
      "\r",
      " 18%|█▊        | 83/450 [00:36<02:33,  2.40it/s]"
     ]
    },
    {
     "name": "stdout",
     "output_type": "stream",
     "text": [
      "{'statuses': [], 'search_metadata': {'completed_in': 0.006, 'max_id': 1386879929728466944, 'max_id_str': '1386879929728466944', 'query': '%23bitcoin+OR+%23BTC+since%3A2021-04-11+until%3A2021-04-19', 'refresh_url': '?since_id=1386879929728466944&q=%23bitcoin%20OR%20%23BTC%20since%3A2021-04-11%20until%3A2021-04-19&lang=en&result_type=recent&include_entities=1', 'count': 100, 'since_id': 0, 'since_id_str': '0'}}\n"
     ]
    },
    {
     "name": "stderr",
     "output_type": "stream",
     "text": [
      "\r",
      " 19%|█▊        | 84/450 [00:36<02:32,  2.40it/s]"
     ]
    },
    {
     "name": "stdout",
     "output_type": "stream",
     "text": [
      "{'statuses': [], 'search_metadata': {'completed_in': 0.006, 'max_id': 1386879929728466944, 'max_id_str': '1386879929728466944', 'query': '%23bitcoin+OR+%23BTC+since%3A2021-04-11+until%3A2021-04-19', 'refresh_url': '?since_id=1386879929728466944&q=%23bitcoin%20OR%20%23BTC%20since%3A2021-04-11%20until%3A2021-04-19&lang=en&result_type=recent&include_entities=1', 'count': 100, 'since_id': 0, 'since_id_str': '0'}}\n"
     ]
    },
    {
     "name": "stderr",
     "output_type": "stream",
     "text": [
      "\r",
      " 19%|█▉        | 85/450 [00:37<02:32,  2.39it/s]"
     ]
    },
    {
     "name": "stdout",
     "output_type": "stream",
     "text": [
      "{'statuses': [], 'search_metadata': {'completed_in': 0.005, 'max_id': 1386879929728466944, 'max_id_str': '1386879929728466944', 'query': '%23bitcoin+OR+%23BTC+since%3A2021-04-11+until%3A2021-04-19', 'refresh_url': '?since_id=1386879929728466944&q=%23bitcoin%20OR%20%23BTC%20since%3A2021-04-11%20until%3A2021-04-19&lang=en&result_type=recent&include_entities=1', 'count': 100, 'since_id': 0, 'since_id_str': '0'}}\n"
     ]
    },
    {
     "name": "stderr",
     "output_type": "stream",
     "text": [
      "\r",
      " 19%|█▉        | 86/450 [00:37<02:32,  2.39it/s]"
     ]
    },
    {
     "name": "stdout",
     "output_type": "stream",
     "text": [
      "{'statuses': [], 'search_metadata': {'completed_in': 0.007, 'max_id': 1386879929728466944, 'max_id_str': '1386879929728466944', 'query': '%23bitcoin+OR+%23BTC+since%3A2021-04-11+until%3A2021-04-19', 'refresh_url': '?since_id=1386879929728466944&q=%23bitcoin%20OR%20%23BTC%20since%3A2021-04-11%20until%3A2021-04-19&lang=en&result_type=recent&include_entities=1', 'count': 100, 'since_id': 0, 'since_id_str': '0'}}\n"
     ]
    },
    {
     "name": "stderr",
     "output_type": "stream",
     "text": [
      "\r",
      " 19%|█▉        | 87/450 [00:37<02:32,  2.38it/s]"
     ]
    },
    {
     "name": "stdout",
     "output_type": "stream",
     "text": [
      "{'statuses': [], 'search_metadata': {'completed_in': 0.006, 'max_id': 1386879929728466944, 'max_id_str': '1386879929728466944', 'query': '%23bitcoin+OR+%23BTC+since%3A2021-04-11+until%3A2021-04-19', 'refresh_url': '?since_id=1386879929728466944&q=%23bitcoin%20OR%20%23BTC%20since%3A2021-04-11%20until%3A2021-04-19&lang=en&result_type=recent&include_entities=1', 'count': 100, 'since_id': 0, 'since_id_str': '0'}}\n"
     ]
    },
    {
     "name": "stderr",
     "output_type": "stream",
     "text": [
      "\r",
      " 20%|█▉        | 88/450 [00:38<02:32,  2.38it/s]"
     ]
    },
    {
     "name": "stdout",
     "output_type": "stream",
     "text": [
      "{'statuses': [], 'search_metadata': {'completed_in': 0.006, 'max_id': 1386879929728466944, 'max_id_str': '1386879929728466944', 'query': '%23bitcoin+OR+%23BTC+since%3A2021-04-11+until%3A2021-04-19', 'refresh_url': '?since_id=1386879929728466944&q=%23bitcoin%20OR%20%23BTC%20since%3A2021-04-11%20until%3A2021-04-19&lang=en&result_type=recent&include_entities=1', 'count': 100, 'since_id': 0, 'since_id_str': '0'}}\n"
     ]
    },
    {
     "name": "stderr",
     "output_type": "stream",
     "text": [
      "\r",
      " 20%|█▉        | 89/450 [00:38<02:35,  2.32it/s]"
     ]
    },
    {
     "name": "stdout",
     "output_type": "stream",
     "text": [
      "{'statuses': [], 'search_metadata': {'completed_in': 0.006, 'max_id': 1386879929728466944, 'max_id_str': '1386879929728466944', 'query': '%23bitcoin+OR+%23BTC+since%3A2021-04-11+until%3A2021-04-19', 'refresh_url': '?since_id=1386879929728466944&q=%23bitcoin%20OR%20%23BTC%20since%3A2021-04-11%20until%3A2021-04-19&lang=en&result_type=recent&include_entities=1', 'count': 100, 'since_id': 0, 'since_id_str': '0'}}\n"
     ]
    },
    {
     "name": "stderr",
     "output_type": "stream",
     "text": [
      "\r",
      " 20%|██        | 90/450 [00:39<02:33,  2.35it/s]"
     ]
    },
    {
     "name": "stdout",
     "output_type": "stream",
     "text": [
      "{'statuses': [], 'search_metadata': {'completed_in': 0.006, 'max_id': 1386879929728466944, 'max_id_str': '1386879929728466944', 'query': '%23bitcoin+OR+%23BTC+since%3A2021-04-11+until%3A2021-04-19', 'refresh_url': '?since_id=1386879929728466944&q=%23bitcoin%20OR%20%23BTC%20since%3A2021-04-11%20until%3A2021-04-19&lang=en&result_type=recent&include_entities=1', 'count': 100, 'since_id': 0, 'since_id_str': '0'}}\n"
     ]
    },
    {
     "name": "stderr",
     "output_type": "stream",
     "text": [
      "\r",
      " 20%|██        | 91/450 [00:39<02:31,  2.36it/s]"
     ]
    },
    {
     "name": "stdout",
     "output_type": "stream",
     "text": [
      "{'statuses': [], 'search_metadata': {'completed_in': 0.006, 'max_id': 1386879929728466944, 'max_id_str': '1386879929728466944', 'query': '%23bitcoin+OR+%23BTC+since%3A2021-04-11+until%3A2021-04-19', 'refresh_url': '?since_id=1386879929728466944&q=%23bitcoin%20OR%20%23BTC%20since%3A2021-04-11%20until%3A2021-04-19&lang=en&result_type=recent&include_entities=1', 'count': 100, 'since_id': 0, 'since_id_str': '0'}}\n"
     ]
    },
    {
     "name": "stderr",
     "output_type": "stream",
     "text": [
      "\r",
      " 20%|██        | 92/450 [00:39<02:31,  2.37it/s]"
     ]
    },
    {
     "name": "stdout",
     "output_type": "stream",
     "text": [
      "{'statuses': [], 'search_metadata': {'completed_in': 0.005, 'max_id': 1386879929728466944, 'max_id_str': '1386879929728466944', 'query': '%23bitcoin+OR+%23BTC+since%3A2021-04-11+until%3A2021-04-19', 'refresh_url': '?since_id=1386879929728466944&q=%23bitcoin%20OR%20%23BTC%20since%3A2021-04-11%20until%3A2021-04-19&lang=en&result_type=recent&include_entities=1', 'count': 100, 'since_id': 0, 'since_id_str': '0'}}\n"
     ]
    },
    {
     "name": "stderr",
     "output_type": "stream",
     "text": [
      "\r",
      " 21%|██        | 93/450 [00:40<02:30,  2.37it/s]"
     ]
    },
    {
     "name": "stdout",
     "output_type": "stream",
     "text": [
      "{'statuses': [], 'search_metadata': {'completed_in': 0.005, 'max_id': 1386879929728466944, 'max_id_str': '1386879929728466944', 'query': '%23bitcoin+OR+%23BTC+since%3A2021-04-11+until%3A2021-04-19', 'refresh_url': '?since_id=1386879929728466944&q=%23bitcoin%20OR%20%23BTC%20since%3A2021-04-11%20until%3A2021-04-19&lang=en&result_type=recent&include_entities=1', 'count': 100, 'since_id': 0, 'since_id_str': '0'}}\n"
     ]
    },
    {
     "name": "stderr",
     "output_type": "stream",
     "text": [
      "\r",
      " 21%|██        | 94/450 [00:40<02:30,  2.37it/s]"
     ]
    },
    {
     "name": "stdout",
     "output_type": "stream",
     "text": [
      "{'statuses': [], 'search_metadata': {'completed_in': 0.009, 'max_id': 1386880015720198147, 'max_id_str': '1386880015720198147', 'query': '%23bitcoin+OR+%23BTC+since%3A2021-04-11+until%3A2021-04-19', 'refresh_url': '?since_id=1386880015720198147&q=%23bitcoin%20OR%20%23BTC%20since%3A2021-04-11%20until%3A2021-04-19&lang=en&result_type=recent&include_entities=1', 'count': 100, 'since_id': 0, 'since_id_str': '0'}}\n"
     ]
    },
    {
     "name": "stderr",
     "output_type": "stream",
     "text": [
      "\r",
      " 21%|██        | 95/450 [00:41<02:29,  2.37it/s]"
     ]
    },
    {
     "name": "stdout",
     "output_type": "stream",
     "text": [
      "{'statuses': [], 'search_metadata': {'completed_in': 0.006, 'max_id': 1386880015720198147, 'max_id_str': '1386880015720198147', 'query': '%23bitcoin+OR+%23BTC+since%3A2021-04-11+until%3A2021-04-19', 'refresh_url': '?since_id=1386880015720198147&q=%23bitcoin%20OR%20%23BTC%20since%3A2021-04-11%20until%3A2021-04-19&lang=en&result_type=recent&include_entities=1', 'count': 100, 'since_id': 0, 'since_id_str': '0'}}\n"
     ]
    },
    {
     "name": "stderr",
     "output_type": "stream",
     "text": [
      "\r",
      " 21%|██▏       | 96/450 [00:41<02:28,  2.38it/s]"
     ]
    },
    {
     "name": "stdout",
     "output_type": "stream",
     "text": [
      "{'statuses': [], 'search_metadata': {'completed_in': 0.005, 'max_id': 1386880015720198147, 'max_id_str': '1386880015720198147', 'query': '%23bitcoin+OR+%23BTC+since%3A2021-04-11+until%3A2021-04-19', 'refresh_url': '?since_id=1386880015720198147&q=%23bitcoin%20OR%20%23BTC%20since%3A2021-04-11%20until%3A2021-04-19&lang=en&result_type=recent&include_entities=1', 'count': 100, 'since_id': 0, 'since_id_str': '0'}}\n"
     ]
    },
    {
     "name": "stderr",
     "output_type": "stream",
     "text": [
      "\r",
      " 22%|██▏       | 97/450 [00:42<02:27,  2.39it/s]"
     ]
    },
    {
     "name": "stdout",
     "output_type": "stream",
     "text": [
      "{'statuses': [], 'search_metadata': {'completed_in': 0.006, 'max_id': 1386880015720198147, 'max_id_str': '1386880015720198147', 'query': '%23bitcoin+OR+%23BTC+since%3A2021-04-11+until%3A2021-04-19', 'refresh_url': '?since_id=1386880015720198147&q=%23bitcoin%20OR%20%23BTC%20since%3A2021-04-11%20until%3A2021-04-19&lang=en&result_type=recent&include_entities=1', 'count': 100, 'since_id': 0, 'since_id_str': '0'}}\n"
     ]
    },
    {
     "name": "stderr",
     "output_type": "stream",
     "text": [
      "\r",
      " 22%|██▏       | 98/450 [00:42<02:26,  2.40it/s]"
     ]
    },
    {
     "name": "stdout",
     "output_type": "stream",
     "text": [
      "{'statuses': [], 'search_metadata': {'completed_in': 0.006, 'max_id': 1386880015720198147, 'max_id_str': '1386880015720198147', 'query': '%23bitcoin+OR+%23BTC+since%3A2021-04-11+until%3A2021-04-19', 'refresh_url': '?since_id=1386880015720198147&q=%23bitcoin%20OR%20%23BTC%20since%3A2021-04-11%20until%3A2021-04-19&lang=en&result_type=recent&include_entities=1', 'count': 100, 'since_id': 0, 'since_id_str': '0'}}\n"
     ]
    },
    {
     "name": "stderr",
     "output_type": "stream",
     "text": [
      "\r",
      " 22%|██▏       | 99/450 [00:42<02:26,  2.39it/s]"
     ]
    },
    {
     "name": "stdout",
     "output_type": "stream",
     "text": [
      "{'statuses': [], 'search_metadata': {'completed_in': 0.014, 'max_id': 1386880015720198147, 'max_id_str': '1386880015720198147', 'query': '%23bitcoin+OR+%23BTC+since%3A2021-04-11+until%3A2021-04-19', 'refresh_url': '?since_id=1386880015720198147&q=%23bitcoin%20OR%20%23BTC%20since%3A2021-04-11%20until%3A2021-04-19&lang=en&result_type=recent&include_entities=1', 'count': 100, 'since_id': 0, 'since_id_str': '0'}}\n"
     ]
    },
    {
     "name": "stderr",
     "output_type": "stream",
     "text": [
      "\r",
      " 22%|██▏       | 100/450 [00:43<02:25,  2.40it/s]"
     ]
    },
    {
     "name": "stdout",
     "output_type": "stream",
     "text": [
      "{'statuses': [], 'search_metadata': {'completed_in': 0.004, 'max_id': 1386880015720198147, 'max_id_str': '1386880015720198147', 'query': '%23bitcoin+OR+%23BTC+since%3A2021-04-11+until%3A2021-04-19', 'refresh_url': '?since_id=1386880015720198147&q=%23bitcoin%20OR%20%23BTC%20since%3A2021-04-11%20until%3A2021-04-19&lang=en&result_type=recent&include_entities=1', 'count': 100, 'since_id': 0, 'since_id_str': '0'}}\n"
     ]
    },
    {
     "name": "stderr",
     "output_type": "stream",
     "text": [
      "\r",
      " 22%|██▏       | 101/450 [00:43<02:32,  2.29it/s]"
     ]
    },
    {
     "name": "stdout",
     "output_type": "stream",
     "text": [
      "{'statuses': [], 'search_metadata': {'completed_in': 0.007, 'max_id': 1386880015720198147, 'max_id_str': '1386880015720198147', 'query': '%23bitcoin+OR+%23BTC+since%3A2021-04-11+until%3A2021-04-19', 'refresh_url': '?since_id=1386880015720198147&q=%23bitcoin%20OR%20%23BTC%20since%3A2021-04-11%20until%3A2021-04-19&lang=en&result_type=recent&include_entities=1', 'count': 100, 'since_id': 0, 'since_id_str': '0'}}\n"
     ]
    },
    {
     "name": "stderr",
     "output_type": "stream",
     "text": [
      "\r",
      " 23%|██▎       | 102/450 [00:44<02:13,  2.61it/s]"
     ]
    },
    {
     "name": "stdout",
     "output_type": "stream",
     "text": [
      "{'statuses': [], 'search_metadata': {'completed_in': 0.005, 'max_id': 1386880015720198147, 'max_id_str': '1386880015720198147', 'query': '%23bitcoin+OR+%23BTC+since%3A2021-04-11+until%3A2021-04-19', 'refresh_url': '?since_id=1386880015720198147&q=%23bitcoin%20OR%20%23BTC%20since%3A2021-04-11%20until%3A2021-04-19&lang=en&result_type=recent&include_entities=1', 'count': 100, 'since_id': 0, 'since_id_str': '0'}}\n"
     ]
    },
    {
     "name": "stderr",
     "output_type": "stream",
     "text": [
      "\r",
      " 23%|██▎       | 103/450 [00:44<01:59,  2.90it/s]"
     ]
    },
    {
     "name": "stdout",
     "output_type": "stream",
     "text": [
      "{'statuses': [], 'search_metadata': {'completed_in': 0.005, 'max_id': 1386880015720198147, 'max_id_str': '1386880015720198147', 'query': '%23bitcoin+OR+%23BTC+since%3A2021-04-11+until%3A2021-04-19', 'refresh_url': '?since_id=1386880015720198147&q=%23bitcoin%20OR%20%23BTC%20since%3A2021-04-11%20until%3A2021-04-19&lang=en&result_type=recent&include_entities=1', 'count': 100, 'since_id': 0, 'since_id_str': '0'}}\n"
     ]
    },
    {
     "name": "stderr",
     "output_type": "stream",
     "text": [
      "\r",
      " 23%|██▎       | 104/450 [00:44<02:06,  2.73it/s]"
     ]
    },
    {
     "name": "stdout",
     "output_type": "stream",
     "text": [
      "{'statuses': [], 'search_metadata': {'completed_in': 0.009, 'max_id': 1386880015720198147, 'max_id_str': '1386880015720198147', 'query': '%23bitcoin+OR+%23BTC+since%3A2021-04-11+until%3A2021-04-19', 'refresh_url': '?since_id=1386880015720198147&q=%23bitcoin%20OR%20%23BTC%20since%3A2021-04-11%20until%3A2021-04-19&lang=en&result_type=recent&include_entities=1', 'count': 100, 'since_id': 0, 'since_id_str': '0'}}\n"
     ]
    },
    {
     "name": "stderr",
     "output_type": "stream",
     "text": [
      "\r",
      " 23%|██▎       | 105/450 [00:45<01:54,  3.00it/s]"
     ]
    },
    {
     "name": "stdout",
     "output_type": "stream",
     "text": [
      "{'statuses': [], 'search_metadata': {'completed_in': 0.007, 'max_id': 1386880015720198147, 'max_id_str': '1386880015720198147', 'query': '%23bitcoin+OR+%23BTC+since%3A2021-04-11+until%3A2021-04-19', 'refresh_url': '?since_id=1386880015720198147&q=%23bitcoin%20OR%20%23BTC%20since%3A2021-04-11%20until%3A2021-04-19&lang=en&result_type=recent&include_entities=1', 'count': 100, 'since_id': 0, 'since_id_str': '0'}}\n"
     ]
    },
    {
     "name": "stderr",
     "output_type": "stream",
     "text": [
      "\r",
      " 24%|██▎       | 106/450 [00:45<01:46,  3.22it/s]"
     ]
    },
    {
     "name": "stdout",
     "output_type": "stream",
     "text": [
      "{'statuses': [], 'search_metadata': {'completed_in': 0.007, 'max_id': 1386880015720198147, 'max_id_str': '1386880015720198147', 'query': '%23bitcoin+OR+%23BTC+since%3A2021-04-11+until%3A2021-04-19', 'refresh_url': '?since_id=1386880015720198147&q=%23bitcoin%20OR%20%23BTC%20since%3A2021-04-11%20until%3A2021-04-19&lang=en&result_type=recent&include_entities=1', 'count': 100, 'since_id': 0, 'since_id_str': '0'}}\n"
     ]
    },
    {
     "name": "stderr",
     "output_type": "stream",
     "text": [
      "\r",
      " 24%|██▍       | 107/450 [00:45<01:41,  3.39it/s]"
     ]
    },
    {
     "name": "stdout",
     "output_type": "stream",
     "text": [
      "{'statuses': [], 'search_metadata': {'completed_in': 0.006, 'max_id': 1386880015720198147, 'max_id_str': '1386880015720198147', 'query': '%23bitcoin+OR+%23BTC+since%3A2021-04-11+until%3A2021-04-19', 'refresh_url': '?since_id=1386880015720198147&q=%23bitcoin%20OR%20%23BTC%20since%3A2021-04-11%20until%3A2021-04-19&lang=en&result_type=recent&include_entities=1', 'count': 100, 'since_id': 0, 'since_id_str': '0'}}\n"
     ]
    },
    {
     "name": "stderr",
     "output_type": "stream",
     "text": [
      "\r",
      " 24%|██▍       | 108/450 [00:45<01:37,  3.52it/s]"
     ]
    },
    {
     "name": "stdout",
     "output_type": "stream",
     "text": [
      "{'statuses': [], 'search_metadata': {'completed_in': 0.006, 'max_id': 1386880015720198147, 'max_id_str': '1386880015720198147', 'query': '%23bitcoin+OR+%23BTC+since%3A2021-04-11+until%3A2021-04-19', 'refresh_url': '?since_id=1386880015720198147&q=%23bitcoin%20OR%20%23BTC%20since%3A2021-04-11%20until%3A2021-04-19&lang=en&result_type=recent&include_entities=1', 'count': 100, 'since_id': 0, 'since_id_str': '0'}}\n"
     ]
    },
    {
     "name": "stderr",
     "output_type": "stream",
     "text": [
      "\r",
      " 24%|██▍       | 109/450 [00:46<01:34,  3.59it/s]"
     ]
    },
    {
     "name": "stdout",
     "output_type": "stream",
     "text": [
      "{'statuses': [], 'search_metadata': {'completed_in': 0.006, 'max_id': 1386880015720198147, 'max_id_str': '1386880015720198147', 'query': '%23bitcoin+OR+%23BTC+since%3A2021-04-11+until%3A2021-04-19', 'refresh_url': '?since_id=1386880015720198147&q=%23bitcoin%20OR%20%23BTC%20since%3A2021-04-11%20until%3A2021-04-19&lang=en&result_type=recent&include_entities=1', 'count': 100, 'since_id': 0, 'since_id_str': '0'}}\n"
     ]
    },
    {
     "name": "stderr",
     "output_type": "stream",
     "text": [
      "\r",
      " 24%|██▍       | 110/450 [00:46<01:32,  3.68it/s]"
     ]
    },
    {
     "name": "stdout",
     "output_type": "stream",
     "text": [
      "{'statuses': [], 'search_metadata': {'completed_in': 0.005, 'max_id': 1386880015720198147, 'max_id_str': '1386880015720198147', 'query': '%23bitcoin+OR+%23BTC+since%3A2021-04-11+until%3A2021-04-19', 'refresh_url': '?since_id=1386880015720198147&q=%23bitcoin%20OR%20%23BTC%20since%3A2021-04-11%20until%3A2021-04-19&lang=en&result_type=recent&include_entities=1', 'count': 100, 'since_id': 0, 'since_id_str': '0'}}\n"
     ]
    },
    {
     "name": "stderr",
     "output_type": "stream",
     "text": [
      "\r",
      " 25%|██▍       | 111/450 [00:46<01:30,  3.75it/s]"
     ]
    },
    {
     "name": "stdout",
     "output_type": "stream",
     "text": [
      "{'statuses': [], 'search_metadata': {'completed_in': 0.006, 'max_id': 1386880015720198147, 'max_id_str': '1386880015720198147', 'query': '%23bitcoin+OR+%23BTC+since%3A2021-04-11+until%3A2021-04-19', 'refresh_url': '?since_id=1386880015720198147&q=%23bitcoin%20OR%20%23BTC%20since%3A2021-04-11%20until%3A2021-04-19&lang=en&result_type=recent&include_entities=1', 'count': 100, 'since_id': 0, 'since_id_str': '0'}}\n"
     ]
    },
    {
     "name": "stderr",
     "output_type": "stream",
     "text": [
      "\r",
      " 25%|██▍       | 112/450 [00:46<01:29,  3.78it/s]"
     ]
    },
    {
     "name": "stdout",
     "output_type": "stream",
     "text": [
      "{'statuses': [], 'search_metadata': {'completed_in': 0.008, 'max_id': 1386880015720198147, 'max_id_str': '1386880015720198147', 'query': '%23bitcoin+OR+%23BTC+since%3A2021-04-11+until%3A2021-04-19', 'refresh_url': '?since_id=1386880015720198147&q=%23bitcoin%20OR%20%23BTC%20since%3A2021-04-11%20until%3A2021-04-19&lang=en&result_type=recent&include_entities=1', 'count': 100, 'since_id': 0, 'since_id_str': '0'}}\n"
     ]
    },
    {
     "name": "stderr",
     "output_type": "stream",
     "text": [
      "\r",
      " 25%|██▌       | 113/450 [00:47<01:28,  3.83it/s]"
     ]
    },
    {
     "name": "stdout",
     "output_type": "stream",
     "text": [
      "{'statuses': [], 'search_metadata': {'completed_in': 0.005, 'max_id': 1386880015720198147, 'max_id_str': '1386880015720198147', 'query': '%23bitcoin+OR+%23BTC+since%3A2021-04-11+until%3A2021-04-19', 'refresh_url': '?since_id=1386880015720198147&q=%23bitcoin%20OR%20%23BTC%20since%3A2021-04-11%20until%3A2021-04-19&lang=en&result_type=recent&include_entities=1', 'count': 100, 'since_id': 0, 'since_id_str': '0'}}\n"
     ]
    },
    {
     "name": "stderr",
     "output_type": "stream",
     "text": [
      "\r",
      " 25%|██▌       | 114/450 [00:47<01:27,  3.85it/s]"
     ]
    },
    {
     "name": "stdout",
     "output_type": "stream",
     "text": [
      "{'statuses': [], 'search_metadata': {'completed_in': 0.006, 'max_id': 1386880015720198147, 'max_id_str': '1386880015720198147', 'query': '%23bitcoin+OR+%23BTC+since%3A2021-04-11+until%3A2021-04-19', 'refresh_url': '?since_id=1386880015720198147&q=%23bitcoin%20OR%20%23BTC%20since%3A2021-04-11%20until%3A2021-04-19&lang=en&result_type=recent&include_entities=1', 'count': 100, 'since_id': 0, 'since_id_str': '0'}}\n"
     ]
    },
    {
     "name": "stderr",
     "output_type": "stream",
     "text": [
      "\r",
      " 26%|██▌       | 115/450 [00:47<01:26,  3.87it/s]"
     ]
    },
    {
     "name": "stdout",
     "output_type": "stream",
     "text": [
      "{'statuses': [], 'search_metadata': {'completed_in': 0.006, 'max_id': 1386880015720198147, 'max_id_str': '1386880015720198147', 'query': '%23bitcoin+OR+%23BTC+since%3A2021-04-11+until%3A2021-04-19', 'refresh_url': '?since_id=1386880015720198147&q=%23bitcoin%20OR%20%23BTC%20since%3A2021-04-11%20until%3A2021-04-19&lang=en&result_type=recent&include_entities=1', 'count': 100, 'since_id': 0, 'since_id_str': '0'}}\n"
     ]
    },
    {
     "name": "stderr",
     "output_type": "stream",
     "text": [
      "\r",
      " 26%|██▌       | 116/450 [00:47<01:26,  3.87it/s]"
     ]
    },
    {
     "name": "stdout",
     "output_type": "stream",
     "text": [
      "{'statuses': [], 'search_metadata': {'completed_in': 0.008, 'max_id': 1386880015720198147, 'max_id_str': '1386880015720198147', 'query': '%23bitcoin+OR+%23BTC+since%3A2021-04-11+until%3A2021-04-19', 'refresh_url': '?since_id=1386880015720198147&q=%23bitcoin%20OR%20%23BTC%20since%3A2021-04-11%20until%3A2021-04-19&lang=en&result_type=recent&include_entities=1', 'count': 100, 'since_id': 0, 'since_id_str': '0'}}\n"
     ]
    },
    {
     "name": "stderr",
     "output_type": "stream",
     "text": [
      "\r",
      " 26%|██▌       | 117/450 [00:48<01:25,  3.88it/s]"
     ]
    },
    {
     "name": "stdout",
     "output_type": "stream",
     "text": [
      "{'statuses': [], 'search_metadata': {'completed_in': 0.006, 'max_id': 1386880015720198147, 'max_id_str': '1386880015720198147', 'query': '%23bitcoin+OR+%23BTC+since%3A2021-04-11+until%3A2021-04-19', 'refresh_url': '?since_id=1386880015720198147&q=%23bitcoin%20OR%20%23BTC%20since%3A2021-04-11%20until%3A2021-04-19&lang=en&result_type=recent&include_entities=1', 'count': 100, 'since_id': 0, 'since_id_str': '0'}}\n"
     ]
    },
    {
     "name": "stderr",
     "output_type": "stream",
     "text": [
      "\r",
      " 26%|██▌       | 118/450 [00:48<01:25,  3.86it/s]"
     ]
    },
    {
     "name": "stdout",
     "output_type": "stream",
     "text": [
      "{'statuses': [], 'search_metadata': {'completed_in': 0.005, 'max_id': 1386880015720198147, 'max_id_str': '1386880015720198147', 'query': '%23bitcoin+OR+%23BTC+since%3A2021-04-11+until%3A2021-04-19', 'refresh_url': '?since_id=1386880015720198147&q=%23bitcoin%20OR%20%23BTC%20since%3A2021-04-11%20until%3A2021-04-19&lang=en&result_type=recent&include_entities=1', 'count': 100, 'since_id': 0, 'since_id_str': '0'}}\n"
     ]
    },
    {
     "name": "stderr",
     "output_type": "stream",
     "text": [
      "\r",
      " 26%|██▋       | 119/450 [00:48<01:26,  3.83it/s]"
     ]
    },
    {
     "name": "stdout",
     "output_type": "stream",
     "text": [
      "{'statuses': [], 'search_metadata': {'completed_in': 0.006, 'max_id': 1386880015720198147, 'max_id_str': '1386880015720198147', 'query': '%23bitcoin+OR+%23BTC+since%3A2021-04-11+until%3A2021-04-19', 'refresh_url': '?since_id=1386880015720198147&q=%23bitcoin%20OR%20%23BTC%20since%3A2021-04-11%20until%3A2021-04-19&lang=en&result_type=recent&include_entities=1', 'count': 100, 'since_id': 0, 'since_id_str': '0'}}\n"
     ]
    },
    {
     "name": "stderr",
     "output_type": "stream",
     "text": [
      "\r",
      " 27%|██▋       | 120/450 [00:48<01:25,  3.84it/s]"
     ]
    },
    {
     "name": "stdout",
     "output_type": "stream",
     "text": [
      "{'statuses': [], 'search_metadata': {'completed_in': 0.007, 'max_id': 1386880015720198147, 'max_id_str': '1386880015720198147', 'query': '%23bitcoin+OR+%23BTC+since%3A2021-04-11+until%3A2021-04-19', 'refresh_url': '?since_id=1386880015720198147&q=%23bitcoin%20OR%20%23BTC%20since%3A2021-04-11%20until%3A2021-04-19&lang=en&result_type=recent&include_entities=1', 'count': 100, 'since_id': 0, 'since_id_str': '0'}}\n"
     ]
    },
    {
     "name": "stderr",
     "output_type": "stream",
     "text": [
      "\r",
      " 27%|██▋       | 121/450 [00:49<01:25,  3.87it/s]"
     ]
    },
    {
     "name": "stdout",
     "output_type": "stream",
     "text": [
      "{'statuses': [], 'search_metadata': {'completed_in': 0.007, 'max_id': 1386880015720198147, 'max_id_str': '1386880015720198147', 'query': '%23bitcoin+OR+%23BTC+since%3A2021-04-11+until%3A2021-04-19', 'refresh_url': '?since_id=1386880015720198147&q=%23bitcoin%20OR%20%23BTC%20since%3A2021-04-11%20until%3A2021-04-19&lang=en&result_type=recent&include_entities=1', 'count': 100, 'since_id': 0, 'since_id_str': '0'}}\n"
     ]
    },
    {
     "name": "stderr",
     "output_type": "stream",
     "text": [
      "\r",
      " 27%|██▋       | 122/450 [00:49<01:25,  3.85it/s]"
     ]
    },
    {
     "name": "stdout",
     "output_type": "stream",
     "text": [
      "{'statuses': [], 'search_metadata': {'completed_in': 0.009, 'max_id': 1386880052281823232, 'max_id_str': '1386880052281823232', 'query': '%23bitcoin+OR+%23BTC+since%3A2021-04-11+until%3A2021-04-19', 'refresh_url': '?since_id=1386880052281823232&q=%23bitcoin%20OR%20%23BTC%20since%3A2021-04-11%20until%3A2021-04-19&lang=en&result_type=recent&include_entities=1', 'count': 100, 'since_id': 0, 'since_id_str': '0'}}\n"
     ]
    },
    {
     "name": "stderr",
     "output_type": "stream",
     "text": [
      "\r",
      " 27%|██▋       | 123/450 [00:49<01:25,  3.83it/s]"
     ]
    },
    {
     "name": "stdout",
     "output_type": "stream",
     "text": [
      "{'statuses': [], 'search_metadata': {'completed_in': 0.007, 'max_id': 1386880052281823232, 'max_id_str': '1386880052281823232', 'query': '%23bitcoin+OR+%23BTC+since%3A2021-04-11+until%3A2021-04-19', 'refresh_url': '?since_id=1386880052281823232&q=%23bitcoin%20OR%20%23BTC%20since%3A2021-04-11%20until%3A2021-04-19&lang=en&result_type=recent&include_entities=1', 'count': 100, 'since_id': 0, 'since_id_str': '0'}}\n"
     ]
    },
    {
     "name": "stderr",
     "output_type": "stream",
     "text": [
      "\r",
      " 28%|██▊       | 124/450 [00:49<01:25,  3.82it/s]"
     ]
    },
    {
     "name": "stdout",
     "output_type": "stream",
     "text": [
      "{'statuses': [], 'search_metadata': {'completed_in': 0.007, 'max_id': 1386880052281823232, 'max_id_str': '1386880052281823232', 'query': '%23bitcoin+OR+%23BTC+since%3A2021-04-11+until%3A2021-04-19', 'refresh_url': '?since_id=1386880052281823232&q=%23bitcoin%20OR%20%23BTC%20since%3A2021-04-11%20until%3A2021-04-19&lang=en&result_type=recent&include_entities=1', 'count': 100, 'since_id': 0, 'since_id_str': '0'}}\n"
     ]
    },
    {
     "name": "stderr",
     "output_type": "stream",
     "text": [
      "\r",
      " 28%|██▊       | 125/450 [00:50<01:24,  3.85it/s]"
     ]
    },
    {
     "name": "stdout",
     "output_type": "stream",
     "text": [
      "{'statuses': [], 'search_metadata': {'completed_in': 0.006, 'max_id': 1386880052281823232, 'max_id_str': '1386880052281823232', 'query': '%23bitcoin+OR+%23BTC+since%3A2021-04-11+until%3A2021-04-19', 'refresh_url': '?since_id=1386880052281823232&q=%23bitcoin%20OR%20%23BTC%20since%3A2021-04-11%20until%3A2021-04-19&lang=en&result_type=recent&include_entities=1', 'count': 100, 'since_id': 0, 'since_id_str': '0'}}\n"
     ]
    },
    {
     "name": "stderr",
     "output_type": "stream",
     "text": [
      "\r",
      " 28%|██▊       | 126/450 [00:50<01:23,  3.86it/s]"
     ]
    },
    {
     "name": "stdout",
     "output_type": "stream",
     "text": [
      "{'statuses': [], 'search_metadata': {'completed_in': 0.007, 'max_id': 1386880052281823232, 'max_id_str': '1386880052281823232', 'query': '%23bitcoin+OR+%23BTC+since%3A2021-04-11+until%3A2021-04-19', 'refresh_url': '?since_id=1386880052281823232&q=%23bitcoin%20OR%20%23BTC%20since%3A2021-04-11%20until%3A2021-04-19&lang=en&result_type=recent&include_entities=1', 'count': 100, 'since_id': 0, 'since_id_str': '0'}}\n"
     ]
    },
    {
     "name": "stderr",
     "output_type": "stream",
     "text": [
      "\r",
      " 28%|██▊       | 127/450 [00:50<01:23,  3.88it/s]"
     ]
    },
    {
     "name": "stdout",
     "output_type": "stream",
     "text": [
      "{'statuses': [], 'search_metadata': {'completed_in': 0.006, 'max_id': 1386880052281823232, 'max_id_str': '1386880052281823232', 'query': '%23bitcoin+OR+%23BTC+since%3A2021-04-11+until%3A2021-04-19', 'refresh_url': '?since_id=1386880052281823232&q=%23bitcoin%20OR%20%23BTC%20since%3A2021-04-11%20until%3A2021-04-19&lang=en&result_type=recent&include_entities=1', 'count': 100, 'since_id': 0, 'since_id_str': '0'}}\n"
     ]
    },
    {
     "name": "stderr",
     "output_type": "stream",
     "text": [
      "\r",
      " 28%|██▊       | 128/450 [00:50<01:22,  3.88it/s]"
     ]
    },
    {
     "name": "stdout",
     "output_type": "stream",
     "text": [
      "{'statuses': [], 'search_metadata': {'completed_in': 0.007, 'max_id': 1386880052281823232, 'max_id_str': '1386880052281823232', 'query': '%23bitcoin+OR+%23BTC+since%3A2021-04-11+until%3A2021-04-19', 'refresh_url': '?since_id=1386880052281823232&q=%23bitcoin%20OR%20%23BTC%20since%3A2021-04-11%20until%3A2021-04-19&lang=en&result_type=recent&include_entities=1', 'count': 100, 'since_id': 0, 'since_id_str': '0'}}\n"
     ]
    },
    {
     "name": "stderr",
     "output_type": "stream",
     "text": [
      "\r",
      " 29%|██▊       | 129/450 [00:51<01:22,  3.89it/s]"
     ]
    },
    {
     "name": "stdout",
     "output_type": "stream",
     "text": [
      "{'statuses': [], 'search_metadata': {'completed_in': 0.006, 'max_id': 1386880052281823232, 'max_id_str': '1386880052281823232', 'query': '%23bitcoin+OR+%23BTC+since%3A2021-04-11+until%3A2021-04-19', 'refresh_url': '?since_id=1386880052281823232&q=%23bitcoin%20OR%20%23BTC%20since%3A2021-04-11%20until%3A2021-04-19&lang=en&result_type=recent&include_entities=1', 'count': 100, 'since_id': 0, 'since_id_str': '0'}}\n"
     ]
    },
    {
     "name": "stderr",
     "output_type": "stream",
     "text": [
      "\r",
      " 29%|██▉       | 130/450 [00:51<01:21,  3.91it/s]"
     ]
    },
    {
     "name": "stdout",
     "output_type": "stream",
     "text": [
      "{'statuses': [], 'search_metadata': {'completed_in': 0.005, 'max_id': 1386880052281823232, 'max_id_str': '1386880052281823232', 'query': '%23bitcoin+OR+%23BTC+since%3A2021-04-11+until%3A2021-04-19', 'refresh_url': '?since_id=1386880052281823232&q=%23bitcoin%20OR%20%23BTC%20since%3A2021-04-11%20until%3A2021-04-19&lang=en&result_type=recent&include_entities=1', 'count': 100, 'since_id': 0, 'since_id_str': '0'}}\n"
     ]
    },
    {
     "name": "stderr",
     "output_type": "stream",
     "text": [
      "\r",
      " 29%|██▉       | 131/450 [00:51<01:21,  3.90it/s]"
     ]
    },
    {
     "name": "stdout",
     "output_type": "stream",
     "text": [
      "{'statuses': [], 'search_metadata': {'completed_in': 0.008, 'max_id': 1386880052281823232, 'max_id_str': '1386880052281823232', 'query': '%23bitcoin+OR+%23BTC+since%3A2021-04-11+until%3A2021-04-19', 'refresh_url': '?since_id=1386880052281823232&q=%23bitcoin%20OR%20%23BTC%20since%3A2021-04-11%20until%3A2021-04-19&lang=en&result_type=recent&include_entities=1', 'count': 100, 'since_id': 0, 'since_id_str': '0'}}\n"
     ]
    },
    {
     "name": "stderr",
     "output_type": "stream",
     "text": [
      "\r",
      " 29%|██▉       | 132/450 [00:51<01:21,  3.91it/s]"
     ]
    },
    {
     "name": "stdout",
     "output_type": "stream",
     "text": [
      "{'statuses': [], 'search_metadata': {'completed_in': 0.005, 'max_id': 1386880052281823232, 'max_id_str': '1386880052281823232', 'query': '%23bitcoin+OR+%23BTC+since%3A2021-04-11+until%3A2021-04-19', 'refresh_url': '?since_id=1386880052281823232&q=%23bitcoin%20OR%20%23BTC%20since%3A2021-04-11%20until%3A2021-04-19&lang=en&result_type=recent&include_entities=1', 'count': 100, 'since_id': 0, 'since_id_str': '0'}}\n"
     ]
    },
    {
     "name": "stderr",
     "output_type": "stream",
     "text": [
      "\r",
      " 30%|██▉       | 133/450 [00:52<01:21,  3.89it/s]"
     ]
    },
    {
     "name": "stdout",
     "output_type": "stream",
     "text": [
      "{'statuses': [], 'search_metadata': {'completed_in': 0.006, 'max_id': 1386880052281823232, 'max_id_str': '1386880052281823232', 'query': '%23bitcoin+OR+%23BTC+since%3A2021-04-11+until%3A2021-04-19', 'refresh_url': '?since_id=1386880052281823232&q=%23bitcoin%20OR%20%23BTC%20since%3A2021-04-11%20until%3A2021-04-19&lang=en&result_type=recent&include_entities=1', 'count': 100, 'since_id': 0, 'since_id_str': '0'}}\n"
     ]
    },
    {
     "name": "stderr",
     "output_type": "stream",
     "text": [
      "\r",
      " 30%|██▉       | 134/450 [00:52<01:21,  3.86it/s]"
     ]
    },
    {
     "name": "stdout",
     "output_type": "stream",
     "text": [
      "{'statuses': [], 'search_metadata': {'completed_in': 0.007, 'max_id': 1386880052281823232, 'max_id_str': '1386880052281823232', 'query': '%23bitcoin+OR+%23BTC+since%3A2021-04-11+until%3A2021-04-19', 'refresh_url': '?since_id=1386880052281823232&q=%23bitcoin%20OR%20%23BTC%20since%3A2021-04-11%20until%3A2021-04-19&lang=en&result_type=recent&include_entities=1', 'count': 100, 'since_id': 0, 'since_id_str': '0'}}\n"
     ]
    },
    {
     "name": "stderr",
     "output_type": "stream",
     "text": [
      "\r",
      " 30%|███       | 135/450 [00:52<01:21,  3.87it/s]"
     ]
    },
    {
     "name": "stdout",
     "output_type": "stream",
     "text": [
      "{'statuses': [], 'search_metadata': {'completed_in': 0.005, 'max_id': 1386880052281823232, 'max_id_str': '1386880052281823232', 'query': '%23bitcoin+OR+%23BTC+since%3A2021-04-11+until%3A2021-04-19', 'refresh_url': '?since_id=1386880052281823232&q=%23bitcoin%20OR%20%23BTC%20since%3A2021-04-11%20until%3A2021-04-19&lang=en&result_type=recent&include_entities=1', 'count': 100, 'since_id': 0, 'since_id_str': '0'}}\n"
     ]
    },
    {
     "name": "stderr",
     "output_type": "stream",
     "text": [
      "\r",
      " 30%|███       | 136/450 [00:53<01:20,  3.89it/s]"
     ]
    },
    {
     "name": "stdout",
     "output_type": "stream",
     "text": [
      "{'statuses': [], 'search_metadata': {'completed_in': 0.006, 'max_id': 1386880052281823232, 'max_id_str': '1386880052281823232', 'query': '%23bitcoin+OR+%23BTC+since%3A2021-04-11+until%3A2021-04-19', 'refresh_url': '?since_id=1386880052281823232&q=%23bitcoin%20OR%20%23BTC%20since%3A2021-04-11%20until%3A2021-04-19&lang=en&result_type=recent&include_entities=1', 'count': 100, 'since_id': 0, 'since_id_str': '0'}}\n"
     ]
    },
    {
     "name": "stderr",
     "output_type": "stream",
     "text": [
      "\r",
      " 30%|███       | 137/450 [00:53<01:20,  3.87it/s]"
     ]
    },
    {
     "name": "stdout",
     "output_type": "stream",
     "text": [
      "{'statuses': [], 'search_metadata': {'completed_in': 0.006, 'max_id': 1386880052281823232, 'max_id_str': '1386880052281823232', 'query': '%23bitcoin+OR+%23BTC+since%3A2021-04-11+until%3A2021-04-19', 'refresh_url': '?since_id=1386880052281823232&q=%23bitcoin%20OR%20%23BTC%20since%3A2021-04-11%20until%3A2021-04-19&lang=en&result_type=recent&include_entities=1', 'count': 100, 'since_id': 0, 'since_id_str': '0'}}\n"
     ]
    },
    {
     "name": "stderr",
     "output_type": "stream",
     "text": [
      "\r",
      " 31%|███       | 138/450 [00:53<01:20,  3.87it/s]"
     ]
    },
    {
     "name": "stdout",
     "output_type": "stream",
     "text": [
      "{'statuses': [], 'search_metadata': {'completed_in': 0.006, 'max_id': 1386880052281823232, 'max_id_str': '1386880052281823232', 'query': '%23bitcoin+OR+%23BTC+since%3A2021-04-11+until%3A2021-04-19', 'refresh_url': '?since_id=1386880052281823232&q=%23bitcoin%20OR%20%23BTC%20since%3A2021-04-11%20until%3A2021-04-19&lang=en&result_type=recent&include_entities=1', 'count': 100, 'since_id': 0, 'since_id_str': '0'}}\n"
     ]
    },
    {
     "name": "stderr",
     "output_type": "stream",
     "text": [
      "\r",
      " 31%|███       | 139/450 [00:53<01:20,  3.87it/s]"
     ]
    },
    {
     "name": "stdout",
     "output_type": "stream",
     "text": [
      "{'statuses': [], 'search_metadata': {'completed_in': 0.007, 'max_id': 1386880052281823232, 'max_id_str': '1386880052281823232', 'query': '%23bitcoin+OR+%23BTC+since%3A2021-04-11+until%3A2021-04-19', 'refresh_url': '?since_id=1386880052281823232&q=%23bitcoin%20OR%20%23BTC%20since%3A2021-04-11%20until%3A2021-04-19&lang=en&result_type=recent&include_entities=1', 'count': 100, 'since_id': 0, 'since_id_str': '0'}}\n"
     ]
    },
    {
     "name": "stderr",
     "output_type": "stream",
     "text": [
      "\r",
      " 31%|███       | 140/450 [00:54<01:20,  3.83it/s]"
     ]
    },
    {
     "name": "stdout",
     "output_type": "stream",
     "text": [
      "{'statuses': [], 'search_metadata': {'completed_in': 0.007, 'max_id': 1386880052281823232, 'max_id_str': '1386880052281823232', 'query': '%23bitcoin+OR+%23BTC+since%3A2021-04-11+until%3A2021-04-19', 'refresh_url': '?since_id=1386880052281823232&q=%23bitcoin%20OR%20%23BTC%20since%3A2021-04-11%20until%3A2021-04-19&lang=en&result_type=recent&include_entities=1', 'count': 100, 'since_id': 0, 'since_id_str': '0'}}\n"
     ]
    },
    {
     "name": "stderr",
     "output_type": "stream",
     "text": [
      "\r",
      " 31%|███▏      | 141/450 [00:54<01:20,  3.84it/s]"
     ]
    },
    {
     "name": "stdout",
     "output_type": "stream",
     "text": [
      "{'statuses': [], 'search_metadata': {'completed_in': 0.006, 'max_id': 1386880052281823232, 'max_id_str': '1386880052281823232', 'query': '%23bitcoin+OR+%23BTC+since%3A2021-04-11+until%3A2021-04-19', 'refresh_url': '?since_id=1386880052281823232&q=%23bitcoin%20OR%20%23BTC%20since%3A2021-04-11%20until%3A2021-04-19&lang=en&result_type=recent&include_entities=1', 'count': 100, 'since_id': 0, 'since_id_str': '0'}}\n"
     ]
    },
    {
     "name": "stderr",
     "output_type": "stream",
     "text": [
      "\r",
      " 32%|███▏      | 142/450 [00:54<01:20,  3.84it/s]"
     ]
    },
    {
     "name": "stdout",
     "output_type": "stream",
     "text": [
      "{'statuses': [], 'search_metadata': {'completed_in': 0.006, 'max_id': 1386880052281823232, 'max_id_str': '1386880052281823232', 'query': '%23bitcoin+OR+%23BTC+since%3A2021-04-11+until%3A2021-04-19', 'refresh_url': '?since_id=1386880052281823232&q=%23bitcoin%20OR%20%23BTC%20since%3A2021-04-11%20until%3A2021-04-19&lang=en&result_type=recent&include_entities=1', 'count': 100, 'since_id': 0, 'since_id_str': '0'}}\n"
     ]
    },
    {
     "name": "stderr",
     "output_type": "stream",
     "text": [
      "\r",
      " 32%|███▏      | 143/450 [00:54<01:19,  3.85it/s]"
     ]
    },
    {
     "name": "stdout",
     "output_type": "stream",
     "text": [
      "{'statuses': [], 'search_metadata': {'completed_in': 0.005, 'max_id': 1386880052281823232, 'max_id_str': '1386880052281823232', 'query': '%23bitcoin+OR+%23BTC+since%3A2021-04-11+until%3A2021-04-19', 'refresh_url': '?since_id=1386880052281823232&q=%23bitcoin%20OR%20%23BTC%20since%3A2021-04-11%20until%3A2021-04-19&lang=en&result_type=recent&include_entities=1', 'count': 100, 'since_id': 0, 'since_id_str': '0'}}\n"
     ]
    },
    {
     "name": "stderr",
     "output_type": "stream",
     "text": [
      "\r",
      " 32%|███▏      | 144/450 [00:55<01:18,  3.88it/s]"
     ]
    },
    {
     "name": "stdout",
     "output_type": "stream",
     "text": [
      "{'statuses': [], 'search_metadata': {'completed_in': 0.006, 'max_id': 1386880052281823232, 'max_id_str': '1386880052281823232', 'query': '%23bitcoin+OR+%23BTC+since%3A2021-04-11+until%3A2021-04-19', 'refresh_url': '?since_id=1386880052281823232&q=%23bitcoin%20OR%20%23BTC%20since%3A2021-04-11%20until%3A2021-04-19&lang=en&result_type=recent&include_entities=1', 'count': 100, 'since_id': 0, 'since_id_str': '0'}}\n"
     ]
    },
    {
     "name": "stderr",
     "output_type": "stream",
     "text": [
      "\r",
      " 32%|███▏      | 145/450 [00:55<01:18,  3.86it/s]"
     ]
    },
    {
     "name": "stdout",
     "output_type": "stream",
     "text": [
      "{'statuses': [], 'search_metadata': {'completed_in': 0.006, 'max_id': 1386880052281823232, 'max_id_str': '1386880052281823232', 'query': '%23bitcoin+OR+%23BTC+since%3A2021-04-11+until%3A2021-04-19', 'refresh_url': '?since_id=1386880052281823232&q=%23bitcoin%20OR%20%23BTC%20since%3A2021-04-11%20until%3A2021-04-19&lang=en&result_type=recent&include_entities=1', 'count': 100, 'since_id': 0, 'since_id_str': '0'}}\n"
     ]
    },
    {
     "name": "stderr",
     "output_type": "stream",
     "text": [
      "\r",
      " 32%|███▏      | 146/450 [00:55<01:18,  3.88it/s]"
     ]
    },
    {
     "name": "stdout",
     "output_type": "stream",
     "text": [
      "{'statuses': [], 'search_metadata': {'completed_in': 0.006, 'max_id': 1386880052281823232, 'max_id_str': '1386880052281823232', 'query': '%23bitcoin+OR+%23BTC+since%3A2021-04-11+until%3A2021-04-19', 'refresh_url': '?since_id=1386880052281823232&q=%23bitcoin%20OR%20%23BTC%20since%3A2021-04-11%20until%3A2021-04-19&lang=en&result_type=recent&include_entities=1', 'count': 100, 'since_id': 0, 'since_id_str': '0'}}\n"
     ]
    },
    {
     "name": "stderr",
     "output_type": "stream",
     "text": [
      "\r",
      " 33%|███▎      | 147/450 [00:55<01:18,  3.86it/s]"
     ]
    },
    {
     "name": "stdout",
     "output_type": "stream",
     "text": [
      "{'statuses': [], 'search_metadata': {'completed_in': 0.006, 'max_id': 1386880052281823232, 'max_id_str': '1386880052281823232', 'query': '%23bitcoin+OR+%23BTC+since%3A2021-04-11+until%3A2021-04-19', 'refresh_url': '?since_id=1386880052281823232&q=%23bitcoin%20OR%20%23BTC%20since%3A2021-04-11%20until%3A2021-04-19&lang=en&result_type=recent&include_entities=1', 'count': 100, 'since_id': 0, 'since_id_str': '0'}}\n"
     ]
    },
    {
     "name": "stderr",
     "output_type": "stream",
     "text": [
      "\r",
      " 33%|███▎      | 148/450 [00:56<01:18,  3.86it/s]"
     ]
    },
    {
     "name": "stdout",
     "output_type": "stream",
     "text": [
      "{'statuses': [], 'search_metadata': {'completed_in': 0.013, 'max_id': 1386880052281823232, 'max_id_str': '1386880052281823232', 'query': '%23bitcoin+OR+%23BTC+since%3A2021-04-11+until%3A2021-04-19', 'refresh_url': '?since_id=1386880052281823232&q=%23bitcoin%20OR%20%23BTC%20since%3A2021-04-11%20until%3A2021-04-19&lang=en&result_type=recent&include_entities=1', 'count': 100, 'since_id': 0, 'since_id_str': '0'}}\n"
     ]
    },
    {
     "name": "stderr",
     "output_type": "stream",
     "text": [
      "\r",
      " 33%|███▎      | 149/450 [00:56<01:18,  3.83it/s]"
     ]
    },
    {
     "name": "stdout",
     "output_type": "stream",
     "text": [
      "{'statuses': [], 'search_metadata': {'completed_in': 0.006, 'max_id': 1386880052281823232, 'max_id_str': '1386880052281823232', 'query': '%23bitcoin+OR+%23BTC+since%3A2021-04-11+until%3A2021-04-19', 'refresh_url': '?since_id=1386880052281823232&q=%23bitcoin%20OR%20%23BTC%20since%3A2021-04-11%20until%3A2021-04-19&lang=en&result_type=recent&include_entities=1', 'count': 100, 'since_id': 0, 'since_id_str': '0'}}\n"
     ]
    },
    {
     "name": "stderr",
     "output_type": "stream",
     "text": [
      "\r",
      " 33%|███▎      | 150/450 [00:56<01:18,  3.80it/s]"
     ]
    },
    {
     "name": "stdout",
     "output_type": "stream",
     "text": [
      "{'statuses': [], 'search_metadata': {'completed_in': 0.007, 'max_id': 1386880052281823232, 'max_id_str': '1386880052281823232', 'query': '%23bitcoin+OR+%23BTC+since%3A2021-04-11+until%3A2021-04-19', 'refresh_url': '?since_id=1386880052281823232&q=%23bitcoin%20OR%20%23BTC%20since%3A2021-04-11%20until%3A2021-04-19&lang=en&result_type=recent&include_entities=1', 'count': 100, 'since_id': 0, 'since_id_str': '0'}}\n"
     ]
    },
    {
     "name": "stderr",
     "output_type": "stream",
     "text": [
      "\r",
      " 34%|███▎      | 151/450 [00:57<02:43,  1.83it/s]"
     ]
    },
    {
     "name": "stdout",
     "output_type": "stream",
     "text": [
      "{'statuses': [], 'search_metadata': {'completed_in': 0.006, 'max_id': 1386880052281823232, 'max_id_str': '1386880052281823232', 'query': '%23bitcoin+OR+%23BTC+since%3A2021-04-11+until%3A2021-04-19', 'refresh_url': '?since_id=1386880052281823232&q=%23bitcoin%20OR%20%23BTC%20since%3A2021-04-11%20until%3A2021-04-19&lang=en&result_type=recent&include_entities=1', 'count': 100, 'since_id': 0, 'since_id_str': '0'}}\n"
     ]
    },
    {
     "name": "stderr",
     "output_type": "stream",
     "text": [
      "\r",
      " 34%|███▍      | 152/450 [00:58<02:32,  1.96it/s]"
     ]
    },
    {
     "name": "stdout",
     "output_type": "stream",
     "text": [
      "{'statuses': [], 'search_metadata': {'completed_in': 0.006, 'max_id': 1386880052281823232, 'max_id_str': '1386880052281823232', 'query': '%23bitcoin+OR+%23BTC+since%3A2021-04-11+until%3A2021-04-19', 'refresh_url': '?since_id=1386880052281823232&q=%23bitcoin%20OR%20%23BTC%20since%3A2021-04-11%20until%3A2021-04-19&lang=en&result_type=recent&include_entities=1', 'count': 100, 'since_id': 0, 'since_id_str': '0'}}\n"
     ]
    },
    {
     "name": "stderr",
     "output_type": "stream",
     "text": [
      "\r",
      " 34%|███▍      | 153/450 [00:58<02:24,  2.06it/s]"
     ]
    },
    {
     "name": "stdout",
     "output_type": "stream",
     "text": [
      "{'statuses': [], 'search_metadata': {'completed_in': 0.005, 'max_id': 1386880052281823232, 'max_id_str': '1386880052281823232', 'query': '%23bitcoin+OR+%23BTC+since%3A2021-04-11+until%3A2021-04-19', 'refresh_url': '?since_id=1386880052281823232&q=%23bitcoin%20OR%20%23BTC%20since%3A2021-04-11%20until%3A2021-04-19&lang=en&result_type=recent&include_entities=1', 'count': 100, 'since_id': 0, 'since_id_str': '0'}}\n"
     ]
    },
    {
     "name": "stderr",
     "output_type": "stream",
     "text": [
      "\r",
      " 34%|███▍      | 154/450 [00:59<02:21,  2.09it/s]"
     ]
    },
    {
     "name": "stdout",
     "output_type": "stream",
     "text": [
      "{'statuses': [], 'search_metadata': {'completed_in': 0.006, 'max_id': 1386880052281823232, 'max_id_str': '1386880052281823232', 'query': '%23bitcoin+OR+%23BTC+since%3A2021-04-11+until%3A2021-04-19', 'refresh_url': '?since_id=1386880052281823232&q=%23bitcoin%20OR%20%23BTC%20since%3A2021-04-11%20until%3A2021-04-19&lang=en&result_type=recent&include_entities=1', 'count': 100, 'since_id': 0, 'since_id_str': '0'}}\n"
     ]
    },
    {
     "name": "stderr",
     "output_type": "stream",
     "text": [
      "\r",
      " 34%|███▍      | 155/450 [00:59<02:16,  2.15it/s]"
     ]
    },
    {
     "name": "stdout",
     "output_type": "stream",
     "text": [
      "{'statuses': [], 'search_metadata': {'completed_in': 0.007, 'max_id': 1386880052281823232, 'max_id_str': '1386880052281823232', 'query': '%23bitcoin+OR+%23BTC+since%3A2021-04-11+until%3A2021-04-19', 'refresh_url': '?since_id=1386880052281823232&q=%23bitcoin%20OR%20%23BTC%20since%3A2021-04-11%20until%3A2021-04-19&lang=en&result_type=recent&include_entities=1', 'count': 100, 'since_id': 0, 'since_id_str': '0'}}\n"
     ]
    },
    {
     "name": "stderr",
     "output_type": "stream",
     "text": [
      "\r",
      " 35%|███▍      | 156/450 [01:00<02:14,  2.19it/s]"
     ]
    },
    {
     "name": "stdout",
     "output_type": "stream",
     "text": [
      "{'statuses': [], 'search_metadata': {'completed_in': 0.007, 'max_id': 1386880052281823232, 'max_id_str': '1386880052281823232', 'query': '%23bitcoin+OR+%23BTC+since%3A2021-04-11+until%3A2021-04-19', 'refresh_url': '?since_id=1386880052281823232&q=%23bitcoin%20OR%20%23BTC%20since%3A2021-04-11%20until%3A2021-04-19&lang=en&result_type=recent&include_entities=1', 'count': 100, 'since_id': 0, 'since_id_str': '0'}}\n"
     ]
    },
    {
     "name": "stderr",
     "output_type": "stream",
     "text": [
      "\r",
      " 35%|███▍      | 157/450 [01:00<02:11,  2.23it/s]"
     ]
    },
    {
     "name": "stdout",
     "output_type": "stream",
     "text": [
      "{'statuses': [], 'search_metadata': {'completed_in': 0.006, 'max_id': 1386880052281823232, 'max_id_str': '1386880052281823232', 'query': '%23bitcoin+OR+%23BTC+since%3A2021-04-11+until%3A2021-04-19', 'refresh_url': '?since_id=1386880052281823232&q=%23bitcoin%20OR%20%23BTC%20since%3A2021-04-11%20until%3A2021-04-19&lang=en&result_type=recent&include_entities=1', 'count': 100, 'since_id': 0, 'since_id_str': '0'}}\n"
     ]
    },
    {
     "name": "stderr",
     "output_type": "stream",
     "text": [
      "\r",
      " 35%|███▌      | 158/450 [01:00<02:09,  2.25it/s]"
     ]
    },
    {
     "name": "stdout",
     "output_type": "stream",
     "text": [
      "{'statuses': [], 'search_metadata': {'completed_in': 0.007, 'max_id': 1386880052281823232, 'max_id_str': '1386880052281823232', 'query': '%23bitcoin+OR+%23BTC+since%3A2021-04-11+until%3A2021-04-19', 'refresh_url': '?since_id=1386880052281823232&q=%23bitcoin%20OR%20%23BTC%20since%3A2021-04-11%20until%3A2021-04-19&lang=en&result_type=recent&include_entities=1', 'count': 100, 'since_id': 0, 'since_id_str': '0'}}\n"
     ]
    },
    {
     "name": "stderr",
     "output_type": "stream",
     "text": [
      "\r",
      " 35%|███▌      | 159/450 [01:01<02:07,  2.27it/s]"
     ]
    },
    {
     "name": "stdout",
     "output_type": "stream",
     "text": [
      "{'statuses': [], 'search_metadata': {'completed_in': 0.007, 'max_id': 1386880052281823232, 'max_id_str': '1386880052281823232', 'query': '%23bitcoin+OR+%23BTC+since%3A2021-04-11+until%3A2021-04-19', 'refresh_url': '?since_id=1386880052281823232&q=%23bitcoin%20OR%20%23BTC%20since%3A2021-04-11%20until%3A2021-04-19&lang=en&result_type=recent&include_entities=1', 'count': 100, 'since_id': 0, 'since_id_str': '0'}}\n"
     ]
    },
    {
     "name": "stderr",
     "output_type": "stream",
     "text": [
      "\r",
      " 36%|███▌      | 160/450 [01:01<02:06,  2.28it/s]"
     ]
    },
    {
     "name": "stdout",
     "output_type": "stream",
     "text": [
      "{'statuses': [], 'search_metadata': {'completed_in': 0.006, 'max_id': 1386880052281823232, 'max_id_str': '1386880052281823232', 'query': '%23bitcoin+OR+%23BTC+since%3A2021-04-11+until%3A2021-04-19', 'refresh_url': '?since_id=1386880052281823232&q=%23bitcoin%20OR%20%23BTC%20since%3A2021-04-11%20until%3A2021-04-19&lang=en&result_type=recent&include_entities=1', 'count': 100, 'since_id': 0, 'since_id_str': '0'}}\n"
     ]
    },
    {
     "name": "stderr",
     "output_type": "stream",
     "text": [
      "\r",
      " 36%|███▌      | 161/450 [01:02<02:05,  2.30it/s]"
     ]
    },
    {
     "name": "stdout",
     "output_type": "stream",
     "text": [
      "{'statuses': [], 'search_metadata': {'completed_in': 0.005, 'max_id': 1386880052281823232, 'max_id_str': '1386880052281823232', 'query': '%23bitcoin+OR+%23BTC+since%3A2021-04-11+until%3A2021-04-19', 'refresh_url': '?since_id=1386880052281823232&q=%23bitcoin%20OR%20%23BTC%20since%3A2021-04-11%20until%3A2021-04-19&lang=en&result_type=recent&include_entities=1', 'count': 100, 'since_id': 0, 'since_id_str': '0'}}\n"
     ]
    },
    {
     "name": "stderr",
     "output_type": "stream",
     "text": [
      "\r",
      " 36%|███▌      | 162/450 [01:02<02:04,  2.32it/s]"
     ]
    },
    {
     "name": "stdout",
     "output_type": "stream",
     "text": [
      "{'statuses': [], 'search_metadata': {'completed_in': 0.005, 'max_id': 1386880052281823232, 'max_id_str': '1386880052281823232', 'query': '%23bitcoin+OR+%23BTC+since%3A2021-04-11+until%3A2021-04-19', 'refresh_url': '?since_id=1386880052281823232&q=%23bitcoin%20OR%20%23BTC%20since%3A2021-04-11%20until%3A2021-04-19&lang=en&result_type=recent&include_entities=1', 'count': 100, 'since_id': 0, 'since_id_str': '0'}}\n"
     ]
    },
    {
     "name": "stderr",
     "output_type": "stream",
     "text": [
      "\r",
      " 36%|███▌      | 163/450 [01:03<02:05,  2.30it/s]"
     ]
    },
    {
     "name": "stdout",
     "output_type": "stream",
     "text": [
      "{'statuses': [], 'search_metadata': {'completed_in': 0.005, 'max_id': 1386880052281823232, 'max_id_str': '1386880052281823232', 'query': '%23bitcoin+OR+%23BTC+since%3A2021-04-11+until%3A2021-04-19', 'refresh_url': '?since_id=1386880052281823232&q=%23bitcoin%20OR%20%23BTC%20since%3A2021-04-11%20until%3A2021-04-19&lang=en&result_type=recent&include_entities=1', 'count': 100, 'since_id': 0, 'since_id_str': '0'}}\n"
     ]
    },
    {
     "name": "stderr",
     "output_type": "stream",
     "text": [
      "\r",
      " 36%|███▋      | 164/450 [01:03<02:03,  2.31it/s]"
     ]
    },
    {
     "name": "stdout",
     "output_type": "stream",
     "text": [
      "{'statuses': [], 'search_metadata': {'completed_in': 0.006, 'max_id': 1386880052281823232, 'max_id_str': '1386880052281823232', 'query': '%23bitcoin+OR+%23BTC+since%3A2021-04-11+until%3A2021-04-19', 'refresh_url': '?since_id=1386880052281823232&q=%23bitcoin%20OR%20%23BTC%20since%3A2021-04-11%20until%3A2021-04-19&lang=en&result_type=recent&include_entities=1', 'count': 100, 'since_id': 0, 'since_id_str': '0'}}\n"
     ]
    },
    {
     "name": "stderr",
     "output_type": "stream",
     "text": [
      "\r",
      " 37%|███▋      | 165/450 [01:03<02:03,  2.31it/s]"
     ]
    },
    {
     "name": "stdout",
     "output_type": "stream",
     "text": [
      "{'statuses': [], 'search_metadata': {'completed_in': 0.007, 'max_id': 1386880052281823232, 'max_id_str': '1386880052281823232', 'query': '%23bitcoin+OR+%23BTC+since%3A2021-04-11+until%3A2021-04-19', 'refresh_url': '?since_id=1386880052281823232&q=%23bitcoin%20OR%20%23BTC%20since%3A2021-04-11%20until%3A2021-04-19&lang=en&result_type=recent&include_entities=1', 'count': 100, 'since_id': 0, 'since_id_str': '0'}}\n"
     ]
    },
    {
     "name": "stderr",
     "output_type": "stream",
     "text": [
      "\r",
      " 37%|███▋      | 166/450 [01:04<02:02,  2.32it/s]"
     ]
    },
    {
     "name": "stdout",
     "output_type": "stream",
     "text": [
      "{'statuses': [], 'search_metadata': {'completed_in': 0.006, 'max_id': 1386880052281823232, 'max_id_str': '1386880052281823232', 'query': '%23bitcoin+OR+%23BTC+since%3A2021-04-11+until%3A2021-04-19', 'refresh_url': '?since_id=1386880052281823232&q=%23bitcoin%20OR%20%23BTC%20since%3A2021-04-11%20until%3A2021-04-19&lang=en&result_type=recent&include_entities=1', 'count': 100, 'since_id': 0, 'since_id_str': '0'}}\n"
     ]
    },
    {
     "name": "stderr",
     "output_type": "stream",
     "text": [
      "\r",
      " 37%|███▋      | 167/450 [01:04<02:01,  2.32it/s]"
     ]
    },
    {
     "name": "stdout",
     "output_type": "stream",
     "text": [
      "{'statuses': [], 'search_metadata': {'completed_in': 0.006, 'max_id': 1386880052281823232, 'max_id_str': '1386880052281823232', 'query': '%23bitcoin+OR+%23BTC+since%3A2021-04-11+until%3A2021-04-19', 'refresh_url': '?since_id=1386880052281823232&q=%23bitcoin%20OR%20%23BTC%20since%3A2021-04-11%20until%3A2021-04-19&lang=en&result_type=recent&include_entities=1', 'count': 100, 'since_id': 0, 'since_id_str': '0'}}\n"
     ]
    },
    {
     "name": "stderr",
     "output_type": "stream",
     "text": [
      "\r",
      " 37%|███▋      | 168/450 [01:05<02:01,  2.33it/s]"
     ]
    },
    {
     "name": "stdout",
     "output_type": "stream",
     "text": [
      "{'statuses': [], 'search_metadata': {'completed_in': 0.007, 'max_id': 1386880052281823232, 'max_id_str': '1386880052281823232', 'query': '%23bitcoin+OR+%23BTC+since%3A2021-04-11+until%3A2021-04-19', 'refresh_url': '?since_id=1386880052281823232&q=%23bitcoin%20OR%20%23BTC%20since%3A2021-04-11%20until%3A2021-04-19&lang=en&result_type=recent&include_entities=1', 'count': 100, 'since_id': 0, 'since_id_str': '0'}}\n"
     ]
    },
    {
     "name": "stderr",
     "output_type": "stream",
     "text": [
      "\r",
      " 38%|███▊      | 169/450 [01:05<02:00,  2.33it/s]"
     ]
    },
    {
     "name": "stdout",
     "output_type": "stream",
     "text": [
      "{'statuses': [], 'search_metadata': {'completed_in': 0.007, 'max_id': 1386880052281823232, 'max_id_str': '1386880052281823232', 'query': '%23bitcoin+OR+%23BTC+since%3A2021-04-11+until%3A2021-04-19', 'refresh_url': '?since_id=1386880052281823232&q=%23bitcoin%20OR%20%23BTC%20since%3A2021-04-11%20until%3A2021-04-19&lang=en&result_type=recent&include_entities=1', 'count': 100, 'since_id': 0, 'since_id_str': '0'}}\n"
     ]
    },
    {
     "name": "stderr",
     "output_type": "stream",
     "text": [
      "\r",
      " 38%|███▊      | 170/450 [01:06<02:00,  2.33it/s]"
     ]
    },
    {
     "name": "stdout",
     "output_type": "stream",
     "text": [
      "{'statuses': [], 'search_metadata': {'completed_in': 0.006, 'max_id': 1386880052281823232, 'max_id_str': '1386880052281823232', 'query': '%23bitcoin+OR+%23BTC+since%3A2021-04-11+until%3A2021-04-19', 'refresh_url': '?since_id=1386880052281823232&q=%23bitcoin%20OR%20%23BTC%20since%3A2021-04-11%20until%3A2021-04-19&lang=en&result_type=recent&include_entities=1', 'count': 100, 'since_id': 0, 'since_id_str': '0'}}\n"
     ]
    },
    {
     "name": "stderr",
     "output_type": "stream",
     "text": [
      "\r",
      " 38%|███▊      | 171/450 [01:06<01:59,  2.33it/s]"
     ]
    },
    {
     "name": "stdout",
     "output_type": "stream",
     "text": [
      "{'statuses': [], 'search_metadata': {'completed_in': 0.006, 'max_id': 1386880052281823232, 'max_id_str': '1386880052281823232', 'query': '%23bitcoin+OR+%23BTC+since%3A2021-04-11+until%3A2021-04-19', 'refresh_url': '?since_id=1386880052281823232&q=%23bitcoin%20OR%20%23BTC%20since%3A2021-04-11%20until%3A2021-04-19&lang=en&result_type=recent&include_entities=1', 'count': 100, 'since_id': 0, 'since_id_str': '0'}}\n"
     ]
    },
    {
     "name": "stderr",
     "output_type": "stream",
     "text": [
      "\r",
      " 38%|███▊      | 172/450 [01:06<01:59,  2.33it/s]"
     ]
    },
    {
     "name": "stdout",
     "output_type": "stream",
     "text": [
      "{'statuses': [], 'search_metadata': {'completed_in': 0.007, 'max_id': 1386880052281823232, 'max_id_str': '1386880052281823232', 'query': '%23bitcoin+OR+%23BTC+since%3A2021-04-11+until%3A2021-04-19', 'refresh_url': '?since_id=1386880052281823232&q=%23bitcoin%20OR%20%23BTC%20since%3A2021-04-11%20until%3A2021-04-19&lang=en&result_type=recent&include_entities=1', 'count': 100, 'since_id': 0, 'since_id_str': '0'}}\n"
     ]
    },
    {
     "name": "stderr",
     "output_type": "stream",
     "text": [
      "\r",
      " 38%|███▊      | 173/450 [01:07<01:58,  2.33it/s]"
     ]
    },
    {
     "name": "stdout",
     "output_type": "stream",
     "text": [
      "{'statuses': [], 'search_metadata': {'completed_in': 0.007, 'max_id': 1386880052281823232, 'max_id_str': '1386880052281823232', 'query': '%23bitcoin+OR+%23BTC+since%3A2021-04-11+until%3A2021-04-19', 'refresh_url': '?since_id=1386880052281823232&q=%23bitcoin%20OR%20%23BTC%20since%3A2021-04-11%20until%3A2021-04-19&lang=en&result_type=recent&include_entities=1', 'count': 100, 'since_id': 0, 'since_id_str': '0'}}\n"
     ]
    },
    {
     "name": "stderr",
     "output_type": "stream",
     "text": [
      "\r",
      " 39%|███▊      | 174/450 [01:07<01:58,  2.32it/s]"
     ]
    },
    {
     "name": "stdout",
     "output_type": "stream",
     "text": [
      "{'statuses': [], 'search_metadata': {'completed_in': 0.005, 'max_id': 1386880052281823232, 'max_id_str': '1386880052281823232', 'query': '%23bitcoin+OR+%23BTC+since%3A2021-04-11+until%3A2021-04-19', 'refresh_url': '?since_id=1386880052281823232&q=%23bitcoin%20OR%20%23BTC%20since%3A2021-04-11%20until%3A2021-04-19&lang=en&result_type=recent&include_entities=1', 'count': 100, 'since_id': 0, 'since_id_str': '0'}}\n"
     ]
    },
    {
     "name": "stderr",
     "output_type": "stream",
     "text": [
      "\r",
      " 39%|███▉      | 175/450 [01:08<01:58,  2.32it/s]"
     ]
    },
    {
     "name": "stdout",
     "output_type": "stream",
     "text": [
      "{'statuses': [], 'search_metadata': {'completed_in': 0.006, 'max_id': 1386880052281823232, 'max_id_str': '1386880052281823232', 'query': '%23bitcoin+OR+%23BTC+since%3A2021-04-11+until%3A2021-04-19', 'refresh_url': '?since_id=1386880052281823232&q=%23bitcoin%20OR%20%23BTC%20since%3A2021-04-11%20until%3A2021-04-19&lang=en&result_type=recent&include_entities=1', 'count': 100, 'since_id': 0, 'since_id_str': '0'}}\n"
     ]
    },
    {
     "name": "stderr",
     "output_type": "stream",
     "text": [
      "\r",
      " 39%|███▉      | 176/450 [01:08<02:02,  2.23it/s]"
     ]
    },
    {
     "name": "stdout",
     "output_type": "stream",
     "text": [
      "{'statuses': [], 'search_metadata': {'completed_in': 0.006, 'max_id': 1386880052281823232, 'max_id_str': '1386880052281823232', 'query': '%23bitcoin+OR+%23BTC+since%3A2021-04-11+until%3A2021-04-19', 'refresh_url': '?since_id=1386880052281823232&q=%23bitcoin%20OR%20%23BTC%20since%3A2021-04-11%20until%3A2021-04-19&lang=en&result_type=recent&include_entities=1', 'count': 100, 'since_id': 0, 'since_id_str': '0'}}\n"
     ]
    },
    {
     "name": "stderr",
     "output_type": "stream",
     "text": [
      "\r",
      " 39%|███▉      | 177/450 [01:09<02:00,  2.26it/s]"
     ]
    },
    {
     "name": "stdout",
     "output_type": "stream",
     "text": [
      "{'statuses': [], 'search_metadata': {'completed_in': 0.007, 'max_id': 1386880052281823232, 'max_id_str': '1386880052281823232', 'query': '%23bitcoin+OR+%23BTC+since%3A2021-04-11+until%3A2021-04-19', 'refresh_url': '?since_id=1386880052281823232&q=%23bitcoin%20OR%20%23BTC%20since%3A2021-04-11%20until%3A2021-04-19&lang=en&result_type=recent&include_entities=1', 'count': 100, 'since_id': 0, 'since_id_str': '0'}}\n"
     ]
    },
    {
     "name": "stderr",
     "output_type": "stream",
     "text": [
      "\r",
      " 40%|███▉      | 178/450 [01:09<01:59,  2.27it/s]"
     ]
    },
    {
     "name": "stdout",
     "output_type": "stream",
     "text": [
      "{'statuses': [], 'search_metadata': {'completed_in': 0.008, 'max_id': 1386880136285351940, 'max_id_str': '1386880136285351940', 'query': '%23bitcoin+OR+%23BTC+since%3A2021-04-11+until%3A2021-04-19', 'refresh_url': '?since_id=1386880136285351940&q=%23bitcoin%20OR%20%23BTC%20since%3A2021-04-11%20until%3A2021-04-19&lang=en&result_type=recent&include_entities=1', 'count': 100, 'since_id': 0, 'since_id_str': '0'}}\n"
     ]
    },
    {
     "name": "stderr",
     "output_type": "stream",
     "text": [
      "\r",
      " 40%|███▉      | 179/450 [01:10<01:58,  2.28it/s]"
     ]
    },
    {
     "name": "stdout",
     "output_type": "stream",
     "text": [
      "{'statuses': [], 'search_metadata': {'completed_in': 0.006, 'max_id': 1386880136285351940, 'max_id_str': '1386880136285351940', 'query': '%23bitcoin+OR+%23BTC+since%3A2021-04-11+until%3A2021-04-19', 'refresh_url': '?since_id=1386880136285351940&q=%23bitcoin%20OR%20%23BTC%20since%3A2021-04-11%20until%3A2021-04-19&lang=en&result_type=recent&include_entities=1', 'count': 100, 'since_id': 0, 'since_id_str': '0'}}\n"
     ]
    },
    {
     "name": "stderr",
     "output_type": "stream",
     "text": [
      "\r",
      " 40%|████      | 180/450 [01:10<02:00,  2.24it/s]"
     ]
    },
    {
     "name": "stdout",
     "output_type": "stream",
     "text": [
      "{'statuses': [], 'search_metadata': {'completed_in': 0.006, 'max_id': 1386880136285351940, 'max_id_str': '1386880136285351940', 'query': '%23bitcoin+OR+%23BTC+since%3A2021-04-11+until%3A2021-04-19', 'refresh_url': '?since_id=1386880136285351940&q=%23bitcoin%20OR%20%23BTC%20since%3A2021-04-11%20until%3A2021-04-19&lang=en&result_type=recent&include_entities=1', 'count': 100, 'since_id': 0, 'since_id_str': '0'}}\n"
     ]
    },
    {
     "name": "stderr",
     "output_type": "stream",
     "text": [
      "\r",
      " 40%|████      | 181/450 [01:10<01:58,  2.27it/s]"
     ]
    },
    {
     "name": "stdout",
     "output_type": "stream",
     "text": [
      "{'statuses': [], 'search_metadata': {'completed_in': 0.005, 'max_id': 1386880136285351940, 'max_id_str': '1386880136285351940', 'query': '%23bitcoin+OR+%23BTC+since%3A2021-04-11+until%3A2021-04-19', 'refresh_url': '?since_id=1386880136285351940&q=%23bitcoin%20OR%20%23BTC%20since%3A2021-04-11%20until%3A2021-04-19&lang=en&result_type=recent&include_entities=1', 'count': 100, 'since_id': 0, 'since_id_str': '0'}}\n"
     ]
    },
    {
     "name": "stderr",
     "output_type": "stream",
     "text": [
      "\r",
      " 40%|████      | 182/450 [01:11<01:59,  2.25it/s]"
     ]
    },
    {
     "name": "stdout",
     "output_type": "stream",
     "text": [
      "{'statuses': [], 'search_metadata': {'completed_in': 0.006, 'max_id': 1386880136285351940, 'max_id_str': '1386880136285351940', 'query': '%23bitcoin+OR+%23BTC+since%3A2021-04-11+until%3A2021-04-19', 'refresh_url': '?since_id=1386880136285351940&q=%23bitcoin%20OR%20%23BTC%20since%3A2021-04-11%20until%3A2021-04-19&lang=en&result_type=recent&include_entities=1', 'count': 100, 'since_id': 0, 'since_id_str': '0'}}\n"
     ]
    },
    {
     "name": "stderr",
     "output_type": "stream",
     "text": [
      "\r",
      " 41%|████      | 183/450 [01:11<02:01,  2.20it/s]"
     ]
    },
    {
     "name": "stdout",
     "output_type": "stream",
     "text": [
      "{'statuses': [], 'search_metadata': {'completed_in': 0.006, 'max_id': 1386880136285351940, 'max_id_str': '1386880136285351940', 'query': '%23bitcoin+OR+%23BTC+since%3A2021-04-11+until%3A2021-04-19', 'refresh_url': '?since_id=1386880136285351940&q=%23bitcoin%20OR%20%23BTC%20since%3A2021-04-11%20until%3A2021-04-19&lang=en&result_type=recent&include_entities=1', 'count': 100, 'since_id': 0, 'since_id_str': '0'}}\n"
     ]
    },
    {
     "name": "stderr",
     "output_type": "stream",
     "text": [
      "\r",
      " 41%|████      | 184/450 [01:12<01:59,  2.23it/s]"
     ]
    },
    {
     "name": "stdout",
     "output_type": "stream",
     "text": [
      "{'statuses': [], 'search_metadata': {'completed_in': 0.006, 'max_id': 1386880136285351940, 'max_id_str': '1386880136285351940', 'query': '%23bitcoin+OR+%23BTC+since%3A2021-04-11+until%3A2021-04-19', 'refresh_url': '?since_id=1386880136285351940&q=%23bitcoin%20OR%20%23BTC%20since%3A2021-04-11%20until%3A2021-04-19&lang=en&result_type=recent&include_entities=1', 'count': 100, 'since_id': 0, 'since_id_str': '0'}}\n"
     ]
    },
    {
     "name": "stderr",
     "output_type": "stream",
     "text": [
      "\r",
      " 41%|████      | 185/450 [01:12<01:57,  2.26it/s]"
     ]
    },
    {
     "name": "stdout",
     "output_type": "stream",
     "text": [
      "{'statuses': [], 'search_metadata': {'completed_in': 0.007, 'max_id': 1386880136285351940, 'max_id_str': '1386880136285351940', 'query': '%23bitcoin+OR+%23BTC+since%3A2021-04-11+until%3A2021-04-19', 'refresh_url': '?since_id=1386880136285351940&q=%23bitcoin%20OR%20%23BTC%20since%3A2021-04-11%20until%3A2021-04-19&lang=en&result_type=recent&include_entities=1', 'count': 100, 'since_id': 0, 'since_id_str': '0'}}\n"
     ]
    },
    {
     "name": "stderr",
     "output_type": "stream",
     "text": [
      "\r",
      " 41%|████▏     | 186/450 [01:13<01:56,  2.26it/s]"
     ]
    },
    {
     "name": "stdout",
     "output_type": "stream",
     "text": [
      "{'statuses': [], 'search_metadata': {'completed_in': 0.006, 'max_id': 1386880136285351940, 'max_id_str': '1386880136285351940', 'query': '%23bitcoin+OR+%23BTC+since%3A2021-04-11+until%3A2021-04-19', 'refresh_url': '?since_id=1386880136285351940&q=%23bitcoin%20OR%20%23BTC%20since%3A2021-04-11%20until%3A2021-04-19&lang=en&result_type=recent&include_entities=1', 'count': 100, 'since_id': 0, 'since_id_str': '0'}}\n"
     ]
    },
    {
     "name": "stderr",
     "output_type": "stream",
     "text": [
      "\r",
      " 42%|████▏     | 187/450 [01:13<01:55,  2.28it/s]"
     ]
    },
    {
     "name": "stdout",
     "output_type": "stream",
     "text": [
      "{'statuses': [], 'search_metadata': {'completed_in': 0.005, 'max_id': 1386880136285351940, 'max_id_str': '1386880136285351940', 'query': '%23bitcoin+OR+%23BTC+since%3A2021-04-11+until%3A2021-04-19', 'refresh_url': '?since_id=1386880136285351940&q=%23bitcoin%20OR%20%23BTC%20since%3A2021-04-11%20until%3A2021-04-19&lang=en&result_type=recent&include_entities=1', 'count': 100, 'since_id': 0, 'since_id_str': '0'}}\n"
     ]
    },
    {
     "name": "stderr",
     "output_type": "stream",
     "text": [
      "\r",
      " 42%|████▏     | 188/450 [01:14<01:54,  2.28it/s]"
     ]
    },
    {
     "name": "stdout",
     "output_type": "stream",
     "text": [
      "{'statuses': [], 'search_metadata': {'completed_in': 0.009, 'max_id': 1386880136285351940, 'max_id_str': '1386880136285351940', 'query': '%23bitcoin+OR+%23BTC+since%3A2021-04-11+until%3A2021-04-19', 'refresh_url': '?since_id=1386880136285351940&q=%23bitcoin%20OR%20%23BTC%20since%3A2021-04-11%20until%3A2021-04-19&lang=en&result_type=recent&include_entities=1', 'count': 100, 'since_id': 0, 'since_id_str': '0'}}\n"
     ]
    },
    {
     "name": "stderr",
     "output_type": "stream",
     "text": [
      "\r",
      " 42%|████▏     | 189/450 [01:14<01:53,  2.29it/s]"
     ]
    },
    {
     "name": "stdout",
     "output_type": "stream",
     "text": [
      "{'statuses': [], 'search_metadata': {'completed_in': 0.006, 'max_id': 1386880136285351940, 'max_id_str': '1386880136285351940', 'query': '%23bitcoin+OR+%23BTC+since%3A2021-04-11+until%3A2021-04-19', 'refresh_url': '?since_id=1386880136285351940&q=%23bitcoin%20OR%20%23BTC%20since%3A2021-04-11%20until%3A2021-04-19&lang=en&result_type=recent&include_entities=1', 'count': 100, 'since_id': 0, 'since_id_str': '0'}}\n"
     ]
    },
    {
     "name": "stderr",
     "output_type": "stream",
     "text": [
      "\r",
      " 42%|████▏     | 190/450 [01:14<01:53,  2.30it/s]"
     ]
    },
    {
     "name": "stdout",
     "output_type": "stream",
     "text": [
      "{'statuses': [], 'search_metadata': {'completed_in': 0.007, 'max_id': 1386880136285351940, 'max_id_str': '1386880136285351940', 'query': '%23bitcoin+OR+%23BTC+since%3A2021-04-11+until%3A2021-04-19', 'refresh_url': '?since_id=1386880136285351940&q=%23bitcoin%20OR%20%23BTC%20since%3A2021-04-11%20until%3A2021-04-19&lang=en&result_type=recent&include_entities=1', 'count': 100, 'since_id': 0, 'since_id_str': '0'}}\n"
     ]
    },
    {
     "name": "stderr",
     "output_type": "stream",
     "text": [
      "\r",
      " 42%|████▏     | 191/450 [01:15<01:51,  2.31it/s]"
     ]
    },
    {
     "name": "stdout",
     "output_type": "stream",
     "text": [
      "{'statuses': [], 'search_metadata': {'completed_in': 0.006, 'max_id': 1386880136285351940, 'max_id_str': '1386880136285351940', 'query': '%23bitcoin+OR+%23BTC+since%3A2021-04-11+until%3A2021-04-19', 'refresh_url': '?since_id=1386880136285351940&q=%23bitcoin%20OR%20%23BTC%20since%3A2021-04-11%20until%3A2021-04-19&lang=en&result_type=recent&include_entities=1', 'count': 100, 'since_id': 0, 'since_id_str': '0'}}\n"
     ]
    },
    {
     "name": "stderr",
     "output_type": "stream",
     "text": [
      "\r",
      " 43%|████▎     | 192/450 [01:15<01:51,  2.32it/s]"
     ]
    },
    {
     "name": "stdout",
     "output_type": "stream",
     "text": [
      "{'statuses': [], 'search_metadata': {'completed_in': 0.007, 'max_id': 1386880136285351940, 'max_id_str': '1386880136285351940', 'query': '%23bitcoin+OR+%23BTC+since%3A2021-04-11+until%3A2021-04-19', 'refresh_url': '?since_id=1386880136285351940&q=%23bitcoin%20OR%20%23BTC%20since%3A2021-04-11%20until%3A2021-04-19&lang=en&result_type=recent&include_entities=1', 'count': 100, 'since_id': 0, 'since_id_str': '0'}}\n"
     ]
    },
    {
     "name": "stderr",
     "output_type": "stream",
     "text": [
      "\r",
      " 43%|████▎     | 193/450 [01:16<01:50,  2.32it/s]"
     ]
    },
    {
     "name": "stdout",
     "output_type": "stream",
     "text": [
      "{'statuses': [], 'search_metadata': {'completed_in': 0.006, 'max_id': 1386880136285351940, 'max_id_str': '1386880136285351940', 'query': '%23bitcoin+OR+%23BTC+since%3A2021-04-11+until%3A2021-04-19', 'refresh_url': '?since_id=1386880136285351940&q=%23bitcoin%20OR%20%23BTC%20since%3A2021-04-11%20until%3A2021-04-19&lang=en&result_type=recent&include_entities=1', 'count': 100, 'since_id': 0, 'since_id_str': '0'}}\n"
     ]
    },
    {
     "name": "stderr",
     "output_type": "stream",
     "text": [
      "\r",
      " 43%|████▎     | 194/450 [01:16<01:50,  2.32it/s]"
     ]
    },
    {
     "name": "stdout",
     "output_type": "stream",
     "text": [
      "{'statuses': [], 'search_metadata': {'completed_in': 0.005, 'max_id': 1386880136285351940, 'max_id_str': '1386880136285351940', 'query': '%23bitcoin+OR+%23BTC+since%3A2021-04-11+until%3A2021-04-19', 'refresh_url': '?since_id=1386880136285351940&q=%23bitcoin%20OR%20%23BTC%20since%3A2021-04-11%20until%3A2021-04-19&lang=en&result_type=recent&include_entities=1', 'count': 100, 'since_id': 0, 'since_id_str': '0'}}\n"
     ]
    },
    {
     "name": "stderr",
     "output_type": "stream",
     "text": [
      "\r",
      " 43%|████▎     | 195/450 [01:17<01:49,  2.32it/s]"
     ]
    },
    {
     "name": "stdout",
     "output_type": "stream",
     "text": [
      "{'statuses': [], 'search_metadata': {'completed_in': 0.005, 'max_id': 1386880136285351940, 'max_id_str': '1386880136285351940', 'query': '%23bitcoin+OR+%23BTC+since%3A2021-04-11+until%3A2021-04-19', 'refresh_url': '?since_id=1386880136285351940&q=%23bitcoin%20OR%20%23BTC%20since%3A2021-04-11%20until%3A2021-04-19&lang=en&result_type=recent&include_entities=1', 'count': 100, 'since_id': 0, 'since_id_str': '0'}}\n"
     ]
    },
    {
     "name": "stderr",
     "output_type": "stream",
     "text": [
      "\r",
      " 44%|████▎     | 196/450 [01:17<01:49,  2.32it/s]"
     ]
    },
    {
     "name": "stdout",
     "output_type": "stream",
     "text": [
      "{'statuses': [], 'search_metadata': {'completed_in': 0.005, 'max_id': 1386880136285351940, 'max_id_str': '1386880136285351940', 'query': '%23bitcoin+OR+%23BTC+since%3A2021-04-11+until%3A2021-04-19', 'refresh_url': '?since_id=1386880136285351940&q=%23bitcoin%20OR%20%23BTC%20since%3A2021-04-11%20until%3A2021-04-19&lang=en&result_type=recent&include_entities=1', 'count': 100, 'since_id': 0, 'since_id_str': '0'}}\n"
     ]
    },
    {
     "name": "stderr",
     "output_type": "stream",
     "text": [
      "\r",
      " 44%|████▍     | 197/450 [01:17<01:48,  2.33it/s]"
     ]
    },
    {
     "name": "stdout",
     "output_type": "stream",
     "text": [
      "{'statuses': [], 'search_metadata': {'completed_in': 0.005, 'max_id': 1386880136285351940, 'max_id_str': '1386880136285351940', 'query': '%23bitcoin+OR+%23BTC+since%3A2021-04-11+until%3A2021-04-19', 'refresh_url': '?since_id=1386880136285351940&q=%23bitcoin%20OR%20%23BTC%20since%3A2021-04-11%20until%3A2021-04-19&lang=en&result_type=recent&include_entities=1', 'count': 100, 'since_id': 0, 'since_id_str': '0'}}\n"
     ]
    },
    {
     "name": "stderr",
     "output_type": "stream",
     "text": [
      "\r",
      " 44%|████▍     | 198/450 [01:18<01:52,  2.24it/s]"
     ]
    },
    {
     "name": "stdout",
     "output_type": "stream",
     "text": [
      "{'statuses': [], 'search_metadata': {'completed_in': 0.006, 'max_id': 1386880136285351940, 'max_id_str': '1386880136285351940', 'query': '%23bitcoin+OR+%23BTC+since%3A2021-04-11+until%3A2021-04-19', 'refresh_url': '?since_id=1386880136285351940&q=%23bitcoin%20OR%20%23BTC%20since%3A2021-04-11%20until%3A2021-04-19&lang=en&result_type=recent&include_entities=1', 'count': 100, 'since_id': 0, 'since_id_str': '0'}}\n"
     ]
    },
    {
     "name": "stderr",
     "output_type": "stream",
     "text": [
      "\r",
      " 44%|████▍     | 199/450 [01:18<01:51,  2.26it/s]"
     ]
    },
    {
     "name": "stdout",
     "output_type": "stream",
     "text": [
      "{'statuses': [], 'search_metadata': {'completed_in': 0.006, 'max_id': 1386880136285351940, 'max_id_str': '1386880136285351940', 'query': '%23bitcoin+OR+%23BTC+since%3A2021-04-11+until%3A2021-04-19', 'refresh_url': '?since_id=1386880136285351940&q=%23bitcoin%20OR%20%23BTC%20since%3A2021-04-11%20until%3A2021-04-19&lang=en&result_type=recent&include_entities=1', 'count': 100, 'since_id': 0, 'since_id_str': '0'}}\n"
     ]
    },
    {
     "name": "stderr",
     "output_type": "stream",
     "text": [
      "\r",
      " 44%|████▍     | 200/450 [01:19<01:49,  2.28it/s]"
     ]
    },
    {
     "name": "stdout",
     "output_type": "stream",
     "text": [
      "{'statuses': [], 'search_metadata': {'completed_in': 0.005, 'max_id': 1386880136285351940, 'max_id_str': '1386880136285351940', 'query': '%23bitcoin+OR+%23BTC+since%3A2021-04-11+until%3A2021-04-19', 'refresh_url': '?since_id=1386880136285351940&q=%23bitcoin%20OR%20%23BTC%20since%3A2021-04-11%20until%3A2021-04-19&lang=en&result_type=recent&include_entities=1', 'count': 100, 'since_id': 0, 'since_id_str': '0'}}\n"
     ]
    },
    {
     "name": "stderr",
     "output_type": "stream",
     "text": [
      "\r",
      " 45%|████▍     | 201/450 [01:19<01:52,  2.21it/s]"
     ]
    },
    {
     "name": "stdout",
     "output_type": "stream",
     "text": [
      "{'statuses': [], 'search_metadata': {'completed_in': 0.005, 'max_id': 1386880136285351940, 'max_id_str': '1386880136285351940', 'query': '%23bitcoin+OR+%23BTC+since%3A2021-04-11+until%3A2021-04-19', 'refresh_url': '?since_id=1386880136285351940&q=%23bitcoin%20OR%20%23BTC%20since%3A2021-04-11%20until%3A2021-04-19&lang=en&result_type=recent&include_entities=1', 'count': 100, 'since_id': 0, 'since_id_str': '0'}}\n"
     ]
    },
    {
     "name": "stderr",
     "output_type": "stream",
     "text": [
      "\r",
      " 45%|████▍     | 202/450 [01:19<01:37,  2.55it/s]"
     ]
    },
    {
     "name": "stdout",
     "output_type": "stream",
     "text": [
      "{'statuses': [], 'search_metadata': {'completed_in': 0.006, 'max_id': 1386880136285351940, 'max_id_str': '1386880136285351940', 'query': '%23bitcoin+OR+%23BTC+since%3A2021-04-11+until%3A2021-04-19', 'refresh_url': '?since_id=1386880136285351940&q=%23bitcoin%20OR%20%23BTC%20since%3A2021-04-11%20until%3A2021-04-19&lang=en&result_type=recent&include_entities=1', 'count': 100, 'since_id': 0, 'since_id_str': '0'}}\n"
     ]
    },
    {
     "name": "stderr",
     "output_type": "stream",
     "text": [
      "\r",
      " 45%|████▌     | 203/450 [01:20<01:26,  2.84it/s]"
     ]
    },
    {
     "name": "stdout",
     "output_type": "stream",
     "text": [
      "{'statuses': [], 'search_metadata': {'completed_in': 0.006, 'max_id': 1386880136285351940, 'max_id_str': '1386880136285351940', 'query': '%23bitcoin+OR+%23BTC+since%3A2021-04-11+until%3A2021-04-19', 'refresh_url': '?since_id=1386880136285351940&q=%23bitcoin%20OR%20%23BTC%20since%3A2021-04-11%20until%3A2021-04-19&lang=en&result_type=recent&include_entities=1', 'count': 100, 'since_id': 0, 'since_id_str': '0'}}\n"
     ]
    },
    {
     "name": "stderr",
     "output_type": "stream",
     "text": [
      "\r",
      " 45%|████▌     | 204/450 [01:20<01:19,  3.08it/s]"
     ]
    },
    {
     "name": "stdout",
     "output_type": "stream",
     "text": [
      "{'statuses': [], 'search_metadata': {'completed_in': 0.007, 'max_id': 1386880136285351940, 'max_id_str': '1386880136285351940', 'query': '%23bitcoin+OR+%23BTC+since%3A2021-04-11+until%3A2021-04-19', 'refresh_url': '?since_id=1386880136285351940&q=%23bitcoin%20OR%20%23BTC%20since%3A2021-04-11%20until%3A2021-04-19&lang=en&result_type=recent&include_entities=1', 'count': 100, 'since_id': 0, 'since_id_str': '0'}}\n"
     ]
    },
    {
     "name": "stderr",
     "output_type": "stream",
     "text": [
      "\r",
      " 46%|████▌     | 205/450 [01:20<01:14,  3.29it/s]"
     ]
    },
    {
     "name": "stdout",
     "output_type": "stream",
     "text": [
      "{'statuses': [], 'search_metadata': {'completed_in': 0.006, 'max_id': 1386880136285351940, 'max_id_str': '1386880136285351940', 'query': '%23bitcoin+OR+%23BTC+since%3A2021-04-11+until%3A2021-04-19', 'refresh_url': '?since_id=1386880136285351940&q=%23bitcoin%20OR%20%23BTC%20since%3A2021-04-11%20until%3A2021-04-19&lang=en&result_type=recent&include_entities=1', 'count': 100, 'since_id': 0, 'since_id_str': '0'}}\n"
     ]
    },
    {
     "name": "stderr",
     "output_type": "stream",
     "text": [
      "\r",
      " 46%|████▌     | 206/450 [01:20<01:10,  3.45it/s]"
     ]
    },
    {
     "name": "stdout",
     "output_type": "stream",
     "text": [
      "{'statuses': [], 'search_metadata': {'completed_in': 0.007, 'max_id': 1386880136285351940, 'max_id_str': '1386880136285351940', 'query': '%23bitcoin+OR+%23BTC+since%3A2021-04-11+until%3A2021-04-19', 'refresh_url': '?since_id=1386880136285351940&q=%23bitcoin%20OR%20%23BTC%20since%3A2021-04-11%20until%3A2021-04-19&lang=en&result_type=recent&include_entities=1', 'count': 100, 'since_id': 0, 'since_id_str': '0'}}\n"
     ]
    },
    {
     "name": "stderr",
     "output_type": "stream",
     "text": [
      "\r",
      " 46%|████▌     | 207/450 [01:21<01:07,  3.58it/s]"
     ]
    },
    {
     "name": "stdout",
     "output_type": "stream",
     "text": [
      "{'statuses': [], 'search_metadata': {'completed_in': 0.007, 'max_id': 1386880136285351940, 'max_id_str': '1386880136285351940', 'query': '%23bitcoin+OR+%23BTC+since%3A2021-04-11+until%3A2021-04-19', 'refresh_url': '?since_id=1386880136285351940&q=%23bitcoin%20OR%20%23BTC%20since%3A2021-04-11%20until%3A2021-04-19&lang=en&result_type=recent&include_entities=1', 'count': 100, 'since_id': 0, 'since_id_str': '0'}}\n"
     ]
    },
    {
     "name": "stderr",
     "output_type": "stream",
     "text": [
      "\r",
      " 46%|████▌     | 208/450 [01:21<01:06,  3.66it/s]"
     ]
    },
    {
     "name": "stdout",
     "output_type": "stream",
     "text": [
      "{'statuses': [], 'search_metadata': {'completed_in': 0.007, 'max_id': 1386880136285351940, 'max_id_str': '1386880136285351940', 'query': '%23bitcoin+OR+%23BTC+since%3A2021-04-11+until%3A2021-04-19', 'refresh_url': '?since_id=1386880136285351940&q=%23bitcoin%20OR%20%23BTC%20since%3A2021-04-11%20until%3A2021-04-19&lang=en&result_type=recent&include_entities=1', 'count': 100, 'since_id': 0, 'since_id_str': '0'}}\n"
     ]
    },
    {
     "name": "stderr",
     "output_type": "stream",
     "text": [
      "\r",
      " 46%|████▋     | 209/450 [01:21<01:04,  3.71it/s]"
     ]
    },
    {
     "name": "stdout",
     "output_type": "stream",
     "text": [
      "{'statuses': [], 'search_metadata': {'completed_in': 0.007, 'max_id': 1386880136285351940, 'max_id_str': '1386880136285351940', 'query': '%23bitcoin+OR+%23BTC+since%3A2021-04-11+until%3A2021-04-19', 'refresh_url': '?since_id=1386880136285351940&q=%23bitcoin%20OR%20%23BTC%20since%3A2021-04-11%20until%3A2021-04-19&lang=en&result_type=recent&include_entities=1', 'count': 100, 'since_id': 0, 'since_id_str': '0'}}\n"
     ]
    },
    {
     "name": "stderr",
     "output_type": "stream",
     "text": [
      "\r",
      " 47%|████▋     | 210/450 [01:22<01:03,  3.76it/s]"
     ]
    },
    {
     "name": "stdout",
     "output_type": "stream",
     "text": [
      "{'statuses': [], 'search_metadata': {'completed_in': 0.006, 'max_id': 1386880136285351940, 'max_id_str': '1386880136285351940', 'query': '%23bitcoin+OR+%23BTC+since%3A2021-04-11+until%3A2021-04-19', 'refresh_url': '?since_id=1386880136285351940&q=%23bitcoin%20OR%20%23BTC%20since%3A2021-04-11%20until%3A2021-04-19&lang=en&result_type=recent&include_entities=1', 'count': 100, 'since_id': 0, 'since_id_str': '0'}}\n"
     ]
    },
    {
     "name": "stderr",
     "output_type": "stream",
     "text": [
      "\r",
      " 47%|████▋     | 211/450 [01:22<01:02,  3.81it/s]"
     ]
    },
    {
     "name": "stdout",
     "output_type": "stream",
     "text": [
      "{'statuses': [], 'search_metadata': {'completed_in': 0.006, 'max_id': 1386880136285351940, 'max_id_str': '1386880136285351940', 'query': '%23bitcoin+OR+%23BTC+since%3A2021-04-11+until%3A2021-04-19', 'refresh_url': '?since_id=1386880136285351940&q=%23bitcoin%20OR%20%23BTC%20since%3A2021-04-11%20until%3A2021-04-19&lang=en&result_type=recent&include_entities=1', 'count': 100, 'since_id': 0, 'since_id_str': '0'}}\n"
     ]
    },
    {
     "name": "stderr",
     "output_type": "stream",
     "text": [
      "\r",
      " 47%|████▋     | 212/450 [01:22<01:02,  3.84it/s]"
     ]
    },
    {
     "name": "stdout",
     "output_type": "stream",
     "text": [
      "{'statuses': [], 'search_metadata': {'completed_in': 0.006, 'max_id': 1386880136285351940, 'max_id_str': '1386880136285351940', 'query': '%23bitcoin+OR+%23BTC+since%3A2021-04-11+until%3A2021-04-19', 'refresh_url': '?since_id=1386880136285351940&q=%23bitcoin%20OR%20%23BTC%20since%3A2021-04-11%20until%3A2021-04-19&lang=en&result_type=recent&include_entities=1', 'count': 100, 'since_id': 0, 'since_id_str': '0'}}\n"
     ]
    },
    {
     "name": "stderr",
     "output_type": "stream",
     "text": [
      "\r",
      " 47%|████▋     | 213/450 [01:22<01:01,  3.87it/s]"
     ]
    },
    {
     "name": "stdout",
     "output_type": "stream",
     "text": [
      "{'statuses': [], 'search_metadata': {'completed_in': 0.005, 'max_id': 1386880136285351940, 'max_id_str': '1386880136285351940', 'query': '%23bitcoin+OR+%23BTC+since%3A2021-04-11+until%3A2021-04-19', 'refresh_url': '?since_id=1386880136285351940&q=%23bitcoin%20OR%20%23BTC%20since%3A2021-04-11%20until%3A2021-04-19&lang=en&result_type=recent&include_entities=1', 'count': 100, 'since_id': 0, 'since_id_str': '0'}}\n"
     ]
    },
    {
     "name": "stderr",
     "output_type": "stream",
     "text": [
      "\r",
      " 48%|████▊     | 214/450 [01:23<01:00,  3.88it/s]"
     ]
    },
    {
     "name": "stdout",
     "output_type": "stream",
     "text": [
      "{'statuses': [], 'search_metadata': {'completed_in': 0.006, 'max_id': 1386880136285351940, 'max_id_str': '1386880136285351940', 'query': '%23bitcoin+OR+%23BTC+since%3A2021-04-11+until%3A2021-04-19', 'refresh_url': '?since_id=1386880136285351940&q=%23bitcoin%20OR%20%23BTC%20since%3A2021-04-11%20until%3A2021-04-19&lang=en&result_type=recent&include_entities=1', 'count': 100, 'since_id': 0, 'since_id_str': '0'}}\n"
     ]
    },
    {
     "name": "stderr",
     "output_type": "stream",
     "text": [
      "\r",
      " 48%|████▊     | 215/450 [01:23<01:00,  3.91it/s]"
     ]
    },
    {
     "name": "stdout",
     "output_type": "stream",
     "text": [
      "{'statuses': [], 'search_metadata': {'completed_in': 0.006, 'max_id': 1386880136285351940, 'max_id_str': '1386880136285351940', 'query': '%23bitcoin+OR+%23BTC+since%3A2021-04-11+until%3A2021-04-19', 'refresh_url': '?since_id=1386880136285351940&q=%23bitcoin%20OR%20%23BTC%20since%3A2021-04-11%20until%3A2021-04-19&lang=en&result_type=recent&include_entities=1', 'count': 100, 'since_id': 0, 'since_id_str': '0'}}\n"
     ]
    },
    {
     "name": "stderr",
     "output_type": "stream",
     "text": [
      "\r",
      " 48%|████▊     | 216/450 [01:23<01:00,  3.90it/s]"
     ]
    },
    {
     "name": "stdout",
     "output_type": "stream",
     "text": [
      "{'statuses': [], 'search_metadata': {'completed_in': 0.007, 'max_id': 1386880136285351940, 'max_id_str': '1386880136285351940', 'query': '%23bitcoin+OR+%23BTC+since%3A2021-04-11+until%3A2021-04-19', 'refresh_url': '?since_id=1386880136285351940&q=%23bitcoin%20OR%20%23BTC%20since%3A2021-04-11%20until%3A2021-04-19&lang=en&result_type=recent&include_entities=1', 'count': 100, 'since_id': 0, 'since_id_str': '0'}}\n"
     ]
    },
    {
     "name": "stderr",
     "output_type": "stream",
     "text": [
      "\r",
      " 48%|████▊     | 217/450 [01:23<00:59,  3.91it/s]"
     ]
    },
    {
     "name": "stdout",
     "output_type": "stream",
     "text": [
      "{'statuses': [], 'search_metadata': {'completed_in': 0.007, 'max_id': 1386880136285351940, 'max_id_str': '1386880136285351940', 'query': '%23bitcoin+OR+%23BTC+since%3A2021-04-11+until%3A2021-04-19', 'refresh_url': '?since_id=1386880136285351940&q=%23bitcoin%20OR%20%23BTC%20since%3A2021-04-11%20until%3A2021-04-19&lang=en&result_type=recent&include_entities=1', 'count': 100, 'since_id': 0, 'since_id_str': '0'}}\n"
     ]
    },
    {
     "name": "stderr",
     "output_type": "stream",
     "text": [
      "\r",
      " 48%|████▊     | 218/450 [01:24<00:59,  3.88it/s]"
     ]
    },
    {
     "name": "stdout",
     "output_type": "stream",
     "text": [
      "{'statuses': [], 'search_metadata': {'completed_in': 0.005, 'max_id': 1386880136285351940, 'max_id_str': '1386880136285351940', 'query': '%23bitcoin+OR+%23BTC+since%3A2021-04-11+until%3A2021-04-19', 'refresh_url': '?since_id=1386880136285351940&q=%23bitcoin%20OR%20%23BTC%20since%3A2021-04-11%20until%3A2021-04-19&lang=en&result_type=recent&include_entities=1', 'count': 100, 'since_id': 0, 'since_id_str': '0'}}\n"
     ]
    },
    {
     "name": "stderr",
     "output_type": "stream",
     "text": [
      "\r",
      " 49%|████▊     | 219/450 [01:24<00:59,  3.86it/s]"
     ]
    },
    {
     "name": "stdout",
     "output_type": "stream",
     "text": [
      "{'statuses': [], 'search_metadata': {'completed_in': 0.005, 'max_id': 1386880136285351940, 'max_id_str': '1386880136285351940', 'query': '%23bitcoin+OR+%23BTC+since%3A2021-04-11+until%3A2021-04-19', 'refresh_url': '?since_id=1386880136285351940&q=%23bitcoin%20OR%20%23BTC%20since%3A2021-04-11%20until%3A2021-04-19&lang=en&result_type=recent&include_entities=1', 'count': 100, 'since_id': 0, 'since_id_str': '0'}}\n"
     ]
    },
    {
     "name": "stderr",
     "output_type": "stream",
     "text": [
      "\r",
      " 49%|████▉     | 220/450 [01:24<00:59,  3.87it/s]"
     ]
    },
    {
     "name": "stdout",
     "output_type": "stream",
     "text": [
      "{'statuses': [], 'search_metadata': {'completed_in': 0.006, 'max_id': 1386880136285351940, 'max_id_str': '1386880136285351940', 'query': '%23bitcoin+OR+%23BTC+since%3A2021-04-11+until%3A2021-04-19', 'refresh_url': '?since_id=1386880136285351940&q=%23bitcoin%20OR%20%23BTC%20since%3A2021-04-11%20until%3A2021-04-19&lang=en&result_type=recent&include_entities=1', 'count': 100, 'since_id': 0, 'since_id_str': '0'}}\n"
     ]
    },
    {
     "name": "stderr",
     "output_type": "stream",
     "text": [
      "\r",
      " 49%|████▉     | 221/450 [01:24<00:59,  3.87it/s]"
     ]
    },
    {
     "name": "stdout",
     "output_type": "stream",
     "text": [
      "{'statuses': [], 'search_metadata': {'completed_in': 0.007, 'max_id': 1386880136285351940, 'max_id_str': '1386880136285351940', 'query': '%23bitcoin+OR+%23BTC+since%3A2021-04-11+until%3A2021-04-19', 'refresh_url': '?since_id=1386880136285351940&q=%23bitcoin%20OR%20%23BTC%20since%3A2021-04-11%20until%3A2021-04-19&lang=en&result_type=recent&include_entities=1', 'count': 100, 'since_id': 0, 'since_id_str': '0'}}\n"
     ]
    },
    {
     "name": "stderr",
     "output_type": "stream",
     "text": [
      "\r",
      " 49%|████▉     | 222/450 [01:25<00:59,  3.81it/s]"
     ]
    },
    {
     "name": "stdout",
     "output_type": "stream",
     "text": [
      "{'statuses': [], 'search_metadata': {'completed_in': 0.008, 'max_id': 1386880136285351940, 'max_id_str': '1386880136285351940', 'query': '%23bitcoin+OR+%23BTC+since%3A2021-04-11+until%3A2021-04-19', 'refresh_url': '?since_id=1386880136285351940&q=%23bitcoin%20OR%20%23BTC%20since%3A2021-04-11%20until%3A2021-04-19&lang=en&result_type=recent&include_entities=1', 'count': 100, 'since_id': 0, 'since_id_str': '0'}}\n"
     ]
    },
    {
     "name": "stderr",
     "output_type": "stream",
     "text": [
      "\r",
      " 50%|████▉     | 223/450 [01:25<00:59,  3.83it/s]"
     ]
    },
    {
     "name": "stdout",
     "output_type": "stream",
     "text": [
      "{'statuses': [], 'search_metadata': {'completed_in': 0.006, 'max_id': 1386880136285351940, 'max_id_str': '1386880136285351940', 'query': '%23bitcoin+OR+%23BTC+since%3A2021-04-11+until%3A2021-04-19', 'refresh_url': '?since_id=1386880136285351940&q=%23bitcoin%20OR%20%23BTC%20since%3A2021-04-11%20until%3A2021-04-19&lang=en&result_type=recent&include_entities=1', 'count': 100, 'since_id': 0, 'since_id_str': '0'}}\n"
     ]
    },
    {
     "name": "stderr",
     "output_type": "stream",
     "text": [
      "\r",
      " 50%|████▉     | 224/450 [01:25<01:00,  3.76it/s]"
     ]
    },
    {
     "name": "stdout",
     "output_type": "stream",
     "text": [
      "{'statuses': [], 'search_metadata': {'completed_in': 0.005, 'max_id': 1386880136285351940, 'max_id_str': '1386880136285351940', 'query': '%23bitcoin+OR+%23BTC+since%3A2021-04-11+until%3A2021-04-19', 'refresh_url': '?since_id=1386880136285351940&q=%23bitcoin%20OR%20%23BTC%20since%3A2021-04-11%20until%3A2021-04-19&lang=en&result_type=recent&include_entities=1', 'count': 100, 'since_id': 0, 'since_id_str': '0'}}\n"
     ]
    },
    {
     "name": "stderr",
     "output_type": "stream",
     "text": [
      "\r",
      " 50%|█████     | 225/450 [01:25<00:59,  3.80it/s]"
     ]
    },
    {
     "name": "stdout",
     "output_type": "stream",
     "text": [
      "{'statuses': [], 'search_metadata': {'completed_in': 0.005, 'max_id': 1386880136285351940, 'max_id_str': '1386880136285351940', 'query': '%23bitcoin+OR+%23BTC+since%3A2021-04-11+until%3A2021-04-19', 'refresh_url': '?since_id=1386880136285351940&q=%23bitcoin%20OR%20%23BTC%20since%3A2021-04-11%20until%3A2021-04-19&lang=en&result_type=recent&include_entities=1', 'count': 100, 'since_id': 0, 'since_id_str': '0'}}\n"
     ]
    },
    {
     "name": "stderr",
     "output_type": "stream",
     "text": [
      "\r",
      " 50%|█████     | 226/450 [01:26<00:58,  3.82it/s]"
     ]
    },
    {
     "name": "stdout",
     "output_type": "stream",
     "text": [
      "{'statuses': [], 'search_metadata': {'completed_in': 0.004, 'max_id': 1386880136285351940, 'max_id_str': '1386880136285351940', 'query': '%23bitcoin+OR+%23BTC+since%3A2021-04-11+until%3A2021-04-19', 'refresh_url': '?since_id=1386880136285351940&q=%23bitcoin%20OR%20%23BTC%20since%3A2021-04-11%20until%3A2021-04-19&lang=en&result_type=recent&include_entities=1', 'count': 100, 'since_id': 0, 'since_id_str': '0'}}\n"
     ]
    },
    {
     "name": "stderr",
     "output_type": "stream",
     "text": [
      "\r",
      " 50%|█████     | 227/450 [01:26<00:58,  3.84it/s]"
     ]
    },
    {
     "name": "stdout",
     "output_type": "stream",
     "text": [
      "{'statuses': [], 'search_metadata': {'completed_in': 0.006, 'max_id': 1386880136285351940, 'max_id_str': '1386880136285351940', 'query': '%23bitcoin+OR+%23BTC+since%3A2021-04-11+until%3A2021-04-19', 'refresh_url': '?since_id=1386880136285351940&q=%23bitcoin%20OR%20%23BTC%20since%3A2021-04-11%20until%3A2021-04-19&lang=en&result_type=recent&include_entities=1', 'count': 100, 'since_id': 0, 'since_id_str': '0'}}\n"
     ]
    },
    {
     "name": "stderr",
     "output_type": "stream",
     "text": [
      "\r",
      " 51%|█████     | 228/450 [01:26<00:57,  3.85it/s]"
     ]
    },
    {
     "name": "stdout",
     "output_type": "stream",
     "text": [
      "{'statuses': [], 'search_metadata': {'completed_in': 0.006, 'max_id': 1386880136285351940, 'max_id_str': '1386880136285351940', 'query': '%23bitcoin+OR+%23BTC+since%3A2021-04-11+until%3A2021-04-19', 'refresh_url': '?since_id=1386880136285351940&q=%23bitcoin%20OR%20%23BTC%20since%3A2021-04-11%20until%3A2021-04-19&lang=en&result_type=recent&include_entities=1', 'count': 100, 'since_id': 0, 'since_id_str': '0'}}\n"
     ]
    },
    {
     "name": "stderr",
     "output_type": "stream",
     "text": [
      "\r",
      " 51%|█████     | 229/450 [01:26<00:56,  3.88it/s]"
     ]
    },
    {
     "name": "stdout",
     "output_type": "stream",
     "text": [
      "{'statuses': [], 'search_metadata': {'completed_in': 0.006, 'max_id': 1386880136285351940, 'max_id_str': '1386880136285351940', 'query': '%23bitcoin+OR+%23BTC+since%3A2021-04-11+until%3A2021-04-19', 'refresh_url': '?since_id=1386880136285351940&q=%23bitcoin%20OR%20%23BTC%20since%3A2021-04-11%20until%3A2021-04-19&lang=en&result_type=recent&include_entities=1', 'count': 100, 'since_id': 0, 'since_id_str': '0'}}\n"
     ]
    },
    {
     "name": "stderr",
     "output_type": "stream",
     "text": [
      "\r",
      " 51%|█████     | 230/450 [01:27<00:56,  3.88it/s]"
     ]
    },
    {
     "name": "stdout",
     "output_type": "stream",
     "text": [
      "{'statuses': [], 'search_metadata': {'completed_in': 0.005, 'max_id': 1386880136285351940, 'max_id_str': '1386880136285351940', 'query': '%23bitcoin+OR+%23BTC+since%3A2021-04-11+until%3A2021-04-19', 'refresh_url': '?since_id=1386880136285351940&q=%23bitcoin%20OR%20%23BTC%20since%3A2021-04-11%20until%3A2021-04-19&lang=en&result_type=recent&include_entities=1', 'count': 100, 'since_id': 0, 'since_id_str': '0'}}\n"
     ]
    },
    {
     "name": "stderr",
     "output_type": "stream",
     "text": [
      "\r",
      " 51%|█████▏    | 231/450 [01:27<00:58,  3.77it/s]"
     ]
    },
    {
     "name": "stdout",
     "output_type": "stream",
     "text": [
      "{'statuses': [], 'search_metadata': {'completed_in': 0.006, 'max_id': 1386880136285351940, 'max_id_str': '1386880136285351940', 'query': '%23bitcoin+OR+%23BTC+since%3A2021-04-11+until%3A2021-04-19', 'refresh_url': '?since_id=1386880136285351940&q=%23bitcoin%20OR%20%23BTC%20since%3A2021-04-11%20until%3A2021-04-19&lang=en&result_type=recent&include_entities=1', 'count': 100, 'since_id': 0, 'since_id_str': '0'}}\n"
     ]
    },
    {
     "name": "stderr",
     "output_type": "stream",
     "text": [
      "\r",
      " 52%|█████▏    | 232/450 [01:27<00:57,  3.82it/s]"
     ]
    },
    {
     "name": "stdout",
     "output_type": "stream",
     "text": [
      "{'statuses': [], 'search_metadata': {'completed_in': 0.007, 'max_id': 1386880136285351940, 'max_id_str': '1386880136285351940', 'query': '%23bitcoin+OR+%23BTC+since%3A2021-04-11+until%3A2021-04-19', 'refresh_url': '?since_id=1386880136285351940&q=%23bitcoin%20OR%20%23BTC%20since%3A2021-04-11%20until%3A2021-04-19&lang=en&result_type=recent&include_entities=1', 'count': 100, 'since_id': 0, 'since_id_str': '0'}}\n"
     ]
    },
    {
     "name": "stderr",
     "output_type": "stream",
     "text": [
      "\r",
      " 52%|█████▏    | 233/450 [01:27<00:56,  3.84it/s]"
     ]
    },
    {
     "name": "stdout",
     "output_type": "stream",
     "text": [
      "{'statuses': [], 'search_metadata': {'completed_in': 0.008, 'max_id': 1386880136285351940, 'max_id_str': '1386880136285351940', 'query': '%23bitcoin+OR+%23BTC+since%3A2021-04-11+until%3A2021-04-19', 'refresh_url': '?since_id=1386880136285351940&q=%23bitcoin%20OR%20%23BTC%20since%3A2021-04-11%20until%3A2021-04-19&lang=en&result_type=recent&include_entities=1', 'count': 100, 'since_id': 0, 'since_id_str': '0'}}\n"
     ]
    },
    {
     "name": "stderr",
     "output_type": "stream",
     "text": [
      "\r",
      " 52%|█████▏    | 234/450 [01:28<00:55,  3.87it/s]"
     ]
    },
    {
     "name": "stdout",
     "output_type": "stream",
     "text": [
      "{'statuses': [], 'search_metadata': {'completed_in': 0.005, 'max_id': 1386880136285351940, 'max_id_str': '1386880136285351940', 'query': '%23bitcoin+OR+%23BTC+since%3A2021-04-11+until%3A2021-04-19', 'refresh_url': '?since_id=1386880136285351940&q=%23bitcoin%20OR%20%23BTC%20since%3A2021-04-11%20until%3A2021-04-19&lang=en&result_type=recent&include_entities=1', 'count': 100, 'since_id': 0, 'since_id_str': '0'}}\n"
     ]
    },
    {
     "name": "stderr",
     "output_type": "stream",
     "text": [
      "\r",
      " 52%|█████▏    | 235/450 [01:28<00:55,  3.86it/s]"
     ]
    },
    {
     "name": "stdout",
     "output_type": "stream",
     "text": [
      "{'statuses': [], 'search_metadata': {'completed_in': 0.007, 'max_id': 1386880136285351940, 'max_id_str': '1386880136285351940', 'query': '%23bitcoin+OR+%23BTC+since%3A2021-04-11+until%3A2021-04-19', 'refresh_url': '?since_id=1386880136285351940&q=%23bitcoin%20OR%20%23BTC%20since%3A2021-04-11%20until%3A2021-04-19&lang=en&result_type=recent&include_entities=1', 'count': 100, 'since_id': 0, 'since_id_str': '0'}}\n"
     ]
    },
    {
     "name": "stderr",
     "output_type": "stream",
     "text": [
      "\r",
      " 52%|█████▏    | 236/450 [01:28<00:55,  3.87it/s]"
     ]
    },
    {
     "name": "stdout",
     "output_type": "stream",
     "text": [
      "{'statuses': [], 'search_metadata': {'completed_in': 0.01, 'max_id': 1386880217495441410, 'max_id_str': '1386880217495441410', 'query': '%23bitcoin+OR+%23BTC+since%3A2021-04-11+until%3A2021-04-19', 'refresh_url': '?since_id=1386880217495441410&q=%23bitcoin%20OR%20%23BTC%20since%3A2021-04-11%20until%3A2021-04-19&lang=en&result_type=recent&include_entities=1', 'count': 100, 'since_id': 0, 'since_id_str': '0'}}\n"
     ]
    },
    {
     "name": "stderr",
     "output_type": "stream",
     "text": [
      "\r",
      " 53%|█████▎    | 237/450 [01:29<00:55,  3.86it/s]"
     ]
    },
    {
     "name": "stdout",
     "output_type": "stream",
     "text": [
      "{'statuses': [], 'search_metadata': {'completed_in': 0.007, 'max_id': 1386880217495441410, 'max_id_str': '1386880217495441410', 'query': '%23bitcoin+OR+%23BTC+since%3A2021-04-11+until%3A2021-04-19', 'refresh_url': '?since_id=1386880217495441410&q=%23bitcoin%20OR%20%23BTC%20since%3A2021-04-11%20until%3A2021-04-19&lang=en&result_type=recent&include_entities=1', 'count': 100, 'since_id': 0, 'since_id_str': '0'}}\n"
     ]
    },
    {
     "name": "stderr",
     "output_type": "stream",
     "text": [
      "\r",
      " 53%|█████▎    | 238/450 [01:29<00:55,  3.85it/s]"
     ]
    },
    {
     "name": "stdout",
     "output_type": "stream",
     "text": [
      "{'statuses': [], 'search_metadata': {'completed_in': 0.005, 'max_id': 1386880217495441410, 'max_id_str': '1386880217495441410', 'query': '%23bitcoin+OR+%23BTC+since%3A2021-04-11+until%3A2021-04-19', 'refresh_url': '?since_id=1386880217495441410&q=%23bitcoin%20OR%20%23BTC%20since%3A2021-04-11%20until%3A2021-04-19&lang=en&result_type=recent&include_entities=1', 'count': 100, 'since_id': 0, 'since_id_str': '0'}}\n"
     ]
    },
    {
     "name": "stderr",
     "output_type": "stream",
     "text": [
      "\r",
      " 53%|█████▎    | 239/450 [01:29<00:54,  3.86it/s]"
     ]
    },
    {
     "name": "stdout",
     "output_type": "stream",
     "text": [
      "{'statuses': [], 'search_metadata': {'completed_in': 0.006, 'max_id': 1386880217495441410, 'max_id_str': '1386880217495441410', 'query': '%23bitcoin+OR+%23BTC+since%3A2021-04-11+until%3A2021-04-19', 'refresh_url': '?since_id=1386880217495441410&q=%23bitcoin%20OR%20%23BTC%20since%3A2021-04-11%20until%3A2021-04-19&lang=en&result_type=recent&include_entities=1', 'count': 100, 'since_id': 0, 'since_id_str': '0'}}\n"
     ]
    },
    {
     "name": "stderr",
     "output_type": "stream",
     "text": [
      "\r",
      " 53%|█████▎    | 240/450 [01:29<00:54,  3.88it/s]"
     ]
    },
    {
     "name": "stdout",
     "output_type": "stream",
     "text": [
      "{'statuses': [], 'search_metadata': {'completed_in': 0.004, 'max_id': 1386880217495441410, 'max_id_str': '1386880217495441410', 'query': '%23bitcoin+OR+%23BTC+since%3A2021-04-11+until%3A2021-04-19', 'refresh_url': '?since_id=1386880217495441410&q=%23bitcoin%20OR%20%23BTC%20since%3A2021-04-11%20until%3A2021-04-19&lang=en&result_type=recent&include_entities=1', 'count': 100, 'since_id': 0, 'since_id_str': '0'}}\n"
     ]
    },
    {
     "name": "stderr",
     "output_type": "stream",
     "text": [
      "\r",
      " 54%|█████▎    | 241/450 [01:30<00:53,  3.88it/s]"
     ]
    },
    {
     "name": "stdout",
     "output_type": "stream",
     "text": [
      "{'statuses': [], 'search_metadata': {'completed_in': 0.006, 'max_id': 1386880217495441410, 'max_id_str': '1386880217495441410', 'query': '%23bitcoin+OR+%23BTC+since%3A2021-04-11+until%3A2021-04-19', 'refresh_url': '?since_id=1386880217495441410&q=%23bitcoin%20OR%20%23BTC%20since%3A2021-04-11%20until%3A2021-04-19&lang=en&result_type=recent&include_entities=1', 'count': 100, 'since_id': 0, 'since_id_str': '0'}}\n"
     ]
    },
    {
     "name": "stderr",
     "output_type": "stream",
     "text": [
      "\r",
      " 54%|█████▍    | 242/450 [01:30<00:53,  3.89it/s]"
     ]
    },
    {
     "name": "stdout",
     "output_type": "stream",
     "text": [
      "{'statuses': [], 'search_metadata': {'completed_in': 0.007, 'max_id': 1386880217495441410, 'max_id_str': '1386880217495441410', 'query': '%23bitcoin+OR+%23BTC+since%3A2021-04-11+until%3A2021-04-19', 'refresh_url': '?since_id=1386880217495441410&q=%23bitcoin%20OR%20%23BTC%20since%3A2021-04-11%20until%3A2021-04-19&lang=en&result_type=recent&include_entities=1', 'count': 100, 'since_id': 0, 'since_id_str': '0'}}\n"
     ]
    },
    {
     "name": "stderr",
     "output_type": "stream",
     "text": [
      "\r",
      " 54%|█████▍    | 243/450 [01:30<00:53,  3.87it/s]"
     ]
    },
    {
     "name": "stdout",
     "output_type": "stream",
     "text": [
      "{'statuses': [], 'search_metadata': {'completed_in': 0.007, 'max_id': 1386880217495441410, 'max_id_str': '1386880217495441410', 'query': '%23bitcoin+OR+%23BTC+since%3A2021-04-11+until%3A2021-04-19', 'refresh_url': '?since_id=1386880217495441410&q=%23bitcoin%20OR%20%23BTC%20since%3A2021-04-11%20until%3A2021-04-19&lang=en&result_type=recent&include_entities=1', 'count': 100, 'since_id': 0, 'since_id_str': '0'}}\n"
     ]
    },
    {
     "name": "stderr",
     "output_type": "stream",
     "text": [
      "\r",
      " 54%|█████▍    | 244/450 [01:30<00:53,  3.86it/s]"
     ]
    },
    {
     "name": "stdout",
     "output_type": "stream",
     "text": [
      "{'statuses': [], 'search_metadata': {'completed_in': 0.005, 'max_id': 1386880217495441410, 'max_id_str': '1386880217495441410', 'query': '%23bitcoin+OR+%23BTC+since%3A2021-04-11+until%3A2021-04-19', 'refresh_url': '?since_id=1386880217495441410&q=%23bitcoin%20OR%20%23BTC%20since%3A2021-04-11%20until%3A2021-04-19&lang=en&result_type=recent&include_entities=1', 'count': 100, 'since_id': 0, 'since_id_str': '0'}}\n"
     ]
    },
    {
     "name": "stderr",
     "output_type": "stream",
     "text": [
      "\r",
      " 54%|█████▍    | 245/450 [01:31<00:52,  3.88it/s]"
     ]
    },
    {
     "name": "stdout",
     "output_type": "stream",
     "text": [
      "{'statuses': [], 'search_metadata': {'completed_in': 0.005, 'max_id': 1386880217495441410, 'max_id_str': '1386880217495441410', 'query': '%23bitcoin+OR+%23BTC+since%3A2021-04-11+until%3A2021-04-19', 'refresh_url': '?since_id=1386880217495441410&q=%23bitcoin%20OR%20%23BTC%20since%3A2021-04-11%20until%3A2021-04-19&lang=en&result_type=recent&include_entities=1', 'count': 100, 'since_id': 0, 'since_id_str': '0'}}\n"
     ]
    },
    {
     "name": "stderr",
     "output_type": "stream",
     "text": [
      "\r",
      " 55%|█████▍    | 246/450 [01:31<00:52,  3.89it/s]"
     ]
    },
    {
     "name": "stdout",
     "output_type": "stream",
     "text": [
      "{'statuses': [], 'search_metadata': {'completed_in': 0.006, 'max_id': 1386880217495441410, 'max_id_str': '1386880217495441410', 'query': '%23bitcoin+OR+%23BTC+since%3A2021-04-11+until%3A2021-04-19', 'refresh_url': '?since_id=1386880217495441410&q=%23bitcoin%20OR%20%23BTC%20since%3A2021-04-11%20until%3A2021-04-19&lang=en&result_type=recent&include_entities=1', 'count': 100, 'since_id': 0, 'since_id_str': '0'}}\n"
     ]
    },
    {
     "name": "stderr",
     "output_type": "stream",
     "text": [
      "\r",
      " 55%|█████▍    | 247/450 [01:31<00:52,  3.90it/s]"
     ]
    },
    {
     "name": "stdout",
     "output_type": "stream",
     "text": [
      "{'statuses': [], 'search_metadata': {'completed_in': 0.006, 'max_id': 1386880217495441410, 'max_id_str': '1386880217495441410', 'query': '%23bitcoin+OR+%23BTC+since%3A2021-04-11+until%3A2021-04-19', 'refresh_url': '?since_id=1386880217495441410&q=%23bitcoin%20OR%20%23BTC%20since%3A2021-04-11%20until%3A2021-04-19&lang=en&result_type=recent&include_entities=1', 'count': 100, 'since_id': 0, 'since_id_str': '0'}}\n"
     ]
    },
    {
     "name": "stderr",
     "output_type": "stream",
     "text": [
      "\r",
      " 55%|█████▌    | 248/450 [01:31<00:51,  3.90it/s]"
     ]
    },
    {
     "name": "stdout",
     "output_type": "stream",
     "text": [
      "{'statuses': [], 'search_metadata': {'completed_in': 0.006, 'max_id': 1386880217495441410, 'max_id_str': '1386880217495441410', 'query': '%23bitcoin+OR+%23BTC+since%3A2021-04-11+until%3A2021-04-19', 'refresh_url': '?since_id=1386880217495441410&q=%23bitcoin%20OR%20%23BTC%20since%3A2021-04-11%20until%3A2021-04-19&lang=en&result_type=recent&include_entities=1', 'count': 100, 'since_id': 0, 'since_id_str': '0'}}\n"
     ]
    },
    {
     "name": "stderr",
     "output_type": "stream",
     "text": [
      "\r",
      " 55%|█████▌    | 249/450 [01:32<00:51,  3.91it/s]"
     ]
    },
    {
     "name": "stdout",
     "output_type": "stream",
     "text": [
      "{'statuses': [], 'search_metadata': {'completed_in': 0.006, 'max_id': 1386880217495441410, 'max_id_str': '1386880217495441410', 'query': '%23bitcoin+OR+%23BTC+since%3A2021-04-11+until%3A2021-04-19', 'refresh_url': '?since_id=1386880217495441410&q=%23bitcoin%20OR%20%23BTC%20since%3A2021-04-11%20until%3A2021-04-19&lang=en&result_type=recent&include_entities=1', 'count': 100, 'since_id': 0, 'since_id_str': '0'}}\n"
     ]
    },
    {
     "name": "stderr",
     "output_type": "stream",
     "text": [
      "\r",
      " 56%|█████▌    | 250/450 [01:32<00:51,  3.89it/s]"
     ]
    },
    {
     "name": "stdout",
     "output_type": "stream",
     "text": [
      "{'statuses': [], 'search_metadata': {'completed_in': 0.005, 'max_id': 1386880217495441410, 'max_id_str': '1386880217495441410', 'query': '%23bitcoin+OR+%23BTC+since%3A2021-04-11+until%3A2021-04-19', 'refresh_url': '?since_id=1386880217495441410&q=%23bitcoin%20OR%20%23BTC%20since%3A2021-04-11%20until%3A2021-04-19&lang=en&result_type=recent&include_entities=1', 'count': 100, 'since_id': 0, 'since_id_str': '0'}}\n"
     ]
    },
    {
     "name": "stderr",
     "output_type": "stream",
     "text": [
      "\r",
      " 56%|█████▌    | 251/450 [01:33<01:47,  1.86it/s]"
     ]
    },
    {
     "name": "stdout",
     "output_type": "stream",
     "text": [
      "{'statuses': [], 'search_metadata': {'completed_in': 0.005, 'max_id': 1386880217495441410, 'max_id_str': '1386880217495441410', 'query': '%23bitcoin+OR+%23BTC+since%3A2021-04-11+until%3A2021-04-19', 'refresh_url': '?since_id=1386880217495441410&q=%23bitcoin%20OR%20%23BTC%20since%3A2021-04-11%20until%3A2021-04-19&lang=en&result_type=recent&include_entities=1', 'count': 100, 'since_id': 0, 'since_id_str': '0'}}\n"
     ]
    },
    {
     "name": "stderr",
     "output_type": "stream",
     "text": [
      "\r",
      " 56%|█████▌    | 252/450 [01:33<01:40,  1.98it/s]"
     ]
    },
    {
     "name": "stdout",
     "output_type": "stream",
     "text": [
      "{'statuses': [], 'search_metadata': {'completed_in': 0.006, 'max_id': 1386880217495441410, 'max_id_str': '1386880217495441410', 'query': '%23bitcoin+OR+%23BTC+since%3A2021-04-11+until%3A2021-04-19', 'refresh_url': '?since_id=1386880217495441410&q=%23bitcoin%20OR%20%23BTC%20since%3A2021-04-11%20until%3A2021-04-19&lang=en&result_type=recent&include_entities=1', 'count': 100, 'since_id': 0, 'since_id_str': '0'}}\n"
     ]
    },
    {
     "name": "stderr",
     "output_type": "stream",
     "text": [
      "\r",
      " 56%|█████▌    | 253/450 [01:34<01:35,  2.07it/s]"
     ]
    },
    {
     "name": "stdout",
     "output_type": "stream",
     "text": [
      "{'statuses': [], 'search_metadata': {'completed_in': 0.006, 'max_id': 1386880217495441410, 'max_id_str': '1386880217495441410', 'query': '%23bitcoin+OR+%23BTC+since%3A2021-04-11+until%3A2021-04-19', 'refresh_url': '?since_id=1386880217495441410&q=%23bitcoin%20OR%20%23BTC%20since%3A2021-04-11%20until%3A2021-04-19&lang=en&result_type=recent&include_entities=1', 'count': 100, 'since_id': 0, 'since_id_str': '0'}}\n"
     ]
    },
    {
     "name": "stderr",
     "output_type": "stream",
     "text": [
      "\r",
      " 56%|█████▋    | 254/450 [01:34<01:31,  2.14it/s]"
     ]
    },
    {
     "name": "stdout",
     "output_type": "stream",
     "text": [
      "{'statuses': [], 'search_metadata': {'completed_in': 0.007, 'max_id': 1386880217495441410, 'max_id_str': '1386880217495441410', 'query': '%23bitcoin+OR+%23BTC+since%3A2021-04-11+until%3A2021-04-19', 'refresh_url': '?since_id=1386880217495441410&q=%23bitcoin%20OR%20%23BTC%20since%3A2021-04-11%20until%3A2021-04-19&lang=en&result_type=recent&include_entities=1', 'count': 100, 'since_id': 0, 'since_id_str': '0'}}\n"
     ]
    },
    {
     "name": "stderr",
     "output_type": "stream",
     "text": [
      "\r",
      " 57%|█████▋    | 255/450 [01:35<01:29,  2.18it/s]"
     ]
    },
    {
     "name": "stdout",
     "output_type": "stream",
     "text": [
      "{'statuses': [], 'search_metadata': {'completed_in': 0.006, 'max_id': 1386880217495441410, 'max_id_str': '1386880217495441410', 'query': '%23bitcoin+OR+%23BTC+since%3A2021-04-11+until%3A2021-04-19', 'refresh_url': '?since_id=1386880217495441410&q=%23bitcoin%20OR%20%23BTC%20since%3A2021-04-11%20until%3A2021-04-19&lang=en&result_type=recent&include_entities=1', 'count': 100, 'since_id': 0, 'since_id_str': '0'}}\n"
     ]
    },
    {
     "name": "stderr",
     "output_type": "stream",
     "text": [
      "\r",
      " 57%|█████▋    | 256/450 [01:35<01:27,  2.22it/s]"
     ]
    },
    {
     "name": "stdout",
     "output_type": "stream",
     "text": [
      "{'statuses': [], 'search_metadata': {'completed_in': 0.007, 'max_id': 1386880217495441410, 'max_id_str': '1386880217495441410', 'query': '%23bitcoin+OR+%23BTC+since%3A2021-04-11+until%3A2021-04-19', 'refresh_url': '?since_id=1386880217495441410&q=%23bitcoin%20OR%20%23BTC%20since%3A2021-04-11%20until%3A2021-04-19&lang=en&result_type=recent&include_entities=1', 'count': 100, 'since_id': 0, 'since_id_str': '0'}}\n"
     ]
    },
    {
     "name": "stderr",
     "output_type": "stream",
     "text": [
      "\r",
      " 57%|█████▋    | 257/450 [01:36<01:26,  2.24it/s]"
     ]
    },
    {
     "name": "stdout",
     "output_type": "stream",
     "text": [
      "{'statuses': [], 'search_metadata': {'completed_in': 0.006, 'max_id': 1386880217495441410, 'max_id_str': '1386880217495441410', 'query': '%23bitcoin+OR+%23BTC+since%3A2021-04-11+until%3A2021-04-19', 'refresh_url': '?since_id=1386880217495441410&q=%23bitcoin%20OR%20%23BTC%20since%3A2021-04-11%20until%3A2021-04-19&lang=en&result_type=recent&include_entities=1', 'count': 100, 'since_id': 0, 'since_id_str': '0'}}\n"
     ]
    },
    {
     "name": "stderr",
     "output_type": "stream",
     "text": [
      "\r",
      " 57%|█████▋    | 258/450 [01:36<01:24,  2.26it/s]"
     ]
    },
    {
     "name": "stdout",
     "output_type": "stream",
     "text": [
      "{'statuses': [], 'search_metadata': {'completed_in': 0.006, 'max_id': 1386880217495441410, 'max_id_str': '1386880217495441410', 'query': '%23bitcoin+OR+%23BTC+since%3A2021-04-11+until%3A2021-04-19', 'refresh_url': '?since_id=1386880217495441410&q=%23bitcoin%20OR%20%23BTC%20since%3A2021-04-11%20until%3A2021-04-19&lang=en&result_type=recent&include_entities=1', 'count': 100, 'since_id': 0, 'since_id_str': '0'}}\n"
     ]
    },
    {
     "name": "stderr",
     "output_type": "stream",
     "text": [
      "\r",
      " 58%|█████▊    | 259/450 [01:37<01:24,  2.27it/s]"
     ]
    },
    {
     "name": "stdout",
     "output_type": "stream",
     "text": [
      "{'statuses': [], 'search_metadata': {'completed_in': 0.005, 'max_id': 1386880217495441410, 'max_id_str': '1386880217495441410', 'query': '%23bitcoin+OR+%23BTC+since%3A2021-04-11+until%3A2021-04-19', 'refresh_url': '?since_id=1386880217495441410&q=%23bitcoin%20OR%20%23BTC%20since%3A2021-04-11%20until%3A2021-04-19&lang=en&result_type=recent&include_entities=1', 'count': 100, 'since_id': 0, 'since_id_str': '0'}}\n"
     ]
    },
    {
     "name": "stderr",
     "output_type": "stream",
     "text": [
      "\r",
      " 58%|█████▊    | 260/450 [01:37<01:23,  2.28it/s]"
     ]
    },
    {
     "name": "stdout",
     "output_type": "stream",
     "text": [
      "{'statuses': [], 'search_metadata': {'completed_in': 0.006, 'max_id': 1386880217495441410, 'max_id_str': '1386880217495441410', 'query': '%23bitcoin+OR+%23BTC+since%3A2021-04-11+until%3A2021-04-19', 'refresh_url': '?since_id=1386880217495441410&q=%23bitcoin%20OR%20%23BTC%20since%3A2021-04-11%20until%3A2021-04-19&lang=en&result_type=recent&include_entities=1', 'count': 100, 'since_id': 0, 'since_id_str': '0'}}\n"
     ]
    },
    {
     "name": "stderr",
     "output_type": "stream",
     "text": [
      "\r",
      " 58%|█████▊    | 261/450 [01:37<01:22,  2.29it/s]"
     ]
    },
    {
     "name": "stdout",
     "output_type": "stream",
     "text": [
      "{'statuses': [], 'search_metadata': {'completed_in': 0.006, 'max_id': 1386880217495441410, 'max_id_str': '1386880217495441410', 'query': '%23bitcoin+OR+%23BTC+since%3A2021-04-11+until%3A2021-04-19', 'refresh_url': '?since_id=1386880217495441410&q=%23bitcoin%20OR%20%23BTC%20since%3A2021-04-11%20until%3A2021-04-19&lang=en&result_type=recent&include_entities=1', 'count': 100, 'since_id': 0, 'since_id_str': '0'}}\n"
     ]
    },
    {
     "name": "stderr",
     "output_type": "stream",
     "text": [
      "\r",
      " 58%|█████▊    | 262/450 [01:38<01:21,  2.30it/s]"
     ]
    },
    {
     "name": "stdout",
     "output_type": "stream",
     "text": [
      "{'statuses': [], 'search_metadata': {'completed_in': 0.006, 'max_id': 1386880217495441410, 'max_id_str': '1386880217495441410', 'query': '%23bitcoin+OR+%23BTC+since%3A2021-04-11+until%3A2021-04-19', 'refresh_url': '?since_id=1386880217495441410&q=%23bitcoin%20OR%20%23BTC%20since%3A2021-04-11%20until%3A2021-04-19&lang=en&result_type=recent&include_entities=1', 'count': 100, 'since_id': 0, 'since_id_str': '0'}}\n"
     ]
    },
    {
     "name": "stderr",
     "output_type": "stream",
     "text": [
      "\r",
      " 58%|█████▊    | 263/450 [01:38<01:21,  2.29it/s]"
     ]
    },
    {
     "name": "stdout",
     "output_type": "stream",
     "text": [
      "{'statuses': [], 'search_metadata': {'completed_in': 0.006, 'max_id': 1386880217495441410, 'max_id_str': '1386880217495441410', 'query': '%23bitcoin+OR+%23BTC+since%3A2021-04-11+until%3A2021-04-19', 'refresh_url': '?since_id=1386880217495441410&q=%23bitcoin%20OR%20%23BTC%20since%3A2021-04-11%20until%3A2021-04-19&lang=en&result_type=recent&include_entities=1', 'count': 100, 'since_id': 0, 'since_id_str': '0'}}\n"
     ]
    },
    {
     "name": "stderr",
     "output_type": "stream",
     "text": [
      "\r",
      " 59%|█████▊    | 264/450 [01:39<01:22,  2.27it/s]"
     ]
    },
    {
     "name": "stdout",
     "output_type": "stream",
     "text": [
      "{'statuses': [], 'search_metadata': {'completed_in': 0.007, 'max_id': 1386880217495441410, 'max_id_str': '1386880217495441410', 'query': '%23bitcoin+OR+%23BTC+since%3A2021-04-11+until%3A2021-04-19', 'refresh_url': '?since_id=1386880217495441410&q=%23bitcoin%20OR%20%23BTC%20since%3A2021-04-11%20until%3A2021-04-19&lang=en&result_type=recent&include_entities=1', 'count': 100, 'since_id': 0, 'since_id_str': '0'}}\n"
     ]
    },
    {
     "name": "stderr",
     "output_type": "stream",
     "text": [
      "\r",
      " 59%|█████▉    | 265/450 [01:39<01:21,  2.27it/s]"
     ]
    },
    {
     "name": "stdout",
     "output_type": "stream",
     "text": [
      "{'statuses': [], 'search_metadata': {'completed_in': 0.005, 'max_id': 1386880217495441410, 'max_id_str': '1386880217495441410', 'query': '%23bitcoin+OR+%23BTC+since%3A2021-04-11+until%3A2021-04-19', 'refresh_url': '?since_id=1386880217495441410&q=%23bitcoin%20OR%20%23BTC%20since%3A2021-04-11%20until%3A2021-04-19&lang=en&result_type=recent&include_entities=1', 'count': 100, 'since_id': 0, 'since_id_str': '0'}}\n"
     ]
    },
    {
     "name": "stderr",
     "output_type": "stream",
     "text": [
      "\r",
      " 59%|█████▉    | 266/450 [01:40<01:20,  2.28it/s]"
     ]
    },
    {
     "name": "stdout",
     "output_type": "stream",
     "text": [
      "{'statuses': [], 'search_metadata': {'completed_in': 0.006, 'max_id': 1386880217495441410, 'max_id_str': '1386880217495441410', 'query': '%23bitcoin+OR+%23BTC+since%3A2021-04-11+until%3A2021-04-19', 'refresh_url': '?since_id=1386880217495441410&q=%23bitcoin%20OR%20%23BTC%20since%3A2021-04-11%20until%3A2021-04-19&lang=en&result_type=recent&include_entities=1', 'count': 100, 'since_id': 0, 'since_id_str': '0'}}\n"
     ]
    },
    {
     "name": "stderr",
     "output_type": "stream",
     "text": [
      "\r",
      " 59%|█████▉    | 267/450 [01:40<01:20,  2.28it/s]"
     ]
    },
    {
     "name": "stdout",
     "output_type": "stream",
     "text": [
      "{'statuses': [], 'search_metadata': {'completed_in': 0.006, 'max_id': 1386880217495441410, 'max_id_str': '1386880217495441410', 'query': '%23bitcoin+OR+%23BTC+since%3A2021-04-11+until%3A2021-04-19', 'refresh_url': '?since_id=1386880217495441410&q=%23bitcoin%20OR%20%23BTC%20since%3A2021-04-11%20until%3A2021-04-19&lang=en&result_type=recent&include_entities=1', 'count': 100, 'since_id': 0, 'since_id_str': '0'}}\n"
     ]
    },
    {
     "name": "stderr",
     "output_type": "stream",
     "text": [
      "\r",
      " 60%|█████▉    | 268/450 [01:40<01:19,  2.29it/s]"
     ]
    },
    {
     "name": "stdout",
     "output_type": "stream",
     "text": [
      "{'statuses': [], 'search_metadata': {'completed_in': 0.005, 'max_id': 1386880217495441410, 'max_id_str': '1386880217495441410', 'query': '%23bitcoin+OR+%23BTC+since%3A2021-04-11+until%3A2021-04-19', 'refresh_url': '?since_id=1386880217495441410&q=%23bitcoin%20OR%20%23BTC%20since%3A2021-04-11%20until%3A2021-04-19&lang=en&result_type=recent&include_entities=1', 'count': 100, 'since_id': 0, 'since_id_str': '0'}}\n"
     ]
    },
    {
     "name": "stderr",
     "output_type": "stream",
     "text": [
      "\r",
      " 60%|█████▉    | 269/450 [01:41<01:18,  2.29it/s]"
     ]
    },
    {
     "name": "stdout",
     "output_type": "stream",
     "text": [
      "{'statuses': [], 'search_metadata': {'completed_in': 0.006, 'max_id': 1386880217495441410, 'max_id_str': '1386880217495441410', 'query': '%23bitcoin+OR+%23BTC+since%3A2021-04-11+until%3A2021-04-19', 'refresh_url': '?since_id=1386880217495441410&q=%23bitcoin%20OR%20%23BTC%20since%3A2021-04-11%20until%3A2021-04-19&lang=en&result_type=recent&include_entities=1', 'count': 100, 'since_id': 0, 'since_id_str': '0'}}\n"
     ]
    },
    {
     "name": "stderr",
     "output_type": "stream",
     "text": [
      "\r",
      " 60%|██████    | 270/450 [01:41<01:18,  2.30it/s]"
     ]
    },
    {
     "name": "stdout",
     "output_type": "stream",
     "text": [
      "{'statuses': [], 'search_metadata': {'completed_in': 0.006, 'max_id': 1386880217495441410, 'max_id_str': '1386880217495441410', 'query': '%23bitcoin+OR+%23BTC+since%3A2021-04-11+until%3A2021-04-19', 'refresh_url': '?since_id=1386880217495441410&q=%23bitcoin%20OR%20%23BTC%20since%3A2021-04-11%20until%3A2021-04-19&lang=en&result_type=recent&include_entities=1', 'count': 100, 'since_id': 0, 'since_id_str': '0'}}\n"
     ]
    },
    {
     "name": "stderr",
     "output_type": "stream",
     "text": [
      "\r",
      " 60%|██████    | 271/450 [01:42<01:17,  2.30it/s]"
     ]
    },
    {
     "name": "stdout",
     "output_type": "stream",
     "text": [
      "{'statuses': [], 'search_metadata': {'completed_in': 0.006, 'max_id': 1386880217495441410, 'max_id_str': '1386880217495441410', 'query': '%23bitcoin+OR+%23BTC+since%3A2021-04-11+until%3A2021-04-19', 'refresh_url': '?since_id=1386880217495441410&q=%23bitcoin%20OR%20%23BTC%20since%3A2021-04-11%20until%3A2021-04-19&lang=en&result_type=recent&include_entities=1', 'count': 100, 'since_id': 0, 'since_id_str': '0'}}\n"
     ]
    },
    {
     "name": "stderr",
     "output_type": "stream",
     "text": [
      "\r",
      " 60%|██████    | 272/450 [01:42<01:17,  2.29it/s]"
     ]
    },
    {
     "name": "stdout",
     "output_type": "stream",
     "text": [
      "{'statuses': [], 'search_metadata': {'completed_in': 0.006, 'max_id': 1386880217495441410, 'max_id_str': '1386880217495441410', 'query': '%23bitcoin+OR+%23BTC+since%3A2021-04-11+until%3A2021-04-19', 'refresh_url': '?since_id=1386880217495441410&q=%23bitcoin%20OR%20%23BTC%20since%3A2021-04-11%20until%3A2021-04-19&lang=en&result_type=recent&include_entities=1', 'count': 100, 'since_id': 0, 'since_id_str': '0'}}\n"
     ]
    },
    {
     "name": "stderr",
     "output_type": "stream",
     "text": [
      "\r",
      " 61%|██████    | 273/450 [01:43<01:17,  2.30it/s]"
     ]
    },
    {
     "name": "stdout",
     "output_type": "stream",
     "text": [
      "{'statuses': [], 'search_metadata': {'completed_in': 0.006, 'max_id': 1386880217495441410, 'max_id_str': '1386880217495441410', 'query': '%23bitcoin+OR+%23BTC+since%3A2021-04-11+until%3A2021-04-19', 'refresh_url': '?since_id=1386880217495441410&q=%23bitcoin%20OR%20%23BTC%20since%3A2021-04-11%20until%3A2021-04-19&lang=en&result_type=recent&include_entities=1', 'count': 100, 'since_id': 0, 'since_id_str': '0'}}\n"
     ]
    },
    {
     "name": "stderr",
     "output_type": "stream",
     "text": [
      "\r",
      " 61%|██████    | 274/450 [01:43<01:16,  2.30it/s]"
     ]
    },
    {
     "name": "stdout",
     "output_type": "stream",
     "text": [
      "{'statuses': [], 'search_metadata': {'completed_in': 0.007, 'max_id': 1386880217495441410, 'max_id_str': '1386880217495441410', 'query': '%23bitcoin+OR+%23BTC+since%3A2021-04-11+until%3A2021-04-19', 'refresh_url': '?since_id=1386880217495441410&q=%23bitcoin%20OR%20%23BTC%20since%3A2021-04-11%20until%3A2021-04-19&lang=en&result_type=recent&include_entities=1', 'count': 100, 'since_id': 0, 'since_id_str': '0'}}\n"
     ]
    },
    {
     "name": "stderr",
     "output_type": "stream",
     "text": [
      "\r",
      " 61%|██████    | 275/450 [01:43<01:15,  2.31it/s]"
     ]
    },
    {
     "name": "stdout",
     "output_type": "stream",
     "text": [
      "{'statuses': [], 'search_metadata': {'completed_in': 0.006, 'max_id': 1386880217495441410, 'max_id_str': '1386880217495441410', 'query': '%23bitcoin+OR+%23BTC+since%3A2021-04-11+until%3A2021-04-19', 'refresh_url': '?since_id=1386880217495441410&q=%23bitcoin%20OR%20%23BTC%20since%3A2021-04-11%20until%3A2021-04-19&lang=en&result_type=recent&include_entities=1', 'count': 100, 'since_id': 0, 'since_id_str': '0'}}\n"
     ]
    },
    {
     "name": "stderr",
     "output_type": "stream",
     "text": [
      "\r",
      " 61%|██████▏   | 276/450 [01:44<01:15,  2.31it/s]"
     ]
    },
    {
     "name": "stdout",
     "output_type": "stream",
     "text": [
      "{'statuses': [], 'search_metadata': {'completed_in': 0.007, 'max_id': 1386880217495441410, 'max_id_str': '1386880217495441410', 'query': '%23bitcoin+OR+%23BTC+since%3A2021-04-11+until%3A2021-04-19', 'refresh_url': '?since_id=1386880217495441410&q=%23bitcoin%20OR%20%23BTC%20since%3A2021-04-11%20until%3A2021-04-19&lang=en&result_type=recent&include_entities=1', 'count': 100, 'since_id': 0, 'since_id_str': '0'}}\n"
     ]
    },
    {
     "name": "stderr",
     "output_type": "stream",
     "text": [
      "\r",
      " 62%|██████▏   | 277/450 [01:44<01:15,  2.30it/s]"
     ]
    },
    {
     "name": "stdout",
     "output_type": "stream",
     "text": [
      "{'statuses': [], 'search_metadata': {'completed_in': 0.006, 'max_id': 1386880217495441410, 'max_id_str': '1386880217495441410', 'query': '%23bitcoin+OR+%23BTC+since%3A2021-04-11+until%3A2021-04-19', 'refresh_url': '?since_id=1386880217495441410&q=%23bitcoin%20OR%20%23BTC%20since%3A2021-04-11%20until%3A2021-04-19&lang=en&result_type=recent&include_entities=1', 'count': 100, 'since_id': 0, 'since_id_str': '0'}}\n"
     ]
    },
    {
     "name": "stderr",
     "output_type": "stream",
     "text": [
      "\r",
      " 62%|██████▏   | 278/450 [01:45<01:14,  2.30it/s]"
     ]
    },
    {
     "name": "stdout",
     "output_type": "stream",
     "text": [
      "{'statuses': [], 'search_metadata': {'completed_in': 0.005, 'max_id': 1386880217495441410, 'max_id_str': '1386880217495441410', 'query': '%23bitcoin+OR+%23BTC+since%3A2021-04-11+until%3A2021-04-19', 'refresh_url': '?since_id=1386880217495441410&q=%23bitcoin%20OR%20%23BTC%20since%3A2021-04-11%20until%3A2021-04-19&lang=en&result_type=recent&include_entities=1', 'count': 100, 'since_id': 0, 'since_id_str': '0'}}\n"
     ]
    },
    {
     "name": "stderr",
     "output_type": "stream",
     "text": [
      "\r",
      " 62%|██████▏   | 279/450 [01:45<01:14,  2.29it/s]"
     ]
    },
    {
     "name": "stdout",
     "output_type": "stream",
     "text": [
      "{'statuses': [], 'search_metadata': {'completed_in': 0.007, 'max_id': 1386880217495441410, 'max_id_str': '1386880217495441410', 'query': '%23bitcoin+OR+%23BTC+since%3A2021-04-11+until%3A2021-04-19', 'refresh_url': '?since_id=1386880217495441410&q=%23bitcoin%20OR%20%23BTC%20since%3A2021-04-11%20until%3A2021-04-19&lang=en&result_type=recent&include_entities=1', 'count': 100, 'since_id': 0, 'since_id_str': '0'}}\n"
     ]
    },
    {
     "name": "stderr",
     "output_type": "stream",
     "text": [
      "\r",
      " 62%|██████▏   | 280/450 [01:46<01:14,  2.29it/s]"
     ]
    },
    {
     "name": "stdout",
     "output_type": "stream",
     "text": [
      "{'statuses': [], 'search_metadata': {'completed_in': 0.007, 'max_id': 1386880217495441410, 'max_id_str': '1386880217495441410', 'query': '%23bitcoin+OR+%23BTC+since%3A2021-04-11+until%3A2021-04-19', 'refresh_url': '?since_id=1386880217495441410&q=%23bitcoin%20OR%20%23BTC%20since%3A2021-04-11%20until%3A2021-04-19&lang=en&result_type=recent&include_entities=1', 'count': 100, 'since_id': 0, 'since_id_str': '0'}}\n"
     ]
    },
    {
     "name": "stderr",
     "output_type": "stream",
     "text": [
      "\r",
      " 62%|██████▏   | 281/450 [01:46<01:13,  2.29it/s]"
     ]
    },
    {
     "name": "stdout",
     "output_type": "stream",
     "text": [
      "{'statuses': [], 'search_metadata': {'completed_in': 0.006, 'max_id': 1386880217495441410, 'max_id_str': '1386880217495441410', 'query': '%23bitcoin+OR+%23BTC+since%3A2021-04-11+until%3A2021-04-19', 'refresh_url': '?since_id=1386880217495441410&q=%23bitcoin%20OR%20%23BTC%20since%3A2021-04-11%20until%3A2021-04-19&lang=en&result_type=recent&include_entities=1', 'count': 100, 'since_id': 0, 'since_id_str': '0'}}\n"
     ]
    },
    {
     "name": "stderr",
     "output_type": "stream",
     "text": [
      "\r",
      " 63%|██████▎   | 282/450 [01:47<01:13,  2.28it/s]"
     ]
    },
    {
     "name": "stdout",
     "output_type": "stream",
     "text": [
      "{'statuses': [], 'search_metadata': {'completed_in': 0.006, 'max_id': 1386880217495441410, 'max_id_str': '1386880217495441410', 'query': '%23bitcoin+OR+%23BTC+since%3A2021-04-11+until%3A2021-04-19', 'refresh_url': '?since_id=1386880217495441410&q=%23bitcoin%20OR%20%23BTC%20since%3A2021-04-11%20until%3A2021-04-19&lang=en&result_type=recent&include_entities=1', 'count': 100, 'since_id': 0, 'since_id_str': '0'}}\n"
     ]
    },
    {
     "name": "stderr",
     "output_type": "stream",
     "text": [
      "\r",
      " 63%|██████▎   | 283/450 [01:47<01:13,  2.28it/s]"
     ]
    },
    {
     "name": "stdout",
     "output_type": "stream",
     "text": [
      "{'statuses': [], 'search_metadata': {'completed_in': 0.006, 'max_id': 1386880217495441410, 'max_id_str': '1386880217495441410', 'query': '%23bitcoin+OR+%23BTC+since%3A2021-04-11+until%3A2021-04-19', 'refresh_url': '?since_id=1386880217495441410&q=%23bitcoin%20OR%20%23BTC%20since%3A2021-04-11%20until%3A2021-04-19&lang=en&result_type=recent&include_entities=1', 'count': 100, 'since_id': 0, 'since_id_str': '0'}}\n"
     ]
    },
    {
     "name": "stderr",
     "output_type": "stream",
     "text": [
      "\r",
      " 63%|██████▎   | 284/450 [01:47<01:12,  2.28it/s]"
     ]
    },
    {
     "name": "stdout",
     "output_type": "stream",
     "text": [
      "{'statuses': [], 'search_metadata': {'completed_in': 0.007, 'max_id': 1386880217495441410, 'max_id_str': '1386880217495441410', 'query': '%23bitcoin+OR+%23BTC+since%3A2021-04-11+until%3A2021-04-19', 'refresh_url': '?since_id=1386880217495441410&q=%23bitcoin%20OR%20%23BTC%20since%3A2021-04-11%20until%3A2021-04-19&lang=en&result_type=recent&include_entities=1', 'count': 100, 'since_id': 0, 'since_id_str': '0'}}\n"
     ]
    },
    {
     "name": "stderr",
     "output_type": "stream",
     "text": [
      "\r",
      " 63%|██████▎   | 285/450 [01:48<01:12,  2.28it/s]"
     ]
    },
    {
     "name": "stdout",
     "output_type": "stream",
     "text": [
      "{'statuses': [], 'search_metadata': {'completed_in': 0.008, 'max_id': 1386880298604896260, 'max_id_str': '1386880298604896260', 'query': '%23bitcoin+OR+%23BTC+since%3A2021-04-11+until%3A2021-04-19', 'refresh_url': '?since_id=1386880298604896260&q=%23bitcoin%20OR%20%23BTC%20since%3A2021-04-11%20until%3A2021-04-19&lang=en&result_type=recent&include_entities=1', 'count': 100, 'since_id': 0, 'since_id_str': '0'}}\n"
     ]
    },
    {
     "name": "stderr",
     "output_type": "stream",
     "text": [
      "\r",
      " 64%|██████▎   | 286/450 [01:48<01:11,  2.29it/s]"
     ]
    },
    {
     "name": "stdout",
     "output_type": "stream",
     "text": [
      "{'statuses': [], 'search_metadata': {'completed_in': 0.006, 'max_id': 1386880298604896260, 'max_id_str': '1386880298604896260', 'query': '%23bitcoin+OR+%23BTC+since%3A2021-04-11+until%3A2021-04-19', 'refresh_url': '?since_id=1386880298604896260&q=%23bitcoin%20OR%20%23BTC%20since%3A2021-04-11%20until%3A2021-04-19&lang=en&result_type=recent&include_entities=1', 'count': 100, 'since_id': 0, 'since_id_str': '0'}}\n"
     ]
    },
    {
     "name": "stderr",
     "output_type": "stream",
     "text": [
      "\r",
      " 64%|██████▍   | 287/450 [01:49<01:10,  2.30it/s]"
     ]
    },
    {
     "name": "stdout",
     "output_type": "stream",
     "text": [
      "{'statuses': [], 'search_metadata': {'completed_in': 0.008, 'max_id': 1386880302493011972, 'max_id_str': '1386880302493011972', 'query': '%23bitcoin+OR+%23BTC+since%3A2021-04-11+until%3A2021-04-19', 'refresh_url': '?since_id=1386880302493011972&q=%23bitcoin%20OR%20%23BTC%20since%3A2021-04-11%20until%3A2021-04-19&lang=en&result_type=recent&include_entities=1', 'count': 100, 'since_id': 0, 'since_id_str': '0'}}\n"
     ]
    },
    {
     "name": "stderr",
     "output_type": "stream",
     "text": [
      "\r",
      " 64%|██████▍   | 288/450 [01:49<01:10,  2.29it/s]"
     ]
    },
    {
     "name": "stdout",
     "output_type": "stream",
     "text": [
      "{'statuses': [], 'search_metadata': {'completed_in': 0.007, 'max_id': 1386880302493011972, 'max_id_str': '1386880302493011972', 'query': '%23bitcoin+OR+%23BTC+since%3A2021-04-11+until%3A2021-04-19', 'refresh_url': '?since_id=1386880302493011972&q=%23bitcoin%20OR%20%23BTC%20since%3A2021-04-11%20until%3A2021-04-19&lang=en&result_type=recent&include_entities=1', 'count': 100, 'since_id': 0, 'since_id_str': '0'}}\n"
     ]
    },
    {
     "name": "stderr",
     "output_type": "stream",
     "text": [
      "\r",
      " 64%|██████▍   | 289/450 [01:50<01:13,  2.19it/s]"
     ]
    },
    {
     "name": "stdout",
     "output_type": "stream",
     "text": [
      "{'statuses': [], 'search_metadata': {'completed_in': 0.006, 'max_id': 1386880302493011972, 'max_id_str': '1386880302493011972', 'query': '%23bitcoin+OR+%23BTC+since%3A2021-04-11+until%3A2021-04-19', 'refresh_url': '?since_id=1386880302493011972&q=%23bitcoin%20OR%20%23BTC%20since%3A2021-04-11%20until%3A2021-04-19&lang=en&result_type=recent&include_entities=1', 'count': 100, 'since_id': 0, 'since_id_str': '0'}}\n"
     ]
    },
    {
     "name": "stderr",
     "output_type": "stream",
     "text": [
      "\r",
      " 64%|██████▍   | 290/450 [01:50<01:16,  2.08it/s]"
     ]
    },
    {
     "name": "stdout",
     "output_type": "stream",
     "text": [
      "{'statuses': [], 'search_metadata': {'completed_in': 0.007, 'max_id': 1386880302493011972, 'max_id_str': '1386880302493011972', 'query': '%23bitcoin+OR+%23BTC+since%3A2021-04-11+until%3A2021-04-19', 'refresh_url': '?since_id=1386880302493011972&q=%23bitcoin%20OR%20%23BTC%20since%3A2021-04-11%20until%3A2021-04-19&lang=en&result_type=recent&include_entities=1', 'count': 100, 'since_id': 0, 'since_id_str': '0'}}\n"
     ]
    },
    {
     "name": "stderr",
     "output_type": "stream",
     "text": [
      "\r",
      " 65%|██████▍   | 291/450 [01:51<01:14,  2.15it/s]"
     ]
    },
    {
     "name": "stdout",
     "output_type": "stream",
     "text": [
      "{'statuses': [], 'search_metadata': {'completed_in': 0.006, 'max_id': 1386880302493011972, 'max_id_str': '1386880302493011972', 'query': '%23bitcoin+OR+%23BTC+since%3A2021-04-11+until%3A2021-04-19', 'refresh_url': '?since_id=1386880302493011972&q=%23bitcoin%20OR%20%23BTC%20since%3A2021-04-11%20until%3A2021-04-19&lang=en&result_type=recent&include_entities=1', 'count': 100, 'since_id': 0, 'since_id_str': '0'}}\n"
     ]
    },
    {
     "name": "stderr",
     "output_type": "stream",
     "text": [
      "\r",
      " 65%|██████▍   | 292/450 [01:51<01:11,  2.20it/s]"
     ]
    },
    {
     "name": "stdout",
     "output_type": "stream",
     "text": [
      "{'statuses': [], 'search_metadata': {'completed_in': 0.005, 'max_id': 1386880302493011972, 'max_id_str': '1386880302493011972', 'query': '%23bitcoin+OR+%23BTC+since%3A2021-04-11+until%3A2021-04-19', 'refresh_url': '?since_id=1386880302493011972&q=%23bitcoin%20OR%20%23BTC%20since%3A2021-04-11%20until%3A2021-04-19&lang=en&result_type=recent&include_entities=1', 'count': 100, 'since_id': 0, 'since_id_str': '0'}}\n"
     ]
    },
    {
     "name": "stderr",
     "output_type": "stream",
     "text": [
      "\r",
      " 65%|██████▌   | 293/450 [01:52<01:10,  2.22it/s]"
     ]
    },
    {
     "name": "stdout",
     "output_type": "stream",
     "text": [
      "{'statuses': [], 'search_metadata': {'completed_in': 0.006, 'max_id': 1386880302493011972, 'max_id_str': '1386880302493011972', 'query': '%23bitcoin+OR+%23BTC+since%3A2021-04-11+until%3A2021-04-19', 'refresh_url': '?since_id=1386880302493011972&q=%23bitcoin%20OR%20%23BTC%20since%3A2021-04-11%20until%3A2021-04-19&lang=en&result_type=recent&include_entities=1', 'count': 100, 'since_id': 0, 'since_id_str': '0'}}\n"
     ]
    },
    {
     "name": "stderr",
     "output_type": "stream",
     "text": [
      "\r",
      " 65%|██████▌   | 294/450 [01:52<01:10,  2.22it/s]"
     ]
    },
    {
     "name": "stdout",
     "output_type": "stream",
     "text": [
      "{'statuses': [], 'search_metadata': {'completed_in': 0.006, 'max_id': 1386880302493011972, 'max_id_str': '1386880302493011972', 'query': '%23bitcoin+OR+%23BTC+since%3A2021-04-11+until%3A2021-04-19', 'refresh_url': '?since_id=1386880302493011972&q=%23bitcoin%20OR%20%23BTC%20since%3A2021-04-11%20until%3A2021-04-19&lang=en&result_type=recent&include_entities=1', 'count': 100, 'since_id': 0, 'since_id_str': '0'}}\n"
     ]
    },
    {
     "name": "stderr",
     "output_type": "stream",
     "text": [
      "\r",
      " 66%|██████▌   | 295/450 [01:52<01:09,  2.23it/s]"
     ]
    },
    {
     "name": "stdout",
     "output_type": "stream",
     "text": [
      "{'statuses': [], 'search_metadata': {'completed_in': 0.006, 'max_id': 1386880302493011972, 'max_id_str': '1386880302493011972', 'query': '%23bitcoin+OR+%23BTC+since%3A2021-04-11+until%3A2021-04-19', 'refresh_url': '?since_id=1386880302493011972&q=%23bitcoin%20OR%20%23BTC%20since%3A2021-04-11%20until%3A2021-04-19&lang=en&result_type=recent&include_entities=1', 'count': 100, 'since_id': 0, 'since_id_str': '0'}}\n"
     ]
    },
    {
     "name": "stderr",
     "output_type": "stream",
     "text": [
      "\r",
      " 66%|██████▌   | 296/450 [01:53<01:08,  2.24it/s]"
     ]
    },
    {
     "name": "stdout",
     "output_type": "stream",
     "text": [
      "{'statuses': [], 'search_metadata': {'completed_in': 0.006, 'max_id': 1386880302493011972, 'max_id_str': '1386880302493011972', 'query': '%23bitcoin+OR+%23BTC+since%3A2021-04-11+until%3A2021-04-19', 'refresh_url': '?since_id=1386880302493011972&q=%23bitcoin%20OR%20%23BTC%20since%3A2021-04-11%20until%3A2021-04-19&lang=en&result_type=recent&include_entities=1', 'count': 100, 'since_id': 0, 'since_id_str': '0'}}\n"
     ]
    },
    {
     "name": "stderr",
     "output_type": "stream",
     "text": [
      "\r",
      " 66%|██████▌   | 297/450 [01:53<01:07,  2.26it/s]"
     ]
    },
    {
     "name": "stdout",
     "output_type": "stream",
     "text": [
      "{'statuses': [], 'search_metadata': {'completed_in': 0.006, 'max_id': 1386880302493011972, 'max_id_str': '1386880302493011972', 'query': '%23bitcoin+OR+%23BTC+since%3A2021-04-11+until%3A2021-04-19', 'refresh_url': '?since_id=1386880302493011972&q=%23bitcoin%20OR%20%23BTC%20since%3A2021-04-11%20until%3A2021-04-19&lang=en&result_type=recent&include_entities=1', 'count': 100, 'since_id': 0, 'since_id_str': '0'}}\n"
     ]
    },
    {
     "name": "stderr",
     "output_type": "stream",
     "text": [
      "\r",
      " 66%|██████▌   | 298/450 [01:54<01:07,  2.27it/s]"
     ]
    },
    {
     "name": "stdout",
     "output_type": "stream",
     "text": [
      "{'statuses': [], 'search_metadata': {'completed_in': 0.006, 'max_id': 1386880302493011972, 'max_id_str': '1386880302493011972', 'query': '%23bitcoin+OR+%23BTC+since%3A2021-04-11+until%3A2021-04-19', 'refresh_url': '?since_id=1386880302493011972&q=%23bitcoin%20OR%20%23BTC%20since%3A2021-04-11%20until%3A2021-04-19&lang=en&result_type=recent&include_entities=1', 'count': 100, 'since_id': 0, 'since_id_str': '0'}}\n"
     ]
    },
    {
     "name": "stderr",
     "output_type": "stream",
     "text": [
      "\r",
      " 66%|██████▋   | 299/450 [01:54<01:06,  2.27it/s]"
     ]
    },
    {
     "name": "stdout",
     "output_type": "stream",
     "text": [
      "{'statuses': [], 'search_metadata': {'completed_in': 0.007, 'max_id': 1386880302493011972, 'max_id_str': '1386880302493011972', 'query': '%23bitcoin+OR+%23BTC+since%3A2021-04-11+until%3A2021-04-19', 'refresh_url': '?since_id=1386880302493011972&q=%23bitcoin%20OR%20%23BTC%20since%3A2021-04-11%20until%3A2021-04-19&lang=en&result_type=recent&include_entities=1', 'count': 100, 'since_id': 0, 'since_id_str': '0'}}\n"
     ]
    },
    {
     "name": "stderr",
     "output_type": "stream",
     "text": [
      "\r",
      " 67%|██████▋   | 300/450 [01:55<01:05,  2.29it/s]"
     ]
    },
    {
     "name": "stdout",
     "output_type": "stream",
     "text": [
      "{'statuses': [], 'search_metadata': {'completed_in': 0.006, 'max_id': 1386880302493011972, 'max_id_str': '1386880302493011972', 'query': '%23bitcoin+OR+%23BTC+since%3A2021-04-11+until%3A2021-04-19', 'refresh_url': '?since_id=1386880302493011972&q=%23bitcoin%20OR%20%23BTC%20since%3A2021-04-11%20until%3A2021-04-19&lang=en&result_type=recent&include_entities=1', 'count': 100, 'since_id': 0, 'since_id_str': '0'}}\n"
     ]
    },
    {
     "name": "stderr",
     "output_type": "stream",
     "text": [
      "\r",
      " 67%|██████▋   | 301/450 [01:56<01:35,  1.56it/s]"
     ]
    },
    {
     "name": "stdout",
     "output_type": "stream",
     "text": [
      "{'statuses': [], 'search_metadata': {'completed_in': 0.005, 'max_id': 1386880302493011972, 'max_id_str': '1386880302493011972', 'query': '%23bitcoin+OR+%23BTC+since%3A2021-04-11+until%3A2021-04-19', 'refresh_url': '?since_id=1386880302493011972&q=%23bitcoin%20OR%20%23BTC%20since%3A2021-04-11%20until%3A2021-04-19&lang=en&result_type=recent&include_entities=1', 'count': 100, 'since_id': 0, 'since_id_str': '0'}}\n"
     ]
    },
    {
     "name": "stderr",
     "output_type": "stream",
     "text": [
      "\r",
      " 67%|██████▋   | 302/450 [01:56<01:24,  1.75it/s]"
     ]
    },
    {
     "name": "stdout",
     "output_type": "stream",
     "text": [
      "{'statuses': [], 'search_metadata': {'completed_in': 0.005, 'max_id': 1386880302493011972, 'max_id_str': '1386880302493011972', 'query': '%23bitcoin+OR+%23BTC+since%3A2021-04-11+until%3A2021-04-19', 'refresh_url': '?since_id=1386880302493011972&q=%23bitcoin%20OR%20%23BTC%20since%3A2021-04-11%20until%3A2021-04-19&lang=en&result_type=recent&include_entities=1', 'count': 100, 'since_id': 0, 'since_id_str': '0'}}\n"
     ]
    },
    {
     "name": "stderr",
     "output_type": "stream",
     "text": [
      "\r",
      " 67%|██████▋   | 303/450 [01:57<01:17,  1.91it/s]"
     ]
    },
    {
     "name": "stdout",
     "output_type": "stream",
     "text": [
      "{'statuses': [], 'search_metadata': {'completed_in': 0.006, 'max_id': 1386880302493011972, 'max_id_str': '1386880302493011972', 'query': '%23bitcoin+OR+%23BTC+since%3A2021-04-11+until%3A2021-04-19', 'refresh_url': '?since_id=1386880302493011972&q=%23bitcoin%20OR%20%23BTC%20since%3A2021-04-11%20until%3A2021-04-19&lang=en&result_type=recent&include_entities=1', 'count': 100, 'since_id': 0, 'since_id_str': '0'}}\n"
     ]
    },
    {
     "name": "stderr",
     "output_type": "stream",
     "text": [
      "\r",
      " 68%|██████▊   | 304/450 [01:57<01:11,  2.03it/s]"
     ]
    },
    {
     "name": "stdout",
     "output_type": "stream",
     "text": [
      "{'statuses': [], 'search_metadata': {'completed_in': 0.007, 'max_id': 1386880302493011972, 'max_id_str': '1386880302493011972', 'query': '%23bitcoin+OR+%23BTC+since%3A2021-04-11+until%3A2021-04-19', 'refresh_url': '?since_id=1386880302493011972&q=%23bitcoin%20OR%20%23BTC%20since%3A2021-04-11%20until%3A2021-04-19&lang=en&result_type=recent&include_entities=1', 'count': 100, 'since_id': 0, 'since_id_str': '0'}}\n"
     ]
    },
    {
     "name": "stderr",
     "output_type": "stream",
     "text": [
      "\r",
      " 68%|██████▊   | 305/450 [01:57<01:08,  2.13it/s]"
     ]
    },
    {
     "name": "stdout",
     "output_type": "stream",
     "text": [
      "{'statuses': [], 'search_metadata': {'completed_in': 0.007, 'max_id': 1386880302493011972, 'max_id_str': '1386880302493011972', 'query': '%23bitcoin+OR+%23BTC+since%3A2021-04-11+until%3A2021-04-19', 'refresh_url': '?since_id=1386880302493011972&q=%23bitcoin%20OR%20%23BTC%20since%3A2021-04-11%20until%3A2021-04-19&lang=en&result_type=recent&include_entities=1', 'count': 100, 'since_id': 0, 'since_id_str': '0'}}\n"
     ]
    },
    {
     "name": "stderr",
     "output_type": "stream",
     "text": [
      "\r",
      " 68%|██████▊   | 306/450 [01:58<01:05,  2.20it/s]"
     ]
    },
    {
     "name": "stdout",
     "output_type": "stream",
     "text": [
      "{'statuses': [], 'search_metadata': {'completed_in': 0.006, 'max_id': 1386880302493011972, 'max_id_str': '1386880302493011972', 'query': '%23bitcoin+OR+%23BTC+since%3A2021-04-11+until%3A2021-04-19', 'refresh_url': '?since_id=1386880302493011972&q=%23bitcoin%20OR%20%23BTC%20since%3A2021-04-11%20until%3A2021-04-19&lang=en&result_type=recent&include_entities=1', 'count': 100, 'since_id': 0, 'since_id_str': '0'}}\n"
     ]
    },
    {
     "name": "stderr",
     "output_type": "stream",
     "text": [
      "\r",
      " 68%|██████▊   | 307/450 [01:58<01:03,  2.27it/s]"
     ]
    },
    {
     "name": "stdout",
     "output_type": "stream",
     "text": [
      "{'statuses': [], 'search_metadata': {'completed_in': 0.007, 'max_id': 1386880302493011972, 'max_id_str': '1386880302493011972', 'query': '%23bitcoin+OR+%23BTC+since%3A2021-04-11+until%3A2021-04-19', 'refresh_url': '?since_id=1386880302493011972&q=%23bitcoin%20OR%20%23BTC%20since%3A2021-04-11%20until%3A2021-04-19&lang=en&result_type=recent&include_entities=1', 'count': 100, 'since_id': 0, 'since_id_str': '0'}}\n"
     ]
    },
    {
     "name": "stderr",
     "output_type": "stream",
     "text": [
      "\r",
      " 68%|██████▊   | 308/450 [01:59<01:01,  2.31it/s]"
     ]
    },
    {
     "name": "stdout",
     "output_type": "stream",
     "text": [
      "{'statuses': [], 'search_metadata': {'completed_in': 0.006, 'max_id': 1386880302493011972, 'max_id_str': '1386880302493011972', 'query': '%23bitcoin+OR+%23BTC+since%3A2021-04-11+until%3A2021-04-19', 'refresh_url': '?since_id=1386880302493011972&q=%23bitcoin%20OR%20%23BTC%20since%3A2021-04-11%20until%3A2021-04-19&lang=en&result_type=recent&include_entities=1', 'count': 100, 'since_id': 0, 'since_id_str': '0'}}\n"
     ]
    },
    {
     "name": "stderr",
     "output_type": "stream",
     "text": [
      "\r",
      " 69%|██████▊   | 309/450 [01:59<01:00,  2.34it/s]"
     ]
    },
    {
     "name": "stdout",
     "output_type": "stream",
     "text": [
      "{'statuses': [], 'search_metadata': {'completed_in': 0.007, 'max_id': 1386880302493011972, 'max_id_str': '1386880302493011972', 'query': '%23bitcoin+OR+%23BTC+since%3A2021-04-11+until%3A2021-04-19', 'refresh_url': '?since_id=1386880302493011972&q=%23bitcoin%20OR%20%23BTC%20since%3A2021-04-11%20until%3A2021-04-19&lang=en&result_type=recent&include_entities=1', 'count': 100, 'since_id': 0, 'since_id_str': '0'}}\n"
     ]
    },
    {
     "name": "stderr",
     "output_type": "stream",
     "text": [
      "\r",
      " 69%|██████▉   | 310/450 [01:59<00:59,  2.36it/s]"
     ]
    },
    {
     "name": "stdout",
     "output_type": "stream",
     "text": [
      "{'statuses': [], 'search_metadata': {'completed_in': 0.005, 'max_id': 1386880302493011972, 'max_id_str': '1386880302493011972', 'query': '%23bitcoin+OR+%23BTC+since%3A2021-04-11+until%3A2021-04-19', 'refresh_url': '?since_id=1386880302493011972&q=%23bitcoin%20OR%20%23BTC%20since%3A2021-04-11%20until%3A2021-04-19&lang=en&result_type=recent&include_entities=1', 'count': 100, 'since_id': 0, 'since_id_str': '0'}}\n"
     ]
    },
    {
     "name": "stderr",
     "output_type": "stream",
     "text": [
      "\r",
      " 69%|██████▉   | 311/450 [02:00<00:59,  2.35it/s]"
     ]
    },
    {
     "name": "stdout",
     "output_type": "stream",
     "text": [
      "{'statuses': [], 'search_metadata': {'completed_in': 0.005, 'max_id': 1386880302493011972, 'max_id_str': '1386880302493011972', 'query': '%23bitcoin+OR+%23BTC+since%3A2021-04-11+until%3A2021-04-19', 'refresh_url': '?since_id=1386880302493011972&q=%23bitcoin%20OR%20%23BTC%20since%3A2021-04-11%20until%3A2021-04-19&lang=en&result_type=recent&include_entities=1', 'count': 100, 'since_id': 0, 'since_id_str': '0'}}\n"
     ]
    },
    {
     "name": "stderr",
     "output_type": "stream",
     "text": [
      "\r",
      " 69%|██████▉   | 312/450 [02:00<00:58,  2.38it/s]"
     ]
    },
    {
     "name": "stdout",
     "output_type": "stream",
     "text": [
      "{'statuses': [], 'search_metadata': {'completed_in': 0.006, 'max_id': 1386880302493011972, 'max_id_str': '1386880302493011972', 'query': '%23bitcoin+OR+%23BTC+since%3A2021-04-11+until%3A2021-04-19', 'refresh_url': '?since_id=1386880302493011972&q=%23bitcoin%20OR%20%23BTC%20since%3A2021-04-11%20until%3A2021-04-19&lang=en&result_type=recent&include_entities=1', 'count': 100, 'since_id': 0, 'since_id_str': '0'}}\n"
     ]
    },
    {
     "name": "stderr",
     "output_type": "stream",
     "text": [
      "\r",
      " 70%|██████▉   | 313/450 [02:01<00:57,  2.39it/s]"
     ]
    },
    {
     "name": "stdout",
     "output_type": "stream",
     "text": [
      "{'statuses': [], 'search_metadata': {'completed_in': 0.009, 'max_id': 1386880352744968192, 'max_id_str': '1386880352744968192', 'query': '%23bitcoin+OR+%23BTC+since%3A2021-04-11+until%3A2021-04-19', 'refresh_url': '?since_id=1386880352744968192&q=%23bitcoin%20OR%20%23BTC%20since%3A2021-04-11%20until%3A2021-04-19&lang=en&result_type=recent&include_entities=1', 'count': 100, 'since_id': 0, 'since_id_str': '0'}}\n"
     ]
    },
    {
     "name": "stderr",
     "output_type": "stream",
     "text": [
      "\r",
      " 70%|██████▉   | 314/450 [02:01<00:56,  2.39it/s]"
     ]
    },
    {
     "name": "stdout",
     "output_type": "stream",
     "text": [
      "{'statuses': [], 'search_metadata': {'completed_in': 0.006, 'max_id': 1386880352744968192, 'max_id_str': '1386880352744968192', 'query': '%23bitcoin+OR+%23BTC+since%3A2021-04-11+until%3A2021-04-19', 'refresh_url': '?since_id=1386880352744968192&q=%23bitcoin%20OR%20%23BTC%20since%3A2021-04-11%20until%3A2021-04-19&lang=en&result_type=recent&include_entities=1', 'count': 100, 'since_id': 0, 'since_id_str': '0'}}\n"
     ]
    },
    {
     "name": "stderr",
     "output_type": "stream",
     "text": [
      "\r",
      " 70%|███████   | 315/450 [02:02<00:56,  2.39it/s]"
     ]
    },
    {
     "name": "stdout",
     "output_type": "stream",
     "text": [
      "{'statuses': [], 'search_metadata': {'completed_in': 0.005, 'max_id': 1386880352744968192, 'max_id_str': '1386880352744968192', 'query': '%23bitcoin+OR+%23BTC+since%3A2021-04-11+until%3A2021-04-19', 'refresh_url': '?since_id=1386880352744968192&q=%23bitcoin%20OR%20%23BTC%20since%3A2021-04-11%20until%3A2021-04-19&lang=en&result_type=recent&include_entities=1', 'count': 100, 'since_id': 0, 'since_id_str': '0'}}\n"
     ]
    },
    {
     "name": "stderr",
     "output_type": "stream",
     "text": [
      "\r",
      " 70%|███████   | 316/450 [02:02<00:55,  2.40it/s]"
     ]
    },
    {
     "name": "stdout",
     "output_type": "stream",
     "text": [
      "{'statuses': [], 'search_metadata': {'completed_in': 0.006, 'max_id': 1386880352744968192, 'max_id_str': '1386880352744968192', 'query': '%23bitcoin+OR+%23BTC+since%3A2021-04-11+until%3A2021-04-19', 'refresh_url': '?since_id=1386880352744968192&q=%23bitcoin%20OR%20%23BTC%20since%3A2021-04-11%20until%3A2021-04-19&lang=en&result_type=recent&include_entities=1', 'count': 100, 'since_id': 0, 'since_id_str': '0'}}\n"
     ]
    },
    {
     "name": "stderr",
     "output_type": "stream",
     "text": [
      "\r",
      " 70%|███████   | 317/450 [02:02<00:55,  2.40it/s]"
     ]
    },
    {
     "name": "stdout",
     "output_type": "stream",
     "text": [
      "{'statuses': [], 'search_metadata': {'completed_in': 0.006, 'max_id': 1386880352744968192, 'max_id_str': '1386880352744968192', 'query': '%23bitcoin+OR+%23BTC+since%3A2021-04-11+until%3A2021-04-19', 'refresh_url': '?since_id=1386880352744968192&q=%23bitcoin%20OR%20%23BTC%20since%3A2021-04-11%20until%3A2021-04-19&lang=en&result_type=recent&include_entities=1', 'count': 100, 'since_id': 0, 'since_id_str': '0'}}\n"
     ]
    },
    {
     "name": "stderr",
     "output_type": "stream",
     "text": [
      "\r",
      " 71%|███████   | 318/450 [02:03<00:54,  2.40it/s]"
     ]
    },
    {
     "name": "stdout",
     "output_type": "stream",
     "text": [
      "{'statuses': [], 'search_metadata': {'completed_in': 0.007, 'max_id': 1386880352744968192, 'max_id_str': '1386880352744968192', 'query': '%23bitcoin+OR+%23BTC+since%3A2021-04-11+until%3A2021-04-19', 'refresh_url': '?since_id=1386880352744968192&q=%23bitcoin%20OR%20%23BTC%20since%3A2021-04-11%20until%3A2021-04-19&lang=en&result_type=recent&include_entities=1', 'count': 100, 'since_id': 0, 'since_id_str': '0'}}\n"
     ]
    },
    {
     "name": "stderr",
     "output_type": "stream",
     "text": [
      "\r",
      " 71%|███████   | 319/450 [02:03<00:54,  2.41it/s]"
     ]
    },
    {
     "name": "stdout",
     "output_type": "stream",
     "text": [
      "{'statuses': [], 'search_metadata': {'completed_in': 0.006, 'max_id': 1386880352744968192, 'max_id_str': '1386880352744968192', 'query': '%23bitcoin+OR+%23BTC+since%3A2021-04-11+until%3A2021-04-19', 'refresh_url': '?since_id=1386880352744968192&q=%23bitcoin%20OR%20%23BTC%20since%3A2021-04-11%20until%3A2021-04-19&lang=en&result_type=recent&include_entities=1', 'count': 100, 'since_id': 0, 'since_id_str': '0'}}\n"
     ]
    },
    {
     "name": "stderr",
     "output_type": "stream",
     "text": [
      "\r",
      " 71%|███████   | 320/450 [02:04<00:54,  2.41it/s]"
     ]
    },
    {
     "name": "stdout",
     "output_type": "stream",
     "text": [
      "{'statuses': [], 'search_metadata': {'completed_in': 0.006, 'max_id': 1386880352744968192, 'max_id_str': '1386880352744968192', 'query': '%23bitcoin+OR+%23BTC+since%3A2021-04-11+until%3A2021-04-19', 'refresh_url': '?since_id=1386880352744968192&q=%23bitcoin%20OR%20%23BTC%20since%3A2021-04-11%20until%3A2021-04-19&lang=en&result_type=recent&include_entities=1', 'count': 100, 'since_id': 0, 'since_id_str': '0'}}\n"
     ]
    },
    {
     "name": "stderr",
     "output_type": "stream",
     "text": [
      "\r",
      " 71%|███████▏  | 321/450 [02:04<00:53,  2.41it/s]"
     ]
    },
    {
     "name": "stdout",
     "output_type": "stream",
     "text": [
      "{'statuses': [], 'search_metadata': {'completed_in': 0.005, 'max_id': 1386880352744968192, 'max_id_str': '1386880352744968192', 'query': '%23bitcoin+OR+%23BTC+since%3A2021-04-11+until%3A2021-04-19', 'refresh_url': '?since_id=1386880352744968192&q=%23bitcoin%20OR%20%23BTC%20since%3A2021-04-11%20until%3A2021-04-19&lang=en&result_type=recent&include_entities=1', 'count': 100, 'since_id': 0, 'since_id_str': '0'}}\n"
     ]
    },
    {
     "name": "stderr",
     "output_type": "stream",
     "text": [
      "\r",
      " 72%|███████▏  | 322/450 [02:04<00:53,  2.40it/s]"
     ]
    },
    {
     "name": "stdout",
     "output_type": "stream",
     "text": [
      "{'statuses': [], 'search_metadata': {'completed_in': 0.005, 'max_id': 1386880352744968192, 'max_id_str': '1386880352744968192', 'query': '%23bitcoin+OR+%23BTC+since%3A2021-04-11+until%3A2021-04-19', 'refresh_url': '?since_id=1386880352744968192&q=%23bitcoin%20OR%20%23BTC%20since%3A2021-04-11%20until%3A2021-04-19&lang=en&result_type=recent&include_entities=1', 'count': 100, 'since_id': 0, 'since_id_str': '0'}}\n"
     ]
    },
    {
     "name": "stderr",
     "output_type": "stream",
     "text": [
      "\r",
      " 72%|███████▏  | 323/450 [02:05<00:52,  2.41it/s]"
     ]
    },
    {
     "name": "stdout",
     "output_type": "stream",
     "text": [
      "{'statuses': [], 'search_metadata': {'completed_in': 0.006, 'max_id': 1386880352744968192, 'max_id_str': '1386880352744968192', 'query': '%23bitcoin+OR+%23BTC+since%3A2021-04-11+until%3A2021-04-19', 'refresh_url': '?since_id=1386880352744968192&q=%23bitcoin%20OR%20%23BTC%20since%3A2021-04-11%20until%3A2021-04-19&lang=en&result_type=recent&include_entities=1', 'count': 100, 'since_id': 0, 'since_id_str': '0'}}\n"
     ]
    },
    {
     "name": "stderr",
     "output_type": "stream",
     "text": [
      "\r",
      " 72%|███████▏  | 324/450 [02:05<00:52,  2.42it/s]"
     ]
    },
    {
     "name": "stdout",
     "output_type": "stream",
     "text": [
      "{'statuses': [], 'search_metadata': {'completed_in': 0.006, 'max_id': 1386880352744968192, 'max_id_str': '1386880352744968192', 'query': '%23bitcoin+OR+%23BTC+since%3A2021-04-11+until%3A2021-04-19', 'refresh_url': '?since_id=1386880352744968192&q=%23bitcoin%20OR%20%23BTC%20since%3A2021-04-11%20until%3A2021-04-19&lang=en&result_type=recent&include_entities=1', 'count': 100, 'since_id': 0, 'since_id_str': '0'}}\n"
     ]
    },
    {
     "name": "stderr",
     "output_type": "stream",
     "text": [
      "\r",
      " 72%|███████▏  | 325/450 [02:06<00:51,  2.42it/s]"
     ]
    },
    {
     "name": "stdout",
     "output_type": "stream",
     "text": [
      "{'statuses': [], 'search_metadata': {'completed_in': 0.006, 'max_id': 1386880352744968192, 'max_id_str': '1386880352744968192', 'query': '%23bitcoin+OR+%23BTC+since%3A2021-04-11+until%3A2021-04-19', 'refresh_url': '?since_id=1386880352744968192&q=%23bitcoin%20OR%20%23BTC%20since%3A2021-04-11%20until%3A2021-04-19&lang=en&result_type=recent&include_entities=1', 'count': 100, 'since_id': 0, 'since_id_str': '0'}}\n"
     ]
    },
    {
     "name": "stderr",
     "output_type": "stream",
     "text": [
      "\r",
      " 72%|███████▏  | 326/450 [02:06<00:51,  2.42it/s]"
     ]
    },
    {
     "name": "stdout",
     "output_type": "stream",
     "text": [
      "{'statuses': [], 'search_metadata': {'completed_in': 0.006, 'max_id': 1386880352744968192, 'max_id_str': '1386880352744968192', 'query': '%23bitcoin+OR+%23BTC+since%3A2021-04-11+until%3A2021-04-19', 'refresh_url': '?since_id=1386880352744968192&q=%23bitcoin%20OR%20%23BTC%20since%3A2021-04-11%20until%3A2021-04-19&lang=en&result_type=recent&include_entities=1', 'count': 100, 'since_id': 0, 'since_id_str': '0'}}\n"
     ]
    },
    {
     "name": "stderr",
     "output_type": "stream",
     "text": [
      "\r",
      " 73%|███████▎  | 327/450 [02:07<00:50,  2.41it/s]"
     ]
    },
    {
     "name": "stdout",
     "output_type": "stream",
     "text": [
      "{'statuses': [], 'search_metadata': {'completed_in': 0.006, 'max_id': 1386880352744968192, 'max_id_str': '1386880352744968192', 'query': '%23bitcoin+OR+%23BTC+since%3A2021-04-11+until%3A2021-04-19', 'refresh_url': '?since_id=1386880352744968192&q=%23bitcoin%20OR%20%23BTC%20since%3A2021-04-11%20until%3A2021-04-19&lang=en&result_type=recent&include_entities=1', 'count': 100, 'since_id': 0, 'since_id_str': '0'}}\n"
     ]
    },
    {
     "name": "stderr",
     "output_type": "stream",
     "text": [
      "\r",
      " 73%|███████▎  | 328/450 [02:07<00:50,  2.41it/s]"
     ]
    },
    {
     "name": "stdout",
     "output_type": "stream",
     "text": [
      "{'statuses': [], 'search_metadata': {'completed_in': 0.007, 'max_id': 1386880352744968192, 'max_id_str': '1386880352744968192', 'query': '%23bitcoin+OR+%23BTC+since%3A2021-04-11+until%3A2021-04-19', 'refresh_url': '?since_id=1386880352744968192&q=%23bitcoin%20OR%20%23BTC%20since%3A2021-04-11%20until%3A2021-04-19&lang=en&result_type=recent&include_entities=1', 'count': 100, 'since_id': 0, 'since_id_str': '0'}}\n"
     ]
    },
    {
     "name": "stderr",
     "output_type": "stream",
     "text": [
      "\r",
      " 73%|███████▎  | 329/450 [02:07<00:50,  2.41it/s]"
     ]
    },
    {
     "name": "stdout",
     "output_type": "stream",
     "text": [
      "{'statuses': [], 'search_metadata': {'completed_in': 0.007, 'max_id': 1386880352744968192, 'max_id_str': '1386880352744968192', 'query': '%23bitcoin+OR+%23BTC+since%3A2021-04-11+until%3A2021-04-19', 'refresh_url': '?since_id=1386880352744968192&q=%23bitcoin%20OR%20%23BTC%20since%3A2021-04-11%20until%3A2021-04-19&lang=en&result_type=recent&include_entities=1', 'count': 100, 'since_id': 0, 'since_id_str': '0'}}\n"
     ]
    },
    {
     "name": "stderr",
     "output_type": "stream",
     "text": [
      "\r",
      " 73%|███████▎  | 330/450 [02:08<00:49,  2.42it/s]"
     ]
    },
    {
     "name": "stdout",
     "output_type": "stream",
     "text": [
      "{'statuses': [], 'search_metadata': {'completed_in': 0.006, 'max_id': 1386880352744968192, 'max_id_str': '1386880352744968192', 'query': '%23bitcoin+OR+%23BTC+since%3A2021-04-11+until%3A2021-04-19', 'refresh_url': '?since_id=1386880352744968192&q=%23bitcoin%20OR%20%23BTC%20since%3A2021-04-11%20until%3A2021-04-19&lang=en&result_type=recent&include_entities=1', 'count': 100, 'since_id': 0, 'since_id_str': '0'}}\n"
     ]
    },
    {
     "name": "stderr",
     "output_type": "stream",
     "text": [
      "\r",
      " 74%|███████▎  | 331/450 [02:08<00:49,  2.42it/s]"
     ]
    },
    {
     "name": "stdout",
     "output_type": "stream",
     "text": [
      "{'statuses': [], 'search_metadata': {'completed_in': 0.007, 'max_id': 1386880352744968192, 'max_id_str': '1386880352744968192', 'query': '%23bitcoin+OR+%23BTC+since%3A2021-04-11+until%3A2021-04-19', 'refresh_url': '?since_id=1386880352744968192&q=%23bitcoin%20OR%20%23BTC%20since%3A2021-04-11%20until%3A2021-04-19&lang=en&result_type=recent&include_entities=1', 'count': 100, 'since_id': 0, 'since_id_str': '0'}}\n"
     ]
    },
    {
     "name": "stderr",
     "output_type": "stream",
     "text": [
      "\r",
      " 74%|███████▍  | 332/450 [02:09<00:48,  2.43it/s]"
     ]
    },
    {
     "name": "stdout",
     "output_type": "stream",
     "text": [
      "{'statuses': [], 'search_metadata': {'completed_in': 0.006, 'max_id': 1386880352744968192, 'max_id_str': '1386880352744968192', 'query': '%23bitcoin+OR+%23BTC+since%3A2021-04-11+until%3A2021-04-19', 'refresh_url': '?since_id=1386880352744968192&q=%23bitcoin%20OR%20%23BTC%20since%3A2021-04-11%20until%3A2021-04-19&lang=en&result_type=recent&include_entities=1', 'count': 100, 'since_id': 0, 'since_id_str': '0'}}\n"
     ]
    },
    {
     "name": "stderr",
     "output_type": "stream",
     "text": [
      "\r",
      " 74%|███████▍  | 333/450 [02:09<00:48,  2.42it/s]"
     ]
    },
    {
     "name": "stdout",
     "output_type": "stream",
     "text": [
      "{'statuses': [], 'search_metadata': {'completed_in': 0.006, 'max_id': 1386880352744968192, 'max_id_str': '1386880352744968192', 'query': '%23bitcoin+OR+%23BTC+since%3A2021-04-11+until%3A2021-04-19', 'refresh_url': '?since_id=1386880352744968192&q=%23bitcoin%20OR%20%23BTC%20since%3A2021-04-11%20until%3A2021-04-19&lang=en&result_type=recent&include_entities=1', 'count': 100, 'since_id': 0, 'since_id_str': '0'}}\n"
     ]
    },
    {
     "name": "stderr",
     "output_type": "stream",
     "text": [
      "\r",
      " 74%|███████▍  | 334/450 [02:09<00:48,  2.42it/s]"
     ]
    },
    {
     "name": "stdout",
     "output_type": "stream",
     "text": [
      "{'statuses': [], 'search_metadata': {'completed_in': 0.005, 'max_id': 1386880352744968192, 'max_id_str': '1386880352744968192', 'query': '%23bitcoin+OR+%23BTC+since%3A2021-04-11+until%3A2021-04-19', 'refresh_url': '?since_id=1386880352744968192&q=%23bitcoin%20OR%20%23BTC%20since%3A2021-04-11%20until%3A2021-04-19&lang=en&result_type=recent&include_entities=1', 'count': 100, 'since_id': 0, 'since_id_str': '0'}}\n"
     ]
    },
    {
     "name": "stderr",
     "output_type": "stream",
     "text": [
      "\r",
      " 74%|███████▍  | 335/450 [02:10<00:49,  2.32it/s]"
     ]
    },
    {
     "name": "stdout",
     "output_type": "stream",
     "text": [
      "{'statuses': [], 'search_metadata': {'completed_in': 0.005, 'max_id': 1386880352744968192, 'max_id_str': '1386880352744968192', 'query': '%23bitcoin+OR+%23BTC+since%3A2021-04-11+until%3A2021-04-19', 'refresh_url': '?since_id=1386880352744968192&q=%23bitcoin%20OR%20%23BTC%20since%3A2021-04-11%20until%3A2021-04-19&lang=en&result_type=recent&include_entities=1', 'count': 100, 'since_id': 0, 'since_id_str': '0'}}\n"
     ]
    },
    {
     "name": "stderr",
     "output_type": "stream",
     "text": [
      "\r",
      " 75%|███████▍  | 336/450 [02:10<00:48,  2.34it/s]"
     ]
    },
    {
     "name": "stdout",
     "output_type": "stream",
     "text": [
      "{'statuses': [], 'search_metadata': {'completed_in': 0.005, 'max_id': 1386880352744968192, 'max_id_str': '1386880352744968192', 'query': '%23bitcoin+OR+%23BTC+since%3A2021-04-11+until%3A2021-04-19', 'refresh_url': '?since_id=1386880352744968192&q=%23bitcoin%20OR%20%23BTC%20since%3A2021-04-11%20until%3A2021-04-19&lang=en&result_type=recent&include_entities=1', 'count': 100, 'since_id': 0, 'since_id_str': '0'}}\n"
     ]
    },
    {
     "name": "stderr",
     "output_type": "stream",
     "text": [
      "\r",
      " 75%|███████▍  | 337/450 [02:11<00:47,  2.37it/s]"
     ]
    },
    {
     "name": "stdout",
     "output_type": "stream",
     "text": [
      "{'statuses': [], 'search_metadata': {'completed_in': 0.006, 'max_id': 1386880352744968192, 'max_id_str': '1386880352744968192', 'query': '%23bitcoin+OR+%23BTC+since%3A2021-04-11+until%3A2021-04-19', 'refresh_url': '?since_id=1386880352744968192&q=%23bitcoin%20OR%20%23BTC%20since%3A2021-04-11%20until%3A2021-04-19&lang=en&result_type=recent&include_entities=1', 'count': 100, 'since_id': 0, 'since_id_str': '0'}}\n"
     ]
    },
    {
     "name": "stderr",
     "output_type": "stream",
     "text": [
      "\r",
      " 75%|███████▌  | 338/450 [02:11<00:47,  2.38it/s]"
     ]
    },
    {
     "name": "stdout",
     "output_type": "stream",
     "text": [
      "{'statuses': [], 'search_metadata': {'completed_in': 0.006, 'max_id': 1386880352744968192, 'max_id_str': '1386880352744968192', 'query': '%23bitcoin+OR+%23BTC+since%3A2021-04-11+until%3A2021-04-19', 'refresh_url': '?since_id=1386880352744968192&q=%23bitcoin%20OR%20%23BTC%20since%3A2021-04-11%20until%3A2021-04-19&lang=en&result_type=recent&include_entities=1', 'count': 100, 'since_id': 0, 'since_id_str': '0'}}\n"
     ]
    },
    {
     "name": "stderr",
     "output_type": "stream",
     "text": [
      "\r",
      " 75%|███████▌  | 339/450 [02:12<00:46,  2.39it/s]"
     ]
    },
    {
     "name": "stdout",
     "output_type": "stream",
     "text": [
      "{'statuses': [], 'search_metadata': {'completed_in': 0.006, 'max_id': 1386880352744968192, 'max_id_str': '1386880352744968192', 'query': '%23bitcoin+OR+%23BTC+since%3A2021-04-11+until%3A2021-04-19', 'refresh_url': '?since_id=1386880352744968192&q=%23bitcoin%20OR%20%23BTC%20since%3A2021-04-11%20until%3A2021-04-19&lang=en&result_type=recent&include_entities=1', 'count': 100, 'since_id': 0, 'since_id_str': '0'}}\n"
     ]
    },
    {
     "name": "stderr",
     "output_type": "stream",
     "text": [
      "\r",
      " 76%|███████▌  | 340/450 [02:12<00:45,  2.39it/s]"
     ]
    },
    {
     "name": "stdout",
     "output_type": "stream",
     "text": [
      "{'statuses': [], 'search_metadata': {'completed_in': 0.006, 'max_id': 1386880352744968192, 'max_id_str': '1386880352744968192', 'query': '%23bitcoin+OR+%23BTC+since%3A2021-04-11+until%3A2021-04-19', 'refresh_url': '?since_id=1386880352744968192&q=%23bitcoin%20OR%20%23BTC%20since%3A2021-04-11%20until%3A2021-04-19&lang=en&result_type=recent&include_entities=1', 'count': 100, 'since_id': 0, 'since_id_str': '0'}}\n"
     ]
    },
    {
     "name": "stderr",
     "output_type": "stream",
     "text": [
      "\r",
      " 76%|███████▌  | 341/450 [02:12<00:45,  2.40it/s]"
     ]
    },
    {
     "name": "stdout",
     "output_type": "stream",
     "text": [
      "{'statuses': [], 'search_metadata': {'completed_in': 0.008, 'max_id': 1386880352744968192, 'max_id_str': '1386880352744968192', 'query': '%23bitcoin+OR+%23BTC+since%3A2021-04-11+until%3A2021-04-19', 'refresh_url': '?since_id=1386880352744968192&q=%23bitcoin%20OR%20%23BTC%20since%3A2021-04-11%20until%3A2021-04-19&lang=en&result_type=recent&include_entities=1', 'count': 100, 'since_id': 0, 'since_id_str': '0'}}\n"
     ]
    },
    {
     "name": "stderr",
     "output_type": "stream",
     "text": [
      "\r",
      " 76%|███████▌  | 342/450 [02:13<00:45,  2.40it/s]"
     ]
    },
    {
     "name": "stdout",
     "output_type": "stream",
     "text": [
      "{'statuses': [], 'search_metadata': {'completed_in': 0.005, 'max_id': 1386880352744968192, 'max_id_str': '1386880352744968192', 'query': '%23bitcoin+OR+%23BTC+since%3A2021-04-11+until%3A2021-04-19', 'refresh_url': '?since_id=1386880352744968192&q=%23bitcoin%20OR%20%23BTC%20since%3A2021-04-11%20until%3A2021-04-19&lang=en&result_type=recent&include_entities=1', 'count': 100, 'since_id': 0, 'since_id_str': '0'}}\n"
     ]
    },
    {
     "name": "stderr",
     "output_type": "stream",
     "text": [
      "\r",
      " 76%|███████▌  | 343/450 [02:13<00:44,  2.41it/s]"
     ]
    },
    {
     "name": "stdout",
     "output_type": "stream",
     "text": [
      "{'statuses': [], 'search_metadata': {'completed_in': 0.007, 'max_id': 1386880352744968192, 'max_id_str': '1386880352744968192', 'query': '%23bitcoin+OR+%23BTC+since%3A2021-04-11+until%3A2021-04-19', 'refresh_url': '?since_id=1386880352744968192&q=%23bitcoin%20OR%20%23BTC%20since%3A2021-04-11%20until%3A2021-04-19&lang=en&result_type=recent&include_entities=1', 'count': 100, 'since_id': 0, 'since_id_str': '0'}}\n"
     ]
    },
    {
     "name": "stderr",
     "output_type": "stream",
     "text": [
      "\r",
      " 76%|███████▋  | 344/450 [02:14<00:43,  2.42it/s]"
     ]
    },
    {
     "name": "stdout",
     "output_type": "stream",
     "text": [
      "{'statuses': [], 'search_metadata': {'completed_in': 0.007, 'max_id': 1386880352744968192, 'max_id_str': '1386880352744968192', 'query': '%23bitcoin+OR+%23BTC+since%3A2021-04-11+until%3A2021-04-19', 'refresh_url': '?since_id=1386880352744968192&q=%23bitcoin%20OR%20%23BTC%20since%3A2021-04-11%20until%3A2021-04-19&lang=en&result_type=recent&include_entities=1', 'count': 100, 'since_id': 0, 'since_id_str': '0'}}\n"
     ]
    },
    {
     "name": "stderr",
     "output_type": "stream",
     "text": [
      "\r",
      " 77%|███████▋  | 345/450 [02:14<00:43,  2.42it/s]"
     ]
    },
    {
     "name": "stdout",
     "output_type": "stream",
     "text": [
      "{'statuses': [], 'search_metadata': {'completed_in': 0.007, 'max_id': 1386880352744968192, 'max_id_str': '1386880352744968192', 'query': '%23bitcoin+OR+%23BTC+since%3A2021-04-11+until%3A2021-04-19', 'refresh_url': '?since_id=1386880352744968192&q=%23bitcoin%20OR%20%23BTC%20since%3A2021-04-11%20until%3A2021-04-19&lang=en&result_type=recent&include_entities=1', 'count': 100, 'since_id': 0, 'since_id_str': '0'}}\n"
     ]
    },
    {
     "name": "stderr",
     "output_type": "stream",
     "text": [
      "\r",
      " 77%|███████▋  | 346/450 [02:14<00:44,  2.35it/s]"
     ]
    },
    {
     "name": "stdout",
     "output_type": "stream",
     "text": [
      "{'statuses': [], 'search_metadata': {'completed_in': 0.006, 'max_id': 1386880352744968192, 'max_id_str': '1386880352744968192', 'query': '%23bitcoin+OR+%23BTC+since%3A2021-04-11+until%3A2021-04-19', 'refresh_url': '?since_id=1386880352744968192&q=%23bitcoin%20OR%20%23BTC%20since%3A2021-04-11%20until%3A2021-04-19&lang=en&result_type=recent&include_entities=1', 'count': 100, 'since_id': 0, 'since_id_str': '0'}}\n"
     ]
    },
    {
     "name": "stderr",
     "output_type": "stream",
     "text": [
      "\r",
      " 77%|███████▋  | 347/450 [02:15<00:43,  2.37it/s]"
     ]
    },
    {
     "name": "stdout",
     "output_type": "stream",
     "text": [
      "{'statuses': [], 'search_metadata': {'completed_in': 0.006, 'max_id': 1386880352744968192, 'max_id_str': '1386880352744968192', 'query': '%23bitcoin+OR+%23BTC+since%3A2021-04-11+until%3A2021-04-19', 'refresh_url': '?since_id=1386880352744968192&q=%23bitcoin%20OR%20%23BTC%20since%3A2021-04-11%20until%3A2021-04-19&lang=en&result_type=recent&include_entities=1', 'count': 100, 'since_id': 0, 'since_id_str': '0'}}\n"
     ]
    },
    {
     "name": "stderr",
     "output_type": "stream",
     "text": [
      "\r",
      " 77%|███████▋  | 348/450 [02:15<00:42,  2.38it/s]"
     ]
    },
    {
     "name": "stdout",
     "output_type": "stream",
     "text": [
      "{'statuses': [], 'search_metadata': {'completed_in': 0.008, 'max_id': 1386880352744968192, 'max_id_str': '1386880352744968192', 'query': '%23bitcoin+OR+%23BTC+since%3A2021-04-11+until%3A2021-04-19', 'refresh_url': '?since_id=1386880352744968192&q=%23bitcoin%20OR%20%23BTC%20since%3A2021-04-11%20until%3A2021-04-19&lang=en&result_type=recent&include_entities=1', 'count': 100, 'since_id': 0, 'since_id_str': '0'}}\n"
     ]
    },
    {
     "name": "stderr",
     "output_type": "stream",
     "text": [
      "\r",
      " 78%|███████▊  | 349/450 [02:16<00:42,  2.40it/s]"
     ]
    },
    {
     "name": "stdout",
     "output_type": "stream",
     "text": [
      "{'statuses': [], 'search_metadata': {'completed_in': 0.006, 'max_id': 1386880352744968192, 'max_id_str': '1386880352744968192', 'query': '%23bitcoin+OR+%23BTC+since%3A2021-04-11+until%3A2021-04-19', 'refresh_url': '?since_id=1386880352744968192&q=%23bitcoin%20OR%20%23BTC%20since%3A2021-04-11%20until%3A2021-04-19&lang=en&result_type=recent&include_entities=1', 'count': 100, 'since_id': 0, 'since_id_str': '0'}}\n"
     ]
    },
    {
     "name": "stderr",
     "output_type": "stream",
     "text": [
      "\r",
      " 78%|███████▊  | 350/450 [02:16<00:41,  2.41it/s]"
     ]
    },
    {
     "name": "stdout",
     "output_type": "stream",
     "text": [
      "{'statuses': [], 'search_metadata': {'completed_in': 0.006, 'max_id': 1386880352744968192, 'max_id_str': '1386880352744968192', 'query': '%23bitcoin+OR+%23BTC+since%3A2021-04-11+until%3A2021-04-19', 'refresh_url': '?since_id=1386880352744968192&q=%23bitcoin%20OR%20%23BTC%20since%3A2021-04-11%20until%3A2021-04-19&lang=en&result_type=recent&include_entities=1', 'count': 100, 'since_id': 0, 'since_id_str': '0'}}\n"
     ]
    },
    {
     "name": "stderr",
     "output_type": "stream",
     "text": [
      "\r",
      " 78%|███████▊  | 351/450 [02:17<01:03,  1.57it/s]"
     ]
    },
    {
     "name": "stdout",
     "output_type": "stream",
     "text": [
      "{'statuses': [], 'search_metadata': {'completed_in': 0.006, 'max_id': 1386880352744968192, 'max_id_str': '1386880352744968192', 'query': '%23bitcoin+OR+%23BTC+since%3A2021-04-11+until%3A2021-04-19', 'refresh_url': '?since_id=1386880352744968192&q=%23bitcoin%20OR%20%23BTC%20since%3A2021-04-11%20until%3A2021-04-19&lang=en&result_type=recent&include_entities=1', 'count': 100, 'since_id': 0, 'since_id_str': '0'}}\n"
     ]
    },
    {
     "name": "stderr",
     "output_type": "stream",
     "text": [
      "\r",
      " 78%|███████▊  | 352/450 [02:18<00:56,  1.74it/s]"
     ]
    },
    {
     "name": "stdout",
     "output_type": "stream",
     "text": [
      "{'statuses': [], 'search_metadata': {'completed_in': 0.006, 'max_id': 1386880352744968192, 'max_id_str': '1386880352744968192', 'query': '%23bitcoin+OR+%23BTC+since%3A2021-04-11+until%3A2021-04-19', 'refresh_url': '?since_id=1386880352744968192&q=%23bitcoin%20OR%20%23BTC%20since%3A2021-04-11%20until%3A2021-04-19&lang=en&result_type=recent&include_entities=1', 'count': 100, 'since_id': 0, 'since_id_str': '0'}}\n"
     ]
    },
    {
     "name": "stderr",
     "output_type": "stream",
     "text": [
      "\r",
      " 78%|███████▊  | 353/450 [02:18<00:51,  1.90it/s]"
     ]
    },
    {
     "name": "stdout",
     "output_type": "stream",
     "text": [
      "{'statuses': [], 'search_metadata': {'completed_in': 0.006, 'max_id': 1386880352744968192, 'max_id_str': '1386880352744968192', 'query': '%23bitcoin+OR+%23BTC+since%3A2021-04-11+until%3A2021-04-19', 'refresh_url': '?since_id=1386880352744968192&q=%23bitcoin%20OR%20%23BTC%20since%3A2021-04-11%20until%3A2021-04-19&lang=en&result_type=recent&include_entities=1', 'count': 100, 'since_id': 0, 'since_id_str': '0'}}\n"
     ]
    },
    {
     "name": "stderr",
     "output_type": "stream",
     "text": [
      "\r",
      " 79%|███████▊  | 354/450 [02:19<00:47,  2.02it/s]"
     ]
    },
    {
     "name": "stdout",
     "output_type": "stream",
     "text": [
      "{'statuses': [], 'search_metadata': {'completed_in': 0.006, 'max_id': 1386880352744968192, 'max_id_str': '1386880352744968192', 'query': '%23bitcoin+OR+%23BTC+since%3A2021-04-11+until%3A2021-04-19', 'refresh_url': '?since_id=1386880352744968192&q=%23bitcoin%20OR%20%23BTC%20since%3A2021-04-11%20until%3A2021-04-19&lang=en&result_type=recent&include_entities=1', 'count': 100, 'since_id': 0, 'since_id_str': '0'}}\n"
     ]
    },
    {
     "name": "stderr",
     "output_type": "stream",
     "text": [
      "\r",
      " 79%|███████▉  | 355/450 [02:19<00:44,  2.11it/s]"
     ]
    },
    {
     "name": "stdout",
     "output_type": "stream",
     "text": [
      "{'statuses': [], 'search_metadata': {'completed_in': 0.006, 'max_id': 1386880352744968192, 'max_id_str': '1386880352744968192', 'query': '%23bitcoin+OR+%23BTC+since%3A2021-04-11+until%3A2021-04-19', 'refresh_url': '?since_id=1386880352744968192&q=%23bitcoin%20OR%20%23BTC%20since%3A2021-04-11%20until%3A2021-04-19&lang=en&result_type=recent&include_entities=1', 'count': 100, 'since_id': 0, 'since_id_str': '0'}}\n"
     ]
    },
    {
     "name": "stderr",
     "output_type": "stream",
     "text": [
      "\r",
      " 79%|███████▉  | 356/450 [02:19<00:43,  2.18it/s]"
     ]
    },
    {
     "name": "stdout",
     "output_type": "stream",
     "text": [
      "{'statuses': [], 'search_metadata': {'completed_in': 0.005, 'max_id': 1386880352744968192, 'max_id_str': '1386880352744968192', 'query': '%23bitcoin+OR+%23BTC+since%3A2021-04-11+until%3A2021-04-19', 'refresh_url': '?since_id=1386880352744968192&q=%23bitcoin%20OR%20%23BTC%20since%3A2021-04-11%20until%3A2021-04-19&lang=en&result_type=recent&include_entities=1', 'count': 100, 'since_id': 0, 'since_id_str': '0'}}\n"
     ]
    },
    {
     "name": "stderr",
     "output_type": "stream",
     "text": [
      "\r",
      " 79%|███████▉  | 357/450 [02:20<00:41,  2.22it/s]"
     ]
    },
    {
     "name": "stdout",
     "output_type": "stream",
     "text": [
      "{'statuses': [], 'search_metadata': {'completed_in': 0.007, 'max_id': 1386880352744968192, 'max_id_str': '1386880352744968192', 'query': '%23bitcoin+OR+%23BTC+since%3A2021-04-11+until%3A2021-04-19', 'refresh_url': '?since_id=1386880352744968192&q=%23bitcoin%20OR%20%23BTC%20since%3A2021-04-11%20until%3A2021-04-19&lang=en&result_type=recent&include_entities=1', 'count': 100, 'since_id': 0, 'since_id_str': '0'}}\n"
     ]
    },
    {
     "name": "stderr",
     "output_type": "stream",
     "text": [
      "\r",
      " 80%|███████▉  | 358/450 [02:20<00:40,  2.25it/s]"
     ]
    },
    {
     "name": "stdout",
     "output_type": "stream",
     "text": [
      "{'statuses': [], 'search_metadata': {'completed_in': 0.006, 'max_id': 1386880352744968192, 'max_id_str': '1386880352744968192', 'query': '%23bitcoin+OR+%23BTC+since%3A2021-04-11+until%3A2021-04-19', 'refresh_url': '?since_id=1386880352744968192&q=%23bitcoin%20OR%20%23BTC%20since%3A2021-04-11%20until%3A2021-04-19&lang=en&result_type=recent&include_entities=1', 'count': 100, 'since_id': 0, 'since_id_str': '0'}}\n"
     ]
    },
    {
     "name": "stderr",
     "output_type": "stream",
     "text": [
      "\r",
      " 80%|███████▉  | 359/450 [02:21<00:40,  2.27it/s]"
     ]
    },
    {
     "name": "stdout",
     "output_type": "stream",
     "text": [
      "{'statuses': [], 'search_metadata': {'completed_in': 0.008, 'max_id': 1386880436559769604, 'max_id_str': '1386880436559769604', 'query': '%23bitcoin+OR+%23BTC+since%3A2021-04-11+until%3A2021-04-19', 'refresh_url': '?since_id=1386880436559769604&q=%23bitcoin%20OR%20%23BTC%20since%3A2021-04-11%20until%3A2021-04-19&lang=en&result_type=recent&include_entities=1', 'count': 100, 'since_id': 0, 'since_id_str': '0'}}\n"
     ]
    },
    {
     "name": "stderr",
     "output_type": "stream",
     "text": [
      "\r",
      " 80%|████████  | 360/450 [02:21<00:39,  2.30it/s]"
     ]
    },
    {
     "name": "stdout",
     "output_type": "stream",
     "text": [
      "{'statuses': [], 'search_metadata': {'completed_in': 0.005, 'max_id': 1386880436559769604, 'max_id_str': '1386880436559769604', 'query': '%23bitcoin+OR+%23BTC+since%3A2021-04-11+until%3A2021-04-19', 'refresh_url': '?since_id=1386880436559769604&q=%23bitcoin%20OR%20%23BTC%20since%3A2021-04-11%20until%3A2021-04-19&lang=en&result_type=recent&include_entities=1', 'count': 100, 'since_id': 0, 'since_id_str': '0'}}\n"
     ]
    },
    {
     "name": "stderr",
     "output_type": "stream",
     "text": [
      "\r",
      " 80%|████████  | 361/450 [02:22<00:38,  2.30it/s]"
     ]
    },
    {
     "name": "stdout",
     "output_type": "stream",
     "text": [
      "{'statuses': [], 'search_metadata': {'completed_in': 0.005, 'max_id': 1386880436559769604, 'max_id_str': '1386880436559769604', 'query': '%23bitcoin+OR+%23BTC+since%3A2021-04-11+until%3A2021-04-19', 'refresh_url': '?since_id=1386880436559769604&q=%23bitcoin%20OR%20%23BTC%20since%3A2021-04-11%20until%3A2021-04-19&lang=en&result_type=recent&include_entities=1', 'count': 100, 'since_id': 0, 'since_id_str': '0'}}\n"
     ]
    },
    {
     "name": "stderr",
     "output_type": "stream",
     "text": [
      "\r",
      " 80%|████████  | 362/450 [02:22<00:38,  2.31it/s]"
     ]
    },
    {
     "name": "stdout",
     "output_type": "stream",
     "text": [
      "{'statuses': [], 'search_metadata': {'completed_in': 0.006, 'max_id': 1386880436559769604, 'max_id_str': '1386880436559769604', 'query': '%23bitcoin+OR+%23BTC+since%3A2021-04-11+until%3A2021-04-19', 'refresh_url': '?since_id=1386880436559769604&q=%23bitcoin%20OR%20%23BTC%20since%3A2021-04-11%20until%3A2021-04-19&lang=en&result_type=recent&include_entities=1', 'count': 100, 'since_id': 0, 'since_id_str': '0'}}\n"
     ]
    },
    {
     "name": "stderr",
     "output_type": "stream",
     "text": [
      "\r",
      " 81%|████████  | 363/450 [02:22<00:37,  2.33it/s]"
     ]
    },
    {
     "name": "stdout",
     "output_type": "stream",
     "text": [
      "{'statuses': [], 'search_metadata': {'completed_in': 0.007, 'max_id': 1386880436559769604, 'max_id_str': '1386880436559769604', 'query': '%23bitcoin+OR+%23BTC+since%3A2021-04-11+until%3A2021-04-19', 'refresh_url': '?since_id=1386880436559769604&q=%23bitcoin%20OR%20%23BTC%20since%3A2021-04-11%20until%3A2021-04-19&lang=en&result_type=recent&include_entities=1', 'count': 100, 'since_id': 0, 'since_id_str': '0'}}\n"
     ]
    },
    {
     "name": "stderr",
     "output_type": "stream",
     "text": [
      "\r",
      " 81%|████████  | 364/450 [02:23<00:36,  2.34it/s]"
     ]
    },
    {
     "name": "stdout",
     "output_type": "stream",
     "text": [
      "{'statuses': [], 'search_metadata': {'completed_in': 0.008, 'max_id': 1386880436559769604, 'max_id_str': '1386880436559769604', 'query': '%23bitcoin+OR+%23BTC+since%3A2021-04-11+until%3A2021-04-19', 'refresh_url': '?since_id=1386880436559769604&q=%23bitcoin%20OR%20%23BTC%20since%3A2021-04-11%20until%3A2021-04-19&lang=en&result_type=recent&include_entities=1', 'count': 100, 'since_id': 0, 'since_id_str': '0'}}\n"
     ]
    },
    {
     "name": "stderr",
     "output_type": "stream",
     "text": [
      "\r",
      " 81%|████████  | 365/450 [02:23<00:36,  2.34it/s]"
     ]
    },
    {
     "name": "stdout",
     "output_type": "stream",
     "text": [
      "{'statuses': [], 'search_metadata': {'completed_in': 0.006, 'max_id': 1386880436559769604, 'max_id_str': '1386880436559769604', 'query': '%23bitcoin+OR+%23BTC+since%3A2021-04-11+until%3A2021-04-19', 'refresh_url': '?since_id=1386880436559769604&q=%23bitcoin%20OR%20%23BTC%20since%3A2021-04-11%20until%3A2021-04-19&lang=en&result_type=recent&include_entities=1', 'count': 100, 'since_id': 0, 'since_id_str': '0'}}\n"
     ]
    },
    {
     "name": "stderr",
     "output_type": "stream",
     "text": [
      "\r",
      " 81%|████████▏ | 366/450 [02:24<00:35,  2.35it/s]"
     ]
    },
    {
     "name": "stdout",
     "output_type": "stream",
     "text": [
      "{'statuses': [], 'search_metadata': {'completed_in': 0.006, 'max_id': 1386880436559769604, 'max_id_str': '1386880436559769604', 'query': '%23bitcoin+OR+%23BTC+since%3A2021-04-11+until%3A2021-04-19', 'refresh_url': '?since_id=1386880436559769604&q=%23bitcoin%20OR%20%23BTC%20since%3A2021-04-11%20until%3A2021-04-19&lang=en&result_type=recent&include_entities=1', 'count': 100, 'since_id': 0, 'since_id_str': '0'}}\n"
     ]
    },
    {
     "name": "stderr",
     "output_type": "stream",
     "text": [
      "\r",
      " 82%|████████▏ | 367/450 [02:24<00:35,  2.35it/s]"
     ]
    },
    {
     "name": "stdout",
     "output_type": "stream",
     "text": [
      "{'statuses': [], 'search_metadata': {'completed_in': 0.006, 'max_id': 1386880436559769604, 'max_id_str': '1386880436559769604', 'query': '%23bitcoin+OR+%23BTC+since%3A2021-04-11+until%3A2021-04-19', 'refresh_url': '?since_id=1386880436559769604&q=%23bitcoin%20OR%20%23BTC%20since%3A2021-04-11%20until%3A2021-04-19&lang=en&result_type=recent&include_entities=1', 'count': 100, 'since_id': 0, 'since_id_str': '0'}}\n"
     ]
    },
    {
     "name": "stderr",
     "output_type": "stream",
     "text": [
      "\r",
      " 82%|████████▏ | 368/450 [02:25<00:34,  2.35it/s]"
     ]
    },
    {
     "name": "stdout",
     "output_type": "stream",
     "text": [
      "{'statuses': [], 'search_metadata': {'completed_in': 0.006, 'max_id': 1386880436559769604, 'max_id_str': '1386880436559769604', 'query': '%23bitcoin+OR+%23BTC+since%3A2021-04-11+until%3A2021-04-19', 'refresh_url': '?since_id=1386880436559769604&q=%23bitcoin%20OR%20%23BTC%20since%3A2021-04-11%20until%3A2021-04-19&lang=en&result_type=recent&include_entities=1', 'count': 100, 'since_id': 0, 'since_id_str': '0'}}\n"
     ]
    },
    {
     "name": "stderr",
     "output_type": "stream",
     "text": [
      "\r",
      " 82%|████████▏ | 369/450 [02:25<00:34,  2.35it/s]"
     ]
    },
    {
     "name": "stdout",
     "output_type": "stream",
     "text": [
      "{'statuses': [], 'search_metadata': {'completed_in': 0.006, 'max_id': 1386880436559769604, 'max_id_str': '1386880436559769604', 'query': '%23bitcoin+OR+%23BTC+since%3A2021-04-11+until%3A2021-04-19', 'refresh_url': '?since_id=1386880436559769604&q=%23bitcoin%20OR%20%23BTC%20since%3A2021-04-11%20until%3A2021-04-19&lang=en&result_type=recent&include_entities=1', 'count': 100, 'since_id': 0, 'since_id_str': '0'}}\n"
     ]
    },
    {
     "name": "stderr",
     "output_type": "stream",
     "text": [
      "\r",
      " 82%|████████▏ | 370/450 [02:25<00:33,  2.36it/s]"
     ]
    },
    {
     "name": "stdout",
     "output_type": "stream",
     "text": [
      "{'statuses': [], 'search_metadata': {'completed_in': 0.006, 'max_id': 1386880436559769604, 'max_id_str': '1386880436559769604', 'query': '%23bitcoin+OR+%23BTC+since%3A2021-04-11+until%3A2021-04-19', 'refresh_url': '?since_id=1386880436559769604&q=%23bitcoin%20OR%20%23BTC%20since%3A2021-04-11%20until%3A2021-04-19&lang=en&result_type=recent&include_entities=1', 'count': 100, 'since_id': 0, 'since_id_str': '0'}}\n"
     ]
    },
    {
     "name": "stderr",
     "output_type": "stream",
     "text": [
      "\r",
      " 82%|████████▏ | 371/450 [02:26<00:33,  2.37it/s]"
     ]
    },
    {
     "name": "stdout",
     "output_type": "stream",
     "text": [
      "{'statuses': [], 'search_metadata': {'completed_in': 0.006, 'max_id': 1386880436559769604, 'max_id_str': '1386880436559769604', 'query': '%23bitcoin+OR+%23BTC+since%3A2021-04-11+until%3A2021-04-19', 'refresh_url': '?since_id=1386880436559769604&q=%23bitcoin%20OR%20%23BTC%20since%3A2021-04-11%20until%3A2021-04-19&lang=en&result_type=recent&include_entities=1', 'count': 100, 'since_id': 0, 'since_id_str': '0'}}\n"
     ]
    },
    {
     "name": "stderr",
     "output_type": "stream",
     "text": [
      "\r",
      " 83%|████████▎ | 372/450 [02:26<00:32,  2.37it/s]"
     ]
    },
    {
     "name": "stdout",
     "output_type": "stream",
     "text": [
      "{'statuses': [], 'search_metadata': {'completed_in': 0.006, 'max_id': 1386880436559769604, 'max_id_str': '1386880436559769604', 'query': '%23bitcoin+OR+%23BTC+since%3A2021-04-11+until%3A2021-04-19', 'refresh_url': '?since_id=1386880436559769604&q=%23bitcoin%20OR%20%23BTC%20since%3A2021-04-11%20until%3A2021-04-19&lang=en&result_type=recent&include_entities=1', 'count': 100, 'since_id': 0, 'since_id_str': '0'}}\n"
     ]
    },
    {
     "name": "stderr",
     "output_type": "stream",
     "text": [
      "\r",
      " 83%|████████▎ | 373/450 [02:27<00:32,  2.36it/s]"
     ]
    },
    {
     "name": "stdout",
     "output_type": "stream",
     "text": [
      "{'statuses': [], 'search_metadata': {'completed_in': 0.006, 'max_id': 1386880436559769604, 'max_id_str': '1386880436559769604', 'query': '%23bitcoin+OR+%23BTC+since%3A2021-04-11+until%3A2021-04-19', 'refresh_url': '?since_id=1386880436559769604&q=%23bitcoin%20OR%20%23BTC%20since%3A2021-04-11%20until%3A2021-04-19&lang=en&result_type=recent&include_entities=1', 'count': 100, 'since_id': 0, 'since_id_str': '0'}}\n"
     ]
    },
    {
     "name": "stderr",
     "output_type": "stream",
     "text": [
      "\r",
      " 83%|████████▎ | 374/450 [02:27<00:32,  2.36it/s]"
     ]
    },
    {
     "name": "stdout",
     "output_type": "stream",
     "text": [
      "{'statuses': [], 'search_metadata': {'completed_in': 0.008, 'max_id': 1386880436559769604, 'max_id_str': '1386880436559769604', 'query': '%23bitcoin+OR+%23BTC+since%3A2021-04-11+until%3A2021-04-19', 'refresh_url': '?since_id=1386880436559769604&q=%23bitcoin%20OR%20%23BTC%20since%3A2021-04-11%20until%3A2021-04-19&lang=en&result_type=recent&include_entities=1', 'count': 100, 'since_id': 0, 'since_id_str': '0'}}\n"
     ]
    },
    {
     "name": "stderr",
     "output_type": "stream",
     "text": [
      "\r",
      " 83%|████████▎ | 375/450 [02:27<00:31,  2.35it/s]"
     ]
    },
    {
     "name": "stdout",
     "output_type": "stream",
     "text": [
      "{'statuses': [], 'search_metadata': {'completed_in': 0.005, 'max_id': 1386880436559769604, 'max_id_str': '1386880436559769604', 'query': '%23bitcoin+OR+%23BTC+since%3A2021-04-11+until%3A2021-04-19', 'refresh_url': '?since_id=1386880436559769604&q=%23bitcoin%20OR%20%23BTC%20since%3A2021-04-11%20until%3A2021-04-19&lang=en&result_type=recent&include_entities=1', 'count': 100, 'since_id': 0, 'since_id_str': '0'}}\n"
     ]
    },
    {
     "name": "stderr",
     "output_type": "stream",
     "text": [
      "\r",
      " 84%|████████▎ | 376/450 [02:28<00:31,  2.35it/s]"
     ]
    },
    {
     "name": "stdout",
     "output_type": "stream",
     "text": [
      "{'statuses': [], 'search_metadata': {'completed_in': 0.005, 'max_id': 1386880436559769604, 'max_id_str': '1386880436559769604', 'query': '%23bitcoin+OR+%23BTC+since%3A2021-04-11+until%3A2021-04-19', 'refresh_url': '?since_id=1386880436559769604&q=%23bitcoin%20OR%20%23BTC%20since%3A2021-04-11%20until%3A2021-04-19&lang=en&result_type=recent&include_entities=1', 'count': 100, 'since_id': 0, 'since_id_str': '0'}}\n"
     ]
    },
    {
     "name": "stderr",
     "output_type": "stream",
     "text": [
      "\r",
      " 84%|████████▍ | 377/450 [02:28<00:31,  2.35it/s]"
     ]
    },
    {
     "name": "stdout",
     "output_type": "stream",
     "text": [
      "{'statuses': [], 'search_metadata': {'completed_in': 0.005, 'max_id': 1386880436559769604, 'max_id_str': '1386880436559769604', 'query': '%23bitcoin+OR+%23BTC+since%3A2021-04-11+until%3A2021-04-19', 'refresh_url': '?since_id=1386880436559769604&q=%23bitcoin%20OR%20%23BTC%20since%3A2021-04-11%20until%3A2021-04-19&lang=en&result_type=recent&include_entities=1', 'count': 100, 'since_id': 0, 'since_id_str': '0'}}\n"
     ]
    },
    {
     "name": "stderr",
     "output_type": "stream",
     "text": [
      "\r",
      " 84%|████████▍ | 378/450 [02:29<00:30,  2.36it/s]"
     ]
    },
    {
     "name": "stdout",
     "output_type": "stream",
     "text": [
      "{'statuses': [], 'search_metadata': {'completed_in': 0.006, 'max_id': 1386880436559769604, 'max_id_str': '1386880436559769604', 'query': '%23bitcoin+OR+%23BTC+since%3A2021-04-11+until%3A2021-04-19', 'refresh_url': '?since_id=1386880436559769604&q=%23bitcoin%20OR%20%23BTC%20since%3A2021-04-11%20until%3A2021-04-19&lang=en&result_type=recent&include_entities=1', 'count': 100, 'since_id': 0, 'since_id_str': '0'}}\n"
     ]
    },
    {
     "name": "stderr",
     "output_type": "stream",
     "text": [
      "\r",
      " 84%|████████▍ | 379/450 [02:29<00:30,  2.36it/s]"
     ]
    },
    {
     "name": "stdout",
     "output_type": "stream",
     "text": [
      "{'statuses': [], 'search_metadata': {'completed_in': 0.009, 'max_id': 1386880472035196930, 'max_id_str': '1386880472035196930', 'query': '%23bitcoin+OR+%23BTC+since%3A2021-04-11+until%3A2021-04-19', 'refresh_url': '?since_id=1386880472035196930&q=%23bitcoin%20OR%20%23BTC%20since%3A2021-04-11%20until%3A2021-04-19&lang=en&result_type=recent&include_entities=1', 'count': 100, 'since_id': 0, 'since_id_str': '0'}}\n"
     ]
    },
    {
     "name": "stderr",
     "output_type": "stream",
     "text": [
      "\r",
      " 84%|████████▍ | 380/450 [02:30<00:29,  2.35it/s]"
     ]
    },
    {
     "name": "stdout",
     "output_type": "stream",
     "text": [
      "{'statuses': [], 'search_metadata': {'completed_in': 0.006, 'max_id': 1386880472035196930, 'max_id_str': '1386880472035196930', 'query': '%23bitcoin+OR+%23BTC+since%3A2021-04-11+until%3A2021-04-19', 'refresh_url': '?since_id=1386880472035196930&q=%23bitcoin%20OR%20%23BTC%20since%3A2021-04-11%20until%3A2021-04-19&lang=en&result_type=recent&include_entities=1', 'count': 100, 'since_id': 0, 'since_id_str': '0'}}\n"
     ]
    },
    {
     "name": "stderr",
     "output_type": "stream",
     "text": [
      "\r",
      " 85%|████████▍ | 381/450 [02:30<00:29,  2.36it/s]"
     ]
    },
    {
     "name": "stdout",
     "output_type": "stream",
     "text": [
      "{'statuses': [], 'search_metadata': {'completed_in': 0.007, 'max_id': 1386880472035196930, 'max_id_str': '1386880472035196930', 'query': '%23bitcoin+OR+%23BTC+since%3A2021-04-11+until%3A2021-04-19', 'refresh_url': '?since_id=1386880472035196930&q=%23bitcoin%20OR%20%23BTC%20since%3A2021-04-11%20until%3A2021-04-19&lang=en&result_type=recent&include_entities=1', 'count': 100, 'since_id': 0, 'since_id_str': '0'}}\n"
     ]
    },
    {
     "name": "stderr",
     "output_type": "stream",
     "text": [
      "\r",
      " 85%|████████▍ | 382/450 [02:30<00:28,  2.36it/s]"
     ]
    },
    {
     "name": "stdout",
     "output_type": "stream",
     "text": [
      "{'statuses': [], 'search_metadata': {'completed_in': 0.006, 'max_id': 1386880472035196930, 'max_id_str': '1386880472035196930', 'query': '%23bitcoin+OR+%23BTC+since%3A2021-04-11+until%3A2021-04-19', 'refresh_url': '?since_id=1386880472035196930&q=%23bitcoin%20OR%20%23BTC%20since%3A2021-04-11%20until%3A2021-04-19&lang=en&result_type=recent&include_entities=1', 'count': 100, 'since_id': 0, 'since_id_str': '0'}}\n"
     ]
    },
    {
     "name": "stderr",
     "output_type": "stream",
     "text": [
      "\r",
      " 85%|████████▌ | 383/450 [02:31<00:28,  2.37it/s]"
     ]
    },
    {
     "name": "stdout",
     "output_type": "stream",
     "text": [
      "{'statuses': [], 'search_metadata': {'completed_in': 0.007, 'max_id': 1386880472035196930, 'max_id_str': '1386880472035196930', 'query': '%23bitcoin+OR+%23BTC+since%3A2021-04-11+until%3A2021-04-19', 'refresh_url': '?since_id=1386880472035196930&q=%23bitcoin%20OR%20%23BTC%20since%3A2021-04-11%20until%3A2021-04-19&lang=en&result_type=recent&include_entities=1', 'count': 100, 'since_id': 0, 'since_id_str': '0'}}\n"
     ]
    },
    {
     "name": "stderr",
     "output_type": "stream",
     "text": [
      "\r",
      " 85%|████████▌ | 384/450 [02:31<00:27,  2.37it/s]"
     ]
    },
    {
     "name": "stdout",
     "output_type": "stream",
     "text": [
      "{'statuses': [], 'search_metadata': {'completed_in': 0.006, 'max_id': 1386880472035196930, 'max_id_str': '1386880472035196930', 'query': '%23bitcoin+OR+%23BTC+since%3A2021-04-11+until%3A2021-04-19', 'refresh_url': '?since_id=1386880472035196930&q=%23bitcoin%20OR%20%23BTC%20since%3A2021-04-11%20until%3A2021-04-19&lang=en&result_type=recent&include_entities=1', 'count': 100, 'since_id': 0, 'since_id_str': '0'}}\n"
     ]
    },
    {
     "name": "stderr",
     "output_type": "stream",
     "text": [
      "\r",
      " 86%|████████▌ | 385/450 [02:32<00:27,  2.38it/s]"
     ]
    },
    {
     "name": "stdout",
     "output_type": "stream",
     "text": [
      "{'statuses': [], 'search_metadata': {'completed_in': 0.007, 'max_id': 1386880472035196930, 'max_id_str': '1386880472035196930', 'query': '%23bitcoin+OR+%23BTC+since%3A2021-04-11+until%3A2021-04-19', 'refresh_url': '?since_id=1386880472035196930&q=%23bitcoin%20OR%20%23BTC%20since%3A2021-04-11%20until%3A2021-04-19&lang=en&result_type=recent&include_entities=1', 'count': 100, 'since_id': 0, 'since_id_str': '0'}}\n"
     ]
    },
    {
     "name": "stderr",
     "output_type": "stream",
     "text": [
      "\r",
      " 86%|████████▌ | 386/450 [02:32<00:27,  2.33it/s]"
     ]
    },
    {
     "name": "stdout",
     "output_type": "stream",
     "text": [
      "{'statuses': [], 'search_metadata': {'completed_in': 0.006, 'max_id': 1386880472035196930, 'max_id_str': '1386880472035196930', 'query': '%23bitcoin+OR+%23BTC+since%3A2021-04-11+until%3A2021-04-19', 'refresh_url': '?since_id=1386880472035196930&q=%23bitcoin%20OR%20%23BTC%20since%3A2021-04-11%20until%3A2021-04-19&lang=en&result_type=recent&include_entities=1', 'count': 100, 'since_id': 0, 'since_id_str': '0'}}\n"
     ]
    },
    {
     "name": "stderr",
     "output_type": "stream",
     "text": [
      "\r",
      " 86%|████████▌ | 387/450 [02:33<00:27,  2.33it/s]"
     ]
    },
    {
     "name": "stdout",
     "output_type": "stream",
     "text": [
      "{'statuses': [], 'search_metadata': {'completed_in': 0.006, 'max_id': 1386880472035196930, 'max_id_str': '1386880472035196930', 'query': '%23bitcoin+OR+%23BTC+since%3A2021-04-11+until%3A2021-04-19', 'refresh_url': '?since_id=1386880472035196930&q=%23bitcoin%20OR%20%23BTC%20since%3A2021-04-11%20until%3A2021-04-19&lang=en&result_type=recent&include_entities=1', 'count': 100, 'since_id': 0, 'since_id_str': '0'}}\n"
     ]
    },
    {
     "name": "stderr",
     "output_type": "stream",
     "text": [
      "\r",
      " 86%|████████▌ | 388/450 [02:33<00:26,  2.34it/s]"
     ]
    },
    {
     "name": "stdout",
     "output_type": "stream",
     "text": [
      "{'statuses': [], 'search_metadata': {'completed_in': 0.006, 'max_id': 1386880472035196930, 'max_id_str': '1386880472035196930', 'query': '%23bitcoin+OR+%23BTC+since%3A2021-04-11+until%3A2021-04-19', 'refresh_url': '?since_id=1386880472035196930&q=%23bitcoin%20OR%20%23BTC%20since%3A2021-04-11%20until%3A2021-04-19&lang=en&result_type=recent&include_entities=1', 'count': 100, 'since_id': 0, 'since_id_str': '0'}}\n"
     ]
    },
    {
     "name": "stderr",
     "output_type": "stream",
     "text": [
      "\r",
      " 86%|████████▋ | 389/450 [02:33<00:26,  2.34it/s]"
     ]
    },
    {
     "name": "stdout",
     "output_type": "stream",
     "text": [
      "{'statuses': [], 'search_metadata': {'completed_in': 0.006, 'max_id': 1386880472035196930, 'max_id_str': '1386880472035196930', 'query': '%23bitcoin+OR+%23BTC+since%3A2021-04-11+until%3A2021-04-19', 'refresh_url': '?since_id=1386880472035196930&q=%23bitcoin%20OR%20%23BTC%20since%3A2021-04-11%20until%3A2021-04-19&lang=en&result_type=recent&include_entities=1', 'count': 100, 'since_id': 0, 'since_id_str': '0'}}\n"
     ]
    },
    {
     "name": "stderr",
     "output_type": "stream",
     "text": [
      "\r",
      " 87%|████████▋ | 390/450 [02:34<00:25,  2.36it/s]"
     ]
    },
    {
     "name": "stdout",
     "output_type": "stream",
     "text": [
      "{'statuses': [], 'search_metadata': {'completed_in': 0.005, 'max_id': 1386880472035196930, 'max_id_str': '1386880472035196930', 'query': '%23bitcoin+OR+%23BTC+since%3A2021-04-11+until%3A2021-04-19', 'refresh_url': '?since_id=1386880472035196930&q=%23bitcoin%20OR%20%23BTC%20since%3A2021-04-11%20until%3A2021-04-19&lang=en&result_type=recent&include_entities=1', 'count': 100, 'since_id': 0, 'since_id_str': '0'}}\n"
     ]
    },
    {
     "name": "stderr",
     "output_type": "stream",
     "text": [
      "\r",
      " 87%|████████▋ | 391/450 [02:34<00:24,  2.36it/s]"
     ]
    },
    {
     "name": "stdout",
     "output_type": "stream",
     "text": [
      "{'statuses': [], 'search_metadata': {'completed_in': 0.006, 'max_id': 1386880472035196930, 'max_id_str': '1386880472035196930', 'query': '%23bitcoin+OR+%23BTC+since%3A2021-04-11+until%3A2021-04-19', 'refresh_url': '?since_id=1386880472035196930&q=%23bitcoin%20OR%20%23BTC%20since%3A2021-04-11%20until%3A2021-04-19&lang=en&result_type=recent&include_entities=1', 'count': 100, 'since_id': 0, 'since_id_str': '0'}}\n"
     ]
    },
    {
     "name": "stderr",
     "output_type": "stream",
     "text": [
      "\r",
      " 87%|████████▋ | 392/450 [02:35<00:24,  2.37it/s]"
     ]
    },
    {
     "name": "stdout",
     "output_type": "stream",
     "text": [
      "{'statuses': [], 'search_metadata': {'completed_in': 0.007, 'max_id': 1386880472035196930, 'max_id_str': '1386880472035196930', 'query': '%23bitcoin+OR+%23BTC+since%3A2021-04-11+until%3A2021-04-19', 'refresh_url': '?since_id=1386880472035196930&q=%23bitcoin%20OR%20%23BTC%20since%3A2021-04-11%20until%3A2021-04-19&lang=en&result_type=recent&include_entities=1', 'count': 100, 'since_id': 0, 'since_id_str': '0'}}\n"
     ]
    },
    {
     "name": "stderr",
     "output_type": "stream",
     "text": [
      "\r",
      " 87%|████████▋ | 393/450 [02:35<00:24,  2.36it/s]"
     ]
    },
    {
     "name": "stdout",
     "output_type": "stream",
     "text": [
      "{'statuses': [], 'search_metadata': {'completed_in': 0.007, 'max_id': 1386880472035196930, 'max_id_str': '1386880472035196930', 'query': '%23bitcoin+OR+%23BTC+since%3A2021-04-11+until%3A2021-04-19', 'refresh_url': '?since_id=1386880472035196930&q=%23bitcoin%20OR%20%23BTC%20since%3A2021-04-11%20until%3A2021-04-19&lang=en&result_type=recent&include_entities=1', 'count': 100, 'since_id': 0, 'since_id_str': '0'}}\n"
     ]
    },
    {
     "name": "stderr",
     "output_type": "stream",
     "text": [
      "\r",
      " 88%|████████▊ | 394/450 [02:36<00:23,  2.36it/s]"
     ]
    },
    {
     "name": "stdout",
     "output_type": "stream",
     "text": [
      "{'statuses': [], 'search_metadata': {'completed_in': 0.006, 'max_id': 1386880472035196930, 'max_id_str': '1386880472035196930', 'query': '%23bitcoin+OR+%23BTC+since%3A2021-04-11+until%3A2021-04-19', 'refresh_url': '?since_id=1386880472035196930&q=%23bitcoin%20OR%20%23BTC%20since%3A2021-04-11%20until%3A2021-04-19&lang=en&result_type=recent&include_entities=1', 'count': 100, 'since_id': 0, 'since_id_str': '0'}}\n"
     ]
    },
    {
     "name": "stderr",
     "output_type": "stream",
     "text": [
      "\r",
      " 88%|████████▊ | 395/450 [02:36<00:23,  2.37it/s]"
     ]
    },
    {
     "name": "stdout",
     "output_type": "stream",
     "text": [
      "{'statuses': [], 'search_metadata': {'completed_in': 0.006, 'max_id': 1386880472035196930, 'max_id_str': '1386880472035196930', 'query': '%23bitcoin+OR+%23BTC+since%3A2021-04-11+until%3A2021-04-19', 'refresh_url': '?since_id=1386880472035196930&q=%23bitcoin%20OR%20%23BTC%20since%3A2021-04-11%20until%3A2021-04-19&lang=en&result_type=recent&include_entities=1', 'count': 100, 'since_id': 0, 'since_id_str': '0'}}\n"
     ]
    },
    {
     "name": "stderr",
     "output_type": "stream",
     "text": [
      "\r",
      " 88%|████████▊ | 396/450 [02:36<00:22,  2.36it/s]"
     ]
    },
    {
     "name": "stdout",
     "output_type": "stream",
     "text": [
      "{'statuses': [], 'search_metadata': {'completed_in': 0.006, 'max_id': 1386880472035196930, 'max_id_str': '1386880472035196930', 'query': '%23bitcoin+OR+%23BTC+since%3A2021-04-11+until%3A2021-04-19', 'refresh_url': '?since_id=1386880472035196930&q=%23bitcoin%20OR%20%23BTC%20since%3A2021-04-11%20until%3A2021-04-19&lang=en&result_type=recent&include_entities=1', 'count': 100, 'since_id': 0, 'since_id_str': '0'}}\n"
     ]
    },
    {
     "name": "stderr",
     "output_type": "stream",
     "text": [
      "\r",
      " 88%|████████▊ | 397/450 [02:37<00:22,  2.37it/s]"
     ]
    },
    {
     "name": "stdout",
     "output_type": "stream",
     "text": [
      "{'statuses': [], 'search_metadata': {'completed_in': 0.005, 'max_id': 1386880472035196930, 'max_id_str': '1386880472035196930', 'query': '%23bitcoin+OR+%23BTC+since%3A2021-04-11+until%3A2021-04-19', 'refresh_url': '?since_id=1386880472035196930&q=%23bitcoin%20OR%20%23BTC%20since%3A2021-04-11%20until%3A2021-04-19&lang=en&result_type=recent&include_entities=1', 'count': 100, 'since_id': 0, 'since_id_str': '0'}}\n"
     ]
    },
    {
     "name": "stderr",
     "output_type": "stream",
     "text": [
      "\r",
      " 88%|████████▊ | 398/450 [02:37<00:21,  2.38it/s]"
     ]
    },
    {
     "name": "stdout",
     "output_type": "stream",
     "text": [
      "{'statuses': [], 'search_metadata': {'completed_in': 0.005, 'max_id': 1386880472035196930, 'max_id_str': '1386880472035196930', 'query': '%23bitcoin+OR+%23BTC+since%3A2021-04-11+until%3A2021-04-19', 'refresh_url': '?since_id=1386880472035196930&q=%23bitcoin%20OR%20%23BTC%20since%3A2021-04-11%20until%3A2021-04-19&lang=en&result_type=recent&include_entities=1', 'count': 100, 'since_id': 0, 'since_id_str': '0'}}\n"
     ]
    },
    {
     "name": "stderr",
     "output_type": "stream",
     "text": [
      "\r",
      " 89%|████████▊ | 399/450 [02:38<00:21,  2.38it/s]"
     ]
    },
    {
     "name": "stdout",
     "output_type": "stream",
     "text": [
      "{'statuses': [], 'search_metadata': {'completed_in': 0.006, 'max_id': 1386880472035196930, 'max_id_str': '1386880472035196930', 'query': '%23bitcoin+OR+%23BTC+since%3A2021-04-11+until%3A2021-04-19', 'refresh_url': '?since_id=1386880472035196930&q=%23bitcoin%20OR%20%23BTC%20since%3A2021-04-11%20until%3A2021-04-19&lang=en&result_type=recent&include_entities=1', 'count': 100, 'since_id': 0, 'since_id_str': '0'}}\n"
     ]
    },
    {
     "name": "stderr",
     "output_type": "stream",
     "text": [
      "\r",
      " 89%|████████▉ | 400/450 [02:38<00:21,  2.36it/s]"
     ]
    },
    {
     "name": "stdout",
     "output_type": "stream",
     "text": [
      "{'statuses': [], 'search_metadata': {'completed_in': 0.005, 'max_id': 1386880472035196930, 'max_id_str': '1386880472035196930', 'query': '%23bitcoin+OR+%23BTC+since%3A2021-04-11+until%3A2021-04-19', 'refresh_url': '?since_id=1386880472035196930&q=%23bitcoin%20OR%20%23BTC%20since%3A2021-04-11%20until%3A2021-04-19&lang=en&result_type=recent&include_entities=1', 'count': 100, 'since_id': 0, 'since_id_str': '0'}}\n"
     ]
    },
    {
     "name": "stderr",
     "output_type": "stream",
     "text": [
      "\r",
      " 89%|████████▉ | 401/450 [02:39<00:22,  2.22it/s]"
     ]
    },
    {
     "name": "stdout",
     "output_type": "stream",
     "text": [
      "{'statuses': [], 'search_metadata': {'completed_in': 0.006, 'max_id': 1386880472035196930, 'max_id_str': '1386880472035196930', 'query': '%23bitcoin+OR+%23BTC+since%3A2021-04-11+until%3A2021-04-19', 'refresh_url': '?since_id=1386880472035196930&q=%23bitcoin%20OR%20%23BTC%20since%3A2021-04-11%20until%3A2021-04-19&lang=en&result_type=recent&include_entities=1', 'count': 100, 'since_id': 0, 'since_id_str': '0'}}\n"
     ]
    },
    {
     "name": "stderr",
     "output_type": "stream",
     "text": [
      "\r",
      " 89%|████████▉ | 402/450 [02:39<00:18,  2.54it/s]"
     ]
    },
    {
     "name": "stdout",
     "output_type": "stream",
     "text": [
      "{'statuses': [], 'search_metadata': {'completed_in': 0.007, 'max_id': 1386880472035196930, 'max_id_str': '1386880472035196930', 'query': '%23bitcoin+OR+%23BTC+since%3A2021-04-11+until%3A2021-04-19', 'refresh_url': '?since_id=1386880472035196930&q=%23bitcoin%20OR%20%23BTC%20since%3A2021-04-11%20until%3A2021-04-19&lang=en&result_type=recent&include_entities=1', 'count': 100, 'since_id': 0, 'since_id_str': '0'}}\n"
     ]
    },
    {
     "name": "stderr",
     "output_type": "stream",
     "text": [
      "\r",
      " 90%|████████▉ | 403/450 [02:39<00:16,  2.83it/s]"
     ]
    },
    {
     "name": "stdout",
     "output_type": "stream",
     "text": [
      "{'statuses': [], 'search_metadata': {'completed_in': 0.005, 'max_id': 1386880472035196930, 'max_id_str': '1386880472035196930', 'query': '%23bitcoin+OR+%23BTC+since%3A2021-04-11+until%3A2021-04-19', 'refresh_url': '?since_id=1386880472035196930&q=%23bitcoin%20OR%20%23BTC%20since%3A2021-04-11%20until%3A2021-04-19&lang=en&result_type=recent&include_entities=1', 'count': 100, 'since_id': 0, 'since_id_str': '0'}}\n"
     ]
    },
    {
     "name": "stderr",
     "output_type": "stream",
     "text": [
      "\r",
      " 90%|████████▉ | 404/450 [02:39<00:14,  3.07it/s]"
     ]
    },
    {
     "name": "stdout",
     "output_type": "stream",
     "text": [
      "{'statuses': [], 'search_metadata': {'completed_in': 0.007, 'max_id': 1386880472035196930, 'max_id_str': '1386880472035196930', 'query': '%23bitcoin+OR+%23BTC+since%3A2021-04-11+until%3A2021-04-19', 'refresh_url': '?since_id=1386880472035196930&q=%23bitcoin%20OR%20%23BTC%20since%3A2021-04-11%20until%3A2021-04-19&lang=en&result_type=recent&include_entities=1', 'count': 100, 'since_id': 0, 'since_id_str': '0'}}\n"
     ]
    },
    {
     "name": "stderr",
     "output_type": "stream",
     "text": [
      "\r",
      " 90%|█████████ | 405/450 [02:40<00:13,  3.28it/s]"
     ]
    },
    {
     "name": "stdout",
     "output_type": "stream",
     "text": [
      "{'statuses': [], 'search_metadata': {'completed_in': 0.005, 'max_id': 1386880472035196930, 'max_id_str': '1386880472035196930', 'query': '%23bitcoin+OR+%23BTC+since%3A2021-04-11+until%3A2021-04-19', 'refresh_url': '?since_id=1386880472035196930&q=%23bitcoin%20OR%20%23BTC%20since%3A2021-04-11%20until%3A2021-04-19&lang=en&result_type=recent&include_entities=1', 'count': 100, 'since_id': 0, 'since_id_str': '0'}}\n"
     ]
    },
    {
     "name": "stderr",
     "output_type": "stream",
     "text": [
      "\r",
      " 90%|█████████ | 406/450 [02:40<00:12,  3.41it/s]"
     ]
    },
    {
     "name": "stdout",
     "output_type": "stream",
     "text": [
      "{'statuses': [], 'search_metadata': {'completed_in': 0.005, 'max_id': 1386880472035196930, 'max_id_str': '1386880472035196930', 'query': '%23bitcoin+OR+%23BTC+since%3A2021-04-11+until%3A2021-04-19', 'refresh_url': '?since_id=1386880472035196930&q=%23bitcoin%20OR%20%23BTC%20since%3A2021-04-11%20until%3A2021-04-19&lang=en&result_type=recent&include_entities=1', 'count': 100, 'since_id': 0, 'since_id_str': '0'}}\n"
     ]
    },
    {
     "name": "stderr",
     "output_type": "stream",
     "text": [
      "\r",
      " 90%|█████████ | 407/450 [02:40<00:12,  3.52it/s]"
     ]
    },
    {
     "name": "stdout",
     "output_type": "stream",
     "text": [
      "{'statuses': [], 'search_metadata': {'completed_in': 0.007, 'max_id': 1386880472035196930, 'max_id_str': '1386880472035196930', 'query': '%23bitcoin+OR+%23BTC+since%3A2021-04-11+until%3A2021-04-19', 'refresh_url': '?since_id=1386880472035196930&q=%23bitcoin%20OR%20%23BTC%20since%3A2021-04-11%20until%3A2021-04-19&lang=en&result_type=recent&include_entities=1', 'count': 100, 'since_id': 0, 'since_id_str': '0'}}\n"
     ]
    },
    {
     "name": "stderr",
     "output_type": "stream",
     "text": [
      "\r",
      " 91%|█████████ | 408/450 [02:40<00:11,  3.61it/s]"
     ]
    },
    {
     "name": "stdout",
     "output_type": "stream",
     "text": [
      "{'statuses': [], 'search_metadata': {'completed_in': 0.005, 'max_id': 1386880472035196930, 'max_id_str': '1386880472035196930', 'query': '%23bitcoin+OR+%23BTC+since%3A2021-04-11+until%3A2021-04-19', 'refresh_url': '?since_id=1386880472035196930&q=%23bitcoin%20OR%20%23BTC%20since%3A2021-04-11%20until%3A2021-04-19&lang=en&result_type=recent&include_entities=1', 'count': 100, 'since_id': 0, 'since_id_str': '0'}}\n"
     ]
    },
    {
     "name": "stderr",
     "output_type": "stream",
     "text": [
      "\r",
      " 91%|█████████ | 409/450 [02:41<00:11,  3.66it/s]"
     ]
    },
    {
     "name": "stdout",
     "output_type": "stream",
     "text": [
      "{'statuses': [], 'search_metadata': {'completed_in': 0.006, 'max_id': 1386880472035196930, 'max_id_str': '1386880472035196930', 'query': '%23bitcoin+OR+%23BTC+since%3A2021-04-11+until%3A2021-04-19', 'refresh_url': '?since_id=1386880472035196930&q=%23bitcoin%20OR%20%23BTC%20since%3A2021-04-11%20until%3A2021-04-19&lang=en&result_type=recent&include_entities=1', 'count': 100, 'since_id': 0, 'since_id_str': '0'}}\n"
     ]
    },
    {
     "name": "stderr",
     "output_type": "stream",
     "text": [
      "\r",
      " 91%|█████████ | 410/450 [02:41<00:10,  3.70it/s]"
     ]
    },
    {
     "name": "stdout",
     "output_type": "stream",
     "text": [
      "{'statuses': [], 'search_metadata': {'completed_in': 0.005, 'max_id': 1386880472035196930, 'max_id_str': '1386880472035196930', 'query': '%23bitcoin+OR+%23BTC+since%3A2021-04-11+until%3A2021-04-19', 'refresh_url': '?since_id=1386880472035196930&q=%23bitcoin%20OR%20%23BTC%20since%3A2021-04-11%20until%3A2021-04-19&lang=en&result_type=recent&include_entities=1', 'count': 100, 'since_id': 0, 'since_id_str': '0'}}\n"
     ]
    },
    {
     "name": "stderr",
     "output_type": "stream",
     "text": [
      "\r",
      " 91%|█████████▏| 411/450 [02:41<00:10,  3.74it/s]"
     ]
    },
    {
     "name": "stdout",
     "output_type": "stream",
     "text": [
      "{'statuses': [], 'search_metadata': {'completed_in': 0.007, 'max_id': 1386880472035196930, 'max_id_str': '1386880472035196930', 'query': '%23bitcoin+OR+%23BTC+since%3A2021-04-11+until%3A2021-04-19', 'refresh_url': '?since_id=1386880472035196930&q=%23bitcoin%20OR%20%23BTC%20since%3A2021-04-11%20until%3A2021-04-19&lang=en&result_type=recent&include_entities=1', 'count': 100, 'since_id': 0, 'since_id_str': '0'}}\n"
     ]
    },
    {
     "name": "stderr",
     "output_type": "stream",
     "text": [
      "\r",
      " 92%|█████████▏| 412/450 [02:41<00:10,  3.78it/s]"
     ]
    },
    {
     "name": "stdout",
     "output_type": "stream",
     "text": [
      "{'statuses': [], 'search_metadata': {'completed_in': 0.005, 'max_id': 1386880472035196930, 'max_id_str': '1386880472035196930', 'query': '%23bitcoin+OR+%23BTC+since%3A2021-04-11+until%3A2021-04-19', 'refresh_url': '?since_id=1386880472035196930&q=%23bitcoin%20OR%20%23BTC%20since%3A2021-04-11%20until%3A2021-04-19&lang=en&result_type=recent&include_entities=1', 'count': 100, 'since_id': 0, 'since_id_str': '0'}}\n"
     ]
    },
    {
     "name": "stderr",
     "output_type": "stream",
     "text": [
      "\r",
      " 92%|█████████▏| 413/450 [02:42<00:09,  3.79it/s]"
     ]
    },
    {
     "name": "stdout",
     "output_type": "stream",
     "text": [
      "{'statuses': [], 'search_metadata': {'completed_in': 0.007, 'max_id': 1386880472035196930, 'max_id_str': '1386880472035196930', 'query': '%23bitcoin+OR+%23BTC+since%3A2021-04-11+until%3A2021-04-19', 'refresh_url': '?since_id=1386880472035196930&q=%23bitcoin%20OR%20%23BTC%20since%3A2021-04-11%20until%3A2021-04-19&lang=en&result_type=recent&include_entities=1', 'count': 100, 'since_id': 0, 'since_id_str': '0'}}\n"
     ]
    },
    {
     "name": "stderr",
     "output_type": "stream",
     "text": [
      "\r",
      " 92%|█████████▏| 414/450 [02:42<00:09,  3.79it/s]"
     ]
    },
    {
     "name": "stdout",
     "output_type": "stream",
     "text": [
      "{'statuses': [], 'search_metadata': {'completed_in': 0.007, 'max_id': 1386880472035196930, 'max_id_str': '1386880472035196930', 'query': '%23bitcoin+OR+%23BTC+since%3A2021-04-11+until%3A2021-04-19', 'refresh_url': '?since_id=1386880472035196930&q=%23bitcoin%20OR%20%23BTC%20since%3A2021-04-11%20until%3A2021-04-19&lang=en&result_type=recent&include_entities=1', 'count': 100, 'since_id': 0, 'since_id_str': '0'}}\n"
     ]
    },
    {
     "name": "stderr",
     "output_type": "stream",
     "text": [
      "\r",
      " 92%|█████████▏| 415/450 [02:42<00:09,  3.82it/s]"
     ]
    },
    {
     "name": "stdout",
     "output_type": "stream",
     "text": [
      "{'statuses': [], 'search_metadata': {'completed_in': 0.006, 'max_id': 1386880472035196930, 'max_id_str': '1386880472035196930', 'query': '%23bitcoin+OR+%23BTC+since%3A2021-04-11+until%3A2021-04-19', 'refresh_url': '?since_id=1386880472035196930&q=%23bitcoin%20OR%20%23BTC%20since%3A2021-04-11%20until%3A2021-04-19&lang=en&result_type=recent&include_entities=1', 'count': 100, 'since_id': 0, 'since_id_str': '0'}}\n"
     ]
    },
    {
     "name": "stderr",
     "output_type": "stream",
     "text": [
      "\r",
      " 92%|█████████▏| 416/450 [02:42<00:08,  3.83it/s]"
     ]
    },
    {
     "name": "stdout",
     "output_type": "stream",
     "text": [
      "{'statuses': [], 'search_metadata': {'completed_in': 0.006, 'max_id': 1386880472035196930, 'max_id_str': '1386880472035196930', 'query': '%23bitcoin+OR+%23BTC+since%3A2021-04-11+until%3A2021-04-19', 'refresh_url': '?since_id=1386880472035196930&q=%23bitcoin%20OR%20%23BTC%20since%3A2021-04-11%20until%3A2021-04-19&lang=en&result_type=recent&include_entities=1', 'count': 100, 'since_id': 0, 'since_id_str': '0'}}\n"
     ]
    },
    {
     "name": "stderr",
     "output_type": "stream",
     "text": [
      "\r",
      " 93%|█████████▎| 417/450 [02:43<00:08,  3.83it/s]"
     ]
    },
    {
     "name": "stdout",
     "output_type": "stream",
     "text": [
      "{'statuses': [], 'search_metadata': {'completed_in': 0.006, 'max_id': 1386880472035196930, 'max_id_str': '1386880472035196930', 'query': '%23bitcoin+OR+%23BTC+since%3A2021-04-11+until%3A2021-04-19', 'refresh_url': '?since_id=1386880472035196930&q=%23bitcoin%20OR%20%23BTC%20since%3A2021-04-11%20until%3A2021-04-19&lang=en&result_type=recent&include_entities=1', 'count': 100, 'since_id': 0, 'since_id_str': '0'}}\n"
     ]
    },
    {
     "name": "stderr",
     "output_type": "stream",
     "text": [
      "\r",
      " 93%|█████████▎| 418/450 [02:43<00:08,  3.83it/s]"
     ]
    },
    {
     "name": "stdout",
     "output_type": "stream",
     "text": [
      "{'statuses': [], 'search_metadata': {'completed_in': 0.007, 'max_id': 1386880472035196930, 'max_id_str': '1386880472035196930', 'query': '%23bitcoin+OR+%23BTC+since%3A2021-04-11+until%3A2021-04-19', 'refresh_url': '?since_id=1386880472035196930&q=%23bitcoin%20OR%20%23BTC%20since%3A2021-04-11%20until%3A2021-04-19&lang=en&result_type=recent&include_entities=1', 'count': 100, 'since_id': 0, 'since_id_str': '0'}}\n"
     ]
    },
    {
     "name": "stderr",
     "output_type": "stream",
     "text": [
      "\r",
      " 93%|█████████▎| 419/450 [02:43<00:08,  3.82it/s]"
     ]
    },
    {
     "name": "stdout",
     "output_type": "stream",
     "text": [
      "{'statuses': [], 'search_metadata': {'completed_in': 0.006, 'max_id': 1386880472035196930, 'max_id_str': '1386880472035196930', 'query': '%23bitcoin+OR+%23BTC+since%3A2021-04-11+until%3A2021-04-19', 'refresh_url': '?since_id=1386880472035196930&q=%23bitcoin%20OR%20%23BTC%20since%3A2021-04-11%20until%3A2021-04-19&lang=en&result_type=recent&include_entities=1', 'count': 100, 'since_id': 0, 'since_id_str': '0'}}\n"
     ]
    },
    {
     "name": "stderr",
     "output_type": "stream",
     "text": [
      "\r",
      " 93%|█████████▎| 420/450 [02:44<00:07,  3.81it/s]"
     ]
    },
    {
     "name": "stdout",
     "output_type": "stream",
     "text": [
      "{'statuses': [], 'search_metadata': {'completed_in': 0.006, 'max_id': 1386880472035196930, 'max_id_str': '1386880472035196930', 'query': '%23bitcoin+OR+%23BTC+since%3A2021-04-11+until%3A2021-04-19', 'refresh_url': '?since_id=1386880472035196930&q=%23bitcoin%20OR%20%23BTC%20since%3A2021-04-11%20until%3A2021-04-19&lang=en&result_type=recent&include_entities=1', 'count': 100, 'since_id': 0, 'since_id_str': '0'}}\n"
     ]
    },
    {
     "name": "stderr",
     "output_type": "stream",
     "text": [
      "\r",
      " 94%|█████████▎| 421/450 [02:44<00:07,  3.77it/s]"
     ]
    },
    {
     "name": "stdout",
     "output_type": "stream",
     "text": [
      "{'statuses': [], 'search_metadata': {'completed_in': 0.007, 'max_id': 1386880472035196930, 'max_id_str': '1386880472035196930', 'query': '%23bitcoin+OR+%23BTC+since%3A2021-04-11+until%3A2021-04-19', 'refresh_url': '?since_id=1386880472035196930&q=%23bitcoin%20OR%20%23BTC%20since%3A2021-04-11%20until%3A2021-04-19&lang=en&result_type=recent&include_entities=1', 'count': 100, 'since_id': 0, 'since_id_str': '0'}}\n"
     ]
    },
    {
     "name": "stderr",
     "output_type": "stream",
     "text": [
      "\r",
      " 94%|█████████▍| 422/450 [02:44<00:07,  3.79it/s]"
     ]
    },
    {
     "name": "stdout",
     "output_type": "stream",
     "text": [
      "{'statuses': [], 'search_metadata': {'completed_in': 0.006, 'max_id': 1386880472035196930, 'max_id_str': '1386880472035196930', 'query': '%23bitcoin+OR+%23BTC+since%3A2021-04-11+until%3A2021-04-19', 'refresh_url': '?since_id=1386880472035196930&q=%23bitcoin%20OR%20%23BTC%20since%3A2021-04-11%20until%3A2021-04-19&lang=en&result_type=recent&include_entities=1', 'count': 100, 'since_id': 0, 'since_id_str': '0'}}\n"
     ]
    },
    {
     "name": "stderr",
     "output_type": "stream",
     "text": [
      "\r",
      " 94%|█████████▍| 423/450 [02:44<00:07,  3.79it/s]"
     ]
    },
    {
     "name": "stdout",
     "output_type": "stream",
     "text": [
      "{'statuses': [], 'search_metadata': {'completed_in': 0.007, 'max_id': 1386880472035196930, 'max_id_str': '1386880472035196930', 'query': '%23bitcoin+OR+%23BTC+since%3A2021-04-11+until%3A2021-04-19', 'refresh_url': '?since_id=1386880472035196930&q=%23bitcoin%20OR%20%23BTC%20since%3A2021-04-11%20until%3A2021-04-19&lang=en&result_type=recent&include_entities=1', 'count': 100, 'since_id': 0, 'since_id_str': '0'}}\n"
     ]
    },
    {
     "name": "stderr",
     "output_type": "stream",
     "text": [
      "\r",
      " 94%|█████████▍| 424/450 [02:45<00:06,  3.81it/s]"
     ]
    },
    {
     "name": "stdout",
     "output_type": "stream",
     "text": [
      "{'statuses': [], 'search_metadata': {'completed_in': 0.006, 'max_id': 1386880472035196930, 'max_id_str': '1386880472035196930', 'query': '%23bitcoin+OR+%23BTC+since%3A2021-04-11+until%3A2021-04-19', 'refresh_url': '?since_id=1386880472035196930&q=%23bitcoin%20OR%20%23BTC%20since%3A2021-04-11%20until%3A2021-04-19&lang=en&result_type=recent&include_entities=1', 'count': 100, 'since_id': 0, 'since_id_str': '0'}}\n"
     ]
    },
    {
     "name": "stderr",
     "output_type": "stream",
     "text": [
      "\r",
      " 94%|█████████▍| 425/450 [02:45<00:06,  3.80it/s]"
     ]
    },
    {
     "name": "stdout",
     "output_type": "stream",
     "text": [
      "{'statuses': [], 'search_metadata': {'completed_in': 0.005, 'max_id': 1386880472035196930, 'max_id_str': '1386880472035196930', 'query': '%23bitcoin+OR+%23BTC+since%3A2021-04-11+until%3A2021-04-19', 'refresh_url': '?since_id=1386880472035196930&q=%23bitcoin%20OR%20%23BTC%20since%3A2021-04-11%20until%3A2021-04-19&lang=en&result_type=recent&include_entities=1', 'count': 100, 'since_id': 0, 'since_id_str': '0'}}\n"
     ]
    },
    {
     "name": "stderr",
     "output_type": "stream",
     "text": [
      "\r",
      " 95%|█████████▍| 426/450 [02:45<00:06,  3.80it/s]"
     ]
    },
    {
     "name": "stdout",
     "output_type": "stream",
     "text": [
      "{'statuses': [], 'search_metadata': {'completed_in': 0.006, 'max_id': 1386880472035196930, 'max_id_str': '1386880472035196930', 'query': '%23bitcoin+OR+%23BTC+since%3A2021-04-11+until%3A2021-04-19', 'refresh_url': '?since_id=1386880472035196930&q=%23bitcoin%20OR%20%23BTC%20since%3A2021-04-11%20until%3A2021-04-19&lang=en&result_type=recent&include_entities=1', 'count': 100, 'since_id': 0, 'since_id_str': '0'}}\n"
     ]
    },
    {
     "name": "stderr",
     "output_type": "stream",
     "text": [
      "\r",
      " 95%|█████████▍| 427/450 [02:45<00:06,  3.81it/s]"
     ]
    },
    {
     "name": "stdout",
     "output_type": "stream",
     "text": [
      "{'statuses': [], 'search_metadata': {'completed_in': 0.006, 'max_id': 1386880472035196930, 'max_id_str': '1386880472035196930', 'query': '%23bitcoin+OR+%23BTC+since%3A2021-04-11+until%3A2021-04-19', 'refresh_url': '?since_id=1386880472035196930&q=%23bitcoin%20OR%20%23BTC%20since%3A2021-04-11%20until%3A2021-04-19&lang=en&result_type=recent&include_entities=1', 'count': 100, 'since_id': 0, 'since_id_str': '0'}}\n"
     ]
    },
    {
     "name": "stderr",
     "output_type": "stream",
     "text": [
      "\r",
      " 95%|█████████▌| 428/450 [02:46<00:05,  3.80it/s]"
     ]
    },
    {
     "name": "stdout",
     "output_type": "stream",
     "text": [
      "{'statuses': [], 'search_metadata': {'completed_in': 0.007, 'max_id': 1386880472035196930, 'max_id_str': '1386880472035196930', 'query': '%23bitcoin+OR+%23BTC+since%3A2021-04-11+until%3A2021-04-19', 'refresh_url': '?since_id=1386880472035196930&q=%23bitcoin%20OR%20%23BTC%20since%3A2021-04-11%20until%3A2021-04-19&lang=en&result_type=recent&include_entities=1', 'count': 100, 'since_id': 0, 'since_id_str': '0'}}\n"
     ]
    },
    {
     "name": "stderr",
     "output_type": "stream",
     "text": [
      "\r",
      " 95%|█████████▌| 429/450 [02:46<00:05,  3.81it/s]"
     ]
    },
    {
     "name": "stdout",
     "output_type": "stream",
     "text": [
      "{'statuses': [], 'search_metadata': {'completed_in': 0.006, 'max_id': 1386880472035196930, 'max_id_str': '1386880472035196930', 'query': '%23bitcoin+OR+%23BTC+since%3A2021-04-11+until%3A2021-04-19', 'refresh_url': '?since_id=1386880472035196930&q=%23bitcoin%20OR%20%23BTC%20since%3A2021-04-11%20until%3A2021-04-19&lang=en&result_type=recent&include_entities=1', 'count': 100, 'since_id': 0, 'since_id_str': '0'}}\n"
     ]
    },
    {
     "name": "stderr",
     "output_type": "stream",
     "text": [
      "\r",
      " 96%|█████████▌| 430/450 [02:46<00:05,  3.80it/s]"
     ]
    },
    {
     "name": "stdout",
     "output_type": "stream",
     "text": [
      "{'statuses': [], 'search_metadata': {'completed_in': 0.008, 'max_id': 1386880472035196930, 'max_id_str': '1386880472035196930', 'query': '%23bitcoin+OR+%23BTC+since%3A2021-04-11+until%3A2021-04-19', 'refresh_url': '?since_id=1386880472035196930&q=%23bitcoin%20OR%20%23BTC%20since%3A2021-04-11%20until%3A2021-04-19&lang=en&result_type=recent&include_entities=1', 'count': 100, 'since_id': 0, 'since_id_str': '0'}}\n"
     ]
    },
    {
     "name": "stderr",
     "output_type": "stream",
     "text": [
      "\r",
      " 96%|█████████▌| 431/450 [02:46<00:04,  3.81it/s]"
     ]
    },
    {
     "name": "stdout",
     "output_type": "stream",
     "text": [
      "{'statuses': [], 'search_metadata': {'completed_in': 0.006, 'max_id': 1386880472035196930, 'max_id_str': '1386880472035196930', 'query': '%23bitcoin+OR+%23BTC+since%3A2021-04-11+until%3A2021-04-19', 'refresh_url': '?since_id=1386880472035196930&q=%23bitcoin%20OR%20%23BTC%20since%3A2021-04-11%20until%3A2021-04-19&lang=en&result_type=recent&include_entities=1', 'count': 100, 'since_id': 0, 'since_id_str': '0'}}\n"
     ]
    },
    {
     "name": "stderr",
     "output_type": "stream",
     "text": [
      "\r",
      " 96%|█████████▌| 432/450 [02:47<00:04,  3.81it/s]"
     ]
    },
    {
     "name": "stdout",
     "output_type": "stream",
     "text": [
      "{'statuses': [], 'search_metadata': {'completed_in': 0.006, 'max_id': 1386880472035196930, 'max_id_str': '1386880472035196930', 'query': '%23bitcoin+OR+%23BTC+since%3A2021-04-11+until%3A2021-04-19', 'refresh_url': '?since_id=1386880472035196930&q=%23bitcoin%20OR%20%23BTC%20since%3A2021-04-11%20until%3A2021-04-19&lang=en&result_type=recent&include_entities=1', 'count': 100, 'since_id': 0, 'since_id_str': '0'}}\n"
     ]
    },
    {
     "name": "stderr",
     "output_type": "stream",
     "text": [
      "\r",
      " 96%|█████████▌| 433/450 [02:47<00:04,  3.83it/s]"
     ]
    },
    {
     "name": "stdout",
     "output_type": "stream",
     "text": [
      "{'statuses': [], 'search_metadata': {'completed_in': 0.006, 'max_id': 1386880472035196930, 'max_id_str': '1386880472035196930', 'query': '%23bitcoin+OR+%23BTC+since%3A2021-04-11+until%3A2021-04-19', 'refresh_url': '?since_id=1386880472035196930&q=%23bitcoin%20OR%20%23BTC%20since%3A2021-04-11%20until%3A2021-04-19&lang=en&result_type=recent&include_entities=1', 'count': 100, 'since_id': 0, 'since_id_str': '0'}}\n"
     ]
    },
    {
     "name": "stderr",
     "output_type": "stream",
     "text": [
      "\r",
      " 96%|█████████▋| 434/450 [02:47<00:04,  3.80it/s]"
     ]
    },
    {
     "name": "stdout",
     "output_type": "stream",
     "text": [
      "{'statuses': [], 'search_metadata': {'completed_in': 0.007, 'max_id': 1386880472035196930, 'max_id_str': '1386880472035196930', 'query': '%23bitcoin+OR+%23BTC+since%3A2021-04-11+until%3A2021-04-19', 'refresh_url': '?since_id=1386880472035196930&q=%23bitcoin%20OR%20%23BTC%20since%3A2021-04-11%20until%3A2021-04-19&lang=en&result_type=recent&include_entities=1', 'count': 100, 'since_id': 0, 'since_id_str': '0'}}\n"
     ]
    },
    {
     "name": "stderr",
     "output_type": "stream",
     "text": [
      "\r",
      " 97%|█████████▋| 435/450 [02:47<00:03,  3.80it/s]"
     ]
    },
    {
     "name": "stdout",
     "output_type": "stream",
     "text": [
      "{'statuses': [], 'search_metadata': {'completed_in': 0.007, 'max_id': 1386880472035196930, 'max_id_str': '1386880472035196930', 'query': '%23bitcoin+OR+%23BTC+since%3A2021-04-11+until%3A2021-04-19', 'refresh_url': '?since_id=1386880472035196930&q=%23bitcoin%20OR%20%23BTC%20since%3A2021-04-11%20until%3A2021-04-19&lang=en&result_type=recent&include_entities=1', 'count': 100, 'since_id': 0, 'since_id_str': '0'}}\n"
     ]
    },
    {
     "name": "stderr",
     "output_type": "stream",
     "text": [
      "\r",
      " 97%|█████████▋| 436/450 [02:48<00:03,  3.81it/s]"
     ]
    },
    {
     "name": "stdout",
     "output_type": "stream",
     "text": [
      "{'statuses': [], 'search_metadata': {'completed_in': 0.006, 'max_id': 1386880472035196930, 'max_id_str': '1386880472035196930', 'query': '%23bitcoin+OR+%23BTC+since%3A2021-04-11+until%3A2021-04-19', 'refresh_url': '?since_id=1386880472035196930&q=%23bitcoin%20OR%20%23BTC%20since%3A2021-04-11%20until%3A2021-04-19&lang=en&result_type=recent&include_entities=1', 'count': 100, 'since_id': 0, 'since_id_str': '0'}}\n"
     ]
    },
    {
     "name": "stderr",
     "output_type": "stream",
     "text": [
      "\r",
      " 97%|█████████▋| 437/450 [02:48<00:03,  3.76it/s]"
     ]
    },
    {
     "name": "stdout",
     "output_type": "stream",
     "text": [
      "{'statuses': [], 'search_metadata': {'completed_in': 0.008, 'max_id': 1386880472035196930, 'max_id_str': '1386880472035196930', 'query': '%23bitcoin+OR+%23BTC+since%3A2021-04-11+until%3A2021-04-19', 'refresh_url': '?since_id=1386880472035196930&q=%23bitcoin%20OR%20%23BTC%20since%3A2021-04-11%20until%3A2021-04-19&lang=en&result_type=recent&include_entities=1', 'count': 100, 'since_id': 0, 'since_id_str': '0'}}\n"
     ]
    },
    {
     "name": "stderr",
     "output_type": "stream",
     "text": [
      "\r",
      " 97%|█████████▋| 438/450 [02:48<00:03,  3.71it/s]"
     ]
    },
    {
     "name": "stdout",
     "output_type": "stream",
     "text": [
      "{'statuses': [], 'search_metadata': {'completed_in': 0.007, 'max_id': 1386880472035196930, 'max_id_str': '1386880472035196930', 'query': '%23bitcoin+OR+%23BTC+since%3A2021-04-11+until%3A2021-04-19', 'refresh_url': '?since_id=1386880472035196930&q=%23bitcoin%20OR%20%23BTC%20since%3A2021-04-11%20until%3A2021-04-19&lang=en&result_type=recent&include_entities=1', 'count': 100, 'since_id': 0, 'since_id_str': '0'}}\n"
     ]
    },
    {
     "name": "stderr",
     "output_type": "stream",
     "text": [
      "\r",
      " 98%|█████████▊| 439/450 [02:49<00:02,  3.73it/s]"
     ]
    },
    {
     "name": "stdout",
     "output_type": "stream",
     "text": [
      "{'statuses': [], 'search_metadata': {'completed_in': 0.009, 'max_id': 1386880554071699460, 'max_id_str': '1386880554071699460', 'query': '%23bitcoin+OR+%23BTC+since%3A2021-04-11+until%3A2021-04-19', 'refresh_url': '?since_id=1386880554071699460&q=%23bitcoin%20OR%20%23BTC%20since%3A2021-04-11%20until%3A2021-04-19&lang=en&result_type=recent&include_entities=1', 'count': 100, 'since_id': 0, 'since_id_str': '0'}}\n"
     ]
    },
    {
     "name": "stderr",
     "output_type": "stream",
     "text": [
      "\r",
      " 98%|█████████▊| 440/450 [02:49<00:02,  3.76it/s]"
     ]
    },
    {
     "name": "stdout",
     "output_type": "stream",
     "text": [
      "{'statuses': [], 'search_metadata': {'completed_in': 0.007, 'max_id': 1386880554071699460, 'max_id_str': '1386880554071699460', 'query': '%23bitcoin+OR+%23BTC+since%3A2021-04-11+until%3A2021-04-19', 'refresh_url': '?since_id=1386880554071699460&q=%23bitcoin%20OR%20%23BTC%20since%3A2021-04-11%20until%3A2021-04-19&lang=en&result_type=recent&include_entities=1', 'count': 100, 'since_id': 0, 'since_id_str': '0'}}\n"
     ]
    },
    {
     "name": "stderr",
     "output_type": "stream",
     "text": [
      "\r",
      " 98%|█████████▊| 441/450 [02:49<00:02,  3.75it/s]"
     ]
    },
    {
     "name": "stdout",
     "output_type": "stream",
     "text": [
      "{'statuses': [], 'search_metadata': {'completed_in': 0.008, 'max_id': 1386880554071699460, 'max_id_str': '1386880554071699460', 'query': '%23bitcoin+OR+%23BTC+since%3A2021-04-11+until%3A2021-04-19', 'refresh_url': '?since_id=1386880554071699460&q=%23bitcoin%20OR%20%23BTC%20since%3A2021-04-11%20until%3A2021-04-19&lang=en&result_type=recent&include_entities=1', 'count': 100, 'since_id': 0, 'since_id_str': '0'}}\n"
     ]
    },
    {
     "name": "stderr",
     "output_type": "stream",
     "text": [
      "\r",
      " 98%|█████████▊| 442/450 [02:49<00:02,  3.72it/s]"
     ]
    },
    {
     "name": "stdout",
     "output_type": "stream",
     "text": [
      "{'statuses': [], 'search_metadata': {'completed_in': 0.007, 'max_id': 1386880554071699460, 'max_id_str': '1386880554071699460', 'query': '%23bitcoin+OR+%23BTC+since%3A2021-04-11+until%3A2021-04-19', 'refresh_url': '?since_id=1386880554071699460&q=%23bitcoin%20OR%20%23BTC%20since%3A2021-04-11%20until%3A2021-04-19&lang=en&result_type=recent&include_entities=1', 'count': 100, 'since_id': 0, 'since_id_str': '0'}}\n"
     ]
    },
    {
     "name": "stderr",
     "output_type": "stream",
     "text": [
      "\r",
      " 98%|█████████▊| 443/450 [02:50<00:01,  3.76it/s]"
     ]
    },
    {
     "name": "stdout",
     "output_type": "stream",
     "text": [
      "{'statuses': [], 'search_metadata': {'completed_in': 0.006, 'max_id': 1386880554071699460, 'max_id_str': '1386880554071699460', 'query': '%23bitcoin+OR+%23BTC+since%3A2021-04-11+until%3A2021-04-19', 'refresh_url': '?since_id=1386880554071699460&q=%23bitcoin%20OR%20%23BTC%20since%3A2021-04-11%20until%3A2021-04-19&lang=en&result_type=recent&include_entities=1', 'count': 100, 'since_id': 0, 'since_id_str': '0'}}\n"
     ]
    },
    {
     "name": "stderr",
     "output_type": "stream",
     "text": [
      "\r",
      " 99%|█████████▊| 444/450 [02:50<00:01,  3.75it/s]"
     ]
    },
    {
     "name": "stdout",
     "output_type": "stream",
     "text": [
      "{'statuses': [], 'search_metadata': {'completed_in': 0.007, 'max_id': 1386880554071699460, 'max_id_str': '1386880554071699460', 'query': '%23bitcoin+OR+%23BTC+since%3A2021-04-11+until%3A2021-04-19', 'refresh_url': '?since_id=1386880554071699460&q=%23bitcoin%20OR%20%23BTC%20since%3A2021-04-11%20until%3A2021-04-19&lang=en&result_type=recent&include_entities=1', 'count': 100, 'since_id': 0, 'since_id_str': '0'}}\n"
     ]
    },
    {
     "name": "stderr",
     "output_type": "stream",
     "text": [
      "\r",
      " 99%|█████████▉| 445/450 [02:50<00:01,  3.78it/s]"
     ]
    },
    {
     "name": "stdout",
     "output_type": "stream",
     "text": [
      "{'statuses': [], 'search_metadata': {'completed_in': 0.006, 'max_id': 1386880554071699460, 'max_id_str': '1386880554071699460', 'query': '%23bitcoin+OR+%23BTC+since%3A2021-04-11+until%3A2021-04-19', 'refresh_url': '?since_id=1386880554071699460&q=%23bitcoin%20OR%20%23BTC%20since%3A2021-04-11%20until%3A2021-04-19&lang=en&result_type=recent&include_entities=1', 'count': 100, 'since_id': 0, 'since_id_str': '0'}}\n"
     ]
    },
    {
     "name": "stderr",
     "output_type": "stream",
     "text": [
      "\r",
      " 99%|█████████▉| 446/450 [02:50<00:01,  3.79it/s]"
     ]
    },
    {
     "name": "stdout",
     "output_type": "stream",
     "text": [
      "{'statuses': [], 'search_metadata': {'completed_in': 0.006, 'max_id': 1386880554071699460, 'max_id_str': '1386880554071699460', 'query': '%23bitcoin+OR+%23BTC+since%3A2021-04-11+until%3A2021-04-19', 'refresh_url': '?since_id=1386880554071699460&q=%23bitcoin%20OR%20%23BTC%20since%3A2021-04-11%20until%3A2021-04-19&lang=en&result_type=recent&include_entities=1', 'count': 100, 'since_id': 0, 'since_id_str': '0'}}\n"
     ]
    },
    {
     "name": "stderr",
     "output_type": "stream",
     "text": [
      "\r",
      " 99%|█████████▉| 447/450 [02:51<00:00,  3.81it/s]"
     ]
    },
    {
     "name": "stdout",
     "output_type": "stream",
     "text": [
      "{'statuses': [], 'search_metadata': {'completed_in': 0.005, 'max_id': 1386880554071699460, 'max_id_str': '1386880554071699460', 'query': '%23bitcoin+OR+%23BTC+since%3A2021-04-11+until%3A2021-04-19', 'refresh_url': '?since_id=1386880554071699460&q=%23bitcoin%20OR%20%23BTC%20since%3A2021-04-11%20until%3A2021-04-19&lang=en&result_type=recent&include_entities=1', 'count': 100, 'since_id': 0, 'since_id_str': '0'}}\n"
     ]
    },
    {
     "name": "stderr",
     "output_type": "stream",
     "text": [
      "\r",
      "100%|█████████▉| 448/450 [02:51<00:00,  3.79it/s]"
     ]
    },
    {
     "name": "stdout",
     "output_type": "stream",
     "text": [
      "{'statuses': [], 'search_metadata': {'completed_in': 0.008, 'max_id': 1386880554071699460, 'max_id_str': '1386880554071699460', 'query': '%23bitcoin+OR+%23BTC+since%3A2021-04-11+until%3A2021-04-19', 'refresh_url': '?since_id=1386880554071699460&q=%23bitcoin%20OR%20%23BTC%20since%3A2021-04-11%20until%3A2021-04-19&lang=en&result_type=recent&include_entities=1', 'count': 100, 'since_id': 0, 'since_id_str': '0'}}\n"
     ]
    },
    {
     "name": "stderr",
     "output_type": "stream",
     "text": [
      "\r",
      "100%|█████████▉| 449/450 [02:51<00:00,  3.78it/s]"
     ]
    },
    {
     "name": "stdout",
     "output_type": "stream",
     "text": [
      "{'statuses': [], 'search_metadata': {'completed_in': 0.005, 'max_id': 1386880554071699460, 'max_id_str': '1386880554071699460', 'query': '%23bitcoin+OR+%23BTC+since%3A2021-04-11+until%3A2021-04-19', 'refresh_url': '?since_id=1386880554071699460&q=%23bitcoin%20OR%20%23BTC%20since%3A2021-04-11%20until%3A2021-04-19&lang=en&result_type=recent&include_entities=1', 'count': 100, 'since_id': 0, 'since_id_str': '0'}}\n"
     ]
    },
    {
     "name": "stderr",
     "output_type": "stream",
     "text": [
      "100%|██████████| 450/450 [02:51<00:00,  2.62it/s]"
     ]
    },
    {
     "name": "stdout",
     "output_type": "stream",
     "text": [
      "{'statuses': [], 'search_metadata': {'completed_in': 0.007, 'max_id': 1386880554071699460, 'max_id_str': '1386880554071699460', 'query': '%23bitcoin+OR+%23BTC+since%3A2021-04-11+until%3A2021-04-19', 'refresh_url': '?since_id=1386880554071699460&q=%23bitcoin%20OR%20%23BTC%20since%3A2021-04-11%20until%3A2021-04-19&lang=en&result_type=recent&include_entities=1', 'count': 100, 'since_id': 0, 'since_id_str': '0'}}\n",
      "Empty DataFrame\n",
      "Columns: [ID, Text, UserName, UserFollowerCount, RetweetCount, Likes, CreatedAt]\n",
      "Index: []\n",
      "Retrieved 0, waiting for 15 minutes until next queries\n"
     ]
    },
    {
     "name": "stderr",
     "output_type": "stream",
     "text": [
      "\n",
      "  0%|          | 1/450 [00:00<04:09,  1.80it/s]"
     ]
    },
    {
     "name": "stdout",
     "output_type": "stream",
     "text": [
      "{'statuses': [], 'search_metadata': {'completed_in': 0.01, 'max_id': 1386884386029776896, 'max_id_str': '1386884386029776896', 'query': '%23bitcoin+OR+%23BTC+since%3A2021-04-11+until%3A2021-04-19', 'refresh_url': '?since_id=1386884386029776896&q=%23bitcoin%20OR%20%23BTC%20since%3A2021-04-11%20until%3A2021-04-19&lang=en&result_type=recent&include_entities=1', 'count': 100, 'since_id': 0, 'since_id_str': '0'}}\n"
     ]
    },
    {
     "name": "stderr",
     "output_type": "stream",
     "text": [
      "\r",
      "  0%|          | 2/450 [00:00<02:51,  2.61it/s]"
     ]
    },
    {
     "name": "stdout",
     "output_type": "stream",
     "text": [
      "{'statuses': [], 'search_metadata': {'completed_in': 0.006, 'max_id': 1386884386029776896, 'max_id_str': '1386884386029776896', 'query': '%23bitcoin+OR+%23BTC+since%3A2021-04-11+until%3A2021-04-19', 'refresh_url': '?since_id=1386884386029776896&q=%23bitcoin%20OR%20%23BTC%20since%3A2021-04-11%20until%3A2021-04-19&lang=en&result_type=recent&include_entities=1', 'count': 100, 'since_id': 0, 'since_id_str': '0'}}\n"
     ]
    },
    {
     "name": "stderr",
     "output_type": "stream",
     "text": [
      "\r",
      "  1%|          | 3/450 [00:01<02:43,  2.73it/s]"
     ]
    },
    {
     "name": "stdout",
     "output_type": "stream",
     "text": [
      "{'statuses': [], 'search_metadata': {'completed_in': 0.006, 'max_id': 1386884386029776896, 'max_id_str': '1386884386029776896', 'query': '%23bitcoin+OR+%23BTC+since%3A2021-04-11+until%3A2021-04-19', 'refresh_url': '?since_id=1386884386029776896&q=%23bitcoin%20OR%20%23BTC%20since%3A2021-04-11%20until%3A2021-04-19&lang=en&result_type=recent&include_entities=1', 'count': 100, 'since_id': 0, 'since_id_str': '0'}}\n"
     ]
    },
    {
     "name": "stderr",
     "output_type": "stream",
     "text": [
      "\r",
      "  1%|          | 4/450 [00:01<02:24,  3.09it/s]"
     ]
    },
    {
     "name": "stdout",
     "output_type": "stream",
     "text": [
      "{'statuses': [], 'search_metadata': {'completed_in': 0.007, 'max_id': 1386884386029776896, 'max_id_str': '1386884386029776896', 'query': '%23bitcoin+OR+%23BTC+since%3A2021-04-11+until%3A2021-04-19', 'refresh_url': '?since_id=1386884386029776896&q=%23bitcoin%20OR%20%23BTC%20since%3A2021-04-11%20until%3A2021-04-19&lang=en&result_type=recent&include_entities=1', 'count': 100, 'since_id': 0, 'since_id_str': '0'}}\n"
     ]
    },
    {
     "name": "stderr",
     "output_type": "stream",
     "text": [
      "\r",
      "  1%|          | 5/450 [00:01<02:14,  3.31it/s]"
     ]
    },
    {
     "name": "stdout",
     "output_type": "stream",
     "text": [
      "{'statuses': [], 'search_metadata': {'completed_in': 0.006, 'max_id': 1386884386029776896, 'max_id_str': '1386884386029776896', 'query': '%23bitcoin+OR+%23BTC+since%3A2021-04-11+until%3A2021-04-19', 'refresh_url': '?since_id=1386884386029776896&q=%23bitcoin%20OR%20%23BTC%20since%3A2021-04-11%20until%3A2021-04-19&lang=en&result_type=recent&include_entities=1', 'count': 100, 'since_id': 0, 'since_id_str': '0'}}\n"
     ]
    },
    {
     "name": "stderr",
     "output_type": "stream",
     "text": [
      "\r",
      "  1%|▏         | 6/450 [00:01<02:07,  3.47it/s]"
     ]
    },
    {
     "name": "stdout",
     "output_type": "stream",
     "text": [
      "{'statuses': [], 'search_metadata': {'completed_in': 0.005, 'max_id': 1386884386029776896, 'max_id_str': '1386884386029776896', 'query': '%23bitcoin+OR+%23BTC+since%3A2021-04-11+until%3A2021-04-19', 'refresh_url': '?since_id=1386884386029776896&q=%23bitcoin%20OR%20%23BTC%20since%3A2021-04-11%20until%3A2021-04-19&lang=en&result_type=recent&include_entities=1', 'count': 100, 'since_id': 0, 'since_id_str': '0'}}\n"
     ]
    },
    {
     "name": "stderr",
     "output_type": "stream",
     "text": [
      "\r",
      "  2%|▏         | 7/450 [00:02<02:04,  3.55it/s]"
     ]
    },
    {
     "name": "stdout",
     "output_type": "stream",
     "text": [
      "{'statuses': [], 'search_metadata': {'completed_in': 0.006, 'max_id': 1386884386029776896, 'max_id_str': '1386884386029776896', 'query': '%23bitcoin+OR+%23BTC+since%3A2021-04-11+until%3A2021-04-19', 'refresh_url': '?since_id=1386884386029776896&q=%23bitcoin%20OR%20%23BTC%20since%3A2021-04-11%20until%3A2021-04-19&lang=en&result_type=recent&include_entities=1', 'count': 100, 'since_id': 0, 'since_id_str': '0'}}\n"
     ]
    },
    {
     "name": "stderr",
     "output_type": "stream",
     "text": [
      "\r",
      "  2%|▏         | 8/450 [00:02<02:08,  3.44it/s]"
     ]
    },
    {
     "name": "stdout",
     "output_type": "stream",
     "text": [
      "{'statuses': [], 'search_metadata': {'completed_in': 0.006, 'max_id': 1386884386029776896, 'max_id_str': '1386884386029776896', 'query': '%23bitcoin+OR+%23BTC+since%3A2021-04-11+until%3A2021-04-19', 'refresh_url': '?since_id=1386884386029776896&q=%23bitcoin%20OR%20%23BTC%20since%3A2021-04-11%20until%3A2021-04-19&lang=en&result_type=recent&include_entities=1', 'count': 100, 'since_id': 0, 'since_id_str': '0'}}\n"
     ]
    },
    {
     "name": "stderr",
     "output_type": "stream",
     "text": [
      "\r",
      "  2%|▏         | 9/450 [00:02<02:08,  3.42it/s]"
     ]
    },
    {
     "name": "stdout",
     "output_type": "stream",
     "text": [
      "{'statuses': [], 'search_metadata': {'completed_in': 0.007, 'max_id': 1386884386029776896, 'max_id_str': '1386884386029776896', 'query': '%23bitcoin+OR+%23BTC+since%3A2021-04-11+until%3A2021-04-19', 'refresh_url': '?since_id=1386884386029776896&q=%23bitcoin%20OR%20%23BTC%20since%3A2021-04-11%20until%3A2021-04-19&lang=en&result_type=recent&include_entities=1', 'count': 100, 'since_id': 0, 'since_id_str': '0'}}\n"
     ]
    },
    {
     "name": "stderr",
     "output_type": "stream",
     "text": [
      "\r",
      "  2%|▏         | 10/450 [00:03<02:04,  3.53it/s]"
     ]
    },
    {
     "name": "stdout",
     "output_type": "stream",
     "text": [
      "{'statuses': [], 'search_metadata': {'completed_in': 0.006, 'max_id': 1386884386029776896, 'max_id_str': '1386884386029776896', 'query': '%23bitcoin+OR+%23BTC+since%3A2021-04-11+until%3A2021-04-19', 'refresh_url': '?since_id=1386884386029776896&q=%23bitcoin%20OR%20%23BTC%20since%3A2021-04-11%20until%3A2021-04-19&lang=en&result_type=recent&include_entities=1', 'count': 100, 'since_id': 0, 'since_id_str': '0'}}\n"
     ]
    },
    {
     "name": "stderr",
     "output_type": "stream",
     "text": [
      "\r",
      "  2%|▏         | 11/450 [00:03<02:15,  3.24it/s]"
     ]
    },
    {
     "name": "stdout",
     "output_type": "stream",
     "text": [
      "{'statuses': [], 'search_metadata': {'completed_in': 0.005, 'max_id': 1386884386029776896, 'max_id_str': '1386884386029776896', 'query': '%23bitcoin+OR+%23BTC+since%3A2021-04-11+until%3A2021-04-19', 'refresh_url': '?since_id=1386884386029776896&q=%23bitcoin%20OR%20%23BTC%20since%3A2021-04-11%20until%3A2021-04-19&lang=en&result_type=recent&include_entities=1', 'count': 100, 'since_id': 0, 'since_id_str': '0'}}\n"
     ]
    },
    {
     "name": "stderr",
     "output_type": "stream",
     "text": [
      "\r",
      "  3%|▎         | 12/450 [00:03<02:12,  3.30it/s]"
     ]
    },
    {
     "name": "stdout",
     "output_type": "stream",
     "text": [
      "{'statuses': [], 'search_metadata': {'completed_in': 0.006, 'max_id': 1386884386029776896, 'max_id_str': '1386884386029776896', 'query': '%23bitcoin+OR+%23BTC+since%3A2021-04-11+until%3A2021-04-19', 'refresh_url': '?since_id=1386884386029776896&q=%23bitcoin%20OR%20%23BTC%20since%3A2021-04-11%20until%3A2021-04-19&lang=en&result_type=recent&include_entities=1', 'count': 100, 'since_id': 0, 'since_id_str': '0'}}\n"
     ]
    },
    {
     "name": "stderr",
     "output_type": "stream",
     "text": [
      "\r",
      "  3%|▎         | 13/450 [00:04<02:06,  3.45it/s]"
     ]
    },
    {
     "name": "stdout",
     "output_type": "stream",
     "text": [
      "{'statuses': [], 'search_metadata': {'completed_in': 0.006, 'max_id': 1386884386029776896, 'max_id_str': '1386884386029776896', 'query': '%23bitcoin+OR+%23BTC+since%3A2021-04-11+until%3A2021-04-19', 'refresh_url': '?since_id=1386884386029776896&q=%23bitcoin%20OR%20%23BTC%20since%3A2021-04-11%20until%3A2021-04-19&lang=en&result_type=recent&include_entities=1', 'count': 100, 'since_id': 0, 'since_id_str': '0'}}\n"
     ]
    },
    {
     "name": "stderr",
     "output_type": "stream",
     "text": [
      "\r",
      "  3%|▎         | 14/450 [00:04<02:03,  3.52it/s]"
     ]
    },
    {
     "name": "stdout",
     "output_type": "stream",
     "text": [
      "{'statuses': [], 'search_metadata': {'completed_in': 0.007, 'max_id': 1386884386029776896, 'max_id_str': '1386884386029776896', 'query': '%23bitcoin+OR+%23BTC+since%3A2021-04-11+until%3A2021-04-19', 'refresh_url': '?since_id=1386884386029776896&q=%23bitcoin%20OR%20%23BTC%20since%3A2021-04-11%20until%3A2021-04-19&lang=en&result_type=recent&include_entities=1', 'count': 100, 'since_id': 0, 'since_id_str': '0'}}\n"
     ]
    },
    {
     "name": "stderr",
     "output_type": "stream",
     "text": [
      "\r",
      "  3%|▎         | 15/450 [00:04<02:04,  3.50it/s]"
     ]
    },
    {
     "name": "stdout",
     "output_type": "stream",
     "text": [
      "{'statuses': [], 'search_metadata': {'completed_in': 0.006, 'max_id': 1386884386029776896, 'max_id_str': '1386884386029776896', 'query': '%23bitcoin+OR+%23BTC+since%3A2021-04-11+until%3A2021-04-19', 'refresh_url': '?since_id=1386884386029776896&q=%23bitcoin%20OR%20%23BTC%20since%3A2021-04-11%20until%3A2021-04-19&lang=en&result_type=recent&include_entities=1', 'count': 100, 'since_id': 0, 'since_id_str': '0'}}\n"
     ]
    },
    {
     "name": "stderr",
     "output_type": "stream",
     "text": [
      "\r",
      "  4%|▎         | 16/450 [00:04<02:00,  3.60it/s]"
     ]
    },
    {
     "name": "stdout",
     "output_type": "stream",
     "text": [
      "{'statuses': [], 'search_metadata': {'completed_in': 0.008, 'max_id': 1386884386029776896, 'max_id_str': '1386884386029776896', 'query': '%23bitcoin+OR+%23BTC+since%3A2021-04-11+until%3A2021-04-19', 'refresh_url': '?since_id=1386884386029776896&q=%23bitcoin%20OR%20%23BTC%20since%3A2021-04-11%20until%3A2021-04-19&lang=en&result_type=recent&include_entities=1', 'count': 100, 'since_id': 0, 'since_id_str': '0'}}\n"
     ]
    },
    {
     "name": "stderr",
     "output_type": "stream",
     "text": [
      "\r",
      "  4%|▍         | 17/450 [00:05<01:59,  3.61it/s]"
     ]
    },
    {
     "name": "stdout",
     "output_type": "stream",
     "text": [
      "{'statuses': [], 'search_metadata': {'completed_in': 0.006, 'max_id': 1386884386029776896, 'max_id_str': '1386884386029776896', 'query': '%23bitcoin+OR+%23BTC+since%3A2021-04-11+until%3A2021-04-19', 'refresh_url': '?since_id=1386884386029776896&q=%23bitcoin%20OR%20%23BTC%20since%3A2021-04-11%20until%3A2021-04-19&lang=en&result_type=recent&include_entities=1', 'count': 100, 'since_id': 0, 'since_id_str': '0'}}\n"
     ]
    },
    {
     "name": "stderr",
     "output_type": "stream",
     "text": [
      "\r",
      "  4%|▍         | 18/450 [00:05<01:57,  3.67it/s]"
     ]
    },
    {
     "name": "stdout",
     "output_type": "stream",
     "text": [
      "{'statuses': [], 'search_metadata': {'completed_in': 0.006, 'max_id': 1386884386029776896, 'max_id_str': '1386884386029776896', 'query': '%23bitcoin+OR+%23BTC+since%3A2021-04-11+until%3A2021-04-19', 'refresh_url': '?since_id=1386884386029776896&q=%23bitcoin%20OR%20%23BTC%20since%3A2021-04-11%20until%3A2021-04-19&lang=en&result_type=recent&include_entities=1', 'count': 100, 'since_id': 0, 'since_id_str': '0'}}\n"
     ]
    },
    {
     "name": "stderr",
     "output_type": "stream",
     "text": [
      "\r",
      "  4%|▍         | 19/450 [00:05<01:55,  3.72it/s]"
     ]
    },
    {
     "name": "stdout",
     "output_type": "stream",
     "text": [
      "{'statuses': [], 'search_metadata': {'completed_in': 0.006, 'max_id': 1386884386029776896, 'max_id_str': '1386884386029776896', 'query': '%23bitcoin+OR+%23BTC+since%3A2021-04-11+until%3A2021-04-19', 'refresh_url': '?since_id=1386884386029776896&q=%23bitcoin%20OR%20%23BTC%20since%3A2021-04-11%20until%3A2021-04-19&lang=en&result_type=recent&include_entities=1', 'count': 100, 'since_id': 0, 'since_id_str': '0'}}\n"
     ]
    },
    {
     "name": "stderr",
     "output_type": "stream",
     "text": [
      "\r",
      "  4%|▍         | 20/450 [00:05<01:56,  3.69it/s]"
     ]
    },
    {
     "name": "stdout",
     "output_type": "stream",
     "text": [
      "{'statuses': [], 'search_metadata': {'completed_in': 0.015, 'max_id': 1386884386029776896, 'max_id_str': '1386884386029776896', 'query': '%23bitcoin+OR+%23BTC+since%3A2021-04-11+until%3A2021-04-19', 'refresh_url': '?since_id=1386884386029776896&q=%23bitcoin%20OR%20%23BTC%20since%3A2021-04-11%20until%3A2021-04-19&lang=en&result_type=recent&include_entities=1', 'count': 100, 'since_id': 0, 'since_id_str': '0'}}\n"
     ]
    },
    {
     "name": "stderr",
     "output_type": "stream",
     "text": [
      "\r",
      "  5%|▍         | 21/450 [00:06<02:00,  3.55it/s]"
     ]
    },
    {
     "name": "stdout",
     "output_type": "stream",
     "text": [
      "{'statuses': [], 'search_metadata': {'completed_in': 0.006, 'max_id': 1386884386029776896, 'max_id_str': '1386884386029776896', 'query': '%23bitcoin+OR+%23BTC+since%3A2021-04-11+until%3A2021-04-19', 'refresh_url': '?since_id=1386884386029776896&q=%23bitcoin%20OR%20%23BTC%20since%3A2021-04-11%20until%3A2021-04-19&lang=en&result_type=recent&include_entities=1', 'count': 100, 'since_id': 0, 'since_id_str': '0'}}\n"
     ]
    },
    {
     "name": "stderr",
     "output_type": "stream",
     "text": [
      "\r",
      "  5%|▍         | 22/450 [00:06<01:58,  3.62it/s]"
     ]
    },
    {
     "name": "stdout",
     "output_type": "stream",
     "text": [
      "{'statuses': [], 'search_metadata': {'completed_in': 0.005, 'max_id': 1386884386029776896, 'max_id_str': '1386884386029776896', 'query': '%23bitcoin+OR+%23BTC+since%3A2021-04-11+until%3A2021-04-19', 'refresh_url': '?since_id=1386884386029776896&q=%23bitcoin%20OR%20%23BTC%20since%3A2021-04-11%20until%3A2021-04-19&lang=en&result_type=recent&include_entities=1', 'count': 100, 'since_id': 0, 'since_id_str': '0'}}\n"
     ]
    },
    {
     "name": "stderr",
     "output_type": "stream",
     "text": [
      "\r",
      "  5%|▌         | 23/450 [00:06<01:57,  3.63it/s]"
     ]
    },
    {
     "name": "stdout",
     "output_type": "stream",
     "text": [
      "{'statuses': [], 'search_metadata': {'completed_in': 0.006, 'max_id': 1386884386029776896, 'max_id_str': '1386884386029776896', 'query': '%23bitcoin+OR+%23BTC+since%3A2021-04-11+until%3A2021-04-19', 'refresh_url': '?since_id=1386884386029776896&q=%23bitcoin%20OR%20%23BTC%20since%3A2021-04-11%20until%3A2021-04-19&lang=en&result_type=recent&include_entities=1', 'count': 100, 'since_id': 0, 'since_id_str': '0'}}\n"
     ]
    },
    {
     "name": "stderr",
     "output_type": "stream",
     "text": [
      "\r",
      "  5%|▌         | 24/450 [00:07<02:01,  3.50it/s]"
     ]
    },
    {
     "name": "stdout",
     "output_type": "stream",
     "text": [
      "{'statuses': [], 'search_metadata': {'completed_in': 0.005, 'max_id': 1386884386029776896, 'max_id_str': '1386884386029776896', 'query': '%23bitcoin+OR+%23BTC+since%3A2021-04-11+until%3A2021-04-19', 'refresh_url': '?since_id=1386884386029776896&q=%23bitcoin%20OR%20%23BTC%20since%3A2021-04-11%20until%3A2021-04-19&lang=en&result_type=recent&include_entities=1', 'count': 100, 'since_id': 0, 'since_id_str': '0'}}\n"
     ]
    },
    {
     "name": "stderr",
     "output_type": "stream",
     "text": [
      "\r",
      "  6%|▌         | 25/450 [00:07<02:04,  3.42it/s]"
     ]
    },
    {
     "name": "stdout",
     "output_type": "stream",
     "text": [
      "{'statuses': [], 'search_metadata': {'completed_in': 0.01, 'max_id': 1386884386029776896, 'max_id_str': '1386884386029776896', 'query': '%23bitcoin+OR+%23BTC+since%3A2021-04-11+until%3A2021-04-19', 'refresh_url': '?since_id=1386884386029776896&q=%23bitcoin%20OR%20%23BTC%20since%3A2021-04-11%20until%3A2021-04-19&lang=en&result_type=recent&include_entities=1', 'count': 100, 'since_id': 0, 'since_id_str': '0'}}\n"
     ]
    },
    {
     "name": "stderr",
     "output_type": "stream",
     "text": [
      "\r",
      "  6%|▌         | 26/450 [00:07<02:06,  3.36it/s]"
     ]
    },
    {
     "name": "stdout",
     "output_type": "stream",
     "text": [
      "{'statuses': [], 'search_metadata': {'completed_in': 0.007, 'max_id': 1386884386029776896, 'max_id_str': '1386884386029776896', 'query': '%23bitcoin+OR+%23BTC+since%3A2021-04-11+until%3A2021-04-19', 'refresh_url': '?since_id=1386884386029776896&q=%23bitcoin%20OR%20%23BTC%20since%3A2021-04-11%20until%3A2021-04-19&lang=en&result_type=recent&include_entities=1', 'count': 100, 'since_id': 0, 'since_id_str': '0'}}\n"
     ]
    },
    {
     "name": "stderr",
     "output_type": "stream",
     "text": [
      "\r",
      "  6%|▌         | 27/450 [00:07<02:07,  3.33it/s]"
     ]
    },
    {
     "name": "stdout",
     "output_type": "stream",
     "text": [
      "{'statuses': [], 'search_metadata': {'completed_in': 0.006, 'max_id': 1386884386029776896, 'max_id_str': '1386884386029776896', 'query': '%23bitcoin+OR+%23BTC+since%3A2021-04-11+until%3A2021-04-19', 'refresh_url': '?since_id=1386884386029776896&q=%23bitcoin%20OR%20%23BTC%20since%3A2021-04-11%20until%3A2021-04-19&lang=en&result_type=recent&include_entities=1', 'count': 100, 'since_id': 0, 'since_id_str': '0'}}\n"
     ]
    },
    {
     "name": "stderr",
     "output_type": "stream",
     "text": [
      "\r",
      "  6%|▌         | 28/450 [00:08<02:02,  3.45it/s]"
     ]
    },
    {
     "name": "stdout",
     "output_type": "stream",
     "text": [
      "{'statuses': [], 'search_metadata': {'completed_in': 0.007, 'max_id': 1386884386029776896, 'max_id_str': '1386884386029776896', 'query': '%23bitcoin+OR+%23BTC+since%3A2021-04-11+until%3A2021-04-19', 'refresh_url': '?since_id=1386884386029776896&q=%23bitcoin%20OR%20%23BTC%20since%3A2021-04-11%20until%3A2021-04-19&lang=en&result_type=recent&include_entities=1', 'count': 100, 'since_id': 0, 'since_id_str': '0'}}\n"
     ]
    },
    {
     "name": "stderr",
     "output_type": "stream",
     "text": [
      "\r",
      "  6%|▋         | 29/450 [00:08<01:59,  3.53it/s]"
     ]
    },
    {
     "name": "stdout",
     "output_type": "stream",
     "text": [
      "{'statuses': [], 'search_metadata': {'completed_in': 0.007, 'max_id': 1386884386029776896, 'max_id_str': '1386884386029776896', 'query': '%23bitcoin+OR+%23BTC+since%3A2021-04-11+until%3A2021-04-19', 'refresh_url': '?since_id=1386884386029776896&q=%23bitcoin%20OR%20%23BTC%20since%3A2021-04-11%20until%3A2021-04-19&lang=en&result_type=recent&include_entities=1', 'count': 100, 'since_id': 0, 'since_id_str': '0'}}\n"
     ]
    },
    {
     "name": "stderr",
     "output_type": "stream",
     "text": [
      "\r",
      "  7%|▋         | 30/450 [00:08<02:12,  3.17it/s]"
     ]
    },
    {
     "name": "stdout",
     "output_type": "stream",
     "text": [
      "{'statuses': [], 'search_metadata': {'completed_in': 0.007, 'max_id': 1386884386029776896, 'max_id_str': '1386884386029776896', 'query': '%23bitcoin+OR+%23BTC+since%3A2021-04-11+until%3A2021-04-19', 'refresh_url': '?since_id=1386884386029776896&q=%23bitcoin%20OR%20%23BTC%20since%3A2021-04-11%20until%3A2021-04-19&lang=en&result_type=recent&include_entities=1', 'count': 100, 'since_id': 0, 'since_id_str': '0'}}\n"
     ]
    },
    {
     "name": "stderr",
     "output_type": "stream",
     "text": [
      "\r",
      "  7%|▋         | 31/450 [00:09<02:11,  3.19it/s]"
     ]
    },
    {
     "name": "stdout",
     "output_type": "stream",
     "text": [
      "{'statuses': [], 'search_metadata': {'completed_in': 0.008, 'max_id': 1386884386029776896, 'max_id_str': '1386884386029776896', 'query': '%23bitcoin+OR+%23BTC+since%3A2021-04-11+until%3A2021-04-19', 'refresh_url': '?since_id=1386884386029776896&q=%23bitcoin%20OR%20%23BTC%20since%3A2021-04-11%20until%3A2021-04-19&lang=en&result_type=recent&include_entities=1', 'count': 100, 'since_id': 0, 'since_id_str': '0'}}\n"
     ]
    },
    {
     "name": "stderr",
     "output_type": "stream",
     "text": [
      "\r",
      "  7%|▋         | 32/450 [00:09<02:10,  3.21it/s]"
     ]
    },
    {
     "name": "stdout",
     "output_type": "stream",
     "text": [
      "{'statuses': [], 'search_metadata': {'completed_in': 0.006, 'max_id': 1386884386029776896, 'max_id_str': '1386884386029776896', 'query': '%23bitcoin+OR+%23BTC+since%3A2021-04-11+until%3A2021-04-19', 'refresh_url': '?since_id=1386884386029776896&q=%23bitcoin%20OR%20%23BTC%20since%3A2021-04-11%20until%3A2021-04-19&lang=en&result_type=recent&include_entities=1', 'count': 100, 'since_id': 0, 'since_id_str': '0'}}\n"
     ]
    },
    {
     "name": "stderr",
     "output_type": "stream",
     "text": [
      "\r",
      "  7%|▋         | 33/450 [00:09<02:04,  3.36it/s]"
     ]
    },
    {
     "name": "stdout",
     "output_type": "stream",
     "text": [
      "{'statuses': [], 'search_metadata': {'completed_in': 0.005, 'max_id': 1386884386029776896, 'max_id_str': '1386884386029776896', 'query': '%23bitcoin+OR+%23BTC+since%3A2021-04-11+until%3A2021-04-19', 'refresh_url': '?since_id=1386884386029776896&q=%23bitcoin%20OR%20%23BTC%20since%3A2021-04-11%20until%3A2021-04-19&lang=en&result_type=recent&include_entities=1', 'count': 100, 'since_id': 0, 'since_id_str': '0'}}\n"
     ]
    },
    {
     "name": "stderr",
     "output_type": "stream",
     "text": [
      "\r",
      "  8%|▊         | 34/450 [00:10<01:59,  3.49it/s]"
     ]
    },
    {
     "name": "stdout",
     "output_type": "stream",
     "text": [
      "{'statuses': [], 'search_metadata': {'completed_in': 0.007, 'max_id': 1386884386029776896, 'max_id_str': '1386884386029776896', 'query': '%23bitcoin+OR+%23BTC+since%3A2021-04-11+until%3A2021-04-19', 'refresh_url': '?since_id=1386884386029776896&q=%23bitcoin%20OR%20%23BTC%20since%3A2021-04-11%20until%3A2021-04-19&lang=en&result_type=recent&include_entities=1', 'count': 100, 'since_id': 0, 'since_id_str': '0'}}\n"
     ]
    },
    {
     "name": "stderr",
     "output_type": "stream",
     "text": [
      "\r",
      "  8%|▊         | 35/450 [00:10<01:55,  3.61it/s]"
     ]
    },
    {
     "name": "stdout",
     "output_type": "stream",
     "text": [
      "{'statuses': [], 'search_metadata': {'completed_in': 0.006, 'max_id': 1386884386029776896, 'max_id_str': '1386884386029776896', 'query': '%23bitcoin+OR+%23BTC+since%3A2021-04-11+until%3A2021-04-19', 'refresh_url': '?since_id=1386884386029776896&q=%23bitcoin%20OR%20%23BTC%20since%3A2021-04-11%20until%3A2021-04-19&lang=en&result_type=recent&include_entities=1', 'count': 100, 'since_id': 0, 'since_id_str': '0'}}\n"
     ]
    },
    {
     "name": "stderr",
     "output_type": "stream",
     "text": [
      "\r",
      "  8%|▊         | 36/450 [00:10<01:52,  3.68it/s]"
     ]
    },
    {
     "name": "stdout",
     "output_type": "stream",
     "text": [
      "{'statuses': [], 'search_metadata': {'completed_in': 0.009, 'max_id': 1386884428014579714, 'max_id_str': '1386884428014579714', 'query': '%23bitcoin+OR+%23BTC+since%3A2021-04-11+until%3A2021-04-19', 'refresh_url': '?since_id=1386884428014579714&q=%23bitcoin%20OR%20%23BTC%20since%3A2021-04-11%20until%3A2021-04-19&lang=en&result_type=recent&include_entities=1', 'count': 100, 'since_id': 0, 'since_id_str': '0'}}\n"
     ]
    },
    {
     "name": "stderr",
     "output_type": "stream",
     "text": [
      "\r",
      "  8%|▊         | 37/450 [00:10<01:50,  3.73it/s]"
     ]
    },
    {
     "name": "stdout",
     "output_type": "stream",
     "text": [
      "{'statuses': [], 'search_metadata': {'completed_in': 0.006, 'max_id': 1386884428014579714, 'max_id_str': '1386884428014579714', 'query': '%23bitcoin+OR+%23BTC+since%3A2021-04-11+until%3A2021-04-19', 'refresh_url': '?since_id=1386884428014579714&q=%23bitcoin%20OR%20%23BTC%20since%3A2021-04-11%20until%3A2021-04-19&lang=en&result_type=recent&include_entities=1', 'count': 100, 'since_id': 0, 'since_id_str': '0'}}\n"
     ]
    },
    {
     "name": "stderr",
     "output_type": "stream",
     "text": [
      "\r",
      "  8%|▊         | 38/450 [00:11<01:48,  3.78it/s]"
     ]
    },
    {
     "name": "stdout",
     "output_type": "stream",
     "text": [
      "{'statuses': [], 'search_metadata': {'completed_in': 0.005, 'max_id': 1386884428014579714, 'max_id_str': '1386884428014579714', 'query': '%23bitcoin+OR+%23BTC+since%3A2021-04-11+until%3A2021-04-19', 'refresh_url': '?since_id=1386884428014579714&q=%23bitcoin%20OR%20%23BTC%20since%3A2021-04-11%20until%3A2021-04-19&lang=en&result_type=recent&include_entities=1', 'count': 100, 'since_id': 0, 'since_id_str': '0'}}\n"
     ]
    },
    {
     "name": "stderr",
     "output_type": "stream",
     "text": [
      "\r",
      "  9%|▊         | 39/450 [00:11<01:47,  3.81it/s]"
     ]
    },
    {
     "name": "stdout",
     "output_type": "stream",
     "text": [
      "{'statuses': [], 'search_metadata': {'completed_in': 0.006, 'max_id': 1386884428014579714, 'max_id_str': '1386884428014579714', 'query': '%23bitcoin+OR+%23BTC+since%3A2021-04-11+until%3A2021-04-19', 'refresh_url': '?since_id=1386884428014579714&q=%23bitcoin%20OR%20%23BTC%20since%3A2021-04-11%20until%3A2021-04-19&lang=en&result_type=recent&include_entities=1', 'count': 100, 'since_id': 0, 'since_id_str': '0'}}\n"
     ]
    },
    {
     "name": "stderr",
     "output_type": "stream",
     "text": [
      "\r",
      "  9%|▉         | 40/450 [00:11<01:46,  3.83it/s]"
     ]
    },
    {
     "name": "stdout",
     "output_type": "stream",
     "text": [
      "{'statuses': [], 'search_metadata': {'completed_in': 0.006, 'max_id': 1386884428014579714, 'max_id_str': '1386884428014579714', 'query': '%23bitcoin+OR+%23BTC+since%3A2021-04-11+until%3A2021-04-19', 'refresh_url': '?since_id=1386884428014579714&q=%23bitcoin%20OR%20%23BTC%20since%3A2021-04-11%20until%3A2021-04-19&lang=en&result_type=recent&include_entities=1', 'count': 100, 'since_id': 0, 'since_id_str': '0'}}\n"
     ]
    },
    {
     "name": "stderr",
     "output_type": "stream",
     "text": [
      "\r",
      "  9%|▉         | 41/450 [00:11<01:46,  3.85it/s]"
     ]
    },
    {
     "name": "stdout",
     "output_type": "stream",
     "text": [
      "{'statuses': [], 'search_metadata': {'completed_in': 0.006, 'max_id': 1386884428014579714, 'max_id_str': '1386884428014579714', 'query': '%23bitcoin+OR+%23BTC+since%3A2021-04-11+until%3A2021-04-19', 'refresh_url': '?since_id=1386884428014579714&q=%23bitcoin%20OR%20%23BTC%20since%3A2021-04-11%20until%3A2021-04-19&lang=en&result_type=recent&include_entities=1', 'count': 100, 'since_id': 0, 'since_id_str': '0'}}\n"
     ]
    },
    {
     "name": "stderr",
     "output_type": "stream",
     "text": [
      "\r",
      "  9%|▉         | 42/450 [00:12<01:45,  3.86it/s]"
     ]
    },
    {
     "name": "stdout",
     "output_type": "stream",
     "text": [
      "{'statuses': [], 'search_metadata': {'completed_in': 0.006, 'max_id': 1386884428014579714, 'max_id_str': '1386884428014579714', 'query': '%23bitcoin+OR+%23BTC+since%3A2021-04-11+until%3A2021-04-19', 'refresh_url': '?since_id=1386884428014579714&q=%23bitcoin%20OR%20%23BTC%20since%3A2021-04-11%20until%3A2021-04-19&lang=en&result_type=recent&include_entities=1', 'count': 100, 'since_id': 0, 'since_id_str': '0'}}\n"
     ]
    },
    {
     "name": "stderr",
     "output_type": "stream",
     "text": [
      "\r",
      " 10%|▉         | 43/450 [00:12<02:03,  3.29it/s]"
     ]
    },
    {
     "name": "stdout",
     "output_type": "stream",
     "text": [
      "{'statuses': [], 'search_metadata': {'completed_in': 0.156, 'max_id': 1386884428014579714, 'max_id_str': '1386884428014579714', 'query': '%23bitcoin+OR+%23BTC+since%3A2021-04-11+until%3A2021-04-19', 'refresh_url': '?since_id=1386884428014579714&q=%23bitcoin%20OR%20%23BTC%20since%3A2021-04-11%20until%3A2021-04-19&lang=en&result_type=recent&include_entities=1', 'count': 100, 'since_id': 0, 'since_id_str': '0'}}\n"
     ]
    },
    {
     "name": "stderr",
     "output_type": "stream",
     "text": [
      "\r",
      " 10%|▉         | 44/450 [00:12<01:58,  3.43it/s]"
     ]
    },
    {
     "name": "stdout",
     "output_type": "stream",
     "text": [
      "{'statuses': [], 'search_metadata': {'completed_in': 0.007, 'max_id': 1386884428014579714, 'max_id_str': '1386884428014579714', 'query': '%23bitcoin+OR+%23BTC+since%3A2021-04-11+until%3A2021-04-19', 'refresh_url': '?since_id=1386884428014579714&q=%23bitcoin%20OR%20%23BTC%20since%3A2021-04-11%20until%3A2021-04-19&lang=en&result_type=recent&include_entities=1', 'count': 100, 'since_id': 0, 'since_id_str': '0'}}\n"
     ]
    },
    {
     "name": "stderr",
     "output_type": "stream",
     "text": [
      "\r",
      " 10%|█         | 45/450 [00:13<01:54,  3.55it/s]"
     ]
    },
    {
     "name": "stdout",
     "output_type": "stream",
     "text": [
      "{'statuses': [], 'search_metadata': {'completed_in': 0.006, 'max_id': 1386884428014579714, 'max_id_str': '1386884428014579714', 'query': '%23bitcoin+OR+%23BTC+since%3A2021-04-11+until%3A2021-04-19', 'refresh_url': '?since_id=1386884428014579714&q=%23bitcoin%20OR%20%23BTC%20since%3A2021-04-11%20until%3A2021-04-19&lang=en&result_type=recent&include_entities=1', 'count': 100, 'since_id': 0, 'since_id_str': '0'}}\n"
     ]
    },
    {
     "name": "stderr",
     "output_type": "stream",
     "text": [
      "\r",
      " 10%|█         | 46/450 [00:13<01:54,  3.53it/s]"
     ]
    },
    {
     "name": "stdout",
     "output_type": "stream",
     "text": [
      "{'statuses': [], 'search_metadata': {'completed_in': 0.007, 'max_id': 1386884428014579714, 'max_id_str': '1386884428014579714', 'query': '%23bitcoin+OR+%23BTC+since%3A2021-04-11+until%3A2021-04-19', 'refresh_url': '?since_id=1386884428014579714&q=%23bitcoin%20OR%20%23BTC%20since%3A2021-04-11%20until%3A2021-04-19&lang=en&result_type=recent&include_entities=1', 'count': 100, 'since_id': 0, 'since_id_str': '0'}}\n"
     ]
    },
    {
     "name": "stderr",
     "output_type": "stream",
     "text": [
      "\r",
      " 10%|█         | 47/450 [00:13<01:57,  3.43it/s]"
     ]
    },
    {
     "name": "stdout",
     "output_type": "stream",
     "text": [
      "{'statuses': [], 'search_metadata': {'completed_in': 0.005, 'max_id': 1386884428014579714, 'max_id_str': '1386884428014579714', 'query': '%23bitcoin+OR+%23BTC+since%3A2021-04-11+until%3A2021-04-19', 'refresh_url': '?since_id=1386884428014579714&q=%23bitcoin%20OR%20%23BTC%20since%3A2021-04-11%20until%3A2021-04-19&lang=en&result_type=recent&include_entities=1', 'count': 100, 'since_id': 0, 'since_id_str': '0'}}\n"
     ]
    },
    {
     "name": "stderr",
     "output_type": "stream",
     "text": [
      "\r",
      " 11%|█         | 48/450 [00:13<01:54,  3.51it/s]"
     ]
    },
    {
     "name": "stdout",
     "output_type": "stream",
     "text": [
      "{'statuses': [], 'search_metadata': {'completed_in': 0.007, 'max_id': 1386884428014579714, 'max_id_str': '1386884428014579714', 'query': '%23bitcoin+OR+%23BTC+since%3A2021-04-11+until%3A2021-04-19', 'refresh_url': '?since_id=1386884428014579714&q=%23bitcoin%20OR%20%23BTC%20since%3A2021-04-11%20until%3A2021-04-19&lang=en&result_type=recent&include_entities=1', 'count': 100, 'since_id': 0, 'since_id_str': '0'}}\n"
     ]
    },
    {
     "name": "stderr",
     "output_type": "stream",
     "text": [
      "\r",
      " 11%|█         | 49/450 [00:14<01:51,  3.59it/s]"
     ]
    },
    {
     "name": "stdout",
     "output_type": "stream",
     "text": [
      "{'statuses': [], 'search_metadata': {'completed_in': 0.007, 'max_id': 1386884428014579714, 'max_id_str': '1386884428014579714', 'query': '%23bitcoin+OR+%23BTC+since%3A2021-04-11+until%3A2021-04-19', 'refresh_url': '?since_id=1386884428014579714&q=%23bitcoin%20OR%20%23BTC%20since%3A2021-04-11%20until%3A2021-04-19&lang=en&result_type=recent&include_entities=1', 'count': 100, 'since_id': 0, 'since_id_str': '0'}}\n"
     ]
    },
    {
     "name": "stderr",
     "output_type": "stream",
     "text": [
      "\r",
      " 11%|█         | 50/450 [00:14<01:49,  3.65it/s]"
     ]
    },
    {
     "name": "stdout",
     "output_type": "stream",
     "text": [
      "{'statuses': [], 'search_metadata': {'completed_in': 0.006, 'max_id': 1386884428014579714, 'max_id_str': '1386884428014579714', 'query': '%23bitcoin+OR+%23BTC+since%3A2021-04-11+until%3A2021-04-19', 'refresh_url': '?since_id=1386884428014579714&q=%23bitcoin%20OR%20%23BTC%20since%3A2021-04-11%20until%3A2021-04-19&lang=en&result_type=recent&include_entities=1', 'count': 100, 'since_id': 0, 'since_id_str': '0'}}\n"
     ]
    },
    {
     "name": "stderr",
     "output_type": "stream",
     "text": [
      "\r",
      " 11%|█▏        | 51/450 [00:15<03:29,  1.90it/s]"
     ]
    },
    {
     "name": "stdout",
     "output_type": "stream",
     "text": [
      "{'statuses': [], 'search_metadata': {'completed_in': 0.007, 'max_id': 1386884428014579714, 'max_id_str': '1386884428014579714', 'query': '%23bitcoin+OR+%23BTC+since%3A2021-04-11+until%3A2021-04-19', 'refresh_url': '?since_id=1386884428014579714&q=%23bitcoin%20OR%20%23BTC%20since%3A2021-04-11%20until%3A2021-04-19&lang=en&result_type=recent&include_entities=1', 'count': 100, 'since_id': 0, 'since_id_str': '0'}}\n"
     ]
    },
    {
     "name": "stderr",
     "output_type": "stream",
     "text": [
      "\r",
      " 12%|█▏        | 52/450 [00:15<03:20,  1.98it/s]"
     ]
    },
    {
     "name": "stdout",
     "output_type": "stream",
     "text": [
      "{'statuses': [], 'search_metadata': {'completed_in': 0.005, 'max_id': 1386884428014579714, 'max_id_str': '1386884428014579714', 'query': '%23bitcoin+OR+%23BTC+since%3A2021-04-11+until%3A2021-04-19', 'refresh_url': '?since_id=1386884428014579714&q=%23bitcoin%20OR%20%23BTC%20since%3A2021-04-11%20until%3A2021-04-19&lang=en&result_type=recent&include_entities=1', 'count': 100, 'since_id': 0, 'since_id_str': '0'}}\n"
     ]
    },
    {
     "name": "stderr",
     "output_type": "stream",
     "text": [
      "\r",
      " 12%|█▏        | 53/450 [00:16<03:09,  2.10it/s]"
     ]
    },
    {
     "name": "stdout",
     "output_type": "stream",
     "text": [
      "{'statuses': [], 'search_metadata': {'completed_in': 0.007, 'max_id': 1386884428014579714, 'max_id_str': '1386884428014579714', 'query': '%23bitcoin+OR+%23BTC+since%3A2021-04-11+until%3A2021-04-19', 'refresh_url': '?since_id=1386884428014579714&q=%23bitcoin%20OR%20%23BTC%20since%3A2021-04-11%20until%3A2021-04-19&lang=en&result_type=recent&include_entities=1', 'count': 100, 'since_id': 0, 'since_id_str': '0'}}\n"
     ]
    },
    {
     "name": "stderr",
     "output_type": "stream",
     "text": [
      "\r",
      " 12%|█▏        | 54/450 [00:16<03:05,  2.14it/s]"
     ]
    },
    {
     "name": "stdout",
     "output_type": "stream",
     "text": [
      "{'statuses': [], 'search_metadata': {'completed_in': 0.005, 'max_id': 1386884428014579714, 'max_id_str': '1386884428014579714', 'query': '%23bitcoin+OR+%23BTC+since%3A2021-04-11+until%3A2021-04-19', 'refresh_url': '?since_id=1386884428014579714&q=%23bitcoin%20OR%20%23BTC%20since%3A2021-04-11%20until%3A2021-04-19&lang=en&result_type=recent&include_entities=1', 'count': 100, 'since_id': 0, 'since_id_str': '0'}}\n"
     ]
    },
    {
     "name": "stderr",
     "output_type": "stream",
     "text": [
      "\r",
      " 12%|█▏        | 55/450 [00:17<02:58,  2.22it/s]"
     ]
    },
    {
     "name": "stdout",
     "output_type": "stream",
     "text": [
      "{'statuses': [], 'search_metadata': {'completed_in': 0.007, 'max_id': 1386884428014579714, 'max_id_str': '1386884428014579714', 'query': '%23bitcoin+OR+%23BTC+since%3A2021-04-11+until%3A2021-04-19', 'refresh_url': '?since_id=1386884428014579714&q=%23bitcoin%20OR%20%23BTC%20since%3A2021-04-11%20until%3A2021-04-19&lang=en&result_type=recent&include_entities=1', 'count': 100, 'since_id': 0, 'since_id_str': '0'}}\n"
     ]
    },
    {
     "name": "stderr",
     "output_type": "stream",
     "text": [
      "\r",
      " 12%|█▏        | 56/450 [00:17<02:53,  2.28it/s]"
     ]
    },
    {
     "name": "stdout",
     "output_type": "stream",
     "text": [
      "{'statuses': [], 'search_metadata': {'completed_in': 0.007, 'max_id': 1386884428014579714, 'max_id_str': '1386884428014579714', 'query': '%23bitcoin+OR+%23BTC+since%3A2021-04-11+until%3A2021-04-19', 'refresh_url': '?since_id=1386884428014579714&q=%23bitcoin%20OR%20%23BTC%20since%3A2021-04-11%20until%3A2021-04-19&lang=en&result_type=recent&include_entities=1', 'count': 100, 'since_id': 0, 'since_id_str': '0'}}\n"
     ]
    },
    {
     "name": "stderr",
     "output_type": "stream",
     "text": [
      "\r",
      " 13%|█▎        | 57/450 [00:18<02:57,  2.22it/s]"
     ]
    },
    {
     "name": "stdout",
     "output_type": "stream",
     "text": [
      "{'statuses': [], 'search_metadata': {'completed_in': 0.007, 'max_id': 1386884428014579714, 'max_id_str': '1386884428014579714', 'query': '%23bitcoin+OR+%23BTC+since%3A2021-04-11+until%3A2021-04-19', 'refresh_url': '?since_id=1386884428014579714&q=%23bitcoin%20OR%20%23BTC%20since%3A2021-04-11%20until%3A2021-04-19&lang=en&result_type=recent&include_entities=1', 'count': 100, 'since_id': 0, 'since_id_str': '0'}}\n"
     ]
    },
    {
     "name": "stderr",
     "output_type": "stream",
     "text": [
      "\r",
      " 13%|█▎        | 58/450 [00:18<02:51,  2.28it/s]"
     ]
    },
    {
     "name": "stdout",
     "output_type": "stream",
     "text": [
      "{'statuses': [], 'search_metadata': {'completed_in': 0.006, 'max_id': 1386884428014579714, 'max_id_str': '1386884428014579714', 'query': '%23bitcoin+OR+%23BTC+since%3A2021-04-11+until%3A2021-04-19', 'refresh_url': '?since_id=1386884428014579714&q=%23bitcoin%20OR%20%23BTC%20since%3A2021-04-11%20until%3A2021-04-19&lang=en&result_type=recent&include_entities=1', 'count': 100, 'since_id': 0, 'since_id_str': '0'}}\n"
     ]
    },
    {
     "name": "stderr",
     "output_type": "stream",
     "text": [
      "\r",
      " 13%|█▎        | 59/450 [00:19<03:01,  2.16it/s]"
     ]
    },
    {
     "name": "stdout",
     "output_type": "stream",
     "text": [
      "{'statuses': [], 'search_metadata': {'completed_in': 0.006, 'max_id': 1386884428014579714, 'max_id_str': '1386884428014579714', 'query': '%23bitcoin+OR+%23BTC+since%3A2021-04-11+until%3A2021-04-19', 'refresh_url': '?since_id=1386884428014579714&q=%23bitcoin%20OR%20%23BTC%20since%3A2021-04-11%20until%3A2021-04-19&lang=en&result_type=recent&include_entities=1', 'count': 100, 'since_id': 0, 'since_id_str': '0'}}\n"
     ]
    },
    {
     "name": "stderr",
     "output_type": "stream",
     "text": [
      "\r",
      " 13%|█▎        | 60/450 [00:19<03:06,  2.09it/s]"
     ]
    },
    {
     "name": "stdout",
     "output_type": "stream",
     "text": [
      "{'statuses': [], 'search_metadata': {'completed_in': 0.008, 'max_id': 1386884428014579714, 'max_id_str': '1386884428014579714', 'query': '%23bitcoin+OR+%23BTC+since%3A2021-04-11+until%3A2021-04-19', 'refresh_url': '?since_id=1386884428014579714&q=%23bitcoin%20OR%20%23BTC%20since%3A2021-04-11%20until%3A2021-04-19&lang=en&result_type=recent&include_entities=1', 'count': 100, 'since_id': 0, 'since_id_str': '0'}}\n"
     ]
    },
    {
     "name": "stderr",
     "output_type": "stream",
     "text": [
      "\r",
      " 14%|█▎        | 61/450 [00:20<02:59,  2.17it/s]"
     ]
    },
    {
     "name": "stdout",
     "output_type": "stream",
     "text": [
      "{'statuses': [], 'search_metadata': {'completed_in': 0.008, 'max_id': 1386884428014579714, 'max_id_str': '1386884428014579714', 'query': '%23bitcoin+OR+%23BTC+since%3A2021-04-11+until%3A2021-04-19', 'refresh_url': '?since_id=1386884428014579714&q=%23bitcoin%20OR%20%23BTC%20since%3A2021-04-11%20until%3A2021-04-19&lang=en&result_type=recent&include_entities=1', 'count': 100, 'since_id': 0, 'since_id_str': '0'}}\n"
     ]
    },
    {
     "name": "stderr",
     "output_type": "stream",
     "text": [
      "\r",
      " 14%|█▍        | 62/450 [00:20<02:54,  2.22it/s]"
     ]
    },
    {
     "name": "stdout",
     "output_type": "stream",
     "text": [
      "{'statuses': [], 'search_metadata': {'completed_in': 0.006, 'max_id': 1386884428014579714, 'max_id_str': '1386884428014579714', 'query': '%23bitcoin+OR+%23BTC+since%3A2021-04-11+until%3A2021-04-19', 'refresh_url': '?since_id=1386884428014579714&q=%23bitcoin%20OR%20%23BTC%20since%3A2021-04-11%20until%3A2021-04-19&lang=en&result_type=recent&include_entities=1', 'count': 100, 'since_id': 0, 'since_id_str': '0'}}\n"
     ]
    },
    {
     "name": "stderr",
     "output_type": "stream",
     "text": [
      "\r",
      " 14%|█▍        | 63/450 [00:20<02:58,  2.17it/s]"
     ]
    },
    {
     "name": "stdout",
     "output_type": "stream",
     "text": [
      "{'statuses': [], 'search_metadata': {'completed_in': 0.006, 'max_id': 1386884428014579714, 'max_id_str': '1386884428014579714', 'query': '%23bitcoin+OR+%23BTC+since%3A2021-04-11+until%3A2021-04-19', 'refresh_url': '?since_id=1386884428014579714&q=%23bitcoin%20OR%20%23BTC%20since%3A2021-04-11%20until%3A2021-04-19&lang=en&result_type=recent&include_entities=1', 'count': 100, 'since_id': 0, 'since_id_str': '0'}}\n"
     ]
    },
    {
     "name": "stderr",
     "output_type": "stream",
     "text": [
      "\r",
      " 14%|█▍        | 64/450 [00:21<02:52,  2.24it/s]"
     ]
    },
    {
     "name": "stdout",
     "output_type": "stream",
     "text": [
      "{'statuses': [], 'search_metadata': {'completed_in': 0.006, 'max_id': 1386884428014579714, 'max_id_str': '1386884428014579714', 'query': '%23bitcoin+OR+%23BTC+since%3A2021-04-11+until%3A2021-04-19', 'refresh_url': '?since_id=1386884428014579714&q=%23bitcoin%20OR%20%23BTC%20since%3A2021-04-11%20until%3A2021-04-19&lang=en&result_type=recent&include_entities=1', 'count': 100, 'since_id': 0, 'since_id_str': '0'}}\n"
     ]
    },
    {
     "name": "stderr",
     "output_type": "stream",
     "text": [
      "\r",
      " 14%|█▍        | 65/450 [00:21<02:48,  2.29it/s]"
     ]
    },
    {
     "name": "stdout",
     "output_type": "stream",
     "text": [
      "{'statuses': [], 'search_metadata': {'completed_in': 0.006, 'max_id': 1386884428014579714, 'max_id_str': '1386884428014579714', 'query': '%23bitcoin+OR+%23BTC+since%3A2021-04-11+until%3A2021-04-19', 'refresh_url': '?since_id=1386884428014579714&q=%23bitcoin%20OR%20%23BTC%20since%3A2021-04-11%20until%3A2021-04-19&lang=en&result_type=recent&include_entities=1', 'count': 100, 'since_id': 0, 'since_id_str': '0'}}\n"
     ]
    },
    {
     "name": "stderr",
     "output_type": "stream",
     "text": [
      "\r",
      " 15%|█▍        | 66/450 [00:22<02:45,  2.32it/s]"
     ]
    },
    {
     "name": "stdout",
     "output_type": "stream",
     "text": [
      "{'statuses': [], 'search_metadata': {'completed_in': 0.008, 'max_id': 1386884428014579714, 'max_id_str': '1386884428014579714', 'query': '%23bitcoin+OR+%23BTC+since%3A2021-04-11+until%3A2021-04-19', 'refresh_url': '?since_id=1386884428014579714&q=%23bitcoin%20OR%20%23BTC%20since%3A2021-04-11%20until%3A2021-04-19&lang=en&result_type=recent&include_entities=1', 'count': 100, 'since_id': 0, 'since_id_str': '0'}}\n"
     ]
    },
    {
     "name": "stderr",
     "output_type": "stream",
     "text": [
      "\r",
      " 15%|█▍        | 67/450 [00:22<02:43,  2.34it/s]"
     ]
    },
    {
     "name": "stdout",
     "output_type": "stream",
     "text": [
      "{'statuses': [], 'search_metadata': {'completed_in': 0.007, 'max_id': 1386884428014579714, 'max_id_str': '1386884428014579714', 'query': '%23bitcoin+OR+%23BTC+since%3A2021-04-11+until%3A2021-04-19', 'refresh_url': '?since_id=1386884428014579714&q=%23bitcoin%20OR%20%23BTC%20since%3A2021-04-11%20until%3A2021-04-19&lang=en&result_type=recent&include_entities=1', 'count': 100, 'since_id': 0, 'since_id_str': '0'}}\n"
     ]
    },
    {
     "name": "stderr",
     "output_type": "stream",
     "text": [
      "\r",
      " 15%|█▌        | 68/450 [00:22<02:41,  2.37it/s]"
     ]
    },
    {
     "name": "stdout",
     "output_type": "stream",
     "text": [
      "{'statuses': [], 'search_metadata': {'completed_in': 0.006, 'max_id': 1386884428014579714, 'max_id_str': '1386884428014579714', 'query': '%23bitcoin+OR+%23BTC+since%3A2021-04-11+until%3A2021-04-19', 'refresh_url': '?since_id=1386884428014579714&q=%23bitcoin%20OR%20%23BTC%20since%3A2021-04-11%20until%3A2021-04-19&lang=en&result_type=recent&include_entities=1', 'count': 100, 'since_id': 0, 'since_id_str': '0'}}\n"
     ]
    },
    {
     "name": "stderr",
     "output_type": "stream",
     "text": [
      "\r",
      " 15%|█▌        | 69/450 [00:23<02:39,  2.39it/s]"
     ]
    },
    {
     "name": "stdout",
     "output_type": "stream",
     "text": [
      "{'statuses': [], 'search_metadata': {'completed_in': 0.005, 'max_id': 1386884428014579714, 'max_id_str': '1386884428014579714', 'query': '%23bitcoin+OR+%23BTC+since%3A2021-04-11+until%3A2021-04-19', 'refresh_url': '?since_id=1386884428014579714&q=%23bitcoin%20OR%20%23BTC%20since%3A2021-04-11%20until%3A2021-04-19&lang=en&result_type=recent&include_entities=1', 'count': 100, 'since_id': 0, 'since_id_str': '0'}}\n"
     ]
    },
    {
     "name": "stderr",
     "output_type": "stream",
     "text": [
      "\r",
      " 16%|█▌        | 70/450 [00:23<02:38,  2.40it/s]"
     ]
    },
    {
     "name": "stdout",
     "output_type": "stream",
     "text": [
      "{'statuses': [], 'search_metadata': {'completed_in': 0.006, 'max_id': 1386884428014579714, 'max_id_str': '1386884428014579714', 'query': '%23bitcoin+OR+%23BTC+since%3A2021-04-11+until%3A2021-04-19', 'refresh_url': '?since_id=1386884428014579714&q=%23bitcoin%20OR%20%23BTC%20since%3A2021-04-11%20until%3A2021-04-19&lang=en&result_type=recent&include_entities=1', 'count': 100, 'since_id': 0, 'since_id_str': '0'}}\n"
     ]
    },
    {
     "name": "stderr",
     "output_type": "stream",
     "text": [
      "\r",
      " 16%|█▌        | 71/450 [00:24<02:46,  2.27it/s]"
     ]
    },
    {
     "name": "stdout",
     "output_type": "stream",
     "text": [
      "{'statuses': [], 'search_metadata': {'completed_in': 0.006, 'max_id': 1386884428014579714, 'max_id_str': '1386884428014579714', 'query': '%23bitcoin+OR+%23BTC+since%3A2021-04-11+until%3A2021-04-19', 'refresh_url': '?since_id=1386884428014579714&q=%23bitcoin%20OR%20%23BTC%20since%3A2021-04-11%20until%3A2021-04-19&lang=en&result_type=recent&include_entities=1', 'count': 100, 'since_id': 0, 'since_id_str': '0'}}\n"
     ]
    },
    {
     "name": "stderr",
     "output_type": "stream",
     "text": [
      "\r",
      " 16%|█▌        | 72/450 [00:24<02:43,  2.31it/s]"
     ]
    },
    {
     "name": "stdout",
     "output_type": "stream",
     "text": [
      "{'statuses': [], 'search_metadata': {'completed_in': 0.006, 'max_id': 1386884428014579714, 'max_id_str': '1386884428014579714', 'query': '%23bitcoin+OR+%23BTC+since%3A2021-04-11+until%3A2021-04-19', 'refresh_url': '?since_id=1386884428014579714&q=%23bitcoin%20OR%20%23BTC%20since%3A2021-04-11%20until%3A2021-04-19&lang=en&result_type=recent&include_entities=1', 'count': 100, 'since_id': 0, 'since_id_str': '0'}}\n"
     ]
    },
    {
     "name": "stderr",
     "output_type": "stream",
     "text": [
      "\r",
      " 16%|█▌        | 73/450 [00:25<02:46,  2.26it/s]"
     ]
    },
    {
     "name": "stdout",
     "output_type": "stream",
     "text": [
      "{'statuses': [], 'search_metadata': {'completed_in': 0.006, 'max_id': 1386884428014579714, 'max_id_str': '1386884428014579714', 'query': '%23bitcoin+OR+%23BTC+since%3A2021-04-11+until%3A2021-04-19', 'refresh_url': '?since_id=1386884428014579714&q=%23bitcoin%20OR%20%23BTC%20since%3A2021-04-11%20until%3A2021-04-19&lang=en&result_type=recent&include_entities=1', 'count': 100, 'since_id': 0, 'since_id_str': '0'}}\n"
     ]
    },
    {
     "name": "stderr",
     "output_type": "stream",
     "text": [
      "\r",
      " 16%|█▋        | 74/450 [00:25<02:48,  2.23it/s]"
     ]
    },
    {
     "name": "stdout",
     "output_type": "stream",
     "text": [
      "{'statuses': [], 'search_metadata': {'completed_in': 0.008, 'max_id': 1386884428014579714, 'max_id_str': '1386884428014579714', 'query': '%23bitcoin+OR+%23BTC+since%3A2021-04-11+until%3A2021-04-19', 'refresh_url': '?since_id=1386884428014579714&q=%23bitcoin%20OR%20%23BTC%20since%3A2021-04-11%20until%3A2021-04-19&lang=en&result_type=recent&include_entities=1', 'count': 100, 'since_id': 0, 'since_id_str': '0'}}\n"
     ]
    },
    {
     "name": "stderr",
     "output_type": "stream",
     "text": [
      "\r",
      " 17%|█▋        | 75/450 [00:26<02:43,  2.29it/s]"
     ]
    },
    {
     "name": "stdout",
     "output_type": "stream",
     "text": [
      "{'statuses': [], 'search_metadata': {'completed_in': 0.008, 'max_id': 1386884492736942084, 'max_id_str': '1386884492736942084', 'query': '%23bitcoin+OR+%23BTC+since%3A2021-04-11+until%3A2021-04-19', 'refresh_url': '?since_id=1386884492736942084&q=%23bitcoin%20OR%20%23BTC%20since%3A2021-04-11%20until%3A2021-04-19&lang=en&result_type=recent&include_entities=1', 'count': 100, 'since_id': 0, 'since_id_str': '0'}}\n"
     ]
    },
    {
     "name": "stderr",
     "output_type": "stream",
     "text": [
      "\r",
      " 17%|█▋        | 76/450 [00:26<02:40,  2.33it/s]"
     ]
    },
    {
     "name": "stdout",
     "output_type": "stream",
     "text": [
      "{'statuses': [], 'search_metadata': {'completed_in': 0.005, 'max_id': 1386884492736942084, 'max_id_str': '1386884492736942084', 'query': '%23bitcoin+OR+%23BTC+since%3A2021-04-11+until%3A2021-04-19', 'refresh_url': '?since_id=1386884492736942084&q=%23bitcoin%20OR%20%23BTC%20since%3A2021-04-11%20until%3A2021-04-19&lang=en&result_type=recent&include_entities=1', 'count': 100, 'since_id': 0, 'since_id_str': '0'}}\n"
     ]
    },
    {
     "name": "stderr",
     "output_type": "stream",
     "text": [
      "\r",
      " 17%|█▋        | 77/450 [00:26<02:38,  2.36it/s]"
     ]
    },
    {
     "name": "stdout",
     "output_type": "stream",
     "text": [
      "{'statuses': [], 'search_metadata': {'completed_in': 0.006, 'max_id': 1386884492736942084, 'max_id_str': '1386884492736942084', 'query': '%23bitcoin+OR+%23BTC+since%3A2021-04-11+until%3A2021-04-19', 'refresh_url': '?since_id=1386884492736942084&q=%23bitcoin%20OR%20%23BTC%20since%3A2021-04-11%20until%3A2021-04-19&lang=en&result_type=recent&include_entities=1', 'count': 100, 'since_id': 0, 'since_id_str': '0'}}\n"
     ]
    },
    {
     "name": "stderr",
     "output_type": "stream",
     "text": [
      "\r",
      " 17%|█▋        | 78/450 [00:27<02:35,  2.39it/s]"
     ]
    },
    {
     "name": "stdout",
     "output_type": "stream",
     "text": [
      "{'statuses': [], 'search_metadata': {'completed_in': 0.004, 'max_id': 1386884492736942084, 'max_id_str': '1386884492736942084', 'query': '%23bitcoin+OR+%23BTC+since%3A2021-04-11+until%3A2021-04-19', 'refresh_url': '?since_id=1386884492736942084&q=%23bitcoin%20OR%20%23BTC%20since%3A2021-04-11%20until%3A2021-04-19&lang=en&result_type=recent&include_entities=1', 'count': 100, 'since_id': 0, 'since_id_str': '0'}}\n"
     ]
    },
    {
     "name": "stderr",
     "output_type": "stream",
     "text": [
      "\r",
      " 18%|█▊        | 79/450 [00:27<02:34,  2.40it/s]"
     ]
    },
    {
     "name": "stdout",
     "output_type": "stream",
     "text": [
      "{'statuses': [], 'search_metadata': {'completed_in': 0.006, 'max_id': 1386884492736942084, 'max_id_str': '1386884492736942084', 'query': '%23bitcoin+OR+%23BTC+since%3A2021-04-11+until%3A2021-04-19', 'refresh_url': '?since_id=1386884492736942084&q=%23bitcoin%20OR%20%23BTC%20since%3A2021-04-11%20until%3A2021-04-19&lang=en&result_type=recent&include_entities=1', 'count': 100, 'since_id': 0, 'since_id_str': '0'}}\n"
     ]
    },
    {
     "name": "stderr",
     "output_type": "stream",
     "text": [
      "\r",
      " 18%|█▊        | 80/450 [00:28<02:33,  2.41it/s]"
     ]
    },
    {
     "name": "stdout",
     "output_type": "stream",
     "text": [
      "{'statuses': [], 'search_metadata': {'completed_in': 0.007, 'max_id': 1386884492736942084, 'max_id_str': '1386884492736942084', 'query': '%23bitcoin+OR+%23BTC+since%3A2021-04-11+until%3A2021-04-19', 'refresh_url': '?since_id=1386884492736942084&q=%23bitcoin%20OR%20%23BTC%20since%3A2021-04-11%20until%3A2021-04-19&lang=en&result_type=recent&include_entities=1', 'count': 100, 'since_id': 0, 'since_id_str': '0'}}\n"
     ]
    },
    {
     "name": "stderr",
     "output_type": "stream",
     "text": [
      "\r",
      " 18%|█▊        | 81/450 [00:28<02:33,  2.40it/s]"
     ]
    },
    {
     "name": "stdout",
     "output_type": "stream",
     "text": [
      "{'statuses': [], 'search_metadata': {'completed_in': 0.007, 'max_id': 1386884492736942084, 'max_id_str': '1386884492736942084', 'query': '%23bitcoin+OR+%23BTC+since%3A2021-04-11+until%3A2021-04-19', 'refresh_url': '?since_id=1386884492736942084&q=%23bitcoin%20OR%20%23BTC%20since%3A2021-04-11%20until%3A2021-04-19&lang=en&result_type=recent&include_entities=1', 'count': 100, 'since_id': 0, 'since_id_str': '0'}}\n"
     ]
    },
    {
     "name": "stderr",
     "output_type": "stream",
     "text": [
      "\r",
      " 18%|█▊        | 82/450 [00:28<02:33,  2.40it/s]"
     ]
    },
    {
     "name": "stdout",
     "output_type": "stream",
     "text": [
      "{'statuses': [], 'search_metadata': {'completed_in': 0.005, 'max_id': 1386884492736942084, 'max_id_str': '1386884492736942084', 'query': '%23bitcoin+OR+%23BTC+since%3A2021-04-11+until%3A2021-04-19', 'refresh_url': '?since_id=1386884492736942084&q=%23bitcoin%20OR%20%23BTC%20since%3A2021-04-11%20until%3A2021-04-19&lang=en&result_type=recent&include_entities=1', 'count': 100, 'since_id': 0, 'since_id_str': '0'}}\n"
     ]
    },
    {
     "name": "stderr",
     "output_type": "stream",
     "text": [
      "\r",
      " 18%|█▊        | 83/450 [00:29<02:32,  2.40it/s]"
     ]
    },
    {
     "name": "stdout",
     "output_type": "stream",
     "text": [
      "{'statuses': [], 'search_metadata': {'completed_in': 0.007, 'max_id': 1386884492736942084, 'max_id_str': '1386884492736942084', 'query': '%23bitcoin+OR+%23BTC+since%3A2021-04-11+until%3A2021-04-19', 'refresh_url': '?since_id=1386884492736942084&q=%23bitcoin%20OR%20%23BTC%20since%3A2021-04-11%20until%3A2021-04-19&lang=en&result_type=recent&include_entities=1', 'count': 100, 'since_id': 0, 'since_id_str': '0'}}\n"
     ]
    },
    {
     "name": "stderr",
     "output_type": "stream",
     "text": [
      "\r",
      " 19%|█▊        | 84/450 [00:29<02:31,  2.41it/s]"
     ]
    },
    {
     "name": "stdout",
     "output_type": "stream",
     "text": [
      "{'statuses': [], 'search_metadata': {'completed_in': 0.006, 'max_id': 1386884492736942084, 'max_id_str': '1386884492736942084', 'query': '%23bitcoin+OR+%23BTC+since%3A2021-04-11+until%3A2021-04-19', 'refresh_url': '?since_id=1386884492736942084&q=%23bitcoin%20OR%20%23BTC%20since%3A2021-04-11%20until%3A2021-04-19&lang=en&result_type=recent&include_entities=1', 'count': 100, 'since_id': 0, 'since_id_str': '0'}}\n"
     ]
    },
    {
     "name": "stderr",
     "output_type": "stream",
     "text": [
      "\r",
      " 19%|█▉        | 85/450 [00:30<02:31,  2.41it/s]"
     ]
    },
    {
     "name": "stdout",
     "output_type": "stream",
     "text": [
      "{'statuses': [], 'search_metadata': {'completed_in': 0.005, 'max_id': 1386884492736942084, 'max_id_str': '1386884492736942084', 'query': '%23bitcoin+OR+%23BTC+since%3A2021-04-11+until%3A2021-04-19', 'refresh_url': '?since_id=1386884492736942084&q=%23bitcoin%20OR%20%23BTC%20since%3A2021-04-11%20until%3A2021-04-19&lang=en&result_type=recent&include_entities=1', 'count': 100, 'since_id': 0, 'since_id_str': '0'}}\n"
     ]
    },
    {
     "name": "stderr",
     "output_type": "stream",
     "text": [
      "\r",
      " 19%|█▉        | 86/450 [00:30<02:30,  2.41it/s]"
     ]
    },
    {
     "name": "stdout",
     "output_type": "stream",
     "text": [
      "{'statuses': [], 'search_metadata': {'completed_in': 0.008, 'max_id': 1386884492736942084, 'max_id_str': '1386884492736942084', 'query': '%23bitcoin+OR+%23BTC+since%3A2021-04-11+until%3A2021-04-19', 'refresh_url': '?since_id=1386884492736942084&q=%23bitcoin%20OR%20%23BTC%20since%3A2021-04-11%20until%3A2021-04-19&lang=en&result_type=recent&include_entities=1', 'count': 100, 'since_id': 0, 'since_id_str': '0'}}\n"
     ]
    },
    {
     "name": "stderr",
     "output_type": "stream",
     "text": [
      "\r",
      " 19%|█▉        | 87/450 [00:31<02:32,  2.37it/s]"
     ]
    },
    {
     "name": "stdout",
     "output_type": "stream",
     "text": [
      "{'statuses': [], 'search_metadata': {'completed_in': 0.006, 'max_id': 1386884492736942084, 'max_id_str': '1386884492736942084', 'query': '%23bitcoin+OR+%23BTC+since%3A2021-04-11+until%3A2021-04-19', 'refresh_url': '?since_id=1386884492736942084&q=%23bitcoin%20OR%20%23BTC%20since%3A2021-04-11%20until%3A2021-04-19&lang=en&result_type=recent&include_entities=1', 'count': 100, 'since_id': 0, 'since_id_str': '0'}}\n"
     ]
    },
    {
     "name": "stderr",
     "output_type": "stream",
     "text": [
      "\r",
      " 20%|█▉        | 88/450 [00:31<02:37,  2.30it/s]"
     ]
    },
    {
     "name": "stdout",
     "output_type": "stream",
     "text": [
      "{'statuses': [], 'search_metadata': {'completed_in': 0.005, 'max_id': 1386884492736942084, 'max_id_str': '1386884492736942084', 'query': '%23bitcoin+OR+%23BTC+since%3A2021-04-11+until%3A2021-04-19', 'refresh_url': '?since_id=1386884492736942084&q=%23bitcoin%20OR%20%23BTC%20since%3A2021-04-11%20until%3A2021-04-19&lang=en&result_type=recent&include_entities=1', 'count': 100, 'since_id': 0, 'since_id_str': '0'}}\n"
     ]
    },
    {
     "name": "stderr",
     "output_type": "stream",
     "text": [
      "\r",
      " 20%|█▉        | 89/450 [00:31<02:34,  2.34it/s]"
     ]
    },
    {
     "name": "stdout",
     "output_type": "stream",
     "text": [
      "{'statuses': [], 'search_metadata': {'completed_in': 0.005, 'max_id': 1386884492736942084, 'max_id_str': '1386884492736942084', 'query': '%23bitcoin+OR+%23BTC+since%3A2021-04-11+until%3A2021-04-19', 'refresh_url': '?since_id=1386884492736942084&q=%23bitcoin%20OR%20%23BTC%20since%3A2021-04-11%20until%3A2021-04-19&lang=en&result_type=recent&include_entities=1', 'count': 100, 'since_id': 0, 'since_id_str': '0'}}\n"
     ]
    },
    {
     "name": "stderr",
     "output_type": "stream",
     "text": [
      "\r",
      " 20%|██        | 90/450 [00:32<02:32,  2.36it/s]"
     ]
    },
    {
     "name": "stdout",
     "output_type": "stream",
     "text": [
      "{'statuses': [], 'search_metadata': {'completed_in': 0.006, 'max_id': 1386884492736942084, 'max_id_str': '1386884492736942084', 'query': '%23bitcoin+OR+%23BTC+since%3A2021-04-11+until%3A2021-04-19', 'refresh_url': '?since_id=1386884492736942084&q=%23bitcoin%20OR%20%23BTC%20since%3A2021-04-11%20until%3A2021-04-19&lang=en&result_type=recent&include_entities=1', 'count': 100, 'since_id': 0, 'since_id_str': '0'}}\n"
     ]
    },
    {
     "name": "stderr",
     "output_type": "stream",
     "text": [
      "\r",
      " 20%|██        | 91/450 [00:32<02:30,  2.38it/s]"
     ]
    },
    {
     "name": "stdout",
     "output_type": "stream",
     "text": [
      "{'statuses': [], 'search_metadata': {'completed_in': 0.006, 'max_id': 1386884492736942084, 'max_id_str': '1386884492736942084', 'query': '%23bitcoin+OR+%23BTC+since%3A2021-04-11+until%3A2021-04-19', 'refresh_url': '?since_id=1386884492736942084&q=%23bitcoin%20OR%20%23BTC%20since%3A2021-04-11%20until%3A2021-04-19&lang=en&result_type=recent&include_entities=1', 'count': 100, 'since_id': 0, 'since_id_str': '0'}}\n"
     ]
    },
    {
     "name": "stderr",
     "output_type": "stream",
     "text": [
      "\r",
      " 20%|██        | 92/450 [00:33<02:29,  2.39it/s]"
     ]
    },
    {
     "name": "stdout",
     "output_type": "stream",
     "text": [
      "{'statuses': [], 'search_metadata': {'completed_in': 0.006, 'max_id': 1386884492736942084, 'max_id_str': '1386884492736942084', 'query': '%23bitcoin+OR+%23BTC+since%3A2021-04-11+until%3A2021-04-19', 'refresh_url': '?since_id=1386884492736942084&q=%23bitcoin%20OR%20%23BTC%20since%3A2021-04-11%20until%3A2021-04-19&lang=en&result_type=recent&include_entities=1', 'count': 100, 'since_id': 0, 'since_id_str': '0'}}\n"
     ]
    },
    {
     "name": "stderr",
     "output_type": "stream",
     "text": [
      "\r",
      " 21%|██        | 93/450 [00:33<02:28,  2.40it/s]"
     ]
    },
    {
     "name": "stdout",
     "output_type": "stream",
     "text": [
      "{'statuses': [], 'search_metadata': {'completed_in': 0.006, 'max_id': 1386884492736942084, 'max_id_str': '1386884492736942084', 'query': '%23bitcoin+OR+%23BTC+since%3A2021-04-11+until%3A2021-04-19', 'refresh_url': '?since_id=1386884492736942084&q=%23bitcoin%20OR%20%23BTC%20since%3A2021-04-11%20until%3A2021-04-19&lang=en&result_type=recent&include_entities=1', 'count': 100, 'since_id': 0, 'since_id_str': '0'}}\n"
     ]
    },
    {
     "name": "stderr",
     "output_type": "stream",
     "text": [
      "\r",
      " 21%|██        | 94/450 [00:33<02:27,  2.41it/s]"
     ]
    },
    {
     "name": "stdout",
     "output_type": "stream",
     "text": [
      "{'statuses': [], 'search_metadata': {'completed_in': 0.006, 'max_id': 1386884492736942084, 'max_id_str': '1386884492736942084', 'query': '%23bitcoin+OR+%23BTC+since%3A2021-04-11+until%3A2021-04-19', 'refresh_url': '?since_id=1386884492736942084&q=%23bitcoin%20OR%20%23BTC%20since%3A2021-04-11%20until%3A2021-04-19&lang=en&result_type=recent&include_entities=1', 'count': 100, 'since_id': 0, 'since_id_str': '0'}}\n"
     ]
    },
    {
     "name": "stderr",
     "output_type": "stream",
     "text": [
      "\r",
      " 21%|██        | 95/450 [00:34<02:36,  2.27it/s]"
     ]
    },
    {
     "name": "stdout",
     "output_type": "stream",
     "text": [
      "{'statuses': [], 'search_metadata': {'completed_in': 0.007, 'max_id': 1386884492736942084, 'max_id_str': '1386884492736942084', 'query': '%23bitcoin+OR+%23BTC+since%3A2021-04-11+until%3A2021-04-19', 'refresh_url': '?since_id=1386884492736942084&q=%23bitcoin%20OR%20%23BTC%20since%3A2021-04-11%20until%3A2021-04-19&lang=en&result_type=recent&include_entities=1', 'count': 100, 'since_id': 0, 'since_id_str': '0'}}\n"
     ]
    },
    {
     "name": "stderr",
     "output_type": "stream",
     "text": [
      "\r",
      " 21%|██▏       | 96/450 [00:34<02:40,  2.20it/s]"
     ]
    },
    {
     "name": "stdout",
     "output_type": "stream",
     "text": [
      "{'statuses': [], 'search_metadata': {'completed_in': 0.006, 'max_id': 1386884492736942084, 'max_id_str': '1386884492736942084', 'query': '%23bitcoin+OR+%23BTC+since%3A2021-04-11+until%3A2021-04-19', 'refresh_url': '?since_id=1386884492736942084&q=%23bitcoin%20OR%20%23BTC%20since%3A2021-04-11%20until%3A2021-04-19&lang=en&result_type=recent&include_entities=1', 'count': 100, 'since_id': 0, 'since_id_str': '0'}}\n"
     ]
    },
    {
     "name": "stderr",
     "output_type": "stream",
     "text": [
      "\r",
      " 22%|██▏       | 97/450 [00:35<02:46,  2.11it/s]"
     ]
    },
    {
     "name": "stdout",
     "output_type": "stream",
     "text": [
      "{'statuses': [], 'search_metadata': {'completed_in': 0.006, 'max_id': 1386884492736942084, 'max_id_str': '1386884492736942084', 'query': '%23bitcoin+OR+%23BTC+since%3A2021-04-11+until%3A2021-04-19', 'refresh_url': '?since_id=1386884492736942084&q=%23bitcoin%20OR%20%23BTC%20since%3A2021-04-11%20until%3A2021-04-19&lang=en&result_type=recent&include_entities=1', 'count': 100, 'since_id': 0, 'since_id_str': '0'}}\n"
     ]
    },
    {
     "name": "stderr",
     "output_type": "stream",
     "text": [
      "\r",
      " 22%|██▏       | 98/450 [00:35<02:42,  2.16it/s]"
     ]
    },
    {
     "name": "stdout",
     "output_type": "stream",
     "text": [
      "{'statuses': [], 'search_metadata': {'completed_in': 0.005, 'max_id': 1386884492736942084, 'max_id_str': '1386884492736942084', 'query': '%23bitcoin+OR+%23BTC+since%3A2021-04-11+until%3A2021-04-19', 'refresh_url': '?since_id=1386884492736942084&q=%23bitcoin%20OR%20%23BTC%20since%3A2021-04-11%20until%3A2021-04-19&lang=en&result_type=recent&include_entities=1', 'count': 100, 'since_id': 0, 'since_id_str': '0'}}\n"
     ]
    },
    {
     "name": "stderr",
     "output_type": "stream",
     "text": [
      "\r",
      " 22%|██▏       | 99/450 [00:36<02:36,  2.24it/s]"
     ]
    },
    {
     "name": "stdout",
     "output_type": "stream",
     "text": [
      "{'statuses': [], 'search_metadata': {'completed_in': 0.005, 'max_id': 1386884492736942084, 'max_id_str': '1386884492736942084', 'query': '%23bitcoin+OR+%23BTC+since%3A2021-04-11+until%3A2021-04-19', 'refresh_url': '?since_id=1386884492736942084&q=%23bitcoin%20OR%20%23BTC%20since%3A2021-04-11%20until%3A2021-04-19&lang=en&result_type=recent&include_entities=1', 'count': 100, 'since_id': 0, 'since_id_str': '0'}}\n"
     ]
    },
    {
     "name": "stderr",
     "output_type": "stream",
     "text": [
      "\r",
      " 22%|██▏       | 100/450 [00:36<02:32,  2.29it/s]"
     ]
    },
    {
     "name": "stdout",
     "output_type": "stream",
     "text": [
      "{'statuses': [], 'search_metadata': {'completed_in': 0.006, 'max_id': 1386884492736942084, 'max_id_str': '1386884492736942084', 'query': '%23bitcoin+OR+%23BTC+since%3A2021-04-11+until%3A2021-04-19', 'refresh_url': '?since_id=1386884492736942084&q=%23bitcoin%20OR%20%23BTC%20since%3A2021-04-11%20until%3A2021-04-19&lang=en&result_type=recent&include_entities=1', 'count': 100, 'since_id': 0, 'since_id_str': '0'}}\n"
     ]
    },
    {
     "name": "stderr",
     "output_type": "stream",
     "text": [
      "\r",
      " 22%|██▏       | 101/450 [00:37<02:36,  2.22it/s]"
     ]
    },
    {
     "name": "stdout",
     "output_type": "stream",
     "text": [
      "{'statuses': [], 'search_metadata': {'completed_in': 0.006, 'max_id': 1386884492736942084, 'max_id_str': '1386884492736942084', 'query': '%23bitcoin+OR+%23BTC+since%3A2021-04-11+until%3A2021-04-19', 'refresh_url': '?since_id=1386884492736942084&q=%23bitcoin%20OR%20%23BTC%20since%3A2021-04-11%20until%3A2021-04-19&lang=en&result_type=recent&include_entities=1', 'count': 100, 'since_id': 0, 'since_id_str': '0'}}\n"
     ]
    },
    {
     "name": "stderr",
     "output_type": "stream",
     "text": [
      "\r",
      " 23%|██▎       | 102/450 [00:37<02:36,  2.23it/s]"
     ]
    },
    {
     "name": "stdout",
     "output_type": "stream",
     "text": [
      "{'statuses': [], 'search_metadata': {'completed_in': 0.007, 'max_id': 1386884492736942084, 'max_id_str': '1386884492736942084', 'query': '%23bitcoin+OR+%23BTC+since%3A2021-04-11+until%3A2021-04-19', 'refresh_url': '?since_id=1386884492736942084&q=%23bitcoin%20OR%20%23BTC%20since%3A2021-04-11%20until%3A2021-04-19&lang=en&result_type=recent&include_entities=1', 'count': 100, 'since_id': 0, 'since_id_str': '0'}}\n"
     ]
    },
    {
     "name": "stderr",
     "output_type": "stream",
     "text": [
      "\r",
      " 23%|██▎       | 103/450 [00:38<02:32,  2.28it/s]"
     ]
    },
    {
     "name": "stdout",
     "output_type": "stream",
     "text": [
      "{'statuses': [], 'search_metadata': {'completed_in': 0.006, 'max_id': 1386884492736942084, 'max_id_str': '1386884492736942084', 'query': '%23bitcoin+OR+%23BTC+since%3A2021-04-11+until%3A2021-04-19', 'refresh_url': '?since_id=1386884492736942084&q=%23bitcoin%20OR%20%23BTC%20since%3A2021-04-11%20until%3A2021-04-19&lang=en&result_type=recent&include_entities=1', 'count': 100, 'since_id': 0, 'since_id_str': '0'}}\n"
     ]
    },
    {
     "name": "stderr",
     "output_type": "stream",
     "text": [
      "\r",
      " 23%|██▎       | 104/450 [00:38<02:34,  2.24it/s]"
     ]
    },
    {
     "name": "stdout",
     "output_type": "stream",
     "text": [
      "{'statuses': [], 'search_metadata': {'completed_in': 0.006, 'max_id': 1386884492736942084, 'max_id_str': '1386884492736942084', 'query': '%23bitcoin+OR+%23BTC+since%3A2021-04-11+until%3A2021-04-19', 'refresh_url': '?since_id=1386884492736942084&q=%23bitcoin%20OR%20%23BTC%20since%3A2021-04-11%20until%3A2021-04-19&lang=en&result_type=recent&include_entities=1', 'count': 100, 'since_id': 0, 'since_id_str': '0'}}\n"
     ]
    },
    {
     "name": "stderr",
     "output_type": "stream",
     "text": [
      "\r",
      " 23%|██▎       | 105/450 [00:39<02:34,  2.24it/s]"
     ]
    },
    {
     "name": "stdout",
     "output_type": "stream",
     "text": [
      "{'statuses': [], 'search_metadata': {'completed_in': 0.006, 'max_id': 1386884492736942084, 'max_id_str': '1386884492736942084', 'query': '%23bitcoin+OR+%23BTC+since%3A2021-04-11+until%3A2021-04-19', 'refresh_url': '?since_id=1386884492736942084&q=%23bitcoin%20OR%20%23BTC%20since%3A2021-04-11%20until%3A2021-04-19&lang=en&result_type=recent&include_entities=1', 'count': 100, 'since_id': 0, 'since_id_str': '0'}}\n"
     ]
    },
    {
     "name": "stderr",
     "output_type": "stream",
     "text": [
      "\r",
      " 24%|██▎       | 106/450 [00:39<02:30,  2.29it/s]"
     ]
    },
    {
     "name": "stdout",
     "output_type": "stream",
     "text": [
      "{'statuses': [], 'search_metadata': {'completed_in': 0.006, 'max_id': 1386884492736942084, 'max_id_str': '1386884492736942084', 'query': '%23bitcoin+OR+%23BTC+since%3A2021-04-11+until%3A2021-04-19', 'refresh_url': '?since_id=1386884492736942084&q=%23bitcoin%20OR%20%23BTC%20since%3A2021-04-11%20until%3A2021-04-19&lang=en&result_type=recent&include_entities=1', 'count': 100, 'since_id': 0, 'since_id_str': '0'}}\n"
     ]
    },
    {
     "name": "stderr",
     "output_type": "stream",
     "text": [
      "\r",
      " 24%|██▍       | 107/450 [00:39<02:33,  2.24it/s]"
     ]
    },
    {
     "name": "stdout",
     "output_type": "stream",
     "text": [
      "{'statuses': [], 'search_metadata': {'completed_in': 0.006, 'max_id': 1386884492736942084, 'max_id_str': '1386884492736942084', 'query': '%23bitcoin+OR+%23BTC+since%3A2021-04-11+until%3A2021-04-19', 'refresh_url': '?since_id=1386884492736942084&q=%23bitcoin%20OR%20%23BTC%20since%3A2021-04-11%20until%3A2021-04-19&lang=en&result_type=recent&include_entities=1', 'count': 100, 'since_id': 0, 'since_id_str': '0'}}\n"
     ]
    },
    {
     "name": "stderr",
     "output_type": "stream",
     "text": [
      "\r",
      " 24%|██▍       | 108/450 [00:40<02:29,  2.29it/s]"
     ]
    },
    {
     "name": "stdout",
     "output_type": "stream",
     "text": [
      "{'statuses': [], 'search_metadata': {'completed_in': 0.005, 'max_id': 1386884492736942084, 'max_id_str': '1386884492736942084', 'query': '%23bitcoin+OR+%23BTC+since%3A2021-04-11+until%3A2021-04-19', 'refresh_url': '?since_id=1386884492736942084&q=%23bitcoin%20OR%20%23BTC%20since%3A2021-04-11%20until%3A2021-04-19&lang=en&result_type=recent&include_entities=1', 'count': 100, 'since_id': 0, 'since_id_str': '0'}}\n"
     ]
    },
    {
     "name": "stderr",
     "output_type": "stream",
     "text": [
      "\r",
      " 24%|██▍       | 109/450 [00:40<02:25,  2.34it/s]"
     ]
    },
    {
     "name": "stdout",
     "output_type": "stream",
     "text": [
      "{'statuses': [], 'search_metadata': {'completed_in': 0.007, 'max_id': 1386884492736942084, 'max_id_str': '1386884492736942084', 'query': '%23bitcoin+OR+%23BTC+since%3A2021-04-11+until%3A2021-04-19', 'refresh_url': '?since_id=1386884492736942084&q=%23bitcoin%20OR%20%23BTC%20since%3A2021-04-11%20until%3A2021-04-19&lang=en&result_type=recent&include_entities=1', 'count': 100, 'since_id': 0, 'since_id_str': '0'}}\n"
     ]
    },
    {
     "name": "stderr",
     "output_type": "stream",
     "text": [
      "\r",
      " 24%|██▍       | 110/450 [00:41<02:23,  2.36it/s]"
     ]
    },
    {
     "name": "stdout",
     "output_type": "stream",
     "text": [
      "{'statuses': [], 'search_metadata': {'completed_in': 0.007, 'max_id': 1386884492736942084, 'max_id_str': '1386884492736942084', 'query': '%23bitcoin+OR+%23BTC+since%3A2021-04-11+until%3A2021-04-19', 'refresh_url': '?since_id=1386884492736942084&q=%23bitcoin%20OR%20%23BTC%20since%3A2021-04-11%20until%3A2021-04-19&lang=en&result_type=recent&include_entities=1', 'count': 100, 'since_id': 0, 'since_id_str': '0'}}\n"
     ]
    },
    {
     "name": "stderr",
     "output_type": "stream",
     "text": [
      "\r",
      " 25%|██▍       | 111/450 [00:41<02:22,  2.38it/s]"
     ]
    },
    {
     "name": "stdout",
     "output_type": "stream",
     "text": [
      "{'statuses': [], 'search_metadata': {'completed_in': 0.006, 'max_id': 1386884492736942084, 'max_id_str': '1386884492736942084', 'query': '%23bitcoin+OR+%23BTC+since%3A2021-04-11+until%3A2021-04-19', 'refresh_url': '?since_id=1386884492736942084&q=%23bitcoin%20OR%20%23BTC%20since%3A2021-04-11%20until%3A2021-04-19&lang=en&result_type=recent&include_entities=1', 'count': 100, 'since_id': 0, 'since_id_str': '0'}}\n"
     ]
    },
    {
     "name": "stderr",
     "output_type": "stream",
     "text": [
      "\r",
      " 25%|██▍       | 112/450 [00:41<02:21,  2.39it/s]"
     ]
    },
    {
     "name": "stdout",
     "output_type": "stream",
     "text": [
      "{'statuses': [], 'search_metadata': {'completed_in': 0.006, 'max_id': 1386884492736942084, 'max_id_str': '1386884492736942084', 'query': '%23bitcoin+OR+%23BTC+since%3A2021-04-11+until%3A2021-04-19', 'refresh_url': '?since_id=1386884492736942084&q=%23bitcoin%20OR%20%23BTC%20since%3A2021-04-11%20until%3A2021-04-19&lang=en&result_type=recent&include_entities=1', 'count': 100, 'since_id': 0, 'since_id_str': '0'}}\n"
     ]
    },
    {
     "name": "stderr",
     "output_type": "stream",
     "text": [
      "\r",
      " 25%|██▌       | 113/450 [00:42<02:19,  2.41it/s]"
     ]
    },
    {
     "name": "stdout",
     "output_type": "stream",
     "text": [
      "{'statuses': [], 'search_metadata': {'completed_in': 0.006, 'max_id': 1386884492736942084, 'max_id_str': '1386884492736942084', 'query': '%23bitcoin+OR+%23BTC+since%3A2021-04-11+until%3A2021-04-19', 'refresh_url': '?since_id=1386884492736942084&q=%23bitcoin%20OR%20%23BTC%20since%3A2021-04-11%20until%3A2021-04-19&lang=en&result_type=recent&include_entities=1', 'count': 100, 'since_id': 0, 'since_id_str': '0'}}\n"
     ]
    },
    {
     "name": "stderr",
     "output_type": "stream",
     "text": [
      "\r",
      " 25%|██▌       | 114/450 [00:42<02:19,  2.41it/s]"
     ]
    },
    {
     "name": "stdout",
     "output_type": "stream",
     "text": [
      "{'statuses': [], 'search_metadata': {'completed_in': 0.006, 'max_id': 1386884492736942084, 'max_id_str': '1386884492736942084', 'query': '%23bitcoin+OR+%23BTC+since%3A2021-04-11+until%3A2021-04-19', 'refresh_url': '?since_id=1386884492736942084&q=%23bitcoin%20OR%20%23BTC%20since%3A2021-04-11%20until%3A2021-04-19&lang=en&result_type=recent&include_entities=1', 'count': 100, 'since_id': 0, 'since_id_str': '0'}}\n"
     ]
    },
    {
     "name": "stderr",
     "output_type": "stream",
     "text": [
      "\r",
      " 26%|██▌       | 115/450 [00:43<02:18,  2.42it/s]"
     ]
    },
    {
     "name": "stdout",
     "output_type": "stream",
     "text": [
      "{'statuses': [], 'search_metadata': {'completed_in': 0.005, 'max_id': 1386884492736942084, 'max_id_str': '1386884492736942084', 'query': '%23bitcoin+OR+%23BTC+since%3A2021-04-11+until%3A2021-04-19', 'refresh_url': '?since_id=1386884492736942084&q=%23bitcoin%20OR%20%23BTC%20since%3A2021-04-11%20until%3A2021-04-19&lang=en&result_type=recent&include_entities=1', 'count': 100, 'since_id': 0, 'since_id_str': '0'}}\n"
     ]
    },
    {
     "name": "stderr",
     "output_type": "stream",
     "text": [
      "\r",
      " 26%|██▌       | 116/450 [00:43<02:22,  2.34it/s]"
     ]
    },
    {
     "name": "stdout",
     "output_type": "stream",
     "text": [
      "{'statuses': [], 'search_metadata': {'completed_in': 0.006, 'max_id': 1386884492736942084, 'max_id_str': '1386884492736942084', 'query': '%23bitcoin+OR+%23BTC+since%3A2021-04-11+until%3A2021-04-19', 'refresh_url': '?since_id=1386884492736942084&q=%23bitcoin%20OR%20%23BTC%20since%3A2021-04-11%20until%3A2021-04-19&lang=en&result_type=recent&include_entities=1', 'count': 100, 'since_id': 0, 'since_id_str': '0'}}\n"
     ]
    },
    {
     "name": "stderr",
     "output_type": "stream",
     "text": [
      "\r",
      " 26%|██▌       | 117/450 [00:44<02:20,  2.37it/s]"
     ]
    },
    {
     "name": "stdout",
     "output_type": "stream",
     "text": [
      "{'statuses': [], 'search_metadata': {'completed_in': 0.005, 'max_id': 1386884492736942084, 'max_id_str': '1386884492736942084', 'query': '%23bitcoin+OR+%23BTC+since%3A2021-04-11+until%3A2021-04-19', 'refresh_url': '?since_id=1386884492736942084&q=%23bitcoin%20OR%20%23BTC%20since%3A2021-04-11%20until%3A2021-04-19&lang=en&result_type=recent&include_entities=1', 'count': 100, 'since_id': 0, 'since_id_str': '0'}}\n"
     ]
    },
    {
     "name": "stderr",
     "output_type": "stream",
     "text": [
      "\r",
      " 26%|██▌       | 118/450 [00:44<02:29,  2.23it/s]"
     ]
    },
    {
     "name": "stdout",
     "output_type": "stream",
     "text": [
      "{'statuses': [], 'search_metadata': {'completed_in': 0.012, 'max_id': 1386884569501081600, 'max_id_str': '1386884569501081600', 'query': '%23bitcoin+OR+%23BTC+since%3A2021-04-11+until%3A2021-04-19', 'refresh_url': '?since_id=1386884569501081600&q=%23bitcoin%20OR%20%23BTC%20since%3A2021-04-11%20until%3A2021-04-19&lang=en&result_type=recent&include_entities=1', 'count': 100, 'since_id': 0, 'since_id_str': '0'}}\n"
     ]
    },
    {
     "name": "stderr",
     "output_type": "stream",
     "text": [
      "\r",
      " 26%|██▋       | 119/450 [00:44<02:24,  2.29it/s]"
     ]
    },
    {
     "name": "stdout",
     "output_type": "stream",
     "text": [
      "{'statuses': [], 'search_metadata': {'completed_in': 0.005, 'max_id': 1386884569501081600, 'max_id_str': '1386884569501081600', 'query': '%23bitcoin+OR+%23BTC+since%3A2021-04-11+until%3A2021-04-19', 'refresh_url': '?since_id=1386884569501081600&q=%23bitcoin%20OR%20%23BTC%20since%3A2021-04-11%20until%3A2021-04-19&lang=en&result_type=recent&include_entities=1', 'count': 100, 'since_id': 0, 'since_id_str': '0'}}\n"
     ]
    },
    {
     "name": "stderr",
     "output_type": "stream",
     "text": [
      "\r",
      " 27%|██▋       | 120/450 [00:45<02:21,  2.33it/s]"
     ]
    },
    {
     "name": "stdout",
     "output_type": "stream",
     "text": [
      "{'statuses': [], 'search_metadata': {'completed_in': 0.008, 'max_id': 1386884569501081600, 'max_id_str': '1386884569501081600', 'query': '%23bitcoin+OR+%23BTC+since%3A2021-04-11+until%3A2021-04-19', 'refresh_url': '?since_id=1386884569501081600&q=%23bitcoin%20OR%20%23BTC%20since%3A2021-04-11%20until%3A2021-04-19&lang=en&result_type=recent&include_entities=1', 'count': 100, 'since_id': 0, 'since_id_str': '0'}}\n"
     ]
    },
    {
     "name": "stderr",
     "output_type": "stream",
     "text": [
      "\r",
      " 27%|██▋       | 121/450 [00:45<02:23,  2.30it/s]"
     ]
    },
    {
     "name": "stdout",
     "output_type": "stream",
     "text": [
      "{'statuses': [], 'search_metadata': {'completed_in': 0.006, 'max_id': 1386884569501081600, 'max_id_str': '1386884569501081600', 'query': '%23bitcoin+OR+%23BTC+since%3A2021-04-11+until%3A2021-04-19', 'refresh_url': '?since_id=1386884569501081600&q=%23bitcoin%20OR%20%23BTC%20since%3A2021-04-11%20until%3A2021-04-19&lang=en&result_type=recent&include_entities=1', 'count': 100, 'since_id': 0, 'since_id_str': '0'}}\n"
     ]
    },
    {
     "name": "stderr",
     "output_type": "stream",
     "text": [
      "\r",
      " 27%|██▋       | 122/450 [00:46<02:20,  2.34it/s]"
     ]
    },
    {
     "name": "stdout",
     "output_type": "stream",
     "text": [
      "{'statuses': [], 'search_metadata': {'completed_in': 0.005, 'max_id': 1386884569501081600, 'max_id_str': '1386884569501081600', 'query': '%23bitcoin+OR+%23BTC+since%3A2021-04-11+until%3A2021-04-19', 'refresh_url': '?since_id=1386884569501081600&q=%23bitcoin%20OR%20%23BTC%20since%3A2021-04-11%20until%3A2021-04-19&lang=en&result_type=recent&include_entities=1', 'count': 100, 'since_id': 0, 'since_id_str': '0'}}\n"
     ]
    },
    {
     "name": "stderr",
     "output_type": "stream",
     "text": [
      "\r",
      " 27%|██▋       | 123/450 [00:46<02:18,  2.37it/s]"
     ]
    },
    {
     "name": "stdout",
     "output_type": "stream",
     "text": [
      "{'statuses': [], 'search_metadata': {'completed_in': 0.006, 'max_id': 1386884569501081600, 'max_id_str': '1386884569501081600', 'query': '%23bitcoin+OR+%23BTC+since%3A2021-04-11+until%3A2021-04-19', 'refresh_url': '?since_id=1386884569501081600&q=%23bitcoin%20OR%20%23BTC%20since%3A2021-04-11%20until%3A2021-04-19&lang=en&result_type=recent&include_entities=1', 'count': 100, 'since_id': 0, 'since_id_str': '0'}}\n"
     ]
    },
    {
     "name": "stderr",
     "output_type": "stream",
     "text": [
      "\r",
      " 28%|██▊       | 124/450 [00:47<02:16,  2.39it/s]"
     ]
    },
    {
     "name": "stdout",
     "output_type": "stream",
     "text": [
      "{'statuses': [], 'search_metadata': {'completed_in': 0.006, 'max_id': 1386884569501081600, 'max_id_str': '1386884569501081600', 'query': '%23bitcoin+OR+%23BTC+since%3A2021-04-11+until%3A2021-04-19', 'refresh_url': '?since_id=1386884569501081600&q=%23bitcoin%20OR%20%23BTC%20since%3A2021-04-11%20until%3A2021-04-19&lang=en&result_type=recent&include_entities=1', 'count': 100, 'since_id': 0, 'since_id_str': '0'}}\n"
     ]
    },
    {
     "name": "stderr",
     "output_type": "stream",
     "text": [
      "\r",
      " 28%|██▊       | 125/450 [00:47<02:16,  2.38it/s]"
     ]
    },
    {
     "name": "stdout",
     "output_type": "stream",
     "text": [
      "{'statuses': [], 'search_metadata': {'completed_in': 0.006, 'max_id': 1386884569501081600, 'max_id_str': '1386884569501081600', 'query': '%23bitcoin+OR+%23BTC+since%3A2021-04-11+until%3A2021-04-19', 'refresh_url': '?since_id=1386884569501081600&q=%23bitcoin%20OR%20%23BTC%20since%3A2021-04-11%20until%3A2021-04-19&lang=en&result_type=recent&include_entities=1', 'count': 100, 'since_id': 0, 'since_id_str': '0'}}\n"
     ]
    },
    {
     "name": "stderr",
     "output_type": "stream",
     "text": [
      "\r",
      " 28%|██▊       | 126/450 [00:47<02:16,  2.38it/s]"
     ]
    },
    {
     "name": "stdout",
     "output_type": "stream",
     "text": [
      "{'statuses': [], 'search_metadata': {'completed_in': 0.005, 'max_id': 1386884569501081600, 'max_id_str': '1386884569501081600', 'query': '%23bitcoin+OR+%23BTC+since%3A2021-04-11+until%3A2021-04-19', 'refresh_url': '?since_id=1386884569501081600&q=%23bitcoin%20OR%20%23BTC%20since%3A2021-04-11%20until%3A2021-04-19&lang=en&result_type=recent&include_entities=1', 'count': 100, 'since_id': 0, 'since_id_str': '0'}}\n"
     ]
    },
    {
     "name": "stderr",
     "output_type": "stream",
     "text": [
      "\r",
      " 28%|██▊       | 127/450 [00:48<02:15,  2.38it/s]"
     ]
    },
    {
     "name": "stdout",
     "output_type": "stream",
     "text": [
      "{'statuses': [], 'search_metadata': {'completed_in': 0.006, 'max_id': 1386884569501081600, 'max_id_str': '1386884569501081600', 'query': '%23bitcoin+OR+%23BTC+since%3A2021-04-11+until%3A2021-04-19', 'refresh_url': '?since_id=1386884569501081600&q=%23bitcoin%20OR%20%23BTC%20since%3A2021-04-11%20until%3A2021-04-19&lang=en&result_type=recent&include_entities=1', 'count': 100, 'since_id': 0, 'since_id_str': '0'}}\n"
     ]
    },
    {
     "name": "stderr",
     "output_type": "stream",
     "text": [
      "\r",
      " 28%|██▊       | 128/450 [00:48<02:14,  2.40it/s]"
     ]
    },
    {
     "name": "stdout",
     "output_type": "stream",
     "text": [
      "{'statuses': [], 'search_metadata': {'completed_in': 0.005, 'max_id': 1386884569501081600, 'max_id_str': '1386884569501081600', 'query': '%23bitcoin+OR+%23BTC+since%3A2021-04-11+until%3A2021-04-19', 'refresh_url': '?since_id=1386884569501081600&q=%23bitcoin%20OR%20%23BTC%20since%3A2021-04-11%20until%3A2021-04-19&lang=en&result_type=recent&include_entities=1', 'count': 100, 'since_id': 0, 'since_id_str': '0'}}\n"
     ]
    },
    {
     "name": "stderr",
     "output_type": "stream",
     "text": [
      "\r",
      " 29%|██▊       | 129/450 [00:49<02:13,  2.41it/s]"
     ]
    },
    {
     "name": "stdout",
     "output_type": "stream",
     "text": [
      "{'statuses': [], 'search_metadata': {'completed_in': 0.008, 'max_id': 1386884569501081600, 'max_id_str': '1386884569501081600', 'query': '%23bitcoin+OR+%23BTC+since%3A2021-04-11+until%3A2021-04-19', 'refresh_url': '?since_id=1386884569501081600&q=%23bitcoin%20OR%20%23BTC%20since%3A2021-04-11%20until%3A2021-04-19&lang=en&result_type=recent&include_entities=1', 'count': 100, 'since_id': 0, 'since_id_str': '0'}}\n"
     ]
    },
    {
     "name": "stderr",
     "output_type": "stream",
     "text": [
      "\r",
      " 29%|██▉       | 130/450 [00:49<02:12,  2.41it/s]"
     ]
    },
    {
     "name": "stdout",
     "output_type": "stream",
     "text": [
      "{'statuses': [], 'search_metadata': {'completed_in': 0.006, 'max_id': 1386884569501081600, 'max_id_str': '1386884569501081600', 'query': '%23bitcoin+OR+%23BTC+since%3A2021-04-11+until%3A2021-04-19', 'refresh_url': '?since_id=1386884569501081600&q=%23bitcoin%20OR%20%23BTC%20since%3A2021-04-11%20until%3A2021-04-19&lang=en&result_type=recent&include_entities=1', 'count': 100, 'since_id': 0, 'since_id_str': '0'}}\n"
     ]
    },
    {
     "name": "stderr",
     "output_type": "stream",
     "text": [
      "\r",
      " 29%|██▉       | 131/450 [00:49<02:12,  2.41it/s]"
     ]
    },
    {
     "name": "stdout",
     "output_type": "stream",
     "text": [
      "{'statuses': [], 'search_metadata': {'completed_in': 0.007, 'max_id': 1386884569501081600, 'max_id_str': '1386884569501081600', 'query': '%23bitcoin+OR+%23BTC+since%3A2021-04-11+until%3A2021-04-19', 'refresh_url': '?since_id=1386884569501081600&q=%23bitcoin%20OR%20%23BTC%20since%3A2021-04-11%20until%3A2021-04-19&lang=en&result_type=recent&include_entities=1', 'count': 100, 'since_id': 0, 'since_id_str': '0'}}\n"
     ]
    },
    {
     "name": "stderr",
     "output_type": "stream",
     "text": [
      "\r",
      " 29%|██▉       | 132/450 [00:50<02:11,  2.41it/s]"
     ]
    },
    {
     "name": "stdout",
     "output_type": "stream",
     "text": [
      "{'statuses': [], 'search_metadata': {'completed_in': 0.007, 'max_id': 1386884569501081600, 'max_id_str': '1386884569501081600', 'query': '%23bitcoin+OR+%23BTC+since%3A2021-04-11+until%3A2021-04-19', 'refresh_url': '?since_id=1386884569501081600&q=%23bitcoin%20OR%20%23BTC%20since%3A2021-04-11%20until%3A2021-04-19&lang=en&result_type=recent&include_entities=1', 'count': 100, 'since_id': 0, 'since_id_str': '0'}}\n"
     ]
    },
    {
     "name": "stderr",
     "output_type": "stream",
     "text": [
      "\r",
      " 30%|██▉       | 133/450 [00:50<02:11,  2.41it/s]"
     ]
    },
    {
     "name": "stdout",
     "output_type": "stream",
     "text": [
      "{'statuses': [], 'search_metadata': {'completed_in': 0.006, 'max_id': 1386884569501081600, 'max_id_str': '1386884569501081600', 'query': '%23bitcoin+OR+%23BTC+since%3A2021-04-11+until%3A2021-04-19', 'refresh_url': '?since_id=1386884569501081600&q=%23bitcoin%20OR%20%23BTC%20since%3A2021-04-11%20until%3A2021-04-19&lang=en&result_type=recent&include_entities=1', 'count': 100, 'since_id': 0, 'since_id_str': '0'}}\n"
     ]
    },
    {
     "name": "stderr",
     "output_type": "stream",
     "text": [
      "\r",
      " 30%|██▉       | 134/450 [00:51<02:10,  2.42it/s]"
     ]
    },
    {
     "name": "stdout",
     "output_type": "stream",
     "text": [
      "{'statuses': [], 'search_metadata': {'completed_in': 0.005, 'max_id': 1386884569501081600, 'max_id_str': '1386884569501081600', 'query': '%23bitcoin+OR+%23BTC+since%3A2021-04-11+until%3A2021-04-19', 'refresh_url': '?since_id=1386884569501081600&q=%23bitcoin%20OR%20%23BTC%20since%3A2021-04-11%20until%3A2021-04-19&lang=en&result_type=recent&include_entities=1', 'count': 100, 'since_id': 0, 'since_id_str': '0'}}\n"
     ]
    },
    {
     "name": "stderr",
     "output_type": "stream",
     "text": [
      "\r",
      " 30%|███       | 135/450 [00:51<02:09,  2.43it/s]"
     ]
    },
    {
     "name": "stdout",
     "output_type": "stream",
     "text": [
      "{'statuses': [], 'search_metadata': {'completed_in': 0.006, 'max_id': 1386884569501081600, 'max_id_str': '1386884569501081600', 'query': '%23bitcoin+OR+%23BTC+since%3A2021-04-11+until%3A2021-04-19', 'refresh_url': '?since_id=1386884569501081600&q=%23bitcoin%20OR%20%23BTC%20since%3A2021-04-11%20until%3A2021-04-19&lang=en&result_type=recent&include_entities=1', 'count': 100, 'since_id': 0, 'since_id_str': '0'}}\n"
     ]
    },
    {
     "name": "stderr",
     "output_type": "stream",
     "text": [
      "\r",
      " 30%|███       | 136/450 [00:52<02:09,  2.43it/s]"
     ]
    },
    {
     "name": "stdout",
     "output_type": "stream",
     "text": [
      "{'statuses': [], 'search_metadata': {'completed_in': 0.008, 'max_id': 1386884569501081600, 'max_id_str': '1386884569501081600', 'query': '%23bitcoin+OR+%23BTC+since%3A2021-04-11+until%3A2021-04-19', 'refresh_url': '?since_id=1386884569501081600&q=%23bitcoin%20OR%20%23BTC%20since%3A2021-04-11%20until%3A2021-04-19&lang=en&result_type=recent&include_entities=1', 'count': 100, 'since_id': 0, 'since_id_str': '0'}}\n"
     ]
    },
    {
     "name": "stderr",
     "output_type": "stream",
     "text": [
      "\r",
      " 30%|███       | 137/450 [00:52<02:09,  2.42it/s]"
     ]
    },
    {
     "name": "stdout",
     "output_type": "stream",
     "text": [
      "{'statuses': [], 'search_metadata': {'completed_in': 0.006, 'max_id': 1386884569501081600, 'max_id_str': '1386884569501081600', 'query': '%23bitcoin+OR+%23BTC+since%3A2021-04-11+until%3A2021-04-19', 'refresh_url': '?since_id=1386884569501081600&q=%23bitcoin%20OR%20%23BTC%20since%3A2021-04-11%20until%3A2021-04-19&lang=en&result_type=recent&include_entities=1', 'count': 100, 'since_id': 0, 'since_id_str': '0'}}\n"
     ]
    },
    {
     "name": "stderr",
     "output_type": "stream",
     "text": [
      "\r",
      " 31%|███       | 138/450 [00:52<02:09,  2.41it/s]"
     ]
    },
    {
     "name": "stdout",
     "output_type": "stream",
     "text": [
      "{'statuses': [], 'search_metadata': {'completed_in': 0.006, 'max_id': 1386884569501081600, 'max_id_str': '1386884569501081600', 'query': '%23bitcoin+OR+%23BTC+since%3A2021-04-11+until%3A2021-04-19', 'refresh_url': '?since_id=1386884569501081600&q=%23bitcoin%20OR%20%23BTC%20since%3A2021-04-11%20until%3A2021-04-19&lang=en&result_type=recent&include_entities=1', 'count': 100, 'since_id': 0, 'since_id_str': '0'}}\n"
     ]
    },
    {
     "name": "stderr",
     "output_type": "stream",
     "text": [
      "\r",
      " 31%|███       | 139/450 [00:53<02:09,  2.40it/s]"
     ]
    },
    {
     "name": "stdout",
     "output_type": "stream",
     "text": [
      "{'statuses': [], 'search_metadata': {'completed_in': 0.006, 'max_id': 1386884569501081600, 'max_id_str': '1386884569501081600', 'query': '%23bitcoin+OR+%23BTC+since%3A2021-04-11+until%3A2021-04-19', 'refresh_url': '?since_id=1386884569501081600&q=%23bitcoin%20OR%20%23BTC%20since%3A2021-04-11%20until%3A2021-04-19&lang=en&result_type=recent&include_entities=1', 'count': 100, 'since_id': 0, 'since_id_str': '0'}}\n"
     ]
    },
    {
     "name": "stderr",
     "output_type": "stream",
     "text": [
      "\r",
      " 31%|███       | 140/450 [00:53<02:08,  2.41it/s]"
     ]
    },
    {
     "name": "stdout",
     "output_type": "stream",
     "text": [
      "{'statuses': [], 'search_metadata': {'completed_in': 0.006, 'max_id': 1386884569501081600, 'max_id_str': '1386884569501081600', 'query': '%23bitcoin+OR+%23BTC+since%3A2021-04-11+until%3A2021-04-19', 'refresh_url': '?since_id=1386884569501081600&q=%23bitcoin%20OR%20%23BTC%20since%3A2021-04-11%20until%3A2021-04-19&lang=en&result_type=recent&include_entities=1', 'count': 100, 'since_id': 0, 'since_id_str': '0'}}\n"
     ]
    },
    {
     "name": "stderr",
     "output_type": "stream",
     "text": [
      "\r",
      " 31%|███▏      | 141/450 [00:54<02:08,  2.41it/s]"
     ]
    },
    {
     "name": "stdout",
     "output_type": "stream",
     "text": [
      "{'statuses': [], 'search_metadata': {'completed_in': 0.006, 'max_id': 1386884569501081600, 'max_id_str': '1386884569501081600', 'query': '%23bitcoin+OR+%23BTC+since%3A2021-04-11+until%3A2021-04-19', 'refresh_url': '?since_id=1386884569501081600&q=%23bitcoin%20OR%20%23BTC%20since%3A2021-04-11%20until%3A2021-04-19&lang=en&result_type=recent&include_entities=1', 'count': 100, 'since_id': 0, 'since_id_str': '0'}}\n"
     ]
    },
    {
     "name": "stderr",
     "output_type": "stream",
     "text": [
      "\r",
      " 32%|███▏      | 142/450 [00:54<02:08,  2.40it/s]"
     ]
    },
    {
     "name": "stdout",
     "output_type": "stream",
     "text": [
      "{'statuses': [], 'search_metadata': {'completed_in': 0.007, 'max_id': 1386884569501081600, 'max_id_str': '1386884569501081600', 'query': '%23bitcoin+OR+%23BTC+since%3A2021-04-11+until%3A2021-04-19', 'refresh_url': '?since_id=1386884569501081600&q=%23bitcoin%20OR%20%23BTC%20since%3A2021-04-11%20until%3A2021-04-19&lang=en&result_type=recent&include_entities=1', 'count': 100, 'since_id': 0, 'since_id_str': '0'}}\n"
     ]
    },
    {
     "name": "stderr",
     "output_type": "stream",
     "text": [
      "\r",
      " 32%|███▏      | 143/450 [00:54<02:09,  2.37it/s]"
     ]
    },
    {
     "name": "stdout",
     "output_type": "stream",
     "text": [
      "{'statuses': [], 'search_metadata': {'completed_in': 0.005, 'max_id': 1386884569501081600, 'max_id_str': '1386884569501081600', 'query': '%23bitcoin+OR+%23BTC+since%3A2021-04-11+until%3A2021-04-19', 'refresh_url': '?since_id=1386884569501081600&q=%23bitcoin%20OR%20%23BTC%20since%3A2021-04-11%20until%3A2021-04-19&lang=en&result_type=recent&include_entities=1', 'count': 100, 'since_id': 0, 'since_id_str': '0'}}\n"
     ]
    },
    {
     "name": "stderr",
     "output_type": "stream",
     "text": [
      "\r",
      " 32%|███▏      | 144/450 [00:55<02:09,  2.37it/s]"
     ]
    },
    {
     "name": "stdout",
     "output_type": "stream",
     "text": [
      "{'statuses': [], 'search_metadata': {'completed_in': 0.007, 'max_id': 1386884569501081600, 'max_id_str': '1386884569501081600', 'query': '%23bitcoin+OR+%23BTC+since%3A2021-04-11+until%3A2021-04-19', 'refresh_url': '?since_id=1386884569501081600&q=%23bitcoin%20OR%20%23BTC%20since%3A2021-04-11%20until%3A2021-04-19&lang=en&result_type=recent&include_entities=1', 'count': 100, 'since_id': 0, 'since_id_str': '0'}}\n"
     ]
    },
    {
     "name": "stderr",
     "output_type": "stream",
     "text": [
      "\r",
      " 32%|███▏      | 145/450 [00:55<02:08,  2.37it/s]"
     ]
    },
    {
     "name": "stdout",
     "output_type": "stream",
     "text": [
      "{'statuses': [], 'search_metadata': {'completed_in': 0.006, 'max_id': 1386884569501081600, 'max_id_str': '1386884569501081600', 'query': '%23bitcoin+OR+%23BTC+since%3A2021-04-11+until%3A2021-04-19', 'refresh_url': '?since_id=1386884569501081600&q=%23bitcoin%20OR%20%23BTC%20since%3A2021-04-11%20until%3A2021-04-19&lang=en&result_type=recent&include_entities=1', 'count': 100, 'since_id': 0, 'since_id_str': '0'}}\n"
     ]
    },
    {
     "name": "stderr",
     "output_type": "stream",
     "text": [
      "\r",
      " 32%|███▏      | 146/450 [00:56<02:07,  2.38it/s]"
     ]
    },
    {
     "name": "stdout",
     "output_type": "stream",
     "text": [
      "{'statuses': [], 'search_metadata': {'completed_in': 0.006, 'max_id': 1386884569501081600, 'max_id_str': '1386884569501081600', 'query': '%23bitcoin+OR+%23BTC+since%3A2021-04-11+until%3A2021-04-19', 'refresh_url': '?since_id=1386884569501081600&q=%23bitcoin%20OR%20%23BTC%20since%3A2021-04-11%20until%3A2021-04-19&lang=en&result_type=recent&include_entities=1', 'count': 100, 'since_id': 0, 'since_id_str': '0'}}\n"
     ]
    },
    {
     "name": "stderr",
     "output_type": "stream",
     "text": [
      "\r",
      " 33%|███▎      | 147/450 [00:56<02:06,  2.40it/s]"
     ]
    },
    {
     "name": "stdout",
     "output_type": "stream",
     "text": [
      "{'statuses': [], 'search_metadata': {'completed_in': 0.006, 'max_id': 1386884569501081600, 'max_id_str': '1386884569501081600', 'query': '%23bitcoin+OR+%23BTC+since%3A2021-04-11+until%3A2021-04-19', 'refresh_url': '?since_id=1386884569501081600&q=%23bitcoin%20OR%20%23BTC%20since%3A2021-04-11%20until%3A2021-04-19&lang=en&result_type=recent&include_entities=1', 'count': 100, 'since_id': 0, 'since_id_str': '0'}}\n"
     ]
    },
    {
     "name": "stderr",
     "output_type": "stream",
     "text": [
      "\r",
      " 33%|███▎      | 148/450 [00:57<02:05,  2.41it/s]"
     ]
    },
    {
     "name": "stdout",
     "output_type": "stream",
     "text": [
      "{'statuses': [], 'search_metadata': {'completed_in': 0.006, 'max_id': 1386884569501081600, 'max_id_str': '1386884569501081600', 'query': '%23bitcoin+OR+%23BTC+since%3A2021-04-11+until%3A2021-04-19', 'refresh_url': '?since_id=1386884569501081600&q=%23bitcoin%20OR%20%23BTC%20since%3A2021-04-11%20until%3A2021-04-19&lang=en&result_type=recent&include_entities=1', 'count': 100, 'since_id': 0, 'since_id_str': '0'}}\n"
     ]
    },
    {
     "name": "stderr",
     "output_type": "stream",
     "text": [
      "\r",
      " 33%|███▎      | 149/450 [00:57<02:05,  2.40it/s]"
     ]
    },
    {
     "name": "stdout",
     "output_type": "stream",
     "text": [
      "{'statuses': [], 'search_metadata': {'completed_in': 0.008, 'max_id': 1386884569501081600, 'max_id_str': '1386884569501081600', 'query': '%23bitcoin+OR+%23BTC+since%3A2021-04-11+until%3A2021-04-19', 'refresh_url': '?since_id=1386884569501081600&q=%23bitcoin%20OR%20%23BTC%20since%3A2021-04-11%20until%3A2021-04-19&lang=en&result_type=recent&include_entities=1', 'count': 100, 'since_id': 0, 'since_id_str': '0'}}\n"
     ]
    },
    {
     "name": "stderr",
     "output_type": "stream",
     "text": [
      "\r",
      " 33%|███▎      | 150/450 [00:57<02:04,  2.41it/s]"
     ]
    },
    {
     "name": "stdout",
     "output_type": "stream",
     "text": [
      "{'statuses': [], 'search_metadata': {'completed_in': 0.007, 'max_id': 1386884569501081600, 'max_id_str': '1386884569501081600', 'query': '%23bitcoin+OR+%23BTC+since%3A2021-04-11+until%3A2021-04-19', 'refresh_url': '?since_id=1386884569501081600&q=%23bitcoin%20OR%20%23BTC%20since%3A2021-04-11%20until%3A2021-04-19&lang=en&result_type=recent&include_entities=1', 'count': 100, 'since_id': 0, 'since_id_str': '0'}}\n"
     ]
    },
    {
     "name": "stderr",
     "output_type": "stream",
     "text": [
      "\r",
      " 34%|███▎      | 151/450 [00:58<02:03,  2.41it/s]"
     ]
    },
    {
     "name": "stdout",
     "output_type": "stream",
     "text": [
      "{'statuses': [], 'search_metadata': {'completed_in': 0.007, 'max_id': 1386884569501081600, 'max_id_str': '1386884569501081600', 'query': '%23bitcoin+OR+%23BTC+since%3A2021-04-11+until%3A2021-04-19', 'refresh_url': '?since_id=1386884569501081600&q=%23bitcoin%20OR%20%23BTC%20since%3A2021-04-11%20until%3A2021-04-19&lang=en&result_type=recent&include_entities=1', 'count': 100, 'since_id': 0, 'since_id_str': '0'}}\n"
     ]
    },
    {
     "name": "stderr",
     "output_type": "stream",
     "text": [
      "\r",
      " 34%|███▍      | 152/450 [00:58<02:03,  2.42it/s]"
     ]
    },
    {
     "name": "stdout",
     "output_type": "stream",
     "text": [
      "{'statuses': [], 'search_metadata': {'completed_in': 0.006, 'max_id': 1386884569501081600, 'max_id_str': '1386884569501081600', 'query': '%23bitcoin+OR+%23BTC+since%3A2021-04-11+until%3A2021-04-19', 'refresh_url': '?since_id=1386884569501081600&q=%23bitcoin%20OR%20%23BTC%20since%3A2021-04-11%20until%3A2021-04-19&lang=en&result_type=recent&include_entities=1', 'count': 100, 'since_id': 0, 'since_id_str': '0'}}\n"
     ]
    },
    {
     "name": "stderr",
     "output_type": "stream",
     "text": [
      "\r",
      " 34%|███▍      | 153/450 [00:59<02:02,  2.42it/s]"
     ]
    },
    {
     "name": "stdout",
     "output_type": "stream",
     "text": [
      "{'statuses': [], 'search_metadata': {'completed_in': 0.007, 'max_id': 1386884569501081600, 'max_id_str': '1386884569501081600', 'query': '%23bitcoin+OR+%23BTC+since%3A2021-04-11+until%3A2021-04-19', 'refresh_url': '?since_id=1386884569501081600&q=%23bitcoin%20OR%20%23BTC%20since%3A2021-04-11%20until%3A2021-04-19&lang=en&result_type=recent&include_entities=1', 'count': 100, 'since_id': 0, 'since_id_str': '0'}}\n"
     ]
    },
    {
     "name": "stderr",
     "output_type": "stream",
     "text": [
      "\r",
      " 34%|███▍      | 154/450 [00:59<02:01,  2.43it/s]"
     ]
    },
    {
     "name": "stdout",
     "output_type": "stream",
     "text": [
      "{'statuses': [], 'search_metadata': {'completed_in': 0.006, 'max_id': 1386884569501081600, 'max_id_str': '1386884569501081600', 'query': '%23bitcoin+OR+%23BTC+since%3A2021-04-11+until%3A2021-04-19', 'refresh_url': '?since_id=1386884569501081600&q=%23bitcoin%20OR%20%23BTC%20since%3A2021-04-11%20until%3A2021-04-19&lang=en&result_type=recent&include_entities=1', 'count': 100, 'since_id': 0, 'since_id_str': '0'}}\n"
     ]
    },
    {
     "name": "stderr",
     "output_type": "stream",
     "text": [
      "\r",
      " 34%|███▍      | 155/450 [00:59<02:01,  2.43it/s]"
     ]
    },
    {
     "name": "stdout",
     "output_type": "stream",
     "text": [
      "{'statuses': [], 'search_metadata': {'completed_in': 0.006, 'max_id': 1386884569501081600, 'max_id_str': '1386884569501081600', 'query': '%23bitcoin+OR+%23BTC+since%3A2021-04-11+until%3A2021-04-19', 'refresh_url': '?since_id=1386884569501081600&q=%23bitcoin%20OR%20%23BTC%20since%3A2021-04-11%20until%3A2021-04-19&lang=en&result_type=recent&include_entities=1', 'count': 100, 'since_id': 0, 'since_id_str': '0'}}\n"
     ]
    },
    {
     "name": "stderr",
     "output_type": "stream",
     "text": [
      "\r",
      " 35%|███▍      | 156/450 [01:00<02:01,  2.43it/s]"
     ]
    },
    {
     "name": "stdout",
     "output_type": "stream",
     "text": [
      "{'statuses': [], 'search_metadata': {'completed_in': 0.006, 'max_id': 1386884569501081600, 'max_id_str': '1386884569501081600', 'query': '%23bitcoin+OR+%23BTC+since%3A2021-04-11+until%3A2021-04-19', 'refresh_url': '?since_id=1386884569501081600&q=%23bitcoin%20OR%20%23BTC%20since%3A2021-04-11%20until%3A2021-04-19&lang=en&result_type=recent&include_entities=1', 'count': 100, 'since_id': 0, 'since_id_str': '0'}}\n"
     ]
    },
    {
     "name": "stderr",
     "output_type": "stream",
     "text": [
      "\r",
      " 35%|███▍      | 157/450 [01:00<02:00,  2.43it/s]"
     ]
    },
    {
     "name": "stdout",
     "output_type": "stream",
     "text": [
      "{'statuses': [], 'search_metadata': {'completed_in': 0.007, 'max_id': 1386884569501081600, 'max_id_str': '1386884569501081600', 'query': '%23bitcoin+OR+%23BTC+since%3A2021-04-11+until%3A2021-04-19', 'refresh_url': '?since_id=1386884569501081600&q=%23bitcoin%20OR%20%23BTC%20since%3A2021-04-11%20until%3A2021-04-19&lang=en&result_type=recent&include_entities=1', 'count': 100, 'since_id': 0, 'since_id_str': '0'}}\n"
     ]
    },
    {
     "name": "stderr",
     "output_type": "stream",
     "text": [
      "\r",
      " 35%|███▌      | 158/450 [01:01<02:00,  2.42it/s]"
     ]
    },
    {
     "name": "stdout",
     "output_type": "stream",
     "text": [
      "{'statuses': [], 'search_metadata': {'completed_in': 0.006, 'max_id': 1386884569501081600, 'max_id_str': '1386884569501081600', 'query': '%23bitcoin+OR+%23BTC+since%3A2021-04-11+until%3A2021-04-19', 'refresh_url': '?since_id=1386884569501081600&q=%23bitcoin%20OR%20%23BTC%20since%3A2021-04-11%20until%3A2021-04-19&lang=en&result_type=recent&include_entities=1', 'count': 100, 'since_id': 0, 'since_id_str': '0'}}\n"
     ]
    },
    {
     "name": "stderr",
     "output_type": "stream",
     "text": [
      "\r",
      " 35%|███▌      | 159/450 [01:01<02:00,  2.42it/s]"
     ]
    },
    {
     "name": "stdout",
     "output_type": "stream",
     "text": [
      "{'statuses': [], 'search_metadata': {'completed_in': 0.007, 'max_id': 1386884569501081600, 'max_id_str': '1386884569501081600', 'query': '%23bitcoin+OR+%23BTC+since%3A2021-04-11+until%3A2021-04-19', 'refresh_url': '?since_id=1386884569501081600&q=%23bitcoin%20OR%20%23BTC%20since%3A2021-04-11%20until%3A2021-04-19&lang=en&result_type=recent&include_entities=1', 'count': 100, 'since_id': 0, 'since_id_str': '0'}}\n"
     ]
    },
    {
     "name": "stderr",
     "output_type": "stream",
     "text": [
      "\r",
      " 36%|███▌      | 160/450 [01:02<01:59,  2.43it/s]"
     ]
    },
    {
     "name": "stdout",
     "output_type": "stream",
     "text": [
      "{'statuses': [], 'search_metadata': {'completed_in': 0.005, 'max_id': 1386884569501081600, 'max_id_str': '1386884569501081600', 'query': '%23bitcoin+OR+%23BTC+since%3A2021-04-11+until%3A2021-04-19', 'refresh_url': '?since_id=1386884569501081600&q=%23bitcoin%20OR%20%23BTC%20since%3A2021-04-11%20until%3A2021-04-19&lang=en&result_type=recent&include_entities=1', 'count': 100, 'since_id': 0, 'since_id_str': '0'}}\n"
     ]
    },
    {
     "name": "stderr",
     "output_type": "stream",
     "text": [
      "\r",
      " 36%|███▌      | 161/450 [01:02<01:58,  2.43it/s]"
     ]
    },
    {
     "name": "stdout",
     "output_type": "stream",
     "text": [
      "{'statuses': [], 'search_metadata': {'completed_in': 0.007, 'max_id': 1386884569501081600, 'max_id_str': '1386884569501081600', 'query': '%23bitcoin+OR+%23BTC+since%3A2021-04-11+until%3A2021-04-19', 'refresh_url': '?since_id=1386884569501081600&q=%23bitcoin%20OR%20%23BTC%20since%3A2021-04-11%20until%3A2021-04-19&lang=en&result_type=recent&include_entities=1', 'count': 100, 'since_id': 0, 'since_id_str': '0'}}\n"
     ]
    },
    {
     "name": "stderr",
     "output_type": "stream",
     "text": [
      "\r",
      " 36%|███▌      | 162/450 [01:02<01:58,  2.43it/s]"
     ]
    },
    {
     "name": "stdout",
     "output_type": "stream",
     "text": [
      "{'statuses': [], 'search_metadata': {'completed_in': 0.006, 'max_id': 1386884569501081600, 'max_id_str': '1386884569501081600', 'query': '%23bitcoin+OR+%23BTC+since%3A2021-04-11+until%3A2021-04-19', 'refresh_url': '?since_id=1386884569501081600&q=%23bitcoin%20OR%20%23BTC%20since%3A2021-04-11%20until%3A2021-04-19&lang=en&result_type=recent&include_entities=1', 'count': 100, 'since_id': 0, 'since_id_str': '0'}}\n"
     ]
    },
    {
     "name": "stderr",
     "output_type": "stream",
     "text": [
      "\r",
      " 36%|███▌      | 163/450 [01:03<01:58,  2.42it/s]"
     ]
    },
    {
     "name": "stdout",
     "output_type": "stream",
     "text": [
      "{'statuses': [], 'search_metadata': {'completed_in': 0.007, 'max_id': 1386884569501081600, 'max_id_str': '1386884569501081600', 'query': '%23bitcoin+OR+%23BTC+since%3A2021-04-11+until%3A2021-04-19', 'refresh_url': '?since_id=1386884569501081600&q=%23bitcoin%20OR%20%23BTC%20since%3A2021-04-11%20until%3A2021-04-19&lang=en&result_type=recent&include_entities=1', 'count': 100, 'since_id': 0, 'since_id_str': '0'}}\n"
     ]
    },
    {
     "name": "stderr",
     "output_type": "stream",
     "text": [
      "\r",
      " 36%|███▋      | 164/450 [01:03<01:58,  2.42it/s]"
     ]
    },
    {
     "name": "stdout",
     "output_type": "stream",
     "text": [
      "{'statuses': [], 'search_metadata': {'completed_in': 0.005, 'max_id': 1386884569501081600, 'max_id_str': '1386884569501081600', 'query': '%23bitcoin+OR+%23BTC+since%3A2021-04-11+until%3A2021-04-19', 'refresh_url': '?since_id=1386884569501081600&q=%23bitcoin%20OR%20%23BTC%20since%3A2021-04-11%20until%3A2021-04-19&lang=en&result_type=recent&include_entities=1', 'count': 100, 'since_id': 0, 'since_id_str': '0'}}\n"
     ]
    },
    {
     "name": "stderr",
     "output_type": "stream",
     "text": [
      "\r",
      " 37%|███▋      | 165/450 [01:04<01:58,  2.40it/s]"
     ]
    },
    {
     "name": "stdout",
     "output_type": "stream",
     "text": [
      "{'statuses': [], 'search_metadata': {'completed_in': 0.016, 'max_id': 1386884651793338369, 'max_id_str': '1386884651793338369', 'query': '%23bitcoin+OR+%23BTC+since%3A2021-04-11+until%3A2021-04-19', 'refresh_url': '?since_id=1386884651793338369&q=%23bitcoin%20OR%20%23BTC%20since%3A2021-04-11%20until%3A2021-04-19&lang=en&result_type=recent&include_entities=1', 'count': 100, 'since_id': 0, 'since_id_str': '0'}}\n"
     ]
    },
    {
     "name": "stderr",
     "output_type": "stream",
     "text": [
      "\r",
      " 37%|███▋      | 166/450 [01:04<01:58,  2.41it/s]"
     ]
    },
    {
     "name": "stdout",
     "output_type": "stream",
     "text": [
      "{'statuses': [], 'search_metadata': {'completed_in': 0.007, 'max_id': 1386884651793338369, 'max_id_str': '1386884651793338369', 'query': '%23bitcoin+OR+%23BTC+since%3A2021-04-11+until%3A2021-04-19', 'refresh_url': '?since_id=1386884651793338369&q=%23bitcoin%20OR%20%23BTC%20since%3A2021-04-11%20until%3A2021-04-19&lang=en&result_type=recent&include_entities=1', 'count': 100, 'since_id': 0, 'since_id_str': '0'}}\n"
     ]
    },
    {
     "name": "stderr",
     "output_type": "stream",
     "text": [
      "\r",
      " 37%|███▋      | 167/450 [01:04<01:57,  2.41it/s]"
     ]
    },
    {
     "name": "stdout",
     "output_type": "stream",
     "text": [
      "{'statuses': [], 'search_metadata': {'completed_in': 0.007, 'max_id': 1386884651793338369, 'max_id_str': '1386884651793338369', 'query': '%23bitcoin+OR+%23BTC+since%3A2021-04-11+until%3A2021-04-19', 'refresh_url': '?since_id=1386884651793338369&q=%23bitcoin%20OR%20%23BTC%20since%3A2021-04-11%20until%3A2021-04-19&lang=en&result_type=recent&include_entities=1', 'count': 100, 'since_id': 0, 'since_id_str': '0'}}\n"
     ]
    },
    {
     "name": "stderr",
     "output_type": "stream",
     "text": [
      "\r",
      " 37%|███▋      | 168/450 [01:05<01:56,  2.42it/s]"
     ]
    },
    {
     "name": "stdout",
     "output_type": "stream",
     "text": [
      "{'statuses': [], 'search_metadata': {'completed_in': 0.006, 'max_id': 1386884651793338369, 'max_id_str': '1386884651793338369', 'query': '%23bitcoin+OR+%23BTC+since%3A2021-04-11+until%3A2021-04-19', 'refresh_url': '?since_id=1386884651793338369&q=%23bitcoin%20OR%20%23BTC%20since%3A2021-04-11%20until%3A2021-04-19&lang=en&result_type=recent&include_entities=1', 'count': 100, 'since_id': 0, 'since_id_str': '0'}}\n"
     ]
    },
    {
     "name": "stderr",
     "output_type": "stream",
     "text": [
      "\r",
      " 38%|███▊      | 169/450 [01:05<01:56,  2.42it/s]"
     ]
    },
    {
     "name": "stdout",
     "output_type": "stream",
     "text": [
      "{'statuses': [], 'search_metadata': {'completed_in': 0.005, 'max_id': 1386884651793338369, 'max_id_str': '1386884651793338369', 'query': '%23bitcoin+OR+%23BTC+since%3A2021-04-11+until%3A2021-04-19', 'refresh_url': '?since_id=1386884651793338369&q=%23bitcoin%20OR%20%23BTC%20since%3A2021-04-11%20until%3A2021-04-19&lang=en&result_type=recent&include_entities=1', 'count': 100, 'since_id': 0, 'since_id_str': '0'}}\n"
     ]
    },
    {
     "name": "stderr",
     "output_type": "stream",
     "text": [
      "\r",
      " 38%|███▊      | 170/450 [01:06<01:56,  2.39it/s]"
     ]
    },
    {
     "name": "stdout",
     "output_type": "stream",
     "text": [
      "{'statuses': [], 'search_metadata': {'completed_in': 0.005, 'max_id': 1386884651793338369, 'max_id_str': '1386884651793338369', 'query': '%23bitcoin+OR+%23BTC+since%3A2021-04-11+until%3A2021-04-19', 'refresh_url': '?since_id=1386884651793338369&q=%23bitcoin%20OR%20%23BTC%20since%3A2021-04-11%20until%3A2021-04-19&lang=en&result_type=recent&include_entities=1', 'count': 100, 'since_id': 0, 'since_id_str': '0'}}\n"
     ]
    },
    {
     "name": "stderr",
     "output_type": "stream",
     "text": [
      "\r",
      " 38%|███▊      | 171/450 [01:06<01:56,  2.40it/s]"
     ]
    },
    {
     "name": "stdout",
     "output_type": "stream",
     "text": [
      "{'statuses': [], 'search_metadata': {'completed_in': 0.007, 'max_id': 1386884651793338369, 'max_id_str': '1386884651793338369', 'query': '%23bitcoin+OR+%23BTC+since%3A2021-04-11+until%3A2021-04-19', 'refresh_url': '?since_id=1386884651793338369&q=%23bitcoin%20OR%20%23BTC%20since%3A2021-04-11%20until%3A2021-04-19&lang=en&result_type=recent&include_entities=1', 'count': 100, 'since_id': 0, 'since_id_str': '0'}}\n"
     ]
    },
    {
     "name": "stderr",
     "output_type": "stream",
     "text": [
      "\r",
      " 38%|███▊      | 172/450 [01:06<01:55,  2.40it/s]"
     ]
    },
    {
     "name": "stdout",
     "output_type": "stream",
     "text": [
      "{'statuses': [], 'search_metadata': {'completed_in': 0.006, 'max_id': 1386884651793338369, 'max_id_str': '1386884651793338369', 'query': '%23bitcoin+OR+%23BTC+since%3A2021-04-11+until%3A2021-04-19', 'refresh_url': '?since_id=1386884651793338369&q=%23bitcoin%20OR%20%23BTC%20since%3A2021-04-11%20until%3A2021-04-19&lang=en&result_type=recent&include_entities=1', 'count': 100, 'since_id': 0, 'since_id_str': '0'}}\n"
     ]
    },
    {
     "name": "stderr",
     "output_type": "stream",
     "text": [
      "\r",
      " 38%|███▊      | 173/450 [01:07<01:54,  2.41it/s]"
     ]
    },
    {
     "name": "stdout",
     "output_type": "stream",
     "text": [
      "{'statuses': [], 'search_metadata': {'completed_in': 0.007, 'max_id': 1386884651793338369, 'max_id_str': '1386884651793338369', 'query': '%23bitcoin+OR+%23BTC+since%3A2021-04-11+until%3A2021-04-19', 'refresh_url': '?since_id=1386884651793338369&q=%23bitcoin%20OR%20%23BTC%20since%3A2021-04-11%20until%3A2021-04-19&lang=en&result_type=recent&include_entities=1', 'count': 100, 'since_id': 0, 'since_id_str': '0'}}\n"
     ]
    },
    {
     "name": "stderr",
     "output_type": "stream",
     "text": [
      "\r",
      " 39%|███▊      | 174/450 [01:07<01:54,  2.41it/s]"
     ]
    },
    {
     "name": "stdout",
     "output_type": "stream",
     "text": [
      "{'statuses': [], 'search_metadata': {'completed_in': 0.007, 'max_id': 1386884651793338369, 'max_id_str': '1386884651793338369', 'query': '%23bitcoin+OR+%23BTC+since%3A2021-04-11+until%3A2021-04-19', 'refresh_url': '?since_id=1386884651793338369&q=%23bitcoin%20OR%20%23BTC%20since%3A2021-04-11%20until%3A2021-04-19&lang=en&result_type=recent&include_entities=1', 'count': 100, 'since_id': 0, 'since_id_str': '0'}}\n"
     ]
    },
    {
     "name": "stderr",
     "output_type": "stream",
     "text": [
      "\r",
      " 39%|███▉      | 175/450 [01:08<01:54,  2.41it/s]"
     ]
    },
    {
     "name": "stdout",
     "output_type": "stream",
     "text": [
      "{'statuses': [], 'search_metadata': {'completed_in': 0.006, 'max_id': 1386884651793338369, 'max_id_str': '1386884651793338369', 'query': '%23bitcoin+OR+%23BTC+since%3A2021-04-11+until%3A2021-04-19', 'refresh_url': '?since_id=1386884651793338369&q=%23bitcoin%20OR%20%23BTC%20since%3A2021-04-11%20until%3A2021-04-19&lang=en&result_type=recent&include_entities=1', 'count': 100, 'since_id': 0, 'since_id_str': '0'}}\n"
     ]
    },
    {
     "name": "stderr",
     "output_type": "stream",
     "text": [
      "\r",
      " 39%|███▉      | 176/450 [01:08<01:53,  2.41it/s]"
     ]
    },
    {
     "name": "stdout",
     "output_type": "stream",
     "text": [
      "{'statuses': [], 'search_metadata': {'completed_in': 0.007, 'max_id': 1386884651793338369, 'max_id_str': '1386884651793338369', 'query': '%23bitcoin+OR+%23BTC+since%3A2021-04-11+until%3A2021-04-19', 'refresh_url': '?since_id=1386884651793338369&q=%23bitcoin%20OR%20%23BTC%20since%3A2021-04-11%20until%3A2021-04-19&lang=en&result_type=recent&include_entities=1', 'count': 100, 'since_id': 0, 'since_id_str': '0'}}\n"
     ]
    },
    {
     "name": "stderr",
     "output_type": "stream",
     "text": [
      "\r",
      " 39%|███▉      | 177/450 [01:09<01:53,  2.41it/s]"
     ]
    },
    {
     "name": "stdout",
     "output_type": "stream",
     "text": [
      "{'statuses': [], 'search_metadata': {'completed_in': 0.006, 'max_id': 1386884651793338369, 'max_id_str': '1386884651793338369', 'query': '%23bitcoin+OR+%23BTC+since%3A2021-04-11+until%3A2021-04-19', 'refresh_url': '?since_id=1386884651793338369&q=%23bitcoin%20OR%20%23BTC%20since%3A2021-04-11%20until%3A2021-04-19&lang=en&result_type=recent&include_entities=1', 'count': 100, 'since_id': 0, 'since_id_str': '0'}}\n"
     ]
    },
    {
     "name": "stderr",
     "output_type": "stream",
     "text": [
      "\r",
      " 40%|███▉      | 178/450 [01:09<01:53,  2.41it/s]"
     ]
    },
    {
     "name": "stdout",
     "output_type": "stream",
     "text": [
      "{'statuses': [], 'search_metadata': {'completed_in': 0.006, 'max_id': 1386884651793338369, 'max_id_str': '1386884651793338369', 'query': '%23bitcoin+OR+%23BTC+since%3A2021-04-11+until%3A2021-04-19', 'refresh_url': '?since_id=1386884651793338369&q=%23bitcoin%20OR%20%23BTC%20since%3A2021-04-11%20until%3A2021-04-19&lang=en&result_type=recent&include_entities=1', 'count': 100, 'since_id': 0, 'since_id_str': '0'}}\n"
     ]
    },
    {
     "name": "stderr",
     "output_type": "stream",
     "text": [
      "\r",
      " 40%|███▉      | 179/450 [01:09<01:52,  2.40it/s]"
     ]
    },
    {
     "name": "stdout",
     "output_type": "stream",
     "text": [
      "{'statuses': [], 'search_metadata': {'completed_in': 0.008, 'max_id': 1386884651793338369, 'max_id_str': '1386884651793338369', 'query': '%23bitcoin+OR+%23BTC+since%3A2021-04-11+until%3A2021-04-19', 'refresh_url': '?since_id=1386884651793338369&q=%23bitcoin%20OR%20%23BTC%20since%3A2021-04-11%20until%3A2021-04-19&lang=en&result_type=recent&include_entities=1', 'count': 100, 'since_id': 0, 'since_id_str': '0'}}\n"
     ]
    },
    {
     "name": "stderr",
     "output_type": "stream",
     "text": [
      "\r",
      " 40%|████      | 180/450 [01:10<01:52,  2.40it/s]"
     ]
    },
    {
     "name": "stdout",
     "output_type": "stream",
     "text": [
      "{'statuses': [], 'search_metadata': {'completed_in': 0.006, 'max_id': 1386884651793338369, 'max_id_str': '1386884651793338369', 'query': '%23bitcoin+OR+%23BTC+since%3A2021-04-11+until%3A2021-04-19', 'refresh_url': '?since_id=1386884651793338369&q=%23bitcoin%20OR%20%23BTC%20since%3A2021-04-11%20until%3A2021-04-19&lang=en&result_type=recent&include_entities=1', 'count': 100, 'since_id': 0, 'since_id_str': '0'}}\n"
     ]
    },
    {
     "name": "stderr",
     "output_type": "stream",
     "text": [
      "\r",
      " 40%|████      | 181/450 [01:10<01:51,  2.41it/s]"
     ]
    },
    {
     "name": "stdout",
     "output_type": "stream",
     "text": [
      "{'statuses': [], 'search_metadata': {'completed_in': 0.007, 'max_id': 1386884651793338369, 'max_id_str': '1386884651793338369', 'query': '%23bitcoin+OR+%23BTC+since%3A2021-04-11+until%3A2021-04-19', 'refresh_url': '?since_id=1386884651793338369&q=%23bitcoin%20OR%20%23BTC%20since%3A2021-04-11%20until%3A2021-04-19&lang=en&result_type=recent&include_entities=1', 'count': 100, 'since_id': 0, 'since_id_str': '0'}}\n"
     ]
    },
    {
     "name": "stderr",
     "output_type": "stream",
     "text": [
      "\r",
      " 40%|████      | 182/450 [01:11<01:51,  2.40it/s]"
     ]
    },
    {
     "name": "stdout",
     "output_type": "stream",
     "text": [
      "{'statuses': [], 'search_metadata': {'completed_in': 0.006, 'max_id': 1386884651793338369, 'max_id_str': '1386884651793338369', 'query': '%23bitcoin+OR+%23BTC+since%3A2021-04-11+until%3A2021-04-19', 'refresh_url': '?since_id=1386884651793338369&q=%23bitcoin%20OR%20%23BTC%20since%3A2021-04-11%20until%3A2021-04-19&lang=en&result_type=recent&include_entities=1', 'count': 100, 'since_id': 0, 'since_id_str': '0'}}\n"
     ]
    },
    {
     "name": "stderr",
     "output_type": "stream",
     "text": [
      "\r",
      " 41%|████      | 183/450 [01:11<01:56,  2.30it/s]"
     ]
    },
    {
     "name": "stdout",
     "output_type": "stream",
     "text": [
      "{'statuses': [], 'search_metadata': {'completed_in': 0.008, 'max_id': 1386884651793338369, 'max_id_str': '1386884651793338369', 'query': '%23bitcoin+OR+%23BTC+since%3A2021-04-11+until%3A2021-04-19', 'refresh_url': '?since_id=1386884651793338369&q=%23bitcoin%20OR%20%23BTC%20since%3A2021-04-11%20until%3A2021-04-19&lang=en&result_type=recent&include_entities=1', 'count': 100, 'since_id': 0, 'since_id_str': '0'}}\n"
     ]
    },
    {
     "name": "stderr",
     "output_type": "stream",
     "text": [
      "\r",
      " 41%|████      | 184/450 [01:12<01:57,  2.26it/s]"
     ]
    },
    {
     "name": "stdout",
     "output_type": "stream",
     "text": [
      "{'statuses': [], 'search_metadata': {'completed_in': 0.007, 'max_id': 1386884651793338369, 'max_id_str': '1386884651793338369', 'query': '%23bitcoin+OR+%23BTC+since%3A2021-04-11+until%3A2021-04-19', 'refresh_url': '?since_id=1386884651793338369&q=%23bitcoin%20OR%20%23BTC%20since%3A2021-04-11%20until%3A2021-04-19&lang=en&result_type=recent&include_entities=1', 'count': 100, 'since_id': 0, 'since_id_str': '0'}}\n"
     ]
    },
    {
     "name": "stderr",
     "output_type": "stream",
     "text": [
      "\r",
      " 41%|████      | 185/450 [01:12<01:55,  2.30it/s]"
     ]
    },
    {
     "name": "stdout",
     "output_type": "stream",
     "text": [
      "{'statuses': [], 'search_metadata': {'completed_in': 0.007, 'max_id': 1386884651793338369, 'max_id_str': '1386884651793338369', 'query': '%23bitcoin+OR+%23BTC+since%3A2021-04-11+until%3A2021-04-19', 'refresh_url': '?since_id=1386884651793338369&q=%23bitcoin%20OR%20%23BTC%20since%3A2021-04-11%20until%3A2021-04-19&lang=en&result_type=recent&include_entities=1', 'count': 100, 'since_id': 0, 'since_id_str': '0'}}\n"
     ]
    },
    {
     "name": "stderr",
     "output_type": "stream",
     "text": [
      "\r",
      " 41%|████▏     | 186/450 [01:12<01:53,  2.33it/s]"
     ]
    },
    {
     "name": "stdout",
     "output_type": "stream",
     "text": [
      "{'statuses': [], 'search_metadata': {'completed_in': 0.005, 'max_id': 1386884651793338369, 'max_id_str': '1386884651793338369', 'query': '%23bitcoin+OR+%23BTC+since%3A2021-04-11+until%3A2021-04-19', 'refresh_url': '?since_id=1386884651793338369&q=%23bitcoin%20OR%20%23BTC%20since%3A2021-04-11%20until%3A2021-04-19&lang=en&result_type=recent&include_entities=1', 'count': 100, 'since_id': 0, 'since_id_str': '0'}}\n"
     ]
    },
    {
     "name": "stderr",
     "output_type": "stream",
     "text": [
      "\r",
      " 42%|████▏     | 187/450 [01:13<01:51,  2.35it/s]"
     ]
    },
    {
     "name": "stdout",
     "output_type": "stream",
     "text": [
      "{'statuses': [], 'search_metadata': {'completed_in': 0.005, 'max_id': 1386884651793338369, 'max_id_str': '1386884651793338369', 'query': '%23bitcoin+OR+%23BTC+since%3A2021-04-11+until%3A2021-04-19', 'refresh_url': '?since_id=1386884651793338369&q=%23bitcoin%20OR%20%23BTC%20since%3A2021-04-11%20until%3A2021-04-19&lang=en&result_type=recent&include_entities=1', 'count': 100, 'since_id': 0, 'since_id_str': '0'}}\n"
     ]
    },
    {
     "name": "stderr",
     "output_type": "stream",
     "text": [
      "\r",
      " 42%|████▏     | 188/450 [01:13<01:50,  2.37it/s]"
     ]
    },
    {
     "name": "stdout",
     "output_type": "stream",
     "text": [
      "{'statuses': [], 'search_metadata': {'completed_in': 0.006, 'max_id': 1386884651793338369, 'max_id_str': '1386884651793338369', 'query': '%23bitcoin+OR+%23BTC+since%3A2021-04-11+until%3A2021-04-19', 'refresh_url': '?since_id=1386884651793338369&q=%23bitcoin%20OR%20%23BTC%20since%3A2021-04-11%20until%3A2021-04-19&lang=en&result_type=recent&include_entities=1', 'count': 100, 'since_id': 0, 'since_id_str': '0'}}\n"
     ]
    },
    {
     "name": "stderr",
     "output_type": "stream",
     "text": [
      "\r",
      " 42%|████▏     | 189/450 [01:14<01:49,  2.38it/s]"
     ]
    },
    {
     "name": "stdout",
     "output_type": "stream",
     "text": [
      "{'statuses': [], 'search_metadata': {'completed_in': 0.005, 'max_id': 1386884651793338369, 'max_id_str': '1386884651793338369', 'query': '%23bitcoin+OR+%23BTC+since%3A2021-04-11+until%3A2021-04-19', 'refresh_url': '?since_id=1386884651793338369&q=%23bitcoin%20OR%20%23BTC%20since%3A2021-04-11%20until%3A2021-04-19&lang=en&result_type=recent&include_entities=1', 'count': 100, 'since_id': 0, 'since_id_str': '0'}}\n"
     ]
    },
    {
     "name": "stderr",
     "output_type": "stream",
     "text": [
      "\r",
      " 42%|████▏     | 190/450 [01:14<01:49,  2.38it/s]"
     ]
    },
    {
     "name": "stdout",
     "output_type": "stream",
     "text": [
      "{'statuses': [], 'search_metadata': {'completed_in': 0.006, 'max_id': 1386884651793338369, 'max_id_str': '1386884651793338369', 'query': '%23bitcoin+OR+%23BTC+since%3A2021-04-11+until%3A2021-04-19', 'refresh_url': '?since_id=1386884651793338369&q=%23bitcoin%20OR%20%23BTC%20since%3A2021-04-11%20until%3A2021-04-19&lang=en&result_type=recent&include_entities=1', 'count': 100, 'since_id': 0, 'since_id_str': '0'}}\n"
     ]
    },
    {
     "name": "stderr",
     "output_type": "stream",
     "text": [
      "\r",
      " 42%|████▏     | 191/450 [01:14<01:48,  2.39it/s]"
     ]
    },
    {
     "name": "stdout",
     "output_type": "stream",
     "text": [
      "{'statuses': [], 'search_metadata': {'completed_in': 0.005, 'max_id': 1386884651793338369, 'max_id_str': '1386884651793338369', 'query': '%23bitcoin+OR+%23BTC+since%3A2021-04-11+until%3A2021-04-19', 'refresh_url': '?since_id=1386884651793338369&q=%23bitcoin%20OR%20%23BTC%20since%3A2021-04-11%20until%3A2021-04-19&lang=en&result_type=recent&include_entities=1', 'count': 100, 'since_id': 0, 'since_id_str': '0'}}\n"
     ]
    },
    {
     "name": "stderr",
     "output_type": "stream",
     "text": [
      "\r",
      " 43%|████▎     | 192/450 [01:15<01:47,  2.40it/s]"
     ]
    },
    {
     "name": "stdout",
     "output_type": "stream",
     "text": [
      "{'statuses': [], 'search_metadata': {'completed_in': 0.007, 'max_id': 1386884651793338369, 'max_id_str': '1386884651793338369', 'query': '%23bitcoin+OR+%23BTC+since%3A2021-04-11+until%3A2021-04-19', 'refresh_url': '?since_id=1386884651793338369&q=%23bitcoin%20OR%20%23BTC%20since%3A2021-04-11%20until%3A2021-04-19&lang=en&result_type=recent&include_entities=1', 'count': 100, 'since_id': 0, 'since_id_str': '0'}}\n"
     ]
    },
    {
     "name": "stderr",
     "output_type": "stream",
     "text": [
      "\r",
      " 43%|████▎     | 193/450 [01:15<01:47,  2.39it/s]"
     ]
    },
    {
     "name": "stdout",
     "output_type": "stream",
     "text": [
      "{'statuses': [], 'search_metadata': {'completed_in': 0.006, 'max_id': 1386884651793338369, 'max_id_str': '1386884651793338369', 'query': '%23bitcoin+OR+%23BTC+since%3A2021-04-11+until%3A2021-04-19', 'refresh_url': '?since_id=1386884651793338369&q=%23bitcoin%20OR%20%23BTC%20since%3A2021-04-11%20until%3A2021-04-19&lang=en&result_type=recent&include_entities=1', 'count': 100, 'since_id': 0, 'since_id_str': '0'}}\n"
     ]
    },
    {
     "name": "stderr",
     "output_type": "stream",
     "text": [
      "\r",
      " 43%|████▎     | 194/450 [01:16<01:46,  2.40it/s]"
     ]
    },
    {
     "name": "stdout",
     "output_type": "stream",
     "text": [
      "{'statuses': [], 'search_metadata': {'completed_in': 0.006, 'max_id': 1386884651793338369, 'max_id_str': '1386884651793338369', 'query': '%23bitcoin+OR+%23BTC+since%3A2021-04-11+until%3A2021-04-19', 'refresh_url': '?since_id=1386884651793338369&q=%23bitcoin%20OR%20%23BTC%20since%3A2021-04-11%20until%3A2021-04-19&lang=en&result_type=recent&include_entities=1', 'count': 100, 'since_id': 0, 'since_id_str': '0'}}\n"
     ]
    },
    {
     "name": "stderr",
     "output_type": "stream",
     "text": [
      "\r",
      " 43%|████▎     | 195/450 [01:16<01:45,  2.41it/s]"
     ]
    },
    {
     "name": "stdout",
     "output_type": "stream",
     "text": [
      "{'statuses': [], 'search_metadata': {'completed_in': 0.007, 'max_id': 1386884651793338369, 'max_id_str': '1386884651793338369', 'query': '%23bitcoin+OR+%23BTC+since%3A2021-04-11+until%3A2021-04-19', 'refresh_url': '?since_id=1386884651793338369&q=%23bitcoin%20OR%20%23BTC%20since%3A2021-04-11%20until%3A2021-04-19&lang=en&result_type=recent&include_entities=1', 'count': 100, 'since_id': 0, 'since_id_str': '0'}}\n"
     ]
    },
    {
     "name": "stderr",
     "output_type": "stream",
     "text": [
      "\r",
      " 44%|████▎     | 196/450 [01:17<01:45,  2.41it/s]"
     ]
    },
    {
     "name": "stdout",
     "output_type": "stream",
     "text": [
      "{'statuses': [], 'search_metadata': {'completed_in': 0.006, 'max_id': 1386884651793338369, 'max_id_str': '1386884651793338369', 'query': '%23bitcoin+OR+%23BTC+since%3A2021-04-11+until%3A2021-04-19', 'refresh_url': '?since_id=1386884651793338369&q=%23bitcoin%20OR%20%23BTC%20since%3A2021-04-11%20until%3A2021-04-19&lang=en&result_type=recent&include_entities=1', 'count': 100, 'since_id': 0, 'since_id_str': '0'}}\n"
     ]
    },
    {
     "name": "stderr",
     "output_type": "stream",
     "text": [
      "\r",
      " 44%|████▍     | 197/450 [01:17<01:45,  2.40it/s]"
     ]
    },
    {
     "name": "stdout",
     "output_type": "stream",
     "text": [
      "{'statuses': [], 'search_metadata': {'completed_in': 0.009, 'max_id': 1386884708399677442, 'max_id_str': '1386884708399677442', 'query': '%23bitcoin+OR+%23BTC+since%3A2021-04-11+until%3A2021-04-19', 'refresh_url': '?since_id=1386884708399677442&q=%23bitcoin%20OR%20%23BTC%20since%3A2021-04-11%20until%3A2021-04-19&lang=en&result_type=recent&include_entities=1', 'count': 100, 'since_id': 0, 'since_id_str': '0'}}\n"
     ]
    },
    {
     "name": "stderr",
     "output_type": "stream",
     "text": [
      "\r",
      " 44%|████▍     | 198/450 [01:17<01:44,  2.41it/s]"
     ]
    },
    {
     "name": "stdout",
     "output_type": "stream",
     "text": [
      "{'statuses': [], 'search_metadata': {'completed_in': 0.006, 'max_id': 1386884708399677442, 'max_id_str': '1386884708399677442', 'query': '%23bitcoin+OR+%23BTC+since%3A2021-04-11+until%3A2021-04-19', 'refresh_url': '?since_id=1386884708399677442&q=%23bitcoin%20OR%20%23BTC%20since%3A2021-04-11%20until%3A2021-04-19&lang=en&result_type=recent&include_entities=1', 'count': 100, 'since_id': 0, 'since_id_str': '0'}}\n"
     ]
    },
    {
     "name": "stderr",
     "output_type": "stream",
     "text": [
      "\r",
      " 44%|████▍     | 199/450 [01:18<01:44,  2.40it/s]"
     ]
    },
    {
     "name": "stdout",
     "output_type": "stream",
     "text": [
      "{'statuses': [], 'search_metadata': {'completed_in': 0.006, 'max_id': 1386884708399677442, 'max_id_str': '1386884708399677442', 'query': '%23bitcoin+OR+%23BTC+since%3A2021-04-11+until%3A2021-04-19', 'refresh_url': '?since_id=1386884708399677442&q=%23bitcoin%20OR%20%23BTC%20since%3A2021-04-11%20until%3A2021-04-19&lang=en&result_type=recent&include_entities=1', 'count': 100, 'since_id': 0, 'since_id_str': '0'}}\n"
     ]
    },
    {
     "name": "stderr",
     "output_type": "stream",
     "text": [
      "\r",
      " 44%|████▍     | 200/450 [01:18<01:43,  2.41it/s]"
     ]
    },
    {
     "name": "stdout",
     "output_type": "stream",
     "text": [
      "{'statuses': [], 'search_metadata': {'completed_in': 0.005, 'max_id': 1386884708399677442, 'max_id_str': '1386884708399677442', 'query': '%23bitcoin+OR+%23BTC+since%3A2021-04-11+until%3A2021-04-19', 'refresh_url': '?since_id=1386884708399677442&q=%23bitcoin%20OR%20%23BTC%20since%3A2021-04-11%20until%3A2021-04-19&lang=en&result_type=recent&include_entities=1', 'count': 100, 'since_id': 0, 'since_id_str': '0'}}\n"
     ]
    },
    {
     "name": "stderr",
     "output_type": "stream",
     "text": [
      "\r",
      " 45%|████▍     | 201/450 [01:19<01:43,  2.41it/s]"
     ]
    },
    {
     "name": "stdout",
     "output_type": "stream",
     "text": [
      "{'statuses': [], 'search_metadata': {'completed_in': 0.006, 'max_id': 1386884708399677442, 'max_id_str': '1386884708399677442', 'query': '%23bitcoin+OR+%23BTC+since%3A2021-04-11+until%3A2021-04-19', 'refresh_url': '?since_id=1386884708399677442&q=%23bitcoin%20OR%20%23BTC%20since%3A2021-04-11%20until%3A2021-04-19&lang=en&result_type=recent&include_entities=1', 'count': 100, 'since_id': 0, 'since_id_str': '0'}}\n"
     ]
    },
    {
     "name": "stderr",
     "output_type": "stream",
     "text": [
      "\r",
      " 45%|████▍     | 202/450 [01:19<01:43,  2.40it/s]"
     ]
    },
    {
     "name": "stdout",
     "output_type": "stream",
     "text": [
      "{'statuses': [], 'search_metadata': {'completed_in': 0.007, 'max_id': 1386884708399677442, 'max_id_str': '1386884708399677442', 'query': '%23bitcoin+OR+%23BTC+since%3A2021-04-11+until%3A2021-04-19', 'refresh_url': '?since_id=1386884708399677442&q=%23bitcoin%20OR%20%23BTC%20since%3A2021-04-11%20until%3A2021-04-19&lang=en&result_type=recent&include_entities=1', 'count': 100, 'since_id': 0, 'since_id_str': '0'}}\n"
     ]
    },
    {
     "name": "stderr",
     "output_type": "stream",
     "text": [
      "\r",
      " 45%|████▌     | 203/450 [01:19<01:42,  2.41it/s]"
     ]
    },
    {
     "name": "stdout",
     "output_type": "stream",
     "text": [
      "{'statuses': [], 'search_metadata': {'completed_in': 0.005, 'max_id': 1386884708399677442, 'max_id_str': '1386884708399677442', 'query': '%23bitcoin+OR+%23BTC+since%3A2021-04-11+until%3A2021-04-19', 'refresh_url': '?since_id=1386884708399677442&q=%23bitcoin%20OR%20%23BTC%20since%3A2021-04-11%20until%3A2021-04-19&lang=en&result_type=recent&include_entities=1', 'count': 100, 'since_id': 0, 'since_id_str': '0'}}\n"
     ]
    },
    {
     "name": "stderr",
     "output_type": "stream",
     "text": [
      "\r",
      " 45%|████▌     | 204/450 [01:20<01:41,  2.42it/s]"
     ]
    },
    {
     "name": "stdout",
     "output_type": "stream",
     "text": [
      "{'statuses': [], 'search_metadata': {'completed_in': 0.005, 'max_id': 1386884708399677442, 'max_id_str': '1386884708399677442', 'query': '%23bitcoin+OR+%23BTC+since%3A2021-04-11+until%3A2021-04-19', 'refresh_url': '?since_id=1386884708399677442&q=%23bitcoin%20OR%20%23BTC%20since%3A2021-04-11%20until%3A2021-04-19&lang=en&result_type=recent&include_entities=1', 'count': 100, 'since_id': 0, 'since_id_str': '0'}}\n"
     ]
    },
    {
     "name": "stderr",
     "output_type": "stream",
     "text": [
      "\r",
      " 46%|████▌     | 205/450 [01:20<01:41,  2.42it/s]"
     ]
    },
    {
     "name": "stdout",
     "output_type": "stream",
     "text": [
      "{'statuses': [], 'search_metadata': {'completed_in': 0.006, 'max_id': 1386884708399677442, 'max_id_str': '1386884708399677442', 'query': '%23bitcoin+OR+%23BTC+since%3A2021-04-11+until%3A2021-04-19', 'refresh_url': '?since_id=1386884708399677442&q=%23bitcoin%20OR%20%23BTC%20since%3A2021-04-11%20until%3A2021-04-19&lang=en&result_type=recent&include_entities=1', 'count': 100, 'since_id': 0, 'since_id_str': '0'}}\n"
     ]
    },
    {
     "name": "stderr",
     "output_type": "stream",
     "text": [
      "\r",
      " 46%|████▌     | 206/450 [01:21<01:40,  2.43it/s]"
     ]
    },
    {
     "name": "stdout",
     "output_type": "stream",
     "text": [
      "{'statuses': [], 'search_metadata': {'completed_in': 0.006, 'max_id': 1386884708399677442, 'max_id_str': '1386884708399677442', 'query': '%23bitcoin+OR+%23BTC+since%3A2021-04-11+until%3A2021-04-19', 'refresh_url': '?since_id=1386884708399677442&q=%23bitcoin%20OR%20%23BTC%20since%3A2021-04-11%20until%3A2021-04-19&lang=en&result_type=recent&include_entities=1', 'count': 100, 'since_id': 0, 'since_id_str': '0'}}\n"
     ]
    },
    {
     "name": "stderr",
     "output_type": "stream",
     "text": [
      "\r",
      " 46%|████▌     | 207/450 [01:21<01:40,  2.42it/s]"
     ]
    },
    {
     "name": "stdout",
     "output_type": "stream",
     "text": [
      "{'statuses': [], 'search_metadata': {'completed_in': 0.007, 'max_id': 1386884708399677442, 'max_id_str': '1386884708399677442', 'query': '%23bitcoin+OR+%23BTC+since%3A2021-04-11+until%3A2021-04-19', 'refresh_url': '?since_id=1386884708399677442&q=%23bitcoin%20OR%20%23BTC%20since%3A2021-04-11%20until%3A2021-04-19&lang=en&result_type=recent&include_entities=1', 'count': 100, 'since_id': 0, 'since_id_str': '0'}}\n"
     ]
    },
    {
     "name": "stderr",
     "output_type": "stream",
     "text": [
      "\r",
      " 46%|████▌     | 208/450 [01:22<01:40,  2.41it/s]"
     ]
    },
    {
     "name": "stdout",
     "output_type": "stream",
     "text": [
      "{'statuses': [], 'search_metadata': {'completed_in': 0.007, 'max_id': 1386884708399677442, 'max_id_str': '1386884708399677442', 'query': '%23bitcoin+OR+%23BTC+since%3A2021-04-11+until%3A2021-04-19', 'refresh_url': '?since_id=1386884708399677442&q=%23bitcoin%20OR%20%23BTC%20since%3A2021-04-11%20until%3A2021-04-19&lang=en&result_type=recent&include_entities=1', 'count': 100, 'since_id': 0, 'since_id_str': '0'}}\n"
     ]
    },
    {
     "name": "stderr",
     "output_type": "stream",
     "text": [
      "\r",
      " 46%|████▋     | 209/450 [01:22<01:39,  2.41it/s]"
     ]
    },
    {
     "name": "stdout",
     "output_type": "stream",
     "text": [
      "{'statuses': [], 'search_metadata': {'completed_in': 0.006, 'max_id': 1386884708399677442, 'max_id_str': '1386884708399677442', 'query': '%23bitcoin+OR+%23BTC+since%3A2021-04-11+until%3A2021-04-19', 'refresh_url': '?since_id=1386884708399677442&q=%23bitcoin%20OR%20%23BTC%20since%3A2021-04-11%20until%3A2021-04-19&lang=en&result_type=recent&include_entities=1', 'count': 100, 'since_id': 0, 'since_id_str': '0'}}\n"
     ]
    },
    {
     "name": "stderr",
     "output_type": "stream",
     "text": [
      "\r",
      " 47%|████▋     | 210/450 [01:22<01:39,  2.41it/s]"
     ]
    },
    {
     "name": "stdout",
     "output_type": "stream",
     "text": [
      "{'statuses': [], 'search_metadata': {'completed_in': 0.005, 'max_id': 1386884708399677442, 'max_id_str': '1386884708399677442', 'query': '%23bitcoin+OR+%23BTC+since%3A2021-04-11+until%3A2021-04-19', 'refresh_url': '?since_id=1386884708399677442&q=%23bitcoin%20OR%20%23BTC%20since%3A2021-04-11%20until%3A2021-04-19&lang=en&result_type=recent&include_entities=1', 'count': 100, 'since_id': 0, 'since_id_str': '0'}}\n"
     ]
    },
    {
     "name": "stderr",
     "output_type": "stream",
     "text": [
      "\r",
      " 47%|████▋     | 211/450 [01:23<01:39,  2.41it/s]"
     ]
    },
    {
     "name": "stdout",
     "output_type": "stream",
     "text": [
      "{'statuses': [], 'search_metadata': {'completed_in': 0.006, 'max_id': 1386884708399677442, 'max_id_str': '1386884708399677442', 'query': '%23bitcoin+OR+%23BTC+since%3A2021-04-11+until%3A2021-04-19', 'refresh_url': '?since_id=1386884708399677442&q=%23bitcoin%20OR%20%23BTC%20since%3A2021-04-11%20until%3A2021-04-19&lang=en&result_type=recent&include_entities=1', 'count': 100, 'since_id': 0, 'since_id_str': '0'}}\n"
     ]
    },
    {
     "name": "stderr",
     "output_type": "stream",
     "text": [
      "\r",
      " 47%|████▋     | 212/450 [01:23<01:39,  2.39it/s]"
     ]
    },
    {
     "name": "stdout",
     "output_type": "stream",
     "text": [
      "{'statuses': [], 'search_metadata': {'completed_in': 0.005, 'max_id': 1386884708399677442, 'max_id_str': '1386884708399677442', 'query': '%23bitcoin+OR+%23BTC+since%3A2021-04-11+until%3A2021-04-19', 'refresh_url': '?since_id=1386884708399677442&q=%23bitcoin%20OR%20%23BTC%20since%3A2021-04-11%20until%3A2021-04-19&lang=en&result_type=recent&include_entities=1', 'count': 100, 'since_id': 0, 'since_id_str': '0'}}\n"
     ]
    },
    {
     "name": "stderr",
     "output_type": "stream",
     "text": [
      "\r",
      " 47%|████▋     | 213/450 [01:24<01:39,  2.39it/s]"
     ]
    },
    {
     "name": "stdout",
     "output_type": "stream",
     "text": [
      "{'statuses': [], 'search_metadata': {'completed_in': 0.006, 'max_id': 1386884708399677442, 'max_id_str': '1386884708399677442', 'query': '%23bitcoin+OR+%23BTC+since%3A2021-04-11+until%3A2021-04-19', 'refresh_url': '?since_id=1386884708399677442&q=%23bitcoin%20OR%20%23BTC%20since%3A2021-04-11%20until%3A2021-04-19&lang=en&result_type=recent&include_entities=1', 'count': 100, 'since_id': 0, 'since_id_str': '0'}}\n"
     ]
    },
    {
     "name": "stderr",
     "output_type": "stream",
     "text": [
      "\r",
      " 48%|████▊     | 214/450 [01:24<01:38,  2.39it/s]"
     ]
    },
    {
     "name": "stdout",
     "output_type": "stream",
     "text": [
      "{'statuses': [], 'search_metadata': {'completed_in': 0.006, 'max_id': 1386884708399677442, 'max_id_str': '1386884708399677442', 'query': '%23bitcoin+OR+%23BTC+since%3A2021-04-11+until%3A2021-04-19', 'refresh_url': '?since_id=1386884708399677442&q=%23bitcoin%20OR%20%23BTC%20since%3A2021-04-11%20until%3A2021-04-19&lang=en&result_type=recent&include_entities=1', 'count': 100, 'since_id': 0, 'since_id_str': '0'}}\n"
     ]
    },
    {
     "name": "stderr",
     "output_type": "stream",
     "text": [
      "\r",
      " 48%|████▊     | 215/450 [01:24<01:38,  2.38it/s]"
     ]
    },
    {
     "name": "stdout",
     "output_type": "stream",
     "text": [
      "{'statuses': [], 'search_metadata': {'completed_in': 0.006, 'max_id': 1386884708399677442, 'max_id_str': '1386884708399677442', 'query': '%23bitcoin+OR+%23BTC+since%3A2021-04-11+until%3A2021-04-19', 'refresh_url': '?since_id=1386884708399677442&q=%23bitcoin%20OR%20%23BTC%20since%3A2021-04-11%20until%3A2021-04-19&lang=en&result_type=recent&include_entities=1', 'count': 100, 'since_id': 0, 'since_id_str': '0'}}\n"
     ]
    },
    {
     "name": "stderr",
     "output_type": "stream",
     "text": [
      "\r",
      " 48%|████▊     | 216/450 [01:25<01:39,  2.36it/s]"
     ]
    },
    {
     "name": "stdout",
     "output_type": "stream",
     "text": [
      "{'statuses': [], 'search_metadata': {'completed_in': 0.007, 'max_id': 1386884708399677442, 'max_id_str': '1386884708399677442', 'query': '%23bitcoin+OR+%23BTC+since%3A2021-04-11+until%3A2021-04-19', 'refresh_url': '?since_id=1386884708399677442&q=%23bitcoin%20OR%20%23BTC%20since%3A2021-04-11%20until%3A2021-04-19&lang=en&result_type=recent&include_entities=1', 'count': 100, 'since_id': 0, 'since_id_str': '0'}}\n"
     ]
    },
    {
     "name": "stderr",
     "output_type": "stream",
     "text": [
      "\r",
      " 48%|████▊     | 217/450 [01:25<01:37,  2.38it/s]"
     ]
    },
    {
     "name": "stdout",
     "output_type": "stream",
     "text": [
      "{'statuses': [], 'search_metadata': {'completed_in': 0.005, 'max_id': 1386884708399677442, 'max_id_str': '1386884708399677442', 'query': '%23bitcoin+OR+%23BTC+since%3A2021-04-11+until%3A2021-04-19', 'refresh_url': '?since_id=1386884708399677442&q=%23bitcoin%20OR%20%23BTC%20since%3A2021-04-11%20until%3A2021-04-19&lang=en&result_type=recent&include_entities=1', 'count': 100, 'since_id': 0, 'since_id_str': '0'}}\n"
     ]
    },
    {
     "name": "stderr",
     "output_type": "stream",
     "text": [
      "\r",
      " 48%|████▊     | 218/450 [01:26<01:36,  2.40it/s]"
     ]
    },
    {
     "name": "stdout",
     "output_type": "stream",
     "text": [
      "{'statuses': [], 'search_metadata': {'completed_in': 0.006, 'max_id': 1386884708399677442, 'max_id_str': '1386884708399677442', 'query': '%23bitcoin+OR+%23BTC+since%3A2021-04-11+until%3A2021-04-19', 'refresh_url': '?since_id=1386884708399677442&q=%23bitcoin%20OR%20%23BTC%20since%3A2021-04-11%20until%3A2021-04-19&lang=en&result_type=recent&include_entities=1', 'count': 100, 'since_id': 0, 'since_id_str': '0'}}\n"
     ]
    },
    {
     "name": "stderr",
     "output_type": "stream",
     "text": [
      "\r",
      " 49%|████▊     | 219/450 [01:26<01:36,  2.40it/s]"
     ]
    },
    {
     "name": "stdout",
     "output_type": "stream",
     "text": [
      "{'statuses': [], 'search_metadata': {'completed_in': 0.007, 'max_id': 1386884708399677442, 'max_id_str': '1386884708399677442', 'query': '%23bitcoin+OR+%23BTC+since%3A2021-04-11+until%3A2021-04-19', 'refresh_url': '?since_id=1386884708399677442&q=%23bitcoin%20OR%20%23BTC%20since%3A2021-04-11%20until%3A2021-04-19&lang=en&result_type=recent&include_entities=1', 'count': 100, 'since_id': 0, 'since_id_str': '0'}}\n"
     ]
    },
    {
     "name": "stderr",
     "output_type": "stream",
     "text": [
      "\r",
      " 49%|████▉     | 220/450 [01:27<01:35,  2.41it/s]"
     ]
    },
    {
     "name": "stdout",
     "output_type": "stream",
     "text": [
      "{'statuses': [], 'search_metadata': {'completed_in': 0.005, 'max_id': 1386884708399677442, 'max_id_str': '1386884708399677442', 'query': '%23bitcoin+OR+%23BTC+since%3A2021-04-11+until%3A2021-04-19', 'refresh_url': '?since_id=1386884708399677442&q=%23bitcoin%20OR%20%23BTC%20since%3A2021-04-11%20until%3A2021-04-19&lang=en&result_type=recent&include_entities=1', 'count': 100, 'since_id': 0, 'since_id_str': '0'}}\n"
     ]
    },
    {
     "name": "stderr",
     "output_type": "stream",
     "text": [
      "\r",
      " 49%|████▉     | 221/450 [01:27<01:35,  2.41it/s]"
     ]
    },
    {
     "name": "stdout",
     "output_type": "stream",
     "text": [
      "{'statuses': [], 'search_metadata': {'completed_in': 0.006, 'max_id': 1386884708399677442, 'max_id_str': '1386884708399677442', 'query': '%23bitcoin+OR+%23BTC+since%3A2021-04-11+until%3A2021-04-19', 'refresh_url': '?since_id=1386884708399677442&q=%23bitcoin%20OR%20%23BTC%20since%3A2021-04-11%20until%3A2021-04-19&lang=en&result_type=recent&include_entities=1', 'count': 100, 'since_id': 0, 'since_id_str': '0'}}\n"
     ]
    },
    {
     "name": "stderr",
     "output_type": "stream",
     "text": [
      "\r",
      " 49%|████▉     | 222/450 [01:27<01:34,  2.42it/s]"
     ]
    },
    {
     "name": "stdout",
     "output_type": "stream",
     "text": [
      "{'statuses': [], 'search_metadata': {'completed_in': 0.006, 'max_id': 1386884708399677442, 'max_id_str': '1386884708399677442', 'query': '%23bitcoin+OR+%23BTC+since%3A2021-04-11+until%3A2021-04-19', 'refresh_url': '?since_id=1386884708399677442&q=%23bitcoin%20OR%20%23BTC%20since%3A2021-04-11%20until%3A2021-04-19&lang=en&result_type=recent&include_entities=1', 'count': 100, 'since_id': 0, 'since_id_str': '0'}}\n"
     ]
    },
    {
     "name": "stderr",
     "output_type": "stream",
     "text": [
      "\r",
      " 50%|████▉     | 223/450 [01:28<01:33,  2.42it/s]"
     ]
    },
    {
     "name": "stdout",
     "output_type": "stream",
     "text": [
      "{'statuses': [], 'search_metadata': {'completed_in': 0.006, 'max_id': 1386884708399677442, 'max_id_str': '1386884708399677442', 'query': '%23bitcoin+OR+%23BTC+since%3A2021-04-11+until%3A2021-04-19', 'refresh_url': '?since_id=1386884708399677442&q=%23bitcoin%20OR%20%23BTC%20since%3A2021-04-11%20until%3A2021-04-19&lang=en&result_type=recent&include_entities=1', 'count': 100, 'since_id': 0, 'since_id_str': '0'}}\n"
     ]
    },
    {
     "name": "stderr",
     "output_type": "stream",
     "text": [
      "\r",
      " 50%|████▉     | 224/450 [01:28<01:32,  2.43it/s]"
     ]
    },
    {
     "name": "stdout",
     "output_type": "stream",
     "text": [
      "{'statuses': [], 'search_metadata': {'completed_in': 0.006, 'max_id': 1386884708399677442, 'max_id_str': '1386884708399677442', 'query': '%23bitcoin+OR+%23BTC+since%3A2021-04-11+until%3A2021-04-19', 'refresh_url': '?since_id=1386884708399677442&q=%23bitcoin%20OR%20%23BTC%20since%3A2021-04-11%20until%3A2021-04-19&lang=en&result_type=recent&include_entities=1', 'count': 100, 'since_id': 0, 'since_id_str': '0'}}\n"
     ]
    },
    {
     "name": "stderr",
     "output_type": "stream",
     "text": [
      "\r",
      " 50%|█████     | 225/450 [01:29<01:32,  2.43it/s]"
     ]
    },
    {
     "name": "stdout",
     "output_type": "stream",
     "text": [
      "{'statuses': [], 'search_metadata': {'completed_in': 0.006, 'max_id': 1386884708399677442, 'max_id_str': '1386884708399677442', 'query': '%23bitcoin+OR+%23BTC+since%3A2021-04-11+until%3A2021-04-19', 'refresh_url': '?since_id=1386884708399677442&q=%23bitcoin%20OR%20%23BTC%20since%3A2021-04-11%20until%3A2021-04-19&lang=en&result_type=recent&include_entities=1', 'count': 100, 'since_id': 0, 'since_id_str': '0'}}\n"
     ]
    },
    {
     "name": "stderr",
     "output_type": "stream",
     "text": [
      "\r",
      " 50%|█████     | 226/450 [01:29<01:32,  2.42it/s]"
     ]
    },
    {
     "name": "stdout",
     "output_type": "stream",
     "text": [
      "{'statuses': [], 'search_metadata': {'completed_in': 0.006, 'max_id': 1386884708399677442, 'max_id_str': '1386884708399677442', 'query': '%23bitcoin+OR+%23BTC+since%3A2021-04-11+until%3A2021-04-19', 'refresh_url': '?since_id=1386884708399677442&q=%23bitcoin%20OR%20%23BTC%20since%3A2021-04-11%20until%3A2021-04-19&lang=en&result_type=recent&include_entities=1', 'count': 100, 'since_id': 0, 'since_id_str': '0'}}\n"
     ]
    },
    {
     "name": "stderr",
     "output_type": "stream",
     "text": [
      "\r",
      " 50%|█████     | 227/450 [01:29<01:32,  2.42it/s]"
     ]
    },
    {
     "name": "stdout",
     "output_type": "stream",
     "text": [
      "{'statuses': [], 'search_metadata': {'completed_in': 0.005, 'max_id': 1386884708399677442, 'max_id_str': '1386884708399677442', 'query': '%23bitcoin+OR+%23BTC+since%3A2021-04-11+until%3A2021-04-19', 'refresh_url': '?since_id=1386884708399677442&q=%23bitcoin%20OR%20%23BTC%20since%3A2021-04-11%20until%3A2021-04-19&lang=en&result_type=recent&include_entities=1', 'count': 100, 'since_id': 0, 'since_id_str': '0'}}\n"
     ]
    },
    {
     "name": "stderr",
     "output_type": "stream",
     "text": [
      "\r",
      " 51%|█████     | 228/450 [01:30<01:32,  2.41it/s]"
     ]
    },
    {
     "name": "stdout",
     "output_type": "stream",
     "text": [
      "{'statuses': [], 'search_metadata': {'completed_in': 0.006, 'max_id': 1386884708399677442, 'max_id_str': '1386884708399677442', 'query': '%23bitcoin+OR+%23BTC+since%3A2021-04-11+until%3A2021-04-19', 'refresh_url': '?since_id=1386884708399677442&q=%23bitcoin%20OR%20%23BTC%20since%3A2021-04-11%20until%3A2021-04-19&lang=en&result_type=recent&include_entities=1', 'count': 100, 'since_id': 0, 'since_id_str': '0'}}\n"
     ]
    },
    {
     "name": "stderr",
     "output_type": "stream",
     "text": [
      "\r",
      " 51%|█████     | 229/450 [01:30<01:31,  2.42it/s]"
     ]
    },
    {
     "name": "stdout",
     "output_type": "stream",
     "text": [
      "{'statuses': [], 'search_metadata': {'completed_in': 0.005, 'max_id': 1386884708399677442, 'max_id_str': '1386884708399677442', 'query': '%23bitcoin+OR+%23BTC+since%3A2021-04-11+until%3A2021-04-19', 'refresh_url': '?since_id=1386884708399677442&q=%23bitcoin%20OR%20%23BTC%20since%3A2021-04-11%20until%3A2021-04-19&lang=en&result_type=recent&include_entities=1', 'count': 100, 'since_id': 0, 'since_id_str': '0'}}\n"
     ]
    },
    {
     "name": "stderr",
     "output_type": "stream",
     "text": [
      "\r",
      " 51%|█████     | 230/450 [01:31<01:30,  2.42it/s]"
     ]
    },
    {
     "name": "stdout",
     "output_type": "stream",
     "text": [
      "{'statuses': [], 'search_metadata': {'completed_in': 0.006, 'max_id': 1386884708399677442, 'max_id_str': '1386884708399677442', 'query': '%23bitcoin+OR+%23BTC+since%3A2021-04-11+until%3A2021-04-19', 'refresh_url': '?since_id=1386884708399677442&q=%23bitcoin%20OR%20%23BTC%20since%3A2021-04-11%20until%3A2021-04-19&lang=en&result_type=recent&include_entities=1', 'count': 100, 'since_id': 0, 'since_id_str': '0'}}\n"
     ]
    },
    {
     "name": "stderr",
     "output_type": "stream",
     "text": [
      "\r",
      " 51%|█████▏    | 231/450 [01:31<01:30,  2.42it/s]"
     ]
    },
    {
     "name": "stdout",
     "output_type": "stream",
     "text": [
      "{'statuses': [], 'search_metadata': {'completed_in': 0.006, 'max_id': 1386884708399677442, 'max_id_str': '1386884708399677442', 'query': '%23bitcoin+OR+%23BTC+since%3A2021-04-11+until%3A2021-04-19', 'refresh_url': '?since_id=1386884708399677442&q=%23bitcoin%20OR%20%23BTC%20since%3A2021-04-11%20until%3A2021-04-19&lang=en&result_type=recent&include_entities=1', 'count': 100, 'since_id': 0, 'since_id_str': '0'}}\n"
     ]
    },
    {
     "name": "stderr",
     "output_type": "stream",
     "text": [
      "\r",
      " 52%|█████▏    | 232/450 [01:32<01:30,  2.41it/s]"
     ]
    },
    {
     "name": "stdout",
     "output_type": "stream",
     "text": [
      "{'statuses': [], 'search_metadata': {'completed_in': 0.006, 'max_id': 1386884708399677442, 'max_id_str': '1386884708399677442', 'query': '%23bitcoin+OR+%23BTC+since%3A2021-04-11+until%3A2021-04-19', 'refresh_url': '?since_id=1386884708399677442&q=%23bitcoin%20OR%20%23BTC%20since%3A2021-04-11%20until%3A2021-04-19&lang=en&result_type=recent&include_entities=1', 'count': 100, 'since_id': 0, 'since_id_str': '0'}}\n"
     ]
    },
    {
     "name": "stderr",
     "output_type": "stream",
     "text": [
      "\r",
      " 52%|█████▏    | 233/450 [01:32<01:29,  2.42it/s]"
     ]
    },
    {
     "name": "stdout",
     "output_type": "stream",
     "text": [
      "{'statuses': [], 'search_metadata': {'completed_in': 0.005, 'max_id': 1386884708399677442, 'max_id_str': '1386884708399677442', 'query': '%23bitcoin+OR+%23BTC+since%3A2021-04-11+until%3A2021-04-19', 'refresh_url': '?since_id=1386884708399677442&q=%23bitcoin%20OR%20%23BTC%20since%3A2021-04-11%20until%3A2021-04-19&lang=en&result_type=recent&include_entities=1', 'count': 100, 'since_id': 0, 'since_id_str': '0'}}\n"
     ]
    },
    {
     "name": "stderr",
     "output_type": "stream",
     "text": [
      "\r",
      " 52%|█████▏    | 234/450 [01:32<01:29,  2.41it/s]"
     ]
    },
    {
     "name": "stdout",
     "output_type": "stream",
     "text": [
      "{'statuses': [], 'search_metadata': {'completed_in': 0.007, 'max_id': 1386884708399677442, 'max_id_str': '1386884708399677442', 'query': '%23bitcoin+OR+%23BTC+since%3A2021-04-11+until%3A2021-04-19', 'refresh_url': '?since_id=1386884708399677442&q=%23bitcoin%20OR%20%23BTC%20since%3A2021-04-11%20until%3A2021-04-19&lang=en&result_type=recent&include_entities=1', 'count': 100, 'since_id': 0, 'since_id_str': '0'}}\n"
     ]
    },
    {
     "name": "stderr",
     "output_type": "stream",
     "text": [
      "\r",
      " 52%|█████▏    | 235/450 [01:33<01:29,  2.41it/s]"
     ]
    },
    {
     "name": "stdout",
     "output_type": "stream",
     "text": [
      "{'statuses': [], 'search_metadata': {'completed_in': 0.005, 'max_id': 1386884708399677442, 'max_id_str': '1386884708399677442', 'query': '%23bitcoin+OR+%23BTC+since%3A2021-04-11+until%3A2021-04-19', 'refresh_url': '?since_id=1386884708399677442&q=%23bitcoin%20OR%20%23BTC%20since%3A2021-04-11%20until%3A2021-04-19&lang=en&result_type=recent&include_entities=1', 'count': 100, 'since_id': 0, 'since_id_str': '0'}}\n"
     ]
    },
    {
     "name": "stderr",
     "output_type": "stream",
     "text": [
      "\r",
      " 52%|█████▏    | 236/450 [01:33<01:31,  2.33it/s]"
     ]
    },
    {
     "name": "stdout",
     "output_type": "stream",
     "text": [
      "{'statuses': [], 'search_metadata': {'completed_in': 0.007, 'max_id': 1386884708399677442, 'max_id_str': '1386884708399677442', 'query': '%23bitcoin+OR+%23BTC+since%3A2021-04-11+until%3A2021-04-19', 'refresh_url': '?since_id=1386884708399677442&q=%23bitcoin%20OR%20%23BTC%20since%3A2021-04-11%20until%3A2021-04-19&lang=en&result_type=recent&include_entities=1', 'count': 100, 'since_id': 0, 'since_id_str': '0'}}\n"
     ]
    },
    {
     "name": "stderr",
     "output_type": "stream",
     "text": [
      "\r",
      " 53%|█████▎    | 237/450 [01:34<01:30,  2.35it/s]"
     ]
    },
    {
     "name": "stdout",
     "output_type": "stream",
     "text": [
      "{'statuses': [], 'search_metadata': {'completed_in': 0.006, 'max_id': 1386884708399677442, 'max_id_str': '1386884708399677442', 'query': '%23bitcoin+OR+%23BTC+since%3A2021-04-11+until%3A2021-04-19', 'refresh_url': '?since_id=1386884708399677442&q=%23bitcoin%20OR%20%23BTC%20since%3A2021-04-11%20until%3A2021-04-19&lang=en&result_type=recent&include_entities=1', 'count': 100, 'since_id': 0, 'since_id_str': '0'}}\n"
     ]
    },
    {
     "name": "stderr",
     "output_type": "stream",
     "text": [
      "\r",
      " 53%|█████▎    | 238/450 [01:34<01:29,  2.37it/s]"
     ]
    },
    {
     "name": "stdout",
     "output_type": "stream",
     "text": [
      "{'statuses': [], 'search_metadata': {'completed_in': 0.006, 'max_id': 1386884708399677442, 'max_id_str': '1386884708399677442', 'query': '%23bitcoin+OR+%23BTC+since%3A2021-04-11+until%3A2021-04-19', 'refresh_url': '?since_id=1386884708399677442&q=%23bitcoin%20OR%20%23BTC%20since%3A2021-04-11%20until%3A2021-04-19&lang=en&result_type=recent&include_entities=1', 'count': 100, 'since_id': 0, 'since_id_str': '0'}}\n"
     ]
    },
    {
     "name": "stderr",
     "output_type": "stream",
     "text": [
      "\r",
      " 53%|█████▎    | 239/450 [01:34<01:29,  2.37it/s]"
     ]
    },
    {
     "name": "stdout",
     "output_type": "stream",
     "text": [
      "{'statuses': [], 'search_metadata': {'completed_in': 0.007, 'max_id': 1386884708399677442, 'max_id_str': '1386884708399677442', 'query': '%23bitcoin+OR+%23BTC+since%3A2021-04-11+until%3A2021-04-19', 'refresh_url': '?since_id=1386884708399677442&q=%23bitcoin%20OR%20%23BTC%20since%3A2021-04-11%20until%3A2021-04-19&lang=en&result_type=recent&include_entities=1', 'count': 100, 'since_id': 0, 'since_id_str': '0'}}\n"
     ]
    },
    {
     "name": "stderr",
     "output_type": "stream",
     "text": [
      "\r",
      " 53%|█████▎    | 240/450 [01:35<01:28,  2.38it/s]"
     ]
    },
    {
     "name": "stdout",
     "output_type": "stream",
     "text": [
      "{'statuses': [], 'search_metadata': {'completed_in': 0.005, 'max_id': 1386884708399677442, 'max_id_str': '1386884708399677442', 'query': '%23bitcoin+OR+%23BTC+since%3A2021-04-11+until%3A2021-04-19', 'refresh_url': '?since_id=1386884708399677442&q=%23bitcoin%20OR%20%23BTC%20since%3A2021-04-11%20until%3A2021-04-19&lang=en&result_type=recent&include_entities=1', 'count': 100, 'since_id': 0, 'since_id_str': '0'}}\n"
     ]
    },
    {
     "name": "stderr",
     "output_type": "stream",
     "text": [
      "\r",
      " 54%|█████▎    | 241/450 [01:35<01:27,  2.40it/s]"
     ]
    },
    {
     "name": "stdout",
     "output_type": "stream",
     "text": [
      "{'statuses': [], 'search_metadata': {'completed_in': 0.006, 'max_id': 1386884708399677442, 'max_id_str': '1386884708399677442', 'query': '%23bitcoin+OR+%23BTC+since%3A2021-04-11+until%3A2021-04-19', 'refresh_url': '?since_id=1386884708399677442&q=%23bitcoin%20OR%20%23BTC%20since%3A2021-04-11%20until%3A2021-04-19&lang=en&result_type=recent&include_entities=1', 'count': 100, 'since_id': 0, 'since_id_str': '0'}}\n"
     ]
    },
    {
     "name": "stderr",
     "output_type": "stream",
     "text": [
      "\r",
      " 54%|█████▍    | 242/450 [01:36<01:28,  2.34it/s]"
     ]
    },
    {
     "name": "stdout",
     "output_type": "stream",
     "text": [
      "{'statuses': [], 'search_metadata': {'completed_in': 0.005, 'max_id': 1386884708399677442, 'max_id_str': '1386884708399677442', 'query': '%23bitcoin+OR+%23BTC+since%3A2021-04-11+until%3A2021-04-19', 'refresh_url': '?since_id=1386884708399677442&q=%23bitcoin%20OR%20%23BTC%20since%3A2021-04-11%20until%3A2021-04-19&lang=en&result_type=recent&include_entities=1', 'count': 100, 'since_id': 0, 'since_id_str': '0'}}\n"
     ]
    },
    {
     "name": "stderr",
     "output_type": "stream",
     "text": [
      "\r",
      " 54%|█████▍    | 243/450 [01:36<01:27,  2.36it/s]"
     ]
    },
    {
     "name": "stdout",
     "output_type": "stream",
     "text": [
      "{'statuses': [], 'search_metadata': {'completed_in': 0.007, 'max_id': 1386884708399677442, 'max_id_str': '1386884708399677442', 'query': '%23bitcoin+OR+%23BTC+since%3A2021-04-11+until%3A2021-04-19', 'refresh_url': '?since_id=1386884708399677442&q=%23bitcoin%20OR%20%23BTC%20since%3A2021-04-11%20until%3A2021-04-19&lang=en&result_type=recent&include_entities=1', 'count': 100, 'since_id': 0, 'since_id_str': '0'}}\n"
     ]
    },
    {
     "name": "stderr",
     "output_type": "stream",
     "text": [
      "\r",
      " 54%|█████▍    | 244/450 [01:37<01:27,  2.36it/s]"
     ]
    },
    {
     "name": "stdout",
     "output_type": "stream",
     "text": [
      "{'statuses': [], 'search_metadata': {'completed_in': 0.01, 'max_id': 1386884790368960515, 'max_id_str': '1386884790368960515', 'query': '%23bitcoin+OR+%23BTC+since%3A2021-04-11+until%3A2021-04-19', 'refresh_url': '?since_id=1386884790368960515&q=%23bitcoin%20OR%20%23BTC%20since%3A2021-04-11%20until%3A2021-04-19&lang=en&result_type=recent&include_entities=1', 'count': 100, 'since_id': 0, 'since_id_str': '0'}}\n"
     ]
    },
    {
     "name": "stderr",
     "output_type": "stream",
     "text": [
      "\r",
      " 54%|█████▍    | 245/450 [01:37<01:26,  2.37it/s]"
     ]
    },
    {
     "name": "stdout",
     "output_type": "stream",
     "text": [
      "{'statuses': [], 'search_metadata': {'completed_in': 0.006, 'max_id': 1386884790368960515, 'max_id_str': '1386884790368960515', 'query': '%23bitcoin+OR+%23BTC+since%3A2021-04-11+until%3A2021-04-19', 'refresh_url': '?since_id=1386884790368960515&q=%23bitcoin%20OR%20%23BTC%20since%3A2021-04-11%20until%3A2021-04-19&lang=en&result_type=recent&include_entities=1', 'count': 100, 'since_id': 0, 'since_id_str': '0'}}\n"
     ]
    },
    {
     "name": "stderr",
     "output_type": "stream",
     "text": [
      "\r",
      " 55%|█████▍    | 246/450 [01:37<01:25,  2.39it/s]"
     ]
    },
    {
     "name": "stdout",
     "output_type": "stream",
     "text": [
      "{'statuses': [], 'search_metadata': {'completed_in': 0.005, 'max_id': 1386884790368960515, 'max_id_str': '1386884790368960515', 'query': '%23bitcoin+OR+%23BTC+since%3A2021-04-11+until%3A2021-04-19', 'refresh_url': '?since_id=1386884790368960515&q=%23bitcoin%20OR%20%23BTC%20since%3A2021-04-11%20until%3A2021-04-19&lang=en&result_type=recent&include_entities=1', 'count': 100, 'since_id': 0, 'since_id_str': '0'}}\n"
     ]
    },
    {
     "name": "stderr",
     "output_type": "stream",
     "text": [
      "\r",
      " 55%|█████▍    | 247/450 [01:38<01:24,  2.41it/s]"
     ]
    },
    {
     "name": "stdout",
     "output_type": "stream",
     "text": [
      "{'statuses': [], 'search_metadata': {'completed_in': 0.006, 'max_id': 1386884790368960515, 'max_id_str': '1386884790368960515', 'query': '%23bitcoin+OR+%23BTC+since%3A2021-04-11+until%3A2021-04-19', 'refresh_url': '?since_id=1386884790368960515&q=%23bitcoin%20OR%20%23BTC%20since%3A2021-04-11%20until%3A2021-04-19&lang=en&result_type=recent&include_entities=1', 'count': 100, 'since_id': 0, 'since_id_str': '0'}}\n"
     ]
    },
    {
     "name": "stderr",
     "output_type": "stream",
     "text": [
      "\r",
      " 55%|█████▌    | 248/450 [01:38<01:24,  2.39it/s]"
     ]
    },
    {
     "name": "stdout",
     "output_type": "stream",
     "text": [
      "{'statuses': [], 'search_metadata': {'completed_in': 0.006, 'max_id': 1386884790368960515, 'max_id_str': '1386884790368960515', 'query': '%23bitcoin+OR+%23BTC+since%3A2021-04-11+until%3A2021-04-19', 'refresh_url': '?since_id=1386884790368960515&q=%23bitcoin%20OR%20%23BTC%20since%3A2021-04-11%20until%3A2021-04-19&lang=en&result_type=recent&include_entities=1', 'count': 100, 'since_id': 0, 'since_id_str': '0'}}\n"
     ]
    },
    {
     "name": "stderr",
     "output_type": "stream",
     "text": [
      "\r",
      " 55%|█████▌    | 249/450 [01:39<01:24,  2.39it/s]"
     ]
    },
    {
     "name": "stdout",
     "output_type": "stream",
     "text": [
      "{'statuses': [], 'search_metadata': {'completed_in': 0.006, 'max_id': 1386884790368960515, 'max_id_str': '1386884790368960515', 'query': '%23bitcoin+OR+%23BTC+since%3A2021-04-11+until%3A2021-04-19', 'refresh_url': '?since_id=1386884790368960515&q=%23bitcoin%20OR%20%23BTC%20since%3A2021-04-11%20until%3A2021-04-19&lang=en&result_type=recent&include_entities=1', 'count': 100, 'since_id': 0, 'since_id_str': '0'}}\n"
     ]
    },
    {
     "name": "stderr",
     "output_type": "stream",
     "text": [
      "\r",
      " 56%|█████▌    | 250/450 [01:39<01:23,  2.39it/s]"
     ]
    },
    {
     "name": "stdout",
     "output_type": "stream",
     "text": [
      "{'statuses': [], 'search_metadata': {'completed_in': 0.006, 'max_id': 1386884790368960515, 'max_id_str': '1386884790368960515', 'query': '%23bitcoin+OR+%23BTC+since%3A2021-04-11+until%3A2021-04-19', 'refresh_url': '?since_id=1386884790368960515&q=%23bitcoin%20OR%20%23BTC%20since%3A2021-04-11%20until%3A2021-04-19&lang=en&result_type=recent&include_entities=1', 'count': 100, 'since_id': 0, 'since_id_str': '0'}}\n"
     ]
    },
    {
     "name": "stderr",
     "output_type": "stream",
     "text": [
      "\r",
      " 56%|█████▌    | 251/450 [01:39<01:22,  2.41it/s]"
     ]
    },
    {
     "name": "stdout",
     "output_type": "stream",
     "text": [
      "{'statuses': [], 'search_metadata': {'completed_in': 0.005, 'max_id': 1386884790368960515, 'max_id_str': '1386884790368960515', 'query': '%23bitcoin+OR+%23BTC+since%3A2021-04-11+until%3A2021-04-19', 'refresh_url': '?since_id=1386884790368960515&q=%23bitcoin%20OR%20%23BTC%20since%3A2021-04-11%20until%3A2021-04-19&lang=en&result_type=recent&include_entities=1', 'count': 100, 'since_id': 0, 'since_id_str': '0'}}\n"
     ]
    },
    {
     "name": "stderr",
     "output_type": "stream",
     "text": [
      "\r",
      " 56%|█████▌    | 252/450 [01:40<01:21,  2.42it/s]"
     ]
    },
    {
     "name": "stdout",
     "output_type": "stream",
     "text": [
      "{'statuses': [], 'search_metadata': {'completed_in': 0.006, 'max_id': 1386884790368960515, 'max_id_str': '1386884790368960515', 'query': '%23bitcoin+OR+%23BTC+since%3A2021-04-11+until%3A2021-04-19', 'refresh_url': '?since_id=1386884790368960515&q=%23bitcoin%20OR%20%23BTC%20since%3A2021-04-11%20until%3A2021-04-19&lang=en&result_type=recent&include_entities=1', 'count': 100, 'since_id': 0, 'since_id_str': '0'}}\n"
     ]
    },
    {
     "name": "stderr",
     "output_type": "stream",
     "text": [
      "\r",
      " 56%|█████▌    | 253/450 [01:40<01:23,  2.37it/s]"
     ]
    },
    {
     "name": "stdout",
     "output_type": "stream",
     "text": [
      "{'statuses': [], 'search_metadata': {'completed_in': 0.005, 'max_id': 1386884790368960515, 'max_id_str': '1386884790368960515', 'query': '%23bitcoin+OR+%23BTC+since%3A2021-04-11+until%3A2021-04-19', 'refresh_url': '?since_id=1386884790368960515&q=%23bitcoin%20OR%20%23BTC%20since%3A2021-04-11%20until%3A2021-04-19&lang=en&result_type=recent&include_entities=1', 'count': 100, 'since_id': 0, 'since_id_str': '0'}}\n"
     ]
    },
    {
     "name": "stderr",
     "output_type": "stream",
     "text": [
      "\r",
      " 56%|█████▋    | 254/450 [01:41<01:22,  2.36it/s]"
     ]
    },
    {
     "name": "stdout",
     "output_type": "stream",
     "text": [
      "{'statuses': [], 'search_metadata': {'completed_in': 0.006, 'max_id': 1386884790368960515, 'max_id_str': '1386884790368960515', 'query': '%23bitcoin+OR+%23BTC+since%3A2021-04-11+until%3A2021-04-19', 'refresh_url': '?since_id=1386884790368960515&q=%23bitcoin%20OR%20%23BTC%20since%3A2021-04-11%20until%3A2021-04-19&lang=en&result_type=recent&include_entities=1', 'count': 100, 'since_id': 0, 'since_id_str': '0'}}\n"
     ]
    },
    {
     "name": "stderr",
     "output_type": "stream",
     "text": [
      "\r",
      " 57%|█████▋    | 255/450 [01:41<01:22,  2.38it/s]"
     ]
    },
    {
     "name": "stdout",
     "output_type": "stream",
     "text": [
      "{'statuses': [], 'search_metadata': {'completed_in': 0.005, 'max_id': 1386884790368960515, 'max_id_str': '1386884790368960515', 'query': '%23bitcoin+OR+%23BTC+since%3A2021-04-11+until%3A2021-04-19', 'refresh_url': '?since_id=1386884790368960515&q=%23bitcoin%20OR%20%23BTC%20since%3A2021-04-11%20until%3A2021-04-19&lang=en&result_type=recent&include_entities=1', 'count': 100, 'since_id': 0, 'since_id_str': '0'}}\n"
     ]
    },
    {
     "name": "stderr",
     "output_type": "stream",
     "text": [
      "\r",
      " 57%|█████▋    | 256/450 [01:42<01:21,  2.38it/s]"
     ]
    },
    {
     "name": "stdout",
     "output_type": "stream",
     "text": [
      "{'statuses': [], 'search_metadata': {'completed_in': 0.006, 'max_id': 1386884790368960515, 'max_id_str': '1386884790368960515', 'query': '%23bitcoin+OR+%23BTC+since%3A2021-04-11+until%3A2021-04-19', 'refresh_url': '?since_id=1386884790368960515&q=%23bitcoin%20OR%20%23BTC%20since%3A2021-04-11%20until%3A2021-04-19&lang=en&result_type=recent&include_entities=1', 'count': 100, 'since_id': 0, 'since_id_str': '0'}}\n"
     ]
    },
    {
     "name": "stderr",
     "output_type": "stream",
     "text": [
      "\r",
      " 57%|█████▋    | 257/450 [01:42<01:20,  2.40it/s]"
     ]
    },
    {
     "name": "stdout",
     "output_type": "stream",
     "text": [
      "{'statuses': [], 'search_metadata': {'completed_in': 0.005, 'max_id': 1386884790368960515, 'max_id_str': '1386884790368960515', 'query': '%23bitcoin+OR+%23BTC+since%3A2021-04-11+until%3A2021-04-19', 'refresh_url': '?since_id=1386884790368960515&q=%23bitcoin%20OR%20%23BTC%20since%3A2021-04-11%20until%3A2021-04-19&lang=en&result_type=recent&include_entities=1', 'count': 100, 'since_id': 0, 'since_id_str': '0'}}\n"
     ]
    },
    {
     "name": "stderr",
     "output_type": "stream",
     "text": [
      "\r",
      " 57%|█████▋    | 258/450 [01:42<01:20,  2.39it/s]"
     ]
    },
    {
     "name": "stdout",
     "output_type": "stream",
     "text": [
      "{'statuses': [], 'search_metadata': {'completed_in': 0.005, 'max_id': 1386884790368960515, 'max_id_str': '1386884790368960515', 'query': '%23bitcoin+OR+%23BTC+since%3A2021-04-11+until%3A2021-04-19', 'refresh_url': '?since_id=1386884790368960515&q=%23bitcoin%20OR%20%23BTC%20since%3A2021-04-11%20until%3A2021-04-19&lang=en&result_type=recent&include_entities=1', 'count': 100, 'since_id': 0, 'since_id_str': '0'}}\n"
     ]
    },
    {
     "name": "stderr",
     "output_type": "stream",
     "text": [
      "\r",
      " 58%|█████▊    | 259/450 [01:43<01:20,  2.39it/s]"
     ]
    },
    {
     "name": "stdout",
     "output_type": "stream",
     "text": [
      "{'statuses': [], 'search_metadata': {'completed_in': 0.006, 'max_id': 1386884790368960515, 'max_id_str': '1386884790368960515', 'query': '%23bitcoin+OR+%23BTC+since%3A2021-04-11+until%3A2021-04-19', 'refresh_url': '?since_id=1386884790368960515&q=%23bitcoin%20OR%20%23BTC%20since%3A2021-04-11%20until%3A2021-04-19&lang=en&result_type=recent&include_entities=1', 'count': 100, 'since_id': 0, 'since_id_str': '0'}}\n"
     ]
    },
    {
     "name": "stderr",
     "output_type": "stream",
     "text": [
      "\r",
      " 58%|█████▊    | 260/450 [01:43<01:19,  2.40it/s]"
     ]
    },
    {
     "name": "stdout",
     "output_type": "stream",
     "text": [
      "{'statuses': [], 'search_metadata': {'completed_in': 0.005, 'max_id': 1386884790368960515, 'max_id_str': '1386884790368960515', 'query': '%23bitcoin+OR+%23BTC+since%3A2021-04-11+until%3A2021-04-19', 'refresh_url': '?since_id=1386884790368960515&q=%23bitcoin%20OR%20%23BTC%20since%3A2021-04-11%20until%3A2021-04-19&lang=en&result_type=recent&include_entities=1', 'count': 100, 'since_id': 0, 'since_id_str': '0'}}\n"
     ]
    },
    {
     "name": "stderr",
     "output_type": "stream",
     "text": [
      "\r",
      " 58%|█████▊    | 261/450 [01:44<01:19,  2.39it/s]"
     ]
    },
    {
     "name": "stdout",
     "output_type": "stream",
     "text": [
      "{'statuses': [], 'search_metadata': {'completed_in': 0.006, 'max_id': 1386884790368960515, 'max_id_str': '1386884790368960515', 'query': '%23bitcoin+OR+%23BTC+since%3A2021-04-11+until%3A2021-04-19', 'refresh_url': '?since_id=1386884790368960515&q=%23bitcoin%20OR%20%23BTC%20since%3A2021-04-11%20until%3A2021-04-19&lang=en&result_type=recent&include_entities=1', 'count': 100, 'since_id': 0, 'since_id_str': '0'}}\n"
     ]
    },
    {
     "name": "stderr",
     "output_type": "stream",
     "text": [
      "\r",
      " 58%|█████▊    | 262/450 [01:44<01:18,  2.40it/s]"
     ]
    },
    {
     "name": "stdout",
     "output_type": "stream",
     "text": [
      "{'statuses': [], 'search_metadata': {'completed_in': 0.007, 'max_id': 1386884790368960515, 'max_id_str': '1386884790368960515', 'query': '%23bitcoin+OR+%23BTC+since%3A2021-04-11+until%3A2021-04-19', 'refresh_url': '?since_id=1386884790368960515&q=%23bitcoin%20OR%20%23BTC%20since%3A2021-04-11%20until%3A2021-04-19&lang=en&result_type=recent&include_entities=1', 'count': 100, 'since_id': 0, 'since_id_str': '0'}}\n"
     ]
    },
    {
     "name": "stderr",
     "output_type": "stream",
     "text": [
      "\r",
      " 58%|█████▊    | 263/450 [01:45<01:17,  2.41it/s]"
     ]
    },
    {
     "name": "stdout",
     "output_type": "stream",
     "text": [
      "{'statuses': [], 'search_metadata': {'completed_in': 0.007, 'max_id': 1386884790368960515, 'max_id_str': '1386884790368960515', 'query': '%23bitcoin+OR+%23BTC+since%3A2021-04-11+until%3A2021-04-19', 'refresh_url': '?since_id=1386884790368960515&q=%23bitcoin%20OR%20%23BTC%20since%3A2021-04-11%20until%3A2021-04-19&lang=en&result_type=recent&include_entities=1', 'count': 100, 'since_id': 0, 'since_id_str': '0'}}\n"
     ]
    },
    {
     "name": "stderr",
     "output_type": "stream",
     "text": [
      "\r",
      " 59%|█████▊    | 264/450 [01:45<01:17,  2.41it/s]"
     ]
    },
    {
     "name": "stdout",
     "output_type": "stream",
     "text": [
      "{'statuses': [], 'search_metadata': {'completed_in': 0.006, 'max_id': 1386884790368960515, 'max_id_str': '1386884790368960515', 'query': '%23bitcoin+OR+%23BTC+since%3A2021-04-11+until%3A2021-04-19', 'refresh_url': '?since_id=1386884790368960515&q=%23bitcoin%20OR%20%23BTC%20since%3A2021-04-11%20until%3A2021-04-19&lang=en&result_type=recent&include_entities=1', 'count': 100, 'since_id': 0, 'since_id_str': '0'}}\n"
     ]
    },
    {
     "name": "stderr",
     "output_type": "stream",
     "text": [
      "\r",
      " 59%|█████▉    | 265/450 [01:45<01:16,  2.41it/s]"
     ]
    },
    {
     "name": "stdout",
     "output_type": "stream",
     "text": [
      "{'statuses': [], 'search_metadata': {'completed_in': 0.005, 'max_id': 1386884790368960515, 'max_id_str': '1386884790368960515', 'query': '%23bitcoin+OR+%23BTC+since%3A2021-04-11+until%3A2021-04-19', 'refresh_url': '?since_id=1386884790368960515&q=%23bitcoin%20OR%20%23BTC%20since%3A2021-04-11%20until%3A2021-04-19&lang=en&result_type=recent&include_entities=1', 'count': 100, 'since_id': 0, 'since_id_str': '0'}}\n"
     ]
    },
    {
     "name": "stderr",
     "output_type": "stream",
     "text": [
      "\r",
      " 59%|█████▉    | 266/450 [01:46<01:16,  2.41it/s]"
     ]
    },
    {
     "name": "stdout",
     "output_type": "stream",
     "text": [
      "{'statuses': [], 'search_metadata': {'completed_in': 0.005, 'max_id': 1386884790368960515, 'max_id_str': '1386884790368960515', 'query': '%23bitcoin+OR+%23BTC+since%3A2021-04-11+until%3A2021-04-19', 'refresh_url': '?since_id=1386884790368960515&q=%23bitcoin%20OR%20%23BTC%20since%3A2021-04-11%20until%3A2021-04-19&lang=en&result_type=recent&include_entities=1', 'count': 100, 'since_id': 0, 'since_id_str': '0'}}\n"
     ]
    },
    {
     "name": "stderr",
     "output_type": "stream",
     "text": [
      "\r",
      " 59%|█████▉    | 267/450 [01:46<01:15,  2.41it/s]"
     ]
    },
    {
     "name": "stdout",
     "output_type": "stream",
     "text": [
      "{'statuses': [], 'search_metadata': {'completed_in': 0.007, 'max_id': 1386884790368960515, 'max_id_str': '1386884790368960515', 'query': '%23bitcoin+OR+%23BTC+since%3A2021-04-11+until%3A2021-04-19', 'refresh_url': '?since_id=1386884790368960515&q=%23bitcoin%20OR%20%23BTC%20since%3A2021-04-11%20until%3A2021-04-19&lang=en&result_type=recent&include_entities=1', 'count': 100, 'since_id': 0, 'since_id_str': '0'}}\n"
     ]
    },
    {
     "name": "stderr",
     "output_type": "stream",
     "text": [
      "\r",
      " 60%|█████▉    | 268/450 [01:47<01:15,  2.41it/s]"
     ]
    },
    {
     "name": "stdout",
     "output_type": "stream",
     "text": [
      "{'statuses': [], 'search_metadata': {'completed_in': 0.006, 'max_id': 1386884790368960515, 'max_id_str': '1386884790368960515', 'query': '%23bitcoin+OR+%23BTC+since%3A2021-04-11+until%3A2021-04-19', 'refresh_url': '?since_id=1386884790368960515&q=%23bitcoin%20OR%20%23BTC%20since%3A2021-04-11%20until%3A2021-04-19&lang=en&result_type=recent&include_entities=1', 'count': 100, 'since_id': 0, 'since_id_str': '0'}}\n"
     ]
    },
    {
     "name": "stderr",
     "output_type": "stream",
     "text": [
      "\r",
      " 60%|█████▉    | 269/450 [01:47<01:15,  2.41it/s]"
     ]
    },
    {
     "name": "stdout",
     "output_type": "stream",
     "text": [
      "{'statuses': [], 'search_metadata': {'completed_in': 0.006, 'max_id': 1386884790368960515, 'max_id_str': '1386884790368960515', 'query': '%23bitcoin+OR+%23BTC+since%3A2021-04-11+until%3A2021-04-19', 'refresh_url': '?since_id=1386884790368960515&q=%23bitcoin%20OR%20%23BTC%20since%3A2021-04-11%20until%3A2021-04-19&lang=en&result_type=recent&include_entities=1', 'count': 100, 'since_id': 0, 'since_id_str': '0'}}\n"
     ]
    },
    {
     "name": "stderr",
     "output_type": "stream",
     "text": [
      "\r",
      " 60%|██████    | 270/450 [01:47<01:14,  2.41it/s]"
     ]
    },
    {
     "name": "stdout",
     "output_type": "stream",
     "text": [
      "{'statuses': [], 'search_metadata': {'completed_in': 0.006, 'max_id': 1386884790368960515, 'max_id_str': '1386884790368960515', 'query': '%23bitcoin+OR+%23BTC+since%3A2021-04-11+until%3A2021-04-19', 'refresh_url': '?since_id=1386884790368960515&q=%23bitcoin%20OR%20%23BTC%20since%3A2021-04-11%20until%3A2021-04-19&lang=en&result_type=recent&include_entities=1', 'count': 100, 'since_id': 0, 'since_id_str': '0'}}\n"
     ]
    },
    {
     "name": "stderr",
     "output_type": "stream",
     "text": [
      "\r",
      " 60%|██████    | 271/450 [01:48<01:14,  2.41it/s]"
     ]
    },
    {
     "name": "stdout",
     "output_type": "stream",
     "text": [
      "{'statuses': [], 'search_metadata': {'completed_in': 0.006, 'max_id': 1386884790368960515, 'max_id_str': '1386884790368960515', 'query': '%23bitcoin+OR+%23BTC+since%3A2021-04-11+until%3A2021-04-19', 'refresh_url': '?since_id=1386884790368960515&q=%23bitcoin%20OR%20%23BTC%20since%3A2021-04-11%20until%3A2021-04-19&lang=en&result_type=recent&include_entities=1', 'count': 100, 'since_id': 0, 'since_id_str': '0'}}\n"
     ]
    },
    {
     "name": "stderr",
     "output_type": "stream",
     "text": [
      "\r",
      " 60%|██████    | 272/450 [01:48<01:13,  2.41it/s]"
     ]
    },
    {
     "name": "stdout",
     "output_type": "stream",
     "text": [
      "{'statuses': [], 'search_metadata': {'completed_in': 0.007, 'max_id': 1386884790368960515, 'max_id_str': '1386884790368960515', 'query': '%23bitcoin+OR+%23BTC+since%3A2021-04-11+until%3A2021-04-19', 'refresh_url': '?since_id=1386884790368960515&q=%23bitcoin%20OR%20%23BTC%20since%3A2021-04-11%20until%3A2021-04-19&lang=en&result_type=recent&include_entities=1', 'count': 100, 'since_id': 0, 'since_id_str': '0'}}\n"
     ]
    },
    {
     "name": "stderr",
     "output_type": "stream",
     "text": [
      "\r",
      " 61%|██████    | 273/450 [01:49<01:13,  2.40it/s]"
     ]
    },
    {
     "name": "stdout",
     "output_type": "stream",
     "text": [
      "{'statuses': [], 'search_metadata': {'completed_in': 0.005, 'max_id': 1386884790368960515, 'max_id_str': '1386884790368960515', 'query': '%23bitcoin+OR+%23BTC+since%3A2021-04-11+until%3A2021-04-19', 'refresh_url': '?since_id=1386884790368960515&q=%23bitcoin%20OR%20%23BTC%20since%3A2021-04-11%20until%3A2021-04-19&lang=en&result_type=recent&include_entities=1', 'count': 100, 'since_id': 0, 'since_id_str': '0'}}\n"
     ]
    },
    {
     "name": "stderr",
     "output_type": "stream",
     "text": [
      "\r",
      " 61%|██████    | 274/450 [01:49<01:13,  2.40it/s]"
     ]
    },
    {
     "name": "stdout",
     "output_type": "stream",
     "text": [
      "{'statuses': [], 'search_metadata': {'completed_in': 0.007, 'max_id': 1386884790368960515, 'max_id_str': '1386884790368960515', 'query': '%23bitcoin+OR+%23BTC+since%3A2021-04-11+until%3A2021-04-19', 'refresh_url': '?since_id=1386884790368960515&q=%23bitcoin%20OR%20%23BTC%20since%3A2021-04-11%20until%3A2021-04-19&lang=en&result_type=recent&include_entities=1', 'count': 100, 'since_id': 0, 'since_id_str': '0'}}\n"
     ]
    },
    {
     "name": "stderr",
     "output_type": "stream",
     "text": [
      "\r",
      " 61%|██████    | 275/450 [01:50<01:12,  2.40it/s]"
     ]
    },
    {
     "name": "stdout",
     "output_type": "stream",
     "text": [
      "{'statuses': [], 'search_metadata': {'completed_in': 0.006, 'max_id': 1386884790368960515, 'max_id_str': '1386884790368960515', 'query': '%23bitcoin+OR+%23BTC+since%3A2021-04-11+until%3A2021-04-19', 'refresh_url': '?since_id=1386884790368960515&q=%23bitcoin%20OR%20%23BTC%20since%3A2021-04-11%20until%3A2021-04-19&lang=en&result_type=recent&include_entities=1', 'count': 100, 'since_id': 0, 'since_id_str': '0'}}\n"
     ]
    },
    {
     "name": "stderr",
     "output_type": "stream",
     "text": [
      "\r",
      " 61%|██████▏   | 276/450 [01:50<01:12,  2.41it/s]"
     ]
    },
    {
     "name": "stdout",
     "output_type": "stream",
     "text": [
      "{'statuses': [], 'search_metadata': {'completed_in': 0.005, 'max_id': 1386884790368960515, 'max_id_str': '1386884790368960515', 'query': '%23bitcoin+OR+%23BTC+since%3A2021-04-11+until%3A2021-04-19', 'refresh_url': '?since_id=1386884790368960515&q=%23bitcoin%20OR%20%23BTC%20since%3A2021-04-11%20until%3A2021-04-19&lang=en&result_type=recent&include_entities=1', 'count': 100, 'since_id': 0, 'since_id_str': '0'}}\n"
     ]
    },
    {
     "name": "stderr",
     "output_type": "stream",
     "text": [
      "\r",
      " 62%|██████▏   | 277/450 [01:50<01:11,  2.41it/s]"
     ]
    },
    {
     "name": "stdout",
     "output_type": "stream",
     "text": [
      "{'statuses': [], 'search_metadata': {'completed_in': 0.007, 'max_id': 1386884790368960515, 'max_id_str': '1386884790368960515', 'query': '%23bitcoin+OR+%23BTC+since%3A2021-04-11+until%3A2021-04-19', 'refresh_url': '?since_id=1386884790368960515&q=%23bitcoin%20OR%20%23BTC%20since%3A2021-04-11%20until%3A2021-04-19&lang=en&result_type=recent&include_entities=1', 'count': 100, 'since_id': 0, 'since_id_str': '0'}}\n"
     ]
    },
    {
     "name": "stderr",
     "output_type": "stream",
     "text": [
      "\r",
      " 62%|██████▏   | 278/450 [01:51<01:11,  2.40it/s]"
     ]
    },
    {
     "name": "stdout",
     "output_type": "stream",
     "text": [
      "{'statuses': [], 'search_metadata': {'completed_in': 0.007, 'max_id': 1386884790368960515, 'max_id_str': '1386884790368960515', 'query': '%23bitcoin+OR+%23BTC+since%3A2021-04-11+until%3A2021-04-19', 'refresh_url': '?since_id=1386884790368960515&q=%23bitcoin%20OR%20%23BTC%20since%3A2021-04-11%20until%3A2021-04-19&lang=en&result_type=recent&include_entities=1', 'count': 100, 'since_id': 0, 'since_id_str': '0'}}\n"
     ]
    },
    {
     "name": "stderr",
     "output_type": "stream",
     "text": [
      "\r",
      " 62%|██████▏   | 279/450 [01:51<01:11,  2.40it/s]"
     ]
    },
    {
     "name": "stdout",
     "output_type": "stream",
     "text": [
      "{'statuses': [], 'search_metadata': {'completed_in': 0.006, 'max_id': 1386884790368960515, 'max_id_str': '1386884790368960515', 'query': '%23bitcoin+OR+%23BTC+since%3A2021-04-11+until%3A2021-04-19', 'refresh_url': '?since_id=1386884790368960515&q=%23bitcoin%20OR%20%23BTC%20since%3A2021-04-11%20until%3A2021-04-19&lang=en&result_type=recent&include_entities=1', 'count': 100, 'since_id': 0, 'since_id_str': '0'}}\n"
     ]
    },
    {
     "name": "stderr",
     "output_type": "stream",
     "text": [
      "\r",
      " 62%|██████▏   | 280/450 [01:52<01:10,  2.40it/s]"
     ]
    },
    {
     "name": "stdout",
     "output_type": "stream",
     "text": [
      "{'statuses': [], 'search_metadata': {'completed_in': 0.007, 'max_id': 1386884790368960515, 'max_id_str': '1386884790368960515', 'query': '%23bitcoin+OR+%23BTC+since%3A2021-04-11+until%3A2021-04-19', 'refresh_url': '?since_id=1386884790368960515&q=%23bitcoin%20OR%20%23BTC%20since%3A2021-04-11%20until%3A2021-04-19&lang=en&result_type=recent&include_entities=1', 'count': 100, 'since_id': 0, 'since_id_str': '0'}}\n"
     ]
    },
    {
     "name": "stderr",
     "output_type": "stream",
     "text": [
      "\r",
      " 62%|██████▏   | 281/450 [01:52<01:10,  2.40it/s]"
     ]
    },
    {
     "name": "stdout",
     "output_type": "stream",
     "text": [
      "{'statuses': [], 'search_metadata': {'completed_in': 0.007, 'max_id': 1386884790368960515, 'max_id_str': '1386884790368960515', 'query': '%23bitcoin+OR+%23BTC+since%3A2021-04-11+until%3A2021-04-19', 'refresh_url': '?since_id=1386884790368960515&q=%23bitcoin%20OR%20%23BTC%20since%3A2021-04-11%20until%3A2021-04-19&lang=en&result_type=recent&include_entities=1', 'count': 100, 'since_id': 0, 'since_id_str': '0'}}\n"
     ]
    },
    {
     "name": "stderr",
     "output_type": "stream",
     "text": [
      "\r",
      " 63%|██████▎   | 282/450 [01:52<01:09,  2.41it/s]"
     ]
    },
    {
     "name": "stdout",
     "output_type": "stream",
     "text": [
      "{'statuses': [], 'search_metadata': {'completed_in': 0.006, 'max_id': 1386884790368960515, 'max_id_str': '1386884790368960515', 'query': '%23bitcoin+OR+%23BTC+since%3A2021-04-11+until%3A2021-04-19', 'refresh_url': '?since_id=1386884790368960515&q=%23bitcoin%20OR%20%23BTC%20since%3A2021-04-11%20until%3A2021-04-19&lang=en&result_type=recent&include_entities=1', 'count': 100, 'since_id': 0, 'since_id_str': '0'}}\n"
     ]
    },
    {
     "name": "stderr",
     "output_type": "stream",
     "text": [
      "\r",
      " 63%|██████▎   | 283/450 [01:53<01:09,  2.41it/s]"
     ]
    },
    {
     "name": "stdout",
     "output_type": "stream",
     "text": [
      "{'statuses': [], 'search_metadata': {'completed_in': 0.007, 'max_id': 1386884790368960515, 'max_id_str': '1386884790368960515', 'query': '%23bitcoin+OR+%23BTC+since%3A2021-04-11+until%3A2021-04-19', 'refresh_url': '?since_id=1386884790368960515&q=%23bitcoin%20OR%20%23BTC%20since%3A2021-04-11%20until%3A2021-04-19&lang=en&result_type=recent&include_entities=1', 'count': 100, 'since_id': 0, 'since_id_str': '0'}}\n"
     ]
    },
    {
     "name": "stderr",
     "output_type": "stream",
     "text": [
      "\r",
      " 63%|██████▎   | 284/450 [01:53<01:08,  2.41it/s]"
     ]
    },
    {
     "name": "stdout",
     "output_type": "stream",
     "text": [
      "{'statuses': [], 'search_metadata': {'completed_in': 0.006, 'max_id': 1386884790368960515, 'max_id_str': '1386884790368960515', 'query': '%23bitcoin+OR+%23BTC+since%3A2021-04-11+until%3A2021-04-19', 'refresh_url': '?since_id=1386884790368960515&q=%23bitcoin%20OR%20%23BTC%20since%3A2021-04-11%20until%3A2021-04-19&lang=en&result_type=recent&include_entities=1', 'count': 100, 'since_id': 0, 'since_id_str': '0'}}\n"
     ]
    },
    {
     "name": "stderr",
     "output_type": "stream",
     "text": [
      "\r",
      " 63%|██████▎   | 285/450 [01:54<01:08,  2.41it/s]"
     ]
    },
    {
     "name": "stdout",
     "output_type": "stream",
     "text": [
      "{'statuses': [], 'search_metadata': {'completed_in': 0.005, 'max_id': 1386884790368960515, 'max_id_str': '1386884790368960515', 'query': '%23bitcoin+OR+%23BTC+since%3A2021-04-11+until%3A2021-04-19', 'refresh_url': '?since_id=1386884790368960515&q=%23bitcoin%20OR%20%23BTC%20since%3A2021-04-11%20until%3A2021-04-19&lang=en&result_type=recent&include_entities=1', 'count': 100, 'since_id': 0, 'since_id_str': '0'}}\n"
     ]
    },
    {
     "name": "stderr",
     "output_type": "stream",
     "text": [
      "\r",
      " 64%|██████▎   | 286/450 [01:54<01:07,  2.42it/s]"
     ]
    },
    {
     "name": "stdout",
     "output_type": "stream",
     "text": [
      "{'statuses': [], 'search_metadata': {'completed_in': 0.006, 'max_id': 1386884790368960515, 'max_id_str': '1386884790368960515', 'query': '%23bitcoin+OR+%23BTC+since%3A2021-04-11+until%3A2021-04-19', 'refresh_url': '?since_id=1386884790368960515&q=%23bitcoin%20OR%20%23BTC%20since%3A2021-04-11%20until%3A2021-04-19&lang=en&result_type=recent&include_entities=1', 'count': 100, 'since_id': 0, 'since_id_str': '0'}}\n"
     ]
    },
    {
     "name": "stderr",
     "output_type": "stream",
     "text": [
      "\r",
      " 64%|██████▍   | 287/450 [01:54<01:07,  2.43it/s]"
     ]
    },
    {
     "name": "stdout",
     "output_type": "stream",
     "text": [
      "{'statuses': [], 'search_metadata': {'completed_in': 0.006, 'max_id': 1386884790368960515, 'max_id_str': '1386884790368960515', 'query': '%23bitcoin+OR+%23BTC+since%3A2021-04-11+until%3A2021-04-19', 'refresh_url': '?since_id=1386884790368960515&q=%23bitcoin%20OR%20%23BTC%20since%3A2021-04-11%20until%3A2021-04-19&lang=en&result_type=recent&include_entities=1', 'count': 100, 'since_id': 0, 'since_id_str': '0'}}\n"
     ]
    },
    {
     "name": "stderr",
     "output_type": "stream",
     "text": [
      "\r",
      " 64%|██████▍   | 288/450 [01:55<01:06,  2.43it/s]"
     ]
    },
    {
     "name": "stdout",
     "output_type": "stream",
     "text": [
      "{'statuses': [], 'search_metadata': {'completed_in': 0.006, 'max_id': 1386884790368960515, 'max_id_str': '1386884790368960515', 'query': '%23bitcoin+OR+%23BTC+since%3A2021-04-11+until%3A2021-04-19', 'refresh_url': '?since_id=1386884790368960515&q=%23bitcoin%20OR%20%23BTC%20since%3A2021-04-11%20until%3A2021-04-19&lang=en&result_type=recent&include_entities=1', 'count': 100, 'since_id': 0, 'since_id_str': '0'}}\n"
     ]
    },
    {
     "name": "stderr",
     "output_type": "stream",
     "text": [
      "\r",
      " 64%|██████▍   | 289/450 [01:55<01:06,  2.43it/s]"
     ]
    },
    {
     "name": "stdout",
     "output_type": "stream",
     "text": [
      "{'statuses': [], 'search_metadata': {'completed_in': 0.005, 'max_id': 1386884790368960515, 'max_id_str': '1386884790368960515', 'query': '%23bitcoin+OR+%23BTC+since%3A2021-04-11+until%3A2021-04-19', 'refresh_url': '?since_id=1386884790368960515&q=%23bitcoin%20OR%20%23BTC%20since%3A2021-04-11%20until%3A2021-04-19&lang=en&result_type=recent&include_entities=1', 'count': 100, 'since_id': 0, 'since_id_str': '0'}}\n"
     ]
    },
    {
     "name": "stderr",
     "output_type": "stream",
     "text": [
      "\r",
      " 64%|██████▍   | 290/450 [01:56<01:06,  2.42it/s]"
     ]
    },
    {
     "name": "stdout",
     "output_type": "stream",
     "text": [
      "{'statuses': [], 'search_metadata': {'completed_in': 0.005, 'max_id': 1386884790368960515, 'max_id_str': '1386884790368960515', 'query': '%23bitcoin+OR+%23BTC+since%3A2021-04-11+until%3A2021-04-19', 'refresh_url': '?since_id=1386884790368960515&q=%23bitcoin%20OR%20%23BTC%20since%3A2021-04-11%20until%3A2021-04-19&lang=en&result_type=recent&include_entities=1', 'count': 100, 'since_id': 0, 'since_id_str': '0'}}\n"
     ]
    },
    {
     "name": "stderr",
     "output_type": "stream",
     "text": [
      "\r",
      " 65%|██████▍   | 291/450 [01:56<01:05,  2.41it/s]"
     ]
    },
    {
     "name": "stdout",
     "output_type": "stream",
     "text": [
      "{'statuses': [], 'search_metadata': {'completed_in': 0.008, 'max_id': 1386884790368960515, 'max_id_str': '1386884790368960515', 'query': '%23bitcoin+OR+%23BTC+since%3A2021-04-11+until%3A2021-04-19', 'refresh_url': '?since_id=1386884790368960515&q=%23bitcoin%20OR%20%23BTC%20since%3A2021-04-11%20until%3A2021-04-19&lang=en&result_type=recent&include_entities=1', 'count': 100, 'since_id': 0, 'since_id_str': '0'}}\n"
     ]
    },
    {
     "name": "stderr",
     "output_type": "stream",
     "text": [
      "\r",
      " 65%|██████▍   | 292/450 [01:57<01:05,  2.40it/s]"
     ]
    },
    {
     "name": "stdout",
     "output_type": "stream",
     "text": [
      "{'statuses': [], 'search_metadata': {'completed_in': 0.01, 'max_id': 1386884874137649154, 'max_id_str': '1386884874137649154', 'query': '%23bitcoin+OR+%23BTC+since%3A2021-04-11+until%3A2021-04-19', 'refresh_url': '?since_id=1386884874137649154&q=%23bitcoin%20OR%20%23BTC%20since%3A2021-04-11%20until%3A2021-04-19&lang=en&result_type=recent&include_entities=1', 'count': 100, 'since_id': 0, 'since_id_str': '0'}}\n"
     ]
    },
    {
     "name": "stderr",
     "output_type": "stream",
     "text": [
      "\r",
      " 65%|██████▌   | 293/450 [01:57<01:05,  2.41it/s]"
     ]
    },
    {
     "name": "stdout",
     "output_type": "stream",
     "text": [
      "{'statuses': [], 'search_metadata': {'completed_in': 0.007, 'max_id': 1386884874137649154, 'max_id_str': '1386884874137649154', 'query': '%23bitcoin+OR+%23BTC+since%3A2021-04-11+until%3A2021-04-19', 'refresh_url': '?since_id=1386884874137649154&q=%23bitcoin%20OR%20%23BTC%20since%3A2021-04-11%20until%3A2021-04-19&lang=en&result_type=recent&include_entities=1', 'count': 100, 'since_id': 0, 'since_id_str': '0'}}\n"
     ]
    },
    {
     "name": "stderr",
     "output_type": "stream",
     "text": [
      "\r",
      " 65%|██████▌   | 294/450 [01:57<01:05,  2.39it/s]"
     ]
    },
    {
     "name": "stdout",
     "output_type": "stream",
     "text": [
      "{'statuses': [], 'search_metadata': {'completed_in': 0.006, 'max_id': 1386884874137649154, 'max_id_str': '1386884874137649154', 'query': '%23bitcoin+OR+%23BTC+since%3A2021-04-11+until%3A2021-04-19', 'refresh_url': '?since_id=1386884874137649154&q=%23bitcoin%20OR%20%23BTC%20since%3A2021-04-11%20until%3A2021-04-19&lang=en&result_type=recent&include_entities=1', 'count': 100, 'since_id': 0, 'since_id_str': '0'}}\n"
     ]
    },
    {
     "name": "stderr",
     "output_type": "stream",
     "text": [
      "\r",
      " 66%|██████▌   | 295/450 [01:58<01:05,  2.37it/s]"
     ]
    },
    {
     "name": "stdout",
     "output_type": "stream",
     "text": [
      "{'statuses': [], 'search_metadata': {'completed_in': 0.006, 'max_id': 1386884874137649154, 'max_id_str': '1386884874137649154', 'query': '%23bitcoin+OR+%23BTC+since%3A2021-04-11+until%3A2021-04-19', 'refresh_url': '?since_id=1386884874137649154&q=%23bitcoin%20OR%20%23BTC%20since%3A2021-04-11%20until%3A2021-04-19&lang=en&result_type=recent&include_entities=1', 'count': 100, 'since_id': 0, 'since_id_str': '0'}}\n"
     ]
    },
    {
     "name": "stderr",
     "output_type": "stream",
     "text": [
      "\r",
      " 66%|██████▌   | 296/450 [01:58<01:04,  2.39it/s]"
     ]
    },
    {
     "name": "stdout",
     "output_type": "stream",
     "text": [
      "{'statuses': [], 'search_metadata': {'completed_in': 0.006, 'max_id': 1386884874137649154, 'max_id_str': '1386884874137649154', 'query': '%23bitcoin+OR+%23BTC+since%3A2021-04-11+until%3A2021-04-19', 'refresh_url': '?since_id=1386884874137649154&q=%23bitcoin%20OR%20%23BTC%20since%3A2021-04-11%20until%3A2021-04-19&lang=en&result_type=recent&include_entities=1', 'count': 100, 'since_id': 0, 'since_id_str': '0'}}\n"
     ]
    },
    {
     "name": "stderr",
     "output_type": "stream",
     "text": [
      "\r",
      " 66%|██████▌   | 297/450 [01:59<01:03,  2.40it/s]"
     ]
    },
    {
     "name": "stdout",
     "output_type": "stream",
     "text": [
      "{'statuses': [], 'search_metadata': {'completed_in': 0.005, 'max_id': 1386884874137649154, 'max_id_str': '1386884874137649154', 'query': '%23bitcoin+OR+%23BTC+since%3A2021-04-11+until%3A2021-04-19', 'refresh_url': '?since_id=1386884874137649154&q=%23bitcoin%20OR%20%23BTC%20since%3A2021-04-11%20until%3A2021-04-19&lang=en&result_type=recent&include_entities=1', 'count': 100, 'since_id': 0, 'since_id_str': '0'}}\n"
     ]
    },
    {
     "name": "stderr",
     "output_type": "stream",
     "text": [
      "\r",
      " 66%|██████▌   | 298/450 [01:59<01:03,  2.41it/s]"
     ]
    },
    {
     "name": "stdout",
     "output_type": "stream",
     "text": [
      "{'statuses': [], 'search_metadata': {'completed_in': 0.006, 'max_id': 1386884874137649154, 'max_id_str': '1386884874137649154', 'query': '%23bitcoin+OR+%23BTC+since%3A2021-04-11+until%3A2021-04-19', 'refresh_url': '?since_id=1386884874137649154&q=%23bitcoin%20OR%20%23BTC%20since%3A2021-04-11%20until%3A2021-04-19&lang=en&result_type=recent&include_entities=1', 'count': 100, 'since_id': 0, 'since_id_str': '0'}}\n"
     ]
    },
    {
     "name": "stderr",
     "output_type": "stream",
     "text": [
      "\r",
      " 66%|██████▋   | 299/450 [01:59<01:02,  2.40it/s]"
     ]
    },
    {
     "name": "stdout",
     "output_type": "stream",
     "text": [
      "{'statuses': [], 'search_metadata': {'completed_in': 0.006, 'max_id': 1386884874137649154, 'max_id_str': '1386884874137649154', 'query': '%23bitcoin+OR+%23BTC+since%3A2021-04-11+until%3A2021-04-19', 'refresh_url': '?since_id=1386884874137649154&q=%23bitcoin%20OR%20%23BTC%20since%3A2021-04-11%20until%3A2021-04-19&lang=en&result_type=recent&include_entities=1', 'count': 100, 'since_id': 0, 'since_id_str': '0'}}\n"
     ]
    },
    {
     "name": "stderr",
     "output_type": "stream",
     "text": [
      "\r",
      " 67%|██████▋   | 300/450 [02:00<01:02,  2.41it/s]"
     ]
    },
    {
     "name": "stdout",
     "output_type": "stream",
     "text": [
      "{'statuses': [], 'search_metadata': {'completed_in': 0.005, 'max_id': 1386884874137649154, 'max_id_str': '1386884874137649154', 'query': '%23bitcoin+OR+%23BTC+since%3A2021-04-11+until%3A2021-04-19', 'refresh_url': '?since_id=1386884874137649154&q=%23bitcoin%20OR%20%23BTC%20since%3A2021-04-11%20until%3A2021-04-19&lang=en&result_type=recent&include_entities=1', 'count': 100, 'since_id': 0, 'since_id_str': '0'}}\n"
     ]
    },
    {
     "name": "stderr",
     "output_type": "stream",
     "text": [
      "\r",
      " 67%|██████▋   | 301/450 [02:00<01:01,  2.42it/s]"
     ]
    },
    {
     "name": "stdout",
     "output_type": "stream",
     "text": [
      "{'statuses': [], 'search_metadata': {'completed_in': 0.006, 'max_id': 1386884874137649154, 'max_id_str': '1386884874137649154', 'query': '%23bitcoin+OR+%23BTC+since%3A2021-04-11+until%3A2021-04-19', 'refresh_url': '?since_id=1386884874137649154&q=%23bitcoin%20OR%20%23BTC%20since%3A2021-04-11%20until%3A2021-04-19&lang=en&result_type=recent&include_entities=1', 'count': 100, 'since_id': 0, 'since_id_str': '0'}}\n"
     ]
    },
    {
     "name": "stderr",
     "output_type": "stream",
     "text": [
      "\r",
      " 67%|██████▋   | 302/450 [02:01<01:01,  2.42it/s]"
     ]
    },
    {
     "name": "stdout",
     "output_type": "stream",
     "text": [
      "{'statuses': [], 'search_metadata': {'completed_in': 0.006, 'max_id': 1386884874137649154, 'max_id_str': '1386884874137649154', 'query': '%23bitcoin+OR+%23BTC+since%3A2021-04-11+until%3A2021-04-19', 'refresh_url': '?since_id=1386884874137649154&q=%23bitcoin%20OR%20%23BTC%20since%3A2021-04-11%20until%3A2021-04-19&lang=en&result_type=recent&include_entities=1', 'count': 100, 'since_id': 0, 'since_id_str': '0'}}\n"
     ]
    },
    {
     "name": "stderr",
     "output_type": "stream",
     "text": [
      "\r",
      " 67%|██████▋   | 303/450 [02:01<01:00,  2.41it/s]"
     ]
    },
    {
     "name": "stdout",
     "output_type": "stream",
     "text": [
      "{'statuses': [], 'search_metadata': {'completed_in': 0.004, 'max_id': 1386884874137649154, 'max_id_str': '1386884874137649154', 'query': '%23bitcoin+OR+%23BTC+since%3A2021-04-11+until%3A2021-04-19', 'refresh_url': '?since_id=1386884874137649154&q=%23bitcoin%20OR%20%23BTC%20since%3A2021-04-11%20until%3A2021-04-19&lang=en&result_type=recent&include_entities=1', 'count': 100, 'since_id': 0, 'since_id_str': '0'}}\n"
     ]
    },
    {
     "name": "stderr",
     "output_type": "stream",
     "text": [
      "\r",
      " 68%|██████▊   | 304/450 [02:02<01:00,  2.41it/s]"
     ]
    },
    {
     "name": "stdout",
     "output_type": "stream",
     "text": [
      "{'statuses': [], 'search_metadata': {'completed_in': 0.006, 'max_id': 1386884874137649154, 'max_id_str': '1386884874137649154', 'query': '%23bitcoin+OR+%23BTC+since%3A2021-04-11+until%3A2021-04-19', 'refresh_url': '?since_id=1386884874137649154&q=%23bitcoin%20OR%20%23BTC%20since%3A2021-04-11%20until%3A2021-04-19&lang=en&result_type=recent&include_entities=1', 'count': 100, 'since_id': 0, 'since_id_str': '0'}}\n"
     ]
    },
    {
     "name": "stderr",
     "output_type": "stream",
     "text": [
      "\r",
      " 68%|██████▊   | 305/450 [02:02<01:00,  2.42it/s]"
     ]
    },
    {
     "name": "stdout",
     "output_type": "stream",
     "text": [
      "{'statuses': [], 'search_metadata': {'completed_in': 0.007, 'max_id': 1386884874137649154, 'max_id_str': '1386884874137649154', 'query': '%23bitcoin+OR+%23BTC+since%3A2021-04-11+until%3A2021-04-19', 'refresh_url': '?since_id=1386884874137649154&q=%23bitcoin%20OR%20%23BTC%20since%3A2021-04-11%20until%3A2021-04-19&lang=en&result_type=recent&include_entities=1', 'count': 100, 'since_id': 0, 'since_id_str': '0'}}\n"
     ]
    },
    {
     "name": "stderr",
     "output_type": "stream",
     "text": [
      "\r",
      " 68%|██████▊   | 306/450 [02:02<00:59,  2.42it/s]"
     ]
    },
    {
     "name": "stdout",
     "output_type": "stream",
     "text": [
      "{'statuses': [], 'search_metadata': {'completed_in': 0.006, 'max_id': 1386884874137649154, 'max_id_str': '1386884874137649154', 'query': '%23bitcoin+OR+%23BTC+since%3A2021-04-11+until%3A2021-04-19', 'refresh_url': '?since_id=1386884874137649154&q=%23bitcoin%20OR%20%23BTC%20since%3A2021-04-11%20until%3A2021-04-19&lang=en&result_type=recent&include_entities=1', 'count': 100, 'since_id': 0, 'since_id_str': '0'}}\n"
     ]
    },
    {
     "name": "stderr",
     "output_type": "stream",
     "text": [
      "\r",
      " 68%|██████▊   | 307/450 [02:03<00:59,  2.42it/s]"
     ]
    },
    {
     "name": "stdout",
     "output_type": "stream",
     "text": [
      "{'statuses': [], 'search_metadata': {'completed_in': 0.005, 'max_id': 1386884874137649154, 'max_id_str': '1386884874137649154', 'query': '%23bitcoin+OR+%23BTC+since%3A2021-04-11+until%3A2021-04-19', 'refresh_url': '?since_id=1386884874137649154&q=%23bitcoin%20OR%20%23BTC%20since%3A2021-04-11%20until%3A2021-04-19&lang=en&result_type=recent&include_entities=1', 'count': 100, 'since_id': 0, 'since_id_str': '0'}}\n"
     ]
    },
    {
     "name": "stderr",
     "output_type": "stream",
     "text": [
      "\r",
      " 68%|██████▊   | 308/450 [02:03<00:58,  2.41it/s]"
     ]
    },
    {
     "name": "stdout",
     "output_type": "stream",
     "text": [
      "{'statuses': [], 'search_metadata': {'completed_in': 0.006, 'max_id': 1386884874137649154, 'max_id_str': '1386884874137649154', 'query': '%23bitcoin+OR+%23BTC+since%3A2021-04-11+until%3A2021-04-19', 'refresh_url': '?since_id=1386884874137649154&q=%23bitcoin%20OR%20%23BTC%20since%3A2021-04-11%20until%3A2021-04-19&lang=en&result_type=recent&include_entities=1', 'count': 100, 'since_id': 0, 'since_id_str': '0'}}\n"
     ]
    },
    {
     "name": "stderr",
     "output_type": "stream",
     "text": [
      "\r",
      " 69%|██████▊   | 309/450 [02:04<00:58,  2.41it/s]"
     ]
    },
    {
     "name": "stdout",
     "output_type": "stream",
     "text": [
      "{'statuses': [], 'search_metadata': {'completed_in': 0.007, 'max_id': 1386884874137649154, 'max_id_str': '1386884874137649154', 'query': '%23bitcoin+OR+%23BTC+since%3A2021-04-11+until%3A2021-04-19', 'refresh_url': '?since_id=1386884874137649154&q=%23bitcoin%20OR%20%23BTC%20since%3A2021-04-11%20until%3A2021-04-19&lang=en&result_type=recent&include_entities=1', 'count': 100, 'since_id': 0, 'since_id_str': '0'}}\n"
     ]
    },
    {
     "name": "stderr",
     "output_type": "stream",
     "text": [
      "\r",
      " 69%|██████▉   | 310/450 [02:04<00:58,  2.40it/s]"
     ]
    },
    {
     "name": "stdout",
     "output_type": "stream",
     "text": [
      "{'statuses': [], 'search_metadata': {'completed_in': 0.006, 'max_id': 1386884874137649154, 'max_id_str': '1386884874137649154', 'query': '%23bitcoin+OR+%23BTC+since%3A2021-04-11+until%3A2021-04-19', 'refresh_url': '?since_id=1386884874137649154&q=%23bitcoin%20OR%20%23BTC%20since%3A2021-04-11%20until%3A2021-04-19&lang=en&result_type=recent&include_entities=1', 'count': 100, 'since_id': 0, 'since_id_str': '0'}}\n"
     ]
    },
    {
     "name": "stderr",
     "output_type": "stream",
     "text": [
      "\r",
      " 69%|██████▉   | 311/450 [02:04<00:57,  2.40it/s]"
     ]
    },
    {
     "name": "stdout",
     "output_type": "stream",
     "text": [
      "{'statuses': [], 'search_metadata': {'completed_in': 0.006, 'max_id': 1386884874137649154, 'max_id_str': '1386884874137649154', 'query': '%23bitcoin+OR+%23BTC+since%3A2021-04-11+until%3A2021-04-19', 'refresh_url': '?since_id=1386884874137649154&q=%23bitcoin%20OR%20%23BTC%20since%3A2021-04-11%20until%3A2021-04-19&lang=en&result_type=recent&include_entities=1', 'count': 100, 'since_id': 0, 'since_id_str': '0'}}\n"
     ]
    },
    {
     "name": "stderr",
     "output_type": "stream",
     "text": [
      "\r",
      " 69%|██████▉   | 312/450 [02:05<00:57,  2.39it/s]"
     ]
    },
    {
     "name": "stdout",
     "output_type": "stream",
     "text": [
      "{'statuses': [], 'search_metadata': {'completed_in': 0.005, 'max_id': 1386884874137649154, 'max_id_str': '1386884874137649154', 'query': '%23bitcoin+OR+%23BTC+since%3A2021-04-11+until%3A2021-04-19', 'refresh_url': '?since_id=1386884874137649154&q=%23bitcoin%20OR%20%23BTC%20since%3A2021-04-11%20until%3A2021-04-19&lang=en&result_type=recent&include_entities=1', 'count': 100, 'since_id': 0, 'since_id_str': '0'}}\n"
     ]
    },
    {
     "name": "stderr",
     "output_type": "stream",
     "text": [
      "\r",
      " 70%|██████▉   | 313/450 [02:05<00:57,  2.37it/s]"
     ]
    },
    {
     "name": "stdout",
     "output_type": "stream",
     "text": [
      "{'statuses': [], 'search_metadata': {'completed_in': 0.005, 'max_id': 1386884874137649154, 'max_id_str': '1386884874137649154', 'query': '%23bitcoin+OR+%23BTC+since%3A2021-04-11+until%3A2021-04-19', 'refresh_url': '?since_id=1386884874137649154&q=%23bitcoin%20OR%20%23BTC%20since%3A2021-04-11%20until%3A2021-04-19&lang=en&result_type=recent&include_entities=1', 'count': 100, 'since_id': 0, 'since_id_str': '0'}}\n"
     ]
    },
    {
     "name": "stderr",
     "output_type": "stream",
     "text": [
      "\r",
      " 70%|██████▉   | 314/450 [02:06<00:57,  2.38it/s]"
     ]
    },
    {
     "name": "stdout",
     "output_type": "stream",
     "text": [
      "{'statuses': [], 'search_metadata': {'completed_in': 0.007, 'max_id': 1386884874137649154, 'max_id_str': '1386884874137649154', 'query': '%23bitcoin+OR+%23BTC+since%3A2021-04-11+until%3A2021-04-19', 'refresh_url': '?since_id=1386884874137649154&q=%23bitcoin%20OR%20%23BTC%20since%3A2021-04-11%20until%3A2021-04-19&lang=en&result_type=recent&include_entities=1', 'count': 100, 'since_id': 0, 'since_id_str': '0'}}\n"
     ]
    },
    {
     "name": "stderr",
     "output_type": "stream",
     "text": [
      "\r",
      " 70%|███████   | 315/450 [02:06<00:56,  2.39it/s]"
     ]
    },
    {
     "name": "stdout",
     "output_type": "stream",
     "text": [
      "{'statuses': [], 'search_metadata': {'completed_in': 0.007, 'max_id': 1386884874137649154, 'max_id_str': '1386884874137649154', 'query': '%23bitcoin+OR+%23BTC+since%3A2021-04-11+until%3A2021-04-19', 'refresh_url': '?since_id=1386884874137649154&q=%23bitcoin%20OR%20%23BTC%20since%3A2021-04-11%20until%3A2021-04-19&lang=en&result_type=recent&include_entities=1', 'count': 100, 'since_id': 0, 'since_id_str': '0'}}\n"
     ]
    },
    {
     "name": "stderr",
     "output_type": "stream",
     "text": [
      "\r",
      " 70%|███████   | 316/450 [02:07<00:55,  2.39it/s]"
     ]
    },
    {
     "name": "stdout",
     "output_type": "stream",
     "text": [
      "{'statuses': [], 'search_metadata': {'completed_in': 0.007, 'max_id': 1386884874137649154, 'max_id_str': '1386884874137649154', 'query': '%23bitcoin+OR+%23BTC+since%3A2021-04-11+until%3A2021-04-19', 'refresh_url': '?since_id=1386884874137649154&q=%23bitcoin%20OR%20%23BTC%20since%3A2021-04-11%20until%3A2021-04-19&lang=en&result_type=recent&include_entities=1', 'count': 100, 'since_id': 0, 'since_id_str': '0'}}\n"
     ]
    },
    {
     "name": "stderr",
     "output_type": "stream",
     "text": [
      "\r",
      " 70%|███████   | 317/450 [02:07<00:55,  2.39it/s]"
     ]
    },
    {
     "name": "stdout",
     "output_type": "stream",
     "text": [
      "{'statuses': [], 'search_metadata': {'completed_in': 0.006, 'max_id': 1386884874137649154, 'max_id_str': '1386884874137649154', 'query': '%23bitcoin+OR+%23BTC+since%3A2021-04-11+until%3A2021-04-19', 'refresh_url': '?since_id=1386884874137649154&q=%23bitcoin%20OR%20%23BTC%20since%3A2021-04-11%20until%3A2021-04-19&lang=en&result_type=recent&include_entities=1', 'count': 100, 'since_id': 0, 'since_id_str': '0'}}\n"
     ]
    },
    {
     "name": "stderr",
     "output_type": "stream",
     "text": [
      "\r",
      " 71%|███████   | 318/450 [02:07<00:55,  2.38it/s]"
     ]
    },
    {
     "name": "stdout",
     "output_type": "stream",
     "text": [
      "{'statuses': [], 'search_metadata': {'completed_in': 0.007, 'max_id': 1386884874137649154, 'max_id_str': '1386884874137649154', 'query': '%23bitcoin+OR+%23BTC+since%3A2021-04-11+until%3A2021-04-19', 'refresh_url': '?since_id=1386884874137649154&q=%23bitcoin%20OR%20%23BTC%20since%3A2021-04-11%20until%3A2021-04-19&lang=en&result_type=recent&include_entities=1', 'count': 100, 'since_id': 0, 'since_id_str': '0'}}\n"
     ]
    },
    {
     "name": "stderr",
     "output_type": "stream",
     "text": [
      "\r",
      " 71%|███████   | 319/450 [02:08<00:55,  2.36it/s]"
     ]
    },
    {
     "name": "stdout",
     "output_type": "stream",
     "text": [
      "{'statuses': [], 'search_metadata': {'completed_in': 0.005, 'max_id': 1386884874137649154, 'max_id_str': '1386884874137649154', 'query': '%23bitcoin+OR+%23BTC+since%3A2021-04-11+until%3A2021-04-19', 'refresh_url': '?since_id=1386884874137649154&q=%23bitcoin%20OR%20%23BTC%20since%3A2021-04-11%20until%3A2021-04-19&lang=en&result_type=recent&include_entities=1', 'count': 100, 'since_id': 0, 'since_id_str': '0'}}\n"
     ]
    },
    {
     "name": "stderr",
     "output_type": "stream",
     "text": [
      "\r",
      " 71%|███████   | 320/450 [02:08<00:54,  2.38it/s]"
     ]
    },
    {
     "name": "stdout",
     "output_type": "stream",
     "text": [
      "{'statuses': [], 'search_metadata': {'completed_in': 0.007, 'max_id': 1386884874137649154, 'max_id_str': '1386884874137649154', 'query': '%23bitcoin+OR+%23BTC+since%3A2021-04-11+until%3A2021-04-19', 'refresh_url': '?since_id=1386884874137649154&q=%23bitcoin%20OR%20%23BTC%20since%3A2021-04-11%20until%3A2021-04-19&lang=en&result_type=recent&include_entities=1', 'count': 100, 'since_id': 0, 'since_id_str': '0'}}\n"
     ]
    },
    {
     "name": "stderr",
     "output_type": "stream",
     "text": [
      "\r",
      " 71%|███████▏  | 321/450 [02:09<00:53,  2.39it/s]"
     ]
    },
    {
     "name": "stdout",
     "output_type": "stream",
     "text": [
      "{'statuses': [], 'search_metadata': {'completed_in': 0.007, 'max_id': 1386884874137649154, 'max_id_str': '1386884874137649154', 'query': '%23bitcoin+OR+%23BTC+since%3A2021-04-11+until%3A2021-04-19', 'refresh_url': '?since_id=1386884874137649154&q=%23bitcoin%20OR%20%23BTC%20since%3A2021-04-11%20until%3A2021-04-19&lang=en&result_type=recent&include_entities=1', 'count': 100, 'since_id': 0, 'since_id_str': '0'}}\n"
     ]
    },
    {
     "name": "stderr",
     "output_type": "stream",
     "text": [
      "\r",
      " 72%|███████▏  | 322/450 [02:09<00:55,  2.31it/s]"
     ]
    },
    {
     "name": "stdout",
     "output_type": "stream",
     "text": [
      "{'statuses': [], 'search_metadata': {'completed_in': 0.006, 'max_id': 1386884874137649154, 'max_id_str': '1386884874137649154', 'query': '%23bitcoin+OR+%23BTC+since%3A2021-04-11+until%3A2021-04-19', 'refresh_url': '?since_id=1386884874137649154&q=%23bitcoin%20OR%20%23BTC%20since%3A2021-04-11%20until%3A2021-04-19&lang=en&result_type=recent&include_entities=1', 'count': 100, 'since_id': 0, 'since_id_str': '0'}}\n"
     ]
    },
    {
     "name": "stderr",
     "output_type": "stream",
     "text": [
      "\r",
      " 72%|███████▏  | 323/450 [02:10<00:54,  2.33it/s]"
     ]
    },
    {
     "name": "stdout",
     "output_type": "stream",
     "text": [
      "{'statuses': [], 'search_metadata': {'completed_in': 0.01, 'max_id': 1386884928458031116, 'max_id_str': '1386884928458031116', 'query': '%23bitcoin+OR+%23BTC+since%3A2021-04-11+until%3A2021-04-19', 'refresh_url': '?since_id=1386884928458031116&q=%23bitcoin%20OR%20%23BTC%20since%3A2021-04-11%20until%3A2021-04-19&lang=en&result_type=recent&include_entities=1', 'count': 100, 'since_id': 0, 'since_id_str': '0'}}\n"
     ]
    },
    {
     "name": "stderr",
     "output_type": "stream",
     "text": [
      "\r",
      " 72%|███████▏  | 324/450 [02:10<00:53,  2.35it/s]"
     ]
    },
    {
     "name": "stdout",
     "output_type": "stream",
     "text": [
      "{'statuses': [], 'search_metadata': {'completed_in': 0.006, 'max_id': 1386884928458031116, 'max_id_str': '1386884928458031116', 'query': '%23bitcoin+OR+%23BTC+since%3A2021-04-11+until%3A2021-04-19', 'refresh_url': '?since_id=1386884928458031116&q=%23bitcoin%20OR%20%23BTC%20since%3A2021-04-11%20until%3A2021-04-19&lang=en&result_type=recent&include_entities=1', 'count': 100, 'since_id': 0, 'since_id_str': '0'}}\n"
     ]
    },
    {
     "name": "stderr",
     "output_type": "stream",
     "text": [
      "\r",
      " 72%|███████▏  | 325/450 [02:10<00:52,  2.37it/s]"
     ]
    },
    {
     "name": "stdout",
     "output_type": "stream",
     "text": [
      "{'statuses': [], 'search_metadata': {'completed_in': 0.005, 'max_id': 1386884928458031116, 'max_id_str': '1386884928458031116', 'query': '%23bitcoin+OR+%23BTC+since%3A2021-04-11+until%3A2021-04-19', 'refresh_url': '?since_id=1386884928458031116&q=%23bitcoin%20OR%20%23BTC%20since%3A2021-04-11%20until%3A2021-04-19&lang=en&result_type=recent&include_entities=1', 'count': 100, 'since_id': 0, 'since_id_str': '0'}}\n"
     ]
    },
    {
     "name": "stderr",
     "output_type": "stream",
     "text": [
      "\r",
      " 72%|███████▏  | 326/450 [02:11<00:51,  2.39it/s]"
     ]
    },
    {
     "name": "stdout",
     "output_type": "stream",
     "text": [
      "{'statuses': [], 'search_metadata': {'completed_in': 0.006, 'max_id': 1386884928458031116, 'max_id_str': '1386884928458031116', 'query': '%23bitcoin+OR+%23BTC+since%3A2021-04-11+until%3A2021-04-19', 'refresh_url': '?since_id=1386884928458031116&q=%23bitcoin%20OR%20%23BTC%20since%3A2021-04-11%20until%3A2021-04-19&lang=en&result_type=recent&include_entities=1', 'count': 100, 'since_id': 0, 'since_id_str': '0'}}\n"
     ]
    },
    {
     "name": "stderr",
     "output_type": "stream",
     "text": [
      "\r",
      " 73%|███████▎  | 327/450 [02:11<00:51,  2.39it/s]"
     ]
    },
    {
     "name": "stdout",
     "output_type": "stream",
     "text": [
      "{'statuses': [], 'search_metadata': {'completed_in': 0.005, 'max_id': 1386884928458031116, 'max_id_str': '1386884928458031116', 'query': '%23bitcoin+OR+%23BTC+since%3A2021-04-11+until%3A2021-04-19', 'refresh_url': '?since_id=1386884928458031116&q=%23bitcoin%20OR%20%23BTC%20since%3A2021-04-11%20until%3A2021-04-19&lang=en&result_type=recent&include_entities=1', 'count': 100, 'since_id': 0, 'since_id_str': '0'}}\n"
     ]
    },
    {
     "name": "stderr",
     "output_type": "stream",
     "text": [
      "\r",
      " 73%|███████▎  | 328/450 [02:12<00:50,  2.40it/s]"
     ]
    },
    {
     "name": "stdout",
     "output_type": "stream",
     "text": [
      "{'statuses': [], 'search_metadata': {'completed_in': 0.006, 'max_id': 1386884928458031116, 'max_id_str': '1386884928458031116', 'query': '%23bitcoin+OR+%23BTC+since%3A2021-04-11+until%3A2021-04-19', 'refresh_url': '?since_id=1386884928458031116&q=%23bitcoin%20OR%20%23BTC%20since%3A2021-04-11%20until%3A2021-04-19&lang=en&result_type=recent&include_entities=1', 'count': 100, 'since_id': 0, 'since_id_str': '0'}}\n"
     ]
    },
    {
     "name": "stderr",
     "output_type": "stream",
     "text": [
      "\r",
      " 73%|███████▎  | 329/450 [02:12<00:50,  2.40it/s]"
     ]
    },
    {
     "name": "stdout",
     "output_type": "stream",
     "text": [
      "{'statuses': [], 'search_metadata': {'completed_in': 0.006, 'max_id': 1386884928458031116, 'max_id_str': '1386884928458031116', 'query': '%23bitcoin+OR+%23BTC+since%3A2021-04-11+until%3A2021-04-19', 'refresh_url': '?since_id=1386884928458031116&q=%23bitcoin%20OR%20%23BTC%20since%3A2021-04-11%20until%3A2021-04-19&lang=en&result_type=recent&include_entities=1', 'count': 100, 'since_id': 0, 'since_id_str': '0'}}\n"
     ]
    },
    {
     "name": "stderr",
     "output_type": "stream",
     "text": [
      "\r",
      " 73%|███████▎  | 330/450 [02:12<00:50,  2.39it/s]"
     ]
    },
    {
     "name": "stdout",
     "output_type": "stream",
     "text": [
      "{'statuses': [], 'search_metadata': {'completed_in': 0.008, 'max_id': 1386884928458031116, 'max_id_str': '1386884928458031116', 'query': '%23bitcoin+OR+%23BTC+since%3A2021-04-11+until%3A2021-04-19', 'refresh_url': '?since_id=1386884928458031116&q=%23bitcoin%20OR%20%23BTC%20since%3A2021-04-11%20until%3A2021-04-19&lang=en&result_type=recent&include_entities=1', 'count': 100, 'since_id': 0, 'since_id_str': '0'}}\n"
     ]
    },
    {
     "name": "stderr",
     "output_type": "stream",
     "text": [
      "\r",
      " 74%|███████▎  | 331/450 [02:13<00:49,  2.39it/s]"
     ]
    },
    {
     "name": "stdout",
     "output_type": "stream",
     "text": [
      "{'statuses': [], 'search_metadata': {'completed_in': 0.006, 'max_id': 1386884928458031116, 'max_id_str': '1386884928458031116', 'query': '%23bitcoin+OR+%23BTC+since%3A2021-04-11+until%3A2021-04-19', 'refresh_url': '?since_id=1386884928458031116&q=%23bitcoin%20OR%20%23BTC%20since%3A2021-04-11%20until%3A2021-04-19&lang=en&result_type=recent&include_entities=1', 'count': 100, 'since_id': 0, 'since_id_str': '0'}}\n"
     ]
    },
    {
     "name": "stderr",
     "output_type": "stream",
     "text": [
      "\r",
      " 74%|███████▍  | 332/450 [02:13<00:49,  2.39it/s]"
     ]
    },
    {
     "name": "stdout",
     "output_type": "stream",
     "text": [
      "{'statuses': [], 'search_metadata': {'completed_in': 0.006, 'max_id': 1386884928458031116, 'max_id_str': '1386884928458031116', 'query': '%23bitcoin+OR+%23BTC+since%3A2021-04-11+until%3A2021-04-19', 'refresh_url': '?since_id=1386884928458031116&q=%23bitcoin%20OR%20%23BTC%20since%3A2021-04-11%20until%3A2021-04-19&lang=en&result_type=recent&include_entities=1', 'count': 100, 'since_id': 0, 'since_id_str': '0'}}\n"
     ]
    },
    {
     "name": "stderr",
     "output_type": "stream",
     "text": [
      "\r",
      " 74%|███████▍  | 333/450 [02:14<00:48,  2.40it/s]"
     ]
    },
    {
     "name": "stdout",
     "output_type": "stream",
     "text": [
      "{'statuses': [], 'search_metadata': {'completed_in': 0.006, 'max_id': 1386884928458031116, 'max_id_str': '1386884928458031116', 'query': '%23bitcoin+OR+%23BTC+since%3A2021-04-11+until%3A2021-04-19', 'refresh_url': '?since_id=1386884928458031116&q=%23bitcoin%20OR%20%23BTC%20since%3A2021-04-11%20until%3A2021-04-19&lang=en&result_type=recent&include_entities=1', 'count': 100, 'since_id': 0, 'since_id_str': '0'}}\n"
     ]
    },
    {
     "name": "stderr",
     "output_type": "stream",
     "text": [
      "\r",
      " 74%|███████▍  | 334/450 [02:14<00:48,  2.41it/s]"
     ]
    },
    {
     "name": "stdout",
     "output_type": "stream",
     "text": [
      "{'statuses': [], 'search_metadata': {'completed_in': 0.005, 'max_id': 1386884928458031116, 'max_id_str': '1386884928458031116', 'query': '%23bitcoin+OR+%23BTC+since%3A2021-04-11+until%3A2021-04-19', 'refresh_url': '?since_id=1386884928458031116&q=%23bitcoin%20OR%20%23BTC%20since%3A2021-04-11%20until%3A2021-04-19&lang=en&result_type=recent&include_entities=1', 'count': 100, 'since_id': 0, 'since_id_str': '0'}}\n"
     ]
    },
    {
     "name": "stderr",
     "output_type": "stream",
     "text": [
      "\r",
      " 74%|███████▍  | 335/450 [02:15<00:47,  2.42it/s]"
     ]
    },
    {
     "name": "stdout",
     "output_type": "stream",
     "text": [
      "{'statuses': [], 'search_metadata': {'completed_in': 0.005, 'max_id': 1386884928458031116, 'max_id_str': '1386884928458031116', 'query': '%23bitcoin+OR+%23BTC+since%3A2021-04-11+until%3A2021-04-19', 'refresh_url': '?since_id=1386884928458031116&q=%23bitcoin%20OR%20%23BTC%20since%3A2021-04-11%20until%3A2021-04-19&lang=en&result_type=recent&include_entities=1', 'count': 100, 'since_id': 0, 'since_id_str': '0'}}\n"
     ]
    },
    {
     "name": "stderr",
     "output_type": "stream",
     "text": [
      "\r",
      " 75%|███████▍  | 336/450 [02:15<00:47,  2.43it/s]"
     ]
    },
    {
     "name": "stdout",
     "output_type": "stream",
     "text": [
      "{'statuses': [], 'search_metadata': {'completed_in': 0.005, 'max_id': 1386884928458031116, 'max_id_str': '1386884928458031116', 'query': '%23bitcoin+OR+%23BTC+since%3A2021-04-11+until%3A2021-04-19', 'refresh_url': '?since_id=1386884928458031116&q=%23bitcoin%20OR%20%23BTC%20since%3A2021-04-11%20until%3A2021-04-19&lang=en&result_type=recent&include_entities=1', 'count': 100, 'since_id': 0, 'since_id_str': '0'}}\n"
     ]
    },
    {
     "name": "stderr",
     "output_type": "stream",
     "text": [
      "\r",
      " 75%|███████▍  | 337/450 [02:15<00:46,  2.43it/s]"
     ]
    },
    {
     "name": "stdout",
     "output_type": "stream",
     "text": [
      "{'statuses': [], 'search_metadata': {'completed_in': 0.005, 'max_id': 1386884928458031116, 'max_id_str': '1386884928458031116', 'query': '%23bitcoin+OR+%23BTC+since%3A2021-04-11+until%3A2021-04-19', 'refresh_url': '?since_id=1386884928458031116&q=%23bitcoin%20OR%20%23BTC%20since%3A2021-04-11%20until%3A2021-04-19&lang=en&result_type=recent&include_entities=1', 'count': 100, 'since_id': 0, 'since_id_str': '0'}}\n"
     ]
    },
    {
     "name": "stderr",
     "output_type": "stream",
     "text": [
      "\r",
      " 75%|███████▌  | 338/450 [02:16<00:46,  2.43it/s]"
     ]
    },
    {
     "name": "stdout",
     "output_type": "stream",
     "text": [
      "{'statuses': [], 'search_metadata': {'completed_in': 0.007, 'max_id': 1386884928458031116, 'max_id_str': '1386884928458031116', 'query': '%23bitcoin+OR+%23BTC+since%3A2021-04-11+until%3A2021-04-19', 'refresh_url': '?since_id=1386884928458031116&q=%23bitcoin%20OR%20%23BTC%20since%3A2021-04-11%20until%3A2021-04-19&lang=en&result_type=recent&include_entities=1', 'count': 100, 'since_id': 0, 'since_id_str': '0'}}\n"
     ]
    },
    {
     "name": "stderr",
     "output_type": "stream",
     "text": [
      "\r",
      " 75%|███████▌  | 339/450 [02:16<00:45,  2.43it/s]"
     ]
    },
    {
     "name": "stdout",
     "output_type": "stream",
     "text": [
      "{'statuses': [], 'search_metadata': {'completed_in': 0.006, 'max_id': 1386884928458031116, 'max_id_str': '1386884928458031116', 'query': '%23bitcoin+OR+%23BTC+since%3A2021-04-11+until%3A2021-04-19', 'refresh_url': '?since_id=1386884928458031116&q=%23bitcoin%20OR%20%23BTC%20since%3A2021-04-11%20until%3A2021-04-19&lang=en&result_type=recent&include_entities=1', 'count': 100, 'since_id': 0, 'since_id_str': '0'}}\n"
     ]
    },
    {
     "name": "stderr",
     "output_type": "stream",
     "text": [
      "\r",
      " 76%|███████▌  | 340/450 [02:17<00:45,  2.43it/s]"
     ]
    },
    {
     "name": "stdout",
     "output_type": "stream",
     "text": [
      "{'statuses': [], 'search_metadata': {'completed_in': 0.006, 'max_id': 1386884928458031116, 'max_id_str': '1386884928458031116', 'query': '%23bitcoin+OR+%23BTC+since%3A2021-04-11+until%3A2021-04-19', 'refresh_url': '?since_id=1386884928458031116&q=%23bitcoin%20OR%20%23BTC%20since%3A2021-04-11%20until%3A2021-04-19&lang=en&result_type=recent&include_entities=1', 'count': 100, 'since_id': 0, 'since_id_str': '0'}}\n"
     ]
    },
    {
     "name": "stderr",
     "output_type": "stream",
     "text": [
      "\r",
      " 76%|███████▌  | 341/450 [02:17<00:44,  2.43it/s]"
     ]
    },
    {
     "name": "stdout",
     "output_type": "stream",
     "text": [
      "{'statuses': [], 'search_metadata': {'completed_in': 0.006, 'max_id': 1386884928458031116, 'max_id_str': '1386884928458031116', 'query': '%23bitcoin+OR+%23BTC+since%3A2021-04-11+until%3A2021-04-19', 'refresh_url': '?since_id=1386884928458031116&q=%23bitcoin%20OR%20%23BTC%20since%3A2021-04-11%20until%3A2021-04-19&lang=en&result_type=recent&include_entities=1', 'count': 100, 'since_id': 0, 'since_id_str': '0'}}\n"
     ]
    },
    {
     "name": "stderr",
     "output_type": "stream",
     "text": [
      "\r",
      " 76%|███████▌  | 342/450 [02:17<00:44,  2.42it/s]"
     ]
    },
    {
     "name": "stdout",
     "output_type": "stream",
     "text": [
      "{'statuses': [], 'search_metadata': {'completed_in': 0.005, 'max_id': 1386884928458031116, 'max_id_str': '1386884928458031116', 'query': '%23bitcoin+OR+%23BTC+since%3A2021-04-11+until%3A2021-04-19', 'refresh_url': '?since_id=1386884928458031116&q=%23bitcoin%20OR%20%23BTC%20since%3A2021-04-11%20until%3A2021-04-19&lang=en&result_type=recent&include_entities=1', 'count': 100, 'since_id': 0, 'since_id_str': '0'}}\n"
     ]
    },
    {
     "name": "stderr",
     "output_type": "stream",
     "text": [
      "\r",
      " 76%|███████▌  | 343/450 [02:18<00:44,  2.42it/s]"
     ]
    },
    {
     "name": "stdout",
     "output_type": "stream",
     "text": [
      "{'statuses': [], 'search_metadata': {'completed_in': 0.007, 'max_id': 1386884928458031116, 'max_id_str': '1386884928458031116', 'query': '%23bitcoin+OR+%23BTC+since%3A2021-04-11+until%3A2021-04-19', 'refresh_url': '?since_id=1386884928458031116&q=%23bitcoin%20OR%20%23BTC%20since%3A2021-04-11%20until%3A2021-04-19&lang=en&result_type=recent&include_entities=1', 'count': 100, 'since_id': 0, 'since_id_str': '0'}}\n"
     ]
    },
    {
     "name": "stderr",
     "output_type": "stream",
     "text": [
      "\r",
      " 76%|███████▋  | 344/450 [02:18<00:43,  2.42it/s]"
     ]
    },
    {
     "name": "stdout",
     "output_type": "stream",
     "text": [
      "{'statuses': [], 'search_metadata': {'completed_in': 0.006, 'max_id': 1386884928458031116, 'max_id_str': '1386884928458031116', 'query': '%23bitcoin+OR+%23BTC+since%3A2021-04-11+until%3A2021-04-19', 'refresh_url': '?since_id=1386884928458031116&q=%23bitcoin%20OR%20%23BTC%20since%3A2021-04-11%20until%3A2021-04-19&lang=en&result_type=recent&include_entities=1', 'count': 100, 'since_id': 0, 'since_id_str': '0'}}\n"
     ]
    },
    {
     "name": "stderr",
     "output_type": "stream",
     "text": [
      "\r",
      " 77%|███████▋  | 345/450 [02:19<00:44,  2.37it/s]"
     ]
    },
    {
     "name": "stdout",
     "output_type": "stream",
     "text": [
      "{'statuses': [], 'search_metadata': {'completed_in': 0.005, 'max_id': 1386884928458031116, 'max_id_str': '1386884928458031116', 'query': '%23bitcoin+OR+%23BTC+since%3A2021-04-11+until%3A2021-04-19', 'refresh_url': '?since_id=1386884928458031116&q=%23bitcoin%20OR%20%23BTC%20since%3A2021-04-11%20until%3A2021-04-19&lang=en&result_type=recent&include_entities=1', 'count': 100, 'since_id': 0, 'since_id_str': '0'}}\n"
     ]
    },
    {
     "name": "stderr",
     "output_type": "stream",
     "text": [
      "\r",
      " 77%|███████▋  | 346/450 [02:19<00:43,  2.39it/s]"
     ]
    },
    {
     "name": "stdout",
     "output_type": "stream",
     "text": [
      "{'statuses': [], 'search_metadata': {'completed_in': 0.005, 'max_id': 1386884928458031116, 'max_id_str': '1386884928458031116', 'query': '%23bitcoin+OR+%23BTC+since%3A2021-04-11+until%3A2021-04-19', 'refresh_url': '?since_id=1386884928458031116&q=%23bitcoin%20OR%20%23BTC%20since%3A2021-04-11%20until%3A2021-04-19&lang=en&result_type=recent&include_entities=1', 'count': 100, 'since_id': 0, 'since_id_str': '0'}}\n"
     ]
    },
    {
     "name": "stderr",
     "output_type": "stream",
     "text": [
      "\r",
      " 77%|███████▋  | 347/450 [02:19<00:43,  2.39it/s]"
     ]
    },
    {
     "name": "stdout",
     "output_type": "stream",
     "text": [
      "{'statuses': [], 'search_metadata': {'completed_in': 0.006, 'max_id': 1386884928458031116, 'max_id_str': '1386884928458031116', 'query': '%23bitcoin+OR+%23BTC+since%3A2021-04-11+until%3A2021-04-19', 'refresh_url': '?since_id=1386884928458031116&q=%23bitcoin%20OR%20%23BTC%20since%3A2021-04-11%20until%3A2021-04-19&lang=en&result_type=recent&include_entities=1', 'count': 100, 'since_id': 0, 'since_id_str': '0'}}\n"
     ]
    },
    {
     "name": "stderr",
     "output_type": "stream",
     "text": [
      "\r",
      " 77%|███████▋  | 348/450 [02:20<00:42,  2.41it/s]"
     ]
    },
    {
     "name": "stdout",
     "output_type": "stream",
     "text": [
      "{'statuses': [], 'search_metadata': {'completed_in': 0.006, 'max_id': 1386884928458031116, 'max_id_str': '1386884928458031116', 'query': '%23bitcoin+OR+%23BTC+since%3A2021-04-11+until%3A2021-04-19', 'refresh_url': '?since_id=1386884928458031116&q=%23bitcoin%20OR%20%23BTC%20since%3A2021-04-11%20until%3A2021-04-19&lang=en&result_type=recent&include_entities=1', 'count': 100, 'since_id': 0, 'since_id_str': '0'}}\n"
     ]
    },
    {
     "name": "stderr",
     "output_type": "stream",
     "text": [
      "\r",
      " 78%|███████▊  | 349/450 [02:20<00:41,  2.41it/s]"
     ]
    },
    {
     "name": "stdout",
     "output_type": "stream",
     "text": [
      "{'statuses': [], 'search_metadata': {'completed_in': 0.007, 'max_id': 1386884928458031116, 'max_id_str': '1386884928458031116', 'query': '%23bitcoin+OR+%23BTC+since%3A2021-04-11+until%3A2021-04-19', 'refresh_url': '?since_id=1386884928458031116&q=%23bitcoin%20OR%20%23BTC%20since%3A2021-04-11%20until%3A2021-04-19&lang=en&result_type=recent&include_entities=1', 'count': 100, 'since_id': 0, 'since_id_str': '0'}}\n"
     ]
    },
    {
     "name": "stderr",
     "output_type": "stream",
     "text": [
      "\r",
      " 78%|███████▊  | 350/450 [02:21<00:41,  2.40it/s]"
     ]
    },
    {
     "name": "stdout",
     "output_type": "stream",
     "text": [
      "{'statuses': [], 'search_metadata': {'completed_in': 0.007, 'max_id': 1386884928458031116, 'max_id_str': '1386884928458031116', 'query': '%23bitcoin+OR+%23BTC+since%3A2021-04-11+until%3A2021-04-19', 'refresh_url': '?since_id=1386884928458031116&q=%23bitcoin%20OR%20%23BTC%20since%3A2021-04-11%20until%3A2021-04-19&lang=en&result_type=recent&include_entities=1', 'count': 100, 'since_id': 0, 'since_id_str': '0'}}\n"
     ]
    },
    {
     "name": "stderr",
     "output_type": "stream",
     "text": [
      "\r",
      " 78%|███████▊  | 351/450 [02:21<00:41,  2.40it/s]"
     ]
    },
    {
     "name": "stdout",
     "output_type": "stream",
     "text": [
      "{'statuses': [], 'search_metadata': {'completed_in': 0.006, 'max_id': 1386884928458031116, 'max_id_str': '1386884928458031116', 'query': '%23bitcoin+OR+%23BTC+since%3A2021-04-11+until%3A2021-04-19', 'refresh_url': '?since_id=1386884928458031116&q=%23bitcoin%20OR%20%23BTC%20since%3A2021-04-11%20until%3A2021-04-19&lang=en&result_type=recent&include_entities=1', 'count': 100, 'since_id': 0, 'since_id_str': '0'}}\n"
     ]
    },
    {
     "name": "stderr",
     "output_type": "stream",
     "text": [
      "\r",
      " 78%|███████▊  | 352/450 [02:22<00:40,  2.39it/s]"
     ]
    },
    {
     "name": "stdout",
     "output_type": "stream",
     "text": [
      "{'statuses': [], 'search_metadata': {'completed_in': 0.006, 'max_id': 1386884928458031116, 'max_id_str': '1386884928458031116', 'query': '%23bitcoin+OR+%23BTC+since%3A2021-04-11+until%3A2021-04-19', 'refresh_url': '?since_id=1386884928458031116&q=%23bitcoin%20OR%20%23BTC%20since%3A2021-04-11%20until%3A2021-04-19&lang=en&result_type=recent&include_entities=1', 'count': 100, 'since_id': 0, 'since_id_str': '0'}}\n"
     ]
    },
    {
     "name": "stderr",
     "output_type": "stream",
     "text": [
      "\r",
      " 78%|███████▊  | 353/450 [02:22<00:41,  2.35it/s]"
     ]
    },
    {
     "name": "stdout",
     "output_type": "stream",
     "text": [
      "{'statuses': [], 'search_metadata': {'completed_in': 0.006, 'max_id': 1386884928458031116, 'max_id_str': '1386884928458031116', 'query': '%23bitcoin+OR+%23BTC+since%3A2021-04-11+until%3A2021-04-19', 'refresh_url': '?since_id=1386884928458031116&q=%23bitcoin%20OR%20%23BTC%20since%3A2021-04-11%20until%3A2021-04-19&lang=en&result_type=recent&include_entities=1', 'count': 100, 'since_id': 0, 'since_id_str': '0'}}\n"
     ]
    },
    {
     "name": "stderr",
     "output_type": "stream",
     "text": [
      "\r",
      " 79%|███████▊  | 354/450 [02:22<00:40,  2.35it/s]"
     ]
    },
    {
     "name": "stdout",
     "output_type": "stream",
     "text": [
      "{'statuses': [], 'search_metadata': {'completed_in': 0.007, 'max_id': 1386884928458031116, 'max_id_str': '1386884928458031116', 'query': '%23bitcoin+OR+%23BTC+since%3A2021-04-11+until%3A2021-04-19', 'refresh_url': '?since_id=1386884928458031116&q=%23bitcoin%20OR%20%23BTC%20since%3A2021-04-11%20until%3A2021-04-19&lang=en&result_type=recent&include_entities=1', 'count': 100, 'since_id': 0, 'since_id_str': '0'}}\n"
     ]
    },
    {
     "name": "stderr",
     "output_type": "stream",
     "text": [
      "\r",
      " 79%|███████▉  | 355/450 [02:23<00:40,  2.35it/s]"
     ]
    },
    {
     "name": "stdout",
     "output_type": "stream",
     "text": [
      "{'statuses': [], 'search_metadata': {'completed_in': 0.006, 'max_id': 1386884928458031116, 'max_id_str': '1386884928458031116', 'query': '%23bitcoin+OR+%23BTC+since%3A2021-04-11+until%3A2021-04-19', 'refresh_url': '?since_id=1386884928458031116&q=%23bitcoin%20OR%20%23BTC%20since%3A2021-04-11%20until%3A2021-04-19&lang=en&result_type=recent&include_entities=1', 'count': 100, 'since_id': 0, 'since_id_str': '0'}}\n"
     ]
    },
    {
     "name": "stderr",
     "output_type": "stream",
     "text": [
      "\r",
      " 79%|███████▉  | 356/450 [02:23<00:40,  2.34it/s]"
     ]
    },
    {
     "name": "stdout",
     "output_type": "stream",
     "text": [
      "{'statuses': [], 'search_metadata': {'completed_in': 0.006, 'max_id': 1386884928458031116, 'max_id_str': '1386884928458031116', 'query': '%23bitcoin+OR+%23BTC+since%3A2021-04-11+until%3A2021-04-19', 'refresh_url': '?since_id=1386884928458031116&q=%23bitcoin%20OR%20%23BTC%20since%3A2021-04-11%20until%3A2021-04-19&lang=en&result_type=recent&include_entities=1', 'count': 100, 'since_id': 0, 'since_id_str': '0'}}\n"
     ]
    },
    {
     "name": "stderr",
     "output_type": "stream",
     "text": [
      "\r",
      " 79%|███████▉  | 357/450 [02:24<00:39,  2.35it/s]"
     ]
    },
    {
     "name": "stdout",
     "output_type": "stream",
     "text": [
      "{'statuses': [], 'search_metadata': {'completed_in': 0.007, 'max_id': 1386884928458031116, 'max_id_str': '1386884928458031116', 'query': '%23bitcoin+OR+%23BTC+since%3A2021-04-11+until%3A2021-04-19', 'refresh_url': '?since_id=1386884928458031116&q=%23bitcoin%20OR%20%23BTC%20since%3A2021-04-11%20until%3A2021-04-19&lang=en&result_type=recent&include_entities=1', 'count': 100, 'since_id': 0, 'since_id_str': '0'}}\n"
     ]
    },
    {
     "name": "stderr",
     "output_type": "stream",
     "text": [
      "\r",
      " 80%|███████▉  | 358/450 [02:24<00:39,  2.35it/s]"
     ]
    },
    {
     "name": "stdout",
     "output_type": "stream",
     "text": [
      "{'statuses': [], 'search_metadata': {'completed_in': 0.007, 'max_id': 1386884928458031116, 'max_id_str': '1386884928458031116', 'query': '%23bitcoin+OR+%23BTC+since%3A2021-04-11+until%3A2021-04-19', 'refresh_url': '?since_id=1386884928458031116&q=%23bitcoin%20OR%20%23BTC%20since%3A2021-04-11%20until%3A2021-04-19&lang=en&result_type=recent&include_entities=1', 'count': 100, 'since_id': 0, 'since_id_str': '0'}}\n"
     ]
    },
    {
     "name": "stderr",
     "output_type": "stream",
     "text": [
      "\r",
      " 80%|███████▉  | 359/450 [02:25<00:38,  2.35it/s]"
     ]
    },
    {
     "name": "stdout",
     "output_type": "stream",
     "text": [
      "{'statuses': [], 'search_metadata': {'completed_in': 0.006, 'max_id': 1386884928458031116, 'max_id_str': '1386884928458031116', 'query': '%23bitcoin+OR+%23BTC+since%3A2021-04-11+until%3A2021-04-19', 'refresh_url': '?since_id=1386884928458031116&q=%23bitcoin%20OR%20%23BTC%20since%3A2021-04-11%20until%3A2021-04-19&lang=en&result_type=recent&include_entities=1', 'count': 100, 'since_id': 0, 'since_id_str': '0'}}\n"
     ]
    },
    {
     "name": "stderr",
     "output_type": "stream",
     "text": [
      "\r",
      " 80%|████████  | 360/450 [02:25<00:38,  2.36it/s]"
     ]
    },
    {
     "name": "stdout",
     "output_type": "stream",
     "text": [
      "{'statuses': [], 'search_metadata': {'completed_in': 0.006, 'max_id': 1386884928458031116, 'max_id_str': '1386884928458031116', 'query': '%23bitcoin+OR+%23BTC+since%3A2021-04-11+until%3A2021-04-19', 'refresh_url': '?since_id=1386884928458031116&q=%23bitcoin%20OR%20%23BTC%20since%3A2021-04-11%20until%3A2021-04-19&lang=en&result_type=recent&include_entities=1', 'count': 100, 'since_id': 0, 'since_id_str': '0'}}\n"
     ]
    },
    {
     "name": "stderr",
     "output_type": "stream",
     "text": [
      "\r",
      " 80%|████████  | 361/450 [02:25<00:37,  2.38it/s]"
     ]
    },
    {
     "name": "stdout",
     "output_type": "stream",
     "text": [
      "{'statuses': [], 'search_metadata': {'completed_in': 0.006, 'max_id': 1386884928458031116, 'max_id_str': '1386884928458031116', 'query': '%23bitcoin+OR+%23BTC+since%3A2021-04-11+until%3A2021-04-19', 'refresh_url': '?since_id=1386884928458031116&q=%23bitcoin%20OR%20%23BTC%20since%3A2021-04-11%20until%3A2021-04-19&lang=en&result_type=recent&include_entities=1', 'count': 100, 'since_id': 0, 'since_id_str': '0'}}\n"
     ]
    },
    {
     "name": "stderr",
     "output_type": "stream",
     "text": [
      "\r",
      " 80%|████████  | 362/450 [02:26<00:36,  2.38it/s]"
     ]
    },
    {
     "name": "stdout",
     "output_type": "stream",
     "text": [
      "{'statuses': [], 'search_metadata': {'completed_in': 0.006, 'max_id': 1386884928458031116, 'max_id_str': '1386884928458031116', 'query': '%23bitcoin+OR+%23BTC+since%3A2021-04-11+until%3A2021-04-19', 'refresh_url': '?since_id=1386884928458031116&q=%23bitcoin%20OR%20%23BTC%20since%3A2021-04-11%20until%3A2021-04-19&lang=en&result_type=recent&include_entities=1', 'count': 100, 'since_id': 0, 'since_id_str': '0'}}\n"
     ]
    },
    {
     "name": "stderr",
     "output_type": "stream",
     "text": [
      "\r",
      " 81%|████████  | 363/450 [02:26<00:36,  2.38it/s]"
     ]
    },
    {
     "name": "stdout",
     "output_type": "stream",
     "text": [
      "{'statuses': [], 'search_metadata': {'completed_in': 0.005, 'max_id': 1386884928458031116, 'max_id_str': '1386884928458031116', 'query': '%23bitcoin+OR+%23BTC+since%3A2021-04-11+until%3A2021-04-19', 'refresh_url': '?since_id=1386884928458031116&q=%23bitcoin%20OR%20%23BTC%20since%3A2021-04-11%20until%3A2021-04-19&lang=en&result_type=recent&include_entities=1', 'count': 100, 'since_id': 0, 'since_id_str': '0'}}\n"
     ]
    },
    {
     "name": "stderr",
     "output_type": "stream",
     "text": [
      "\r",
      " 81%|████████  | 364/450 [02:27<00:36,  2.36it/s]"
     ]
    },
    {
     "name": "stdout",
     "output_type": "stream",
     "text": [
      "{'statuses': [], 'search_metadata': {'completed_in': 0.007, 'max_id': 1386884928458031116, 'max_id_str': '1386884928458031116', 'query': '%23bitcoin+OR+%23BTC+since%3A2021-04-11+until%3A2021-04-19', 'refresh_url': '?since_id=1386884928458031116&q=%23bitcoin%20OR%20%23BTC%20since%3A2021-04-11%20until%3A2021-04-19&lang=en&result_type=recent&include_entities=1', 'count': 100, 'since_id': 0, 'since_id_str': '0'}}\n"
     ]
    },
    {
     "name": "stderr",
     "output_type": "stream",
     "text": [
      "\r",
      " 81%|████████  | 365/450 [02:27<00:35,  2.37it/s]"
     ]
    },
    {
     "name": "stdout",
     "output_type": "stream",
     "text": [
      "{'statuses': [], 'search_metadata': {'completed_in': 0.006, 'max_id': 1386884928458031116, 'max_id_str': '1386884928458031116', 'query': '%23bitcoin+OR+%23BTC+since%3A2021-04-11+until%3A2021-04-19', 'refresh_url': '?since_id=1386884928458031116&q=%23bitcoin%20OR%20%23BTC%20since%3A2021-04-11%20until%3A2021-04-19&lang=en&result_type=recent&include_entities=1', 'count': 100, 'since_id': 0, 'since_id_str': '0'}}\n"
     ]
    },
    {
     "name": "stderr",
     "output_type": "stream",
     "text": [
      "\r",
      " 81%|████████▏ | 366/450 [02:28<00:35,  2.38it/s]"
     ]
    },
    {
     "name": "stdout",
     "output_type": "stream",
     "text": [
      "{'statuses': [], 'search_metadata': {'completed_in': 0.006, 'max_id': 1386884928458031116, 'max_id_str': '1386884928458031116', 'query': '%23bitcoin+OR+%23BTC+since%3A2021-04-11+until%3A2021-04-19', 'refresh_url': '?since_id=1386884928458031116&q=%23bitcoin%20OR%20%23BTC%20since%3A2021-04-11%20until%3A2021-04-19&lang=en&result_type=recent&include_entities=1', 'count': 100, 'since_id': 0, 'since_id_str': '0'}}\n"
     ]
    },
    {
     "name": "stderr",
     "output_type": "stream",
     "text": [
      "\r",
      " 82%|████████▏ | 367/450 [02:28<00:34,  2.39it/s]"
     ]
    },
    {
     "name": "stdout",
     "output_type": "stream",
     "text": [
      "{'statuses': [], 'search_metadata': {'completed_in': 0.007, 'max_id': 1386884928458031116, 'max_id_str': '1386884928458031116', 'query': '%23bitcoin+OR+%23BTC+since%3A2021-04-11+until%3A2021-04-19', 'refresh_url': '?since_id=1386884928458031116&q=%23bitcoin%20OR%20%23BTC%20since%3A2021-04-11%20until%3A2021-04-19&lang=en&result_type=recent&include_entities=1', 'count': 100, 'since_id': 0, 'since_id_str': '0'}}\n"
     ]
    },
    {
     "name": "stderr",
     "output_type": "stream",
     "text": [
      "\r",
      " 82%|████████▏ | 368/450 [02:28<00:34,  2.40it/s]"
     ]
    },
    {
     "name": "stdout",
     "output_type": "stream",
     "text": [
      "{'statuses': [], 'search_metadata': {'completed_in': 0.006, 'max_id': 1386884928458031116, 'max_id_str': '1386884928458031116', 'query': '%23bitcoin+OR+%23BTC+since%3A2021-04-11+until%3A2021-04-19', 'refresh_url': '?since_id=1386884928458031116&q=%23bitcoin%20OR%20%23BTC%20since%3A2021-04-11%20until%3A2021-04-19&lang=en&result_type=recent&include_entities=1', 'count': 100, 'since_id': 0, 'since_id_str': '0'}}\n"
     ]
    },
    {
     "name": "stderr",
     "output_type": "stream",
     "text": [
      "\r",
      " 82%|████████▏ | 369/450 [02:29<00:33,  2.40it/s]"
     ]
    },
    {
     "name": "stdout",
     "output_type": "stream",
     "text": [
      "{'statuses': [], 'search_metadata': {'completed_in': 0.006, 'max_id': 1386884928458031116, 'max_id_str': '1386884928458031116', 'query': '%23bitcoin+OR+%23BTC+since%3A2021-04-11+until%3A2021-04-19', 'refresh_url': '?since_id=1386884928458031116&q=%23bitcoin%20OR%20%23BTC%20since%3A2021-04-11%20until%3A2021-04-19&lang=en&result_type=recent&include_entities=1', 'count': 100, 'since_id': 0, 'since_id_str': '0'}}\n"
     ]
    },
    {
     "name": "stderr",
     "output_type": "stream",
     "text": [
      "\r",
      " 82%|████████▏ | 370/450 [02:29<00:33,  2.39it/s]"
     ]
    },
    {
     "name": "stdout",
     "output_type": "stream",
     "text": [
      "{'statuses': [], 'search_metadata': {'completed_in': 0.008, 'max_id': 1386884928458031116, 'max_id_str': '1386884928458031116', 'query': '%23bitcoin+OR+%23BTC+since%3A2021-04-11+until%3A2021-04-19', 'refresh_url': '?since_id=1386884928458031116&q=%23bitcoin%20OR%20%23BTC%20since%3A2021-04-11%20until%3A2021-04-19&lang=en&result_type=recent&include_entities=1', 'count': 100, 'since_id': 0, 'since_id_str': '0'}}\n"
     ]
    },
    {
     "name": "stderr",
     "output_type": "stream",
     "text": [
      "\r",
      " 82%|████████▏ | 371/450 [02:30<00:33,  2.37it/s]"
     ]
    },
    {
     "name": "stdout",
     "output_type": "stream",
     "text": [
      "{'statuses': [], 'search_metadata': {'completed_in': 0.019, 'max_id': 1386885012834881536, 'max_id_str': '1386885012834881536', 'query': '%23bitcoin+OR+%23BTC+since%3A2021-04-11+until%3A2021-04-19', 'refresh_url': '?since_id=1386885012834881536&q=%23bitcoin%20OR%20%23BTC%20since%3A2021-04-11%20until%3A2021-04-19&lang=en&result_type=recent&include_entities=1', 'count': 100, 'since_id': 0, 'since_id_str': '0'}}\n"
     ]
    },
    {
     "name": "stderr",
     "output_type": "stream",
     "text": [
      "\r",
      " 83%|████████▎ | 372/450 [02:30<00:32,  2.38it/s]"
     ]
    },
    {
     "name": "stdout",
     "output_type": "stream",
     "text": [
      "{'statuses': [], 'search_metadata': {'completed_in': 0.006, 'max_id': 1386885012834881536, 'max_id_str': '1386885012834881536', 'query': '%23bitcoin+OR+%23BTC+since%3A2021-04-11+until%3A2021-04-19', 'refresh_url': '?since_id=1386885012834881536&q=%23bitcoin%20OR%20%23BTC%20since%3A2021-04-11%20until%3A2021-04-19&lang=en&result_type=recent&include_entities=1', 'count': 100, 'since_id': 0, 'since_id_str': '0'}}\n"
     ]
    },
    {
     "name": "stderr",
     "output_type": "stream",
     "text": [
      "\r",
      " 83%|████████▎ | 373/450 [02:30<00:32,  2.38it/s]"
     ]
    },
    {
     "name": "stdout",
     "output_type": "stream",
     "text": [
      "{'statuses': [], 'search_metadata': {'completed_in': 0.006, 'max_id': 1386885012834881536, 'max_id_str': '1386885012834881536', 'query': '%23bitcoin+OR+%23BTC+since%3A2021-04-11+until%3A2021-04-19', 'refresh_url': '?since_id=1386885012834881536&q=%23bitcoin%20OR%20%23BTC%20since%3A2021-04-11%20until%3A2021-04-19&lang=en&result_type=recent&include_entities=1', 'count': 100, 'since_id': 0, 'since_id_str': '0'}}\n"
     ]
    },
    {
     "name": "stderr",
     "output_type": "stream",
     "text": [
      "\r",
      " 83%|████████▎ | 374/450 [02:31<00:31,  2.38it/s]"
     ]
    },
    {
     "name": "stdout",
     "output_type": "stream",
     "text": [
      "{'statuses': [], 'search_metadata': {'completed_in': 0.005, 'max_id': 1386885012834881536, 'max_id_str': '1386885012834881536', 'query': '%23bitcoin+OR+%23BTC+since%3A2021-04-11+until%3A2021-04-19', 'refresh_url': '?since_id=1386885012834881536&q=%23bitcoin%20OR%20%23BTC%20since%3A2021-04-11%20until%3A2021-04-19&lang=en&result_type=recent&include_entities=1', 'count': 100, 'since_id': 0, 'since_id_str': '0'}}\n"
     ]
    },
    {
     "name": "stderr",
     "output_type": "stream",
     "text": [
      "\r",
      " 83%|████████▎ | 375/450 [02:31<00:31,  2.39it/s]"
     ]
    },
    {
     "name": "stdout",
     "output_type": "stream",
     "text": [
      "{'statuses': [], 'search_metadata': {'completed_in': 0.004, 'max_id': 1386885012834881536, 'max_id_str': '1386885012834881536', 'query': '%23bitcoin+OR+%23BTC+since%3A2021-04-11+until%3A2021-04-19', 'refresh_url': '?since_id=1386885012834881536&q=%23bitcoin%20OR%20%23BTC%20since%3A2021-04-11%20until%3A2021-04-19&lang=en&result_type=recent&include_entities=1', 'count': 100, 'since_id': 0, 'since_id_str': '0'}}\n"
     ]
    },
    {
     "name": "stderr",
     "output_type": "stream",
     "text": [
      "\r",
      " 84%|████████▎ | 376/450 [02:32<00:30,  2.39it/s]"
     ]
    },
    {
     "name": "stdout",
     "output_type": "stream",
     "text": [
      "{'statuses': [], 'search_metadata': {'completed_in': 0.006, 'max_id': 1386885012834881536, 'max_id_str': '1386885012834881536', 'query': '%23bitcoin+OR+%23BTC+since%3A2021-04-11+until%3A2021-04-19', 'refresh_url': '?since_id=1386885012834881536&q=%23bitcoin%20OR%20%23BTC%20since%3A2021-04-11%20until%3A2021-04-19&lang=en&result_type=recent&include_entities=1', 'count': 100, 'since_id': 0, 'since_id_str': '0'}}\n"
     ]
    },
    {
     "name": "stderr",
     "output_type": "stream",
     "text": [
      "\r",
      " 84%|████████▍ | 377/450 [02:32<00:30,  2.39it/s]"
     ]
    },
    {
     "name": "stdout",
     "output_type": "stream",
     "text": [
      "{'statuses': [], 'search_metadata': {'completed_in': 0.006, 'max_id': 1386885012834881536, 'max_id_str': '1386885012834881536', 'query': '%23bitcoin+OR+%23BTC+since%3A2021-04-11+until%3A2021-04-19', 'refresh_url': '?since_id=1386885012834881536&q=%23bitcoin%20OR%20%23BTC%20since%3A2021-04-11%20until%3A2021-04-19&lang=en&result_type=recent&include_entities=1', 'count': 100, 'since_id': 0, 'since_id_str': '0'}}\n"
     ]
    },
    {
     "name": "stderr",
     "output_type": "stream",
     "text": [
      "\r",
      " 84%|████████▍ | 378/450 [02:33<00:30,  2.40it/s]"
     ]
    },
    {
     "name": "stdout",
     "output_type": "stream",
     "text": [
      "{'statuses': [], 'search_metadata': {'completed_in': 0.007, 'max_id': 1386885012834881536, 'max_id_str': '1386885012834881536', 'query': '%23bitcoin+OR+%23BTC+since%3A2021-04-11+until%3A2021-04-19', 'refresh_url': '?since_id=1386885012834881536&q=%23bitcoin%20OR%20%23BTC%20since%3A2021-04-11%20until%3A2021-04-19&lang=en&result_type=recent&include_entities=1', 'count': 100, 'since_id': 0, 'since_id_str': '0'}}\n"
     ]
    },
    {
     "name": "stderr",
     "output_type": "stream",
     "text": [
      "\r",
      " 84%|████████▍ | 379/450 [02:33<00:29,  2.40it/s]"
     ]
    },
    {
     "name": "stdout",
     "output_type": "stream",
     "text": [
      "{'statuses': [], 'search_metadata': {'completed_in': 0.005, 'max_id': 1386885012834881536, 'max_id_str': '1386885012834881536', 'query': '%23bitcoin+OR+%23BTC+since%3A2021-04-11+until%3A2021-04-19', 'refresh_url': '?since_id=1386885012834881536&q=%23bitcoin%20OR%20%23BTC%20since%3A2021-04-11%20until%3A2021-04-19&lang=en&result_type=recent&include_entities=1', 'count': 100, 'since_id': 0, 'since_id_str': '0'}}\n"
     ]
    },
    {
     "name": "stderr",
     "output_type": "stream",
     "text": [
      "\r",
      " 84%|████████▍ | 380/450 [02:33<00:29,  2.39it/s]"
     ]
    },
    {
     "name": "stdout",
     "output_type": "stream",
     "text": [
      "{'statuses': [], 'search_metadata': {'completed_in': 0.006, 'max_id': 1386885012834881536, 'max_id_str': '1386885012834881536', 'query': '%23bitcoin+OR+%23BTC+since%3A2021-04-11+until%3A2021-04-19', 'refresh_url': '?since_id=1386885012834881536&q=%23bitcoin%20OR%20%23BTC%20since%3A2021-04-11%20until%3A2021-04-19&lang=en&result_type=recent&include_entities=1', 'count': 100, 'since_id': 0, 'since_id_str': '0'}}\n"
     ]
    },
    {
     "name": "stderr",
     "output_type": "stream",
     "text": [
      "\r",
      " 85%|████████▍ | 381/450 [02:34<00:28,  2.39it/s]"
     ]
    },
    {
     "name": "stdout",
     "output_type": "stream",
     "text": [
      "{'statuses': [], 'search_metadata': {'completed_in': 0.006, 'max_id': 1386885012834881536, 'max_id_str': '1386885012834881536', 'query': '%23bitcoin+OR+%23BTC+since%3A2021-04-11+until%3A2021-04-19', 'refresh_url': '?since_id=1386885012834881536&q=%23bitcoin%20OR%20%23BTC%20since%3A2021-04-11%20until%3A2021-04-19&lang=en&result_type=recent&include_entities=1', 'count': 100, 'since_id': 0, 'since_id_str': '0'}}\n"
     ]
    },
    {
     "name": "stderr",
     "output_type": "stream",
     "text": [
      "\r",
      " 85%|████████▍ | 382/450 [02:34<00:28,  2.39it/s]"
     ]
    },
    {
     "name": "stdout",
     "output_type": "stream",
     "text": [
      "{'statuses': [], 'search_metadata': {'completed_in': 0.007, 'max_id': 1386885012834881536, 'max_id_str': '1386885012834881536', 'query': '%23bitcoin+OR+%23BTC+since%3A2021-04-11+until%3A2021-04-19', 'refresh_url': '?since_id=1386885012834881536&q=%23bitcoin%20OR%20%23BTC%20since%3A2021-04-11%20until%3A2021-04-19&lang=en&result_type=recent&include_entities=1', 'count': 100, 'since_id': 0, 'since_id_str': '0'}}\n"
     ]
    },
    {
     "name": "stderr",
     "output_type": "stream",
     "text": [
      "\r",
      " 85%|████████▌ | 383/450 [02:35<00:28,  2.39it/s]"
     ]
    },
    {
     "name": "stdout",
     "output_type": "stream",
     "text": [
      "{'statuses': [], 'search_metadata': {'completed_in': 0.006, 'max_id': 1386885012834881536, 'max_id_str': '1386885012834881536', 'query': '%23bitcoin+OR+%23BTC+since%3A2021-04-11+until%3A2021-04-19', 'refresh_url': '?since_id=1386885012834881536&q=%23bitcoin%20OR%20%23BTC%20since%3A2021-04-11%20until%3A2021-04-19&lang=en&result_type=recent&include_entities=1', 'count': 100, 'since_id': 0, 'since_id_str': '0'}}\n"
     ]
    },
    {
     "name": "stderr",
     "output_type": "stream",
     "text": [
      "\r",
      " 85%|████████▌ | 384/450 [02:35<00:27,  2.39it/s]"
     ]
    },
    {
     "name": "stdout",
     "output_type": "stream",
     "text": [
      "{'statuses': [], 'search_metadata': {'completed_in': 0.006, 'max_id': 1386885012834881536, 'max_id_str': '1386885012834881536', 'query': '%23bitcoin+OR+%23BTC+since%3A2021-04-11+until%3A2021-04-19', 'refresh_url': '?since_id=1386885012834881536&q=%23bitcoin%20OR%20%23BTC%20since%3A2021-04-11%20until%3A2021-04-19&lang=en&result_type=recent&include_entities=1', 'count': 100, 'since_id': 0, 'since_id_str': '0'}}\n"
     ]
    },
    {
     "name": "stderr",
     "output_type": "stream",
     "text": [
      "\r",
      " 86%|████████▌ | 385/450 [02:35<00:27,  2.38it/s]"
     ]
    },
    {
     "name": "stdout",
     "output_type": "stream",
     "text": [
      "{'statuses': [], 'search_metadata': {'completed_in': 0.006, 'max_id': 1386885012834881536, 'max_id_str': '1386885012834881536', 'query': '%23bitcoin+OR+%23BTC+since%3A2021-04-11+until%3A2021-04-19', 'refresh_url': '?since_id=1386885012834881536&q=%23bitcoin%20OR%20%23BTC%20since%3A2021-04-11%20until%3A2021-04-19&lang=en&result_type=recent&include_entities=1', 'count': 100, 'since_id': 0, 'since_id_str': '0'}}\n"
     ]
    },
    {
     "name": "stderr",
     "output_type": "stream",
     "text": [
      "\r",
      " 86%|████████▌ | 386/450 [02:36<00:26,  2.38it/s]"
     ]
    },
    {
     "name": "stdout",
     "output_type": "stream",
     "text": [
      "{'statuses': [], 'search_metadata': {'completed_in': 0.005, 'max_id': 1386885012834881536, 'max_id_str': '1386885012834881536', 'query': '%23bitcoin+OR+%23BTC+since%3A2021-04-11+until%3A2021-04-19', 'refresh_url': '?since_id=1386885012834881536&q=%23bitcoin%20OR%20%23BTC%20since%3A2021-04-11%20until%3A2021-04-19&lang=en&result_type=recent&include_entities=1', 'count': 100, 'since_id': 0, 'since_id_str': '0'}}\n"
     ]
    },
    {
     "name": "stderr",
     "output_type": "stream",
     "text": [
      "\r",
      " 86%|████████▌ | 387/450 [02:36<00:26,  2.38it/s]"
     ]
    },
    {
     "name": "stdout",
     "output_type": "stream",
     "text": [
      "{'statuses': [], 'search_metadata': {'completed_in': 0.006, 'max_id': 1386885012834881536, 'max_id_str': '1386885012834881536', 'query': '%23bitcoin+OR+%23BTC+since%3A2021-04-11+until%3A2021-04-19', 'refresh_url': '?since_id=1386885012834881536&q=%23bitcoin%20OR%20%23BTC%20since%3A2021-04-11%20until%3A2021-04-19&lang=en&result_type=recent&include_entities=1', 'count': 100, 'since_id': 0, 'since_id_str': '0'}}\n"
     ]
    },
    {
     "name": "stderr",
     "output_type": "stream",
     "text": [
      "\r",
      " 86%|████████▌ | 388/450 [02:37<00:25,  2.39it/s]"
     ]
    },
    {
     "name": "stdout",
     "output_type": "stream",
     "text": [
      "{'statuses': [], 'search_metadata': {'completed_in': 0.006, 'max_id': 1386885012834881536, 'max_id_str': '1386885012834881536', 'query': '%23bitcoin+OR+%23BTC+since%3A2021-04-11+until%3A2021-04-19', 'refresh_url': '?since_id=1386885012834881536&q=%23bitcoin%20OR%20%23BTC%20since%3A2021-04-11%20until%3A2021-04-19&lang=en&result_type=recent&include_entities=1', 'count': 100, 'since_id': 0, 'since_id_str': '0'}}\n"
     ]
    },
    {
     "name": "stderr",
     "output_type": "stream",
     "text": [
      "\r",
      " 86%|████████▋ | 389/450 [02:37<00:25,  2.37it/s]"
     ]
    },
    {
     "name": "stdout",
     "output_type": "stream",
     "text": [
      "{'statuses': [], 'search_metadata': {'completed_in': 0.006, 'max_id': 1386885012834881536, 'max_id_str': '1386885012834881536', 'query': '%23bitcoin+OR+%23BTC+since%3A2021-04-11+until%3A2021-04-19', 'refresh_url': '?since_id=1386885012834881536&q=%23bitcoin%20OR%20%23BTC%20since%3A2021-04-11%20until%3A2021-04-19&lang=en&result_type=recent&include_entities=1', 'count': 100, 'since_id': 0, 'since_id_str': '0'}}\n"
     ]
    },
    {
     "name": "stderr",
     "output_type": "stream",
     "text": [
      "\r",
      " 87%|████████▋ | 390/450 [02:38<00:25,  2.38it/s]"
     ]
    },
    {
     "name": "stdout",
     "output_type": "stream",
     "text": [
      "{'statuses': [], 'search_metadata': {'completed_in': 0.006, 'max_id': 1386885012834881536, 'max_id_str': '1386885012834881536', 'query': '%23bitcoin+OR+%23BTC+since%3A2021-04-11+until%3A2021-04-19', 'refresh_url': '?since_id=1386885012834881536&q=%23bitcoin%20OR%20%23BTC%20since%3A2021-04-11%20until%3A2021-04-19&lang=en&result_type=recent&include_entities=1', 'count': 100, 'since_id': 0, 'since_id_str': '0'}}\n"
     ]
    },
    {
     "name": "stderr",
     "output_type": "stream",
     "text": [
      "\r",
      " 87%|████████▋ | 391/450 [02:38<00:24,  2.39it/s]"
     ]
    },
    {
     "name": "stdout",
     "output_type": "stream",
     "text": [
      "{'statuses': [], 'search_metadata': {'completed_in': 0.006, 'max_id': 1386885012834881536, 'max_id_str': '1386885012834881536', 'query': '%23bitcoin+OR+%23BTC+since%3A2021-04-11+until%3A2021-04-19', 'refresh_url': '?since_id=1386885012834881536&q=%23bitcoin%20OR%20%23BTC%20since%3A2021-04-11%20until%3A2021-04-19&lang=en&result_type=recent&include_entities=1', 'count': 100, 'since_id': 0, 'since_id_str': '0'}}\n"
     ]
    },
    {
     "name": "stderr",
     "output_type": "stream",
     "text": [
      "\r",
      " 87%|████████▋ | 392/450 [02:38<00:24,  2.41it/s]"
     ]
    },
    {
     "name": "stdout",
     "output_type": "stream",
     "text": [
      "{'statuses': [], 'search_metadata': {'completed_in': 0.005, 'max_id': 1386885012834881536, 'max_id_str': '1386885012834881536', 'query': '%23bitcoin+OR+%23BTC+since%3A2021-04-11+until%3A2021-04-19', 'refresh_url': '?since_id=1386885012834881536&q=%23bitcoin%20OR%20%23BTC%20since%3A2021-04-11%20until%3A2021-04-19&lang=en&result_type=recent&include_entities=1', 'count': 100, 'since_id': 0, 'since_id_str': '0'}}\n"
     ]
    },
    {
     "name": "stderr",
     "output_type": "stream",
     "text": [
      "\r",
      " 87%|████████▋ | 393/450 [02:39<00:23,  2.41it/s]"
     ]
    },
    {
     "name": "stdout",
     "output_type": "stream",
     "text": [
      "{'statuses': [], 'search_metadata': {'completed_in': 0.006, 'max_id': 1386885012834881536, 'max_id_str': '1386885012834881536', 'query': '%23bitcoin+OR+%23BTC+since%3A2021-04-11+until%3A2021-04-19', 'refresh_url': '?since_id=1386885012834881536&q=%23bitcoin%20OR%20%23BTC%20since%3A2021-04-11%20until%3A2021-04-19&lang=en&result_type=recent&include_entities=1', 'count': 100, 'since_id': 0, 'since_id_str': '0'}}\n"
     ]
    },
    {
     "name": "stderr",
     "output_type": "stream",
     "text": [
      "\r",
      " 88%|████████▊ | 394/450 [02:39<00:23,  2.41it/s]"
     ]
    },
    {
     "name": "stdout",
     "output_type": "stream",
     "text": [
      "{'statuses': [], 'search_metadata': {'completed_in': 0.008, 'max_id': 1386885012834881536, 'max_id_str': '1386885012834881536', 'query': '%23bitcoin+OR+%23BTC+since%3A2021-04-11+until%3A2021-04-19', 'refresh_url': '?since_id=1386885012834881536&q=%23bitcoin%20OR%20%23BTC%20since%3A2021-04-11%20until%3A2021-04-19&lang=en&result_type=recent&include_entities=1', 'count': 100, 'since_id': 0, 'since_id_str': '0'}}\n"
     ]
    },
    {
     "name": "stderr",
     "output_type": "stream",
     "text": [
      "\r",
      " 88%|████████▊ | 395/450 [02:40<00:22,  2.39it/s]"
     ]
    },
    {
     "name": "stdout",
     "output_type": "stream",
     "text": [
      "{'statuses': [], 'search_metadata': {'completed_in': 0.006, 'max_id': 1386885012834881536, 'max_id_str': '1386885012834881536', 'query': '%23bitcoin+OR+%23BTC+since%3A2021-04-11+until%3A2021-04-19', 'refresh_url': '?since_id=1386885012834881536&q=%23bitcoin%20OR%20%23BTC%20since%3A2021-04-11%20until%3A2021-04-19&lang=en&result_type=recent&include_entities=1', 'count': 100, 'since_id': 0, 'since_id_str': '0'}}\n"
     ]
    },
    {
     "name": "stderr",
     "output_type": "stream",
     "text": [
      "\r",
      " 88%|████████▊ | 396/450 [02:40<00:22,  2.39it/s]"
     ]
    },
    {
     "name": "stdout",
     "output_type": "stream",
     "text": [
      "{'statuses': [], 'search_metadata': {'completed_in': 0.006, 'max_id': 1386885012834881536, 'max_id_str': '1386885012834881536', 'query': '%23bitcoin+OR+%23BTC+since%3A2021-04-11+until%3A2021-04-19', 'refresh_url': '?since_id=1386885012834881536&q=%23bitcoin%20OR%20%23BTC%20since%3A2021-04-11%20until%3A2021-04-19&lang=en&result_type=recent&include_entities=1', 'count': 100, 'since_id': 0, 'since_id_str': '0'}}\n"
     ]
    },
    {
     "name": "stderr",
     "output_type": "stream",
     "text": [
      "\r",
      " 88%|████████▊ | 397/450 [02:40<00:22,  2.38it/s]"
     ]
    },
    {
     "name": "stdout",
     "output_type": "stream",
     "text": [
      "{'statuses': [], 'search_metadata': {'completed_in': 0.005, 'max_id': 1386885012834881536, 'max_id_str': '1386885012834881536', 'query': '%23bitcoin+OR+%23BTC+since%3A2021-04-11+until%3A2021-04-19', 'refresh_url': '?since_id=1386885012834881536&q=%23bitcoin%20OR%20%23BTC%20since%3A2021-04-11%20until%3A2021-04-19&lang=en&result_type=recent&include_entities=1', 'count': 100, 'since_id': 0, 'since_id_str': '0'}}\n"
     ]
    },
    {
     "name": "stderr",
     "output_type": "stream",
     "text": [
      "\r",
      " 88%|████████▊ | 398/450 [02:41<00:21,  2.39it/s]"
     ]
    },
    {
     "name": "stdout",
     "output_type": "stream",
     "text": [
      "{'statuses': [], 'search_metadata': {'completed_in': 0.006, 'max_id': 1386885012834881536, 'max_id_str': '1386885012834881536', 'query': '%23bitcoin+OR+%23BTC+since%3A2021-04-11+until%3A2021-04-19', 'refresh_url': '?since_id=1386885012834881536&q=%23bitcoin%20OR%20%23BTC%20since%3A2021-04-11%20until%3A2021-04-19&lang=en&result_type=recent&include_entities=1', 'count': 100, 'since_id': 0, 'since_id_str': '0'}}\n"
     ]
    },
    {
     "name": "stderr",
     "output_type": "stream",
     "text": [
      "\r",
      " 89%|████████▊ | 399/450 [02:41<00:21,  2.38it/s]"
     ]
    },
    {
     "name": "stdout",
     "output_type": "stream",
     "text": [
      "{'statuses': [], 'search_metadata': {'completed_in': 0.005, 'max_id': 1386885012834881536, 'max_id_str': '1386885012834881536', 'query': '%23bitcoin+OR+%23BTC+since%3A2021-04-11+until%3A2021-04-19', 'refresh_url': '?since_id=1386885012834881536&q=%23bitcoin%20OR%20%23BTC%20since%3A2021-04-11%20until%3A2021-04-19&lang=en&result_type=recent&include_entities=1', 'count': 100, 'since_id': 0, 'since_id_str': '0'}}\n"
     ]
    },
    {
     "name": "stderr",
     "output_type": "stream",
     "text": [
      "\r",
      " 89%|████████▉ | 400/450 [02:42<00:21,  2.38it/s]"
     ]
    },
    {
     "name": "stdout",
     "output_type": "stream",
     "text": [
      "{'statuses': [], 'search_metadata': {'completed_in': 0.006, 'max_id': 1386885012834881536, 'max_id_str': '1386885012834881536', 'query': '%23bitcoin+OR+%23BTC+since%3A2021-04-11+until%3A2021-04-19', 'refresh_url': '?since_id=1386885012834881536&q=%23bitcoin%20OR%20%23BTC%20since%3A2021-04-11%20until%3A2021-04-19&lang=en&result_type=recent&include_entities=1', 'count': 100, 'since_id': 0, 'since_id_str': '0'}}\n"
     ]
    },
    {
     "name": "stderr",
     "output_type": "stream",
     "text": [
      "\r",
      " 89%|████████▉ | 401/450 [02:42<00:20,  2.38it/s]"
     ]
    },
    {
     "name": "stdout",
     "output_type": "stream",
     "text": [
      "{'statuses': [], 'search_metadata': {'completed_in': 0.006, 'max_id': 1386885012834881536, 'max_id_str': '1386885012834881536', 'query': '%23bitcoin+OR+%23BTC+since%3A2021-04-11+until%3A2021-04-19', 'refresh_url': '?since_id=1386885012834881536&q=%23bitcoin%20OR%20%23BTC%20since%3A2021-04-11%20until%3A2021-04-19&lang=en&result_type=recent&include_entities=1', 'count': 100, 'since_id': 0, 'since_id_str': '0'}}\n"
     ]
    },
    {
     "name": "stderr",
     "output_type": "stream",
     "text": [
      "\r",
      " 89%|████████▉ | 402/450 [02:43<00:20,  2.36it/s]"
     ]
    },
    {
     "name": "stdout",
     "output_type": "stream",
     "text": [
      "{'statuses': [], 'search_metadata': {'completed_in': 0.007, 'max_id': 1386885012834881536, 'max_id_str': '1386885012834881536', 'query': '%23bitcoin+OR+%23BTC+since%3A2021-04-11+until%3A2021-04-19', 'refresh_url': '?since_id=1386885012834881536&q=%23bitcoin%20OR%20%23BTC%20since%3A2021-04-11%20until%3A2021-04-19&lang=en&result_type=recent&include_entities=1', 'count': 100, 'since_id': 0, 'since_id_str': '0'}}\n"
     ]
    },
    {
     "name": "stderr",
     "output_type": "stream",
     "text": [
      "\r",
      " 90%|████████▉ | 403/450 [02:43<00:19,  2.36it/s]"
     ]
    },
    {
     "name": "stdout",
     "output_type": "stream",
     "text": [
      "{'statuses': [], 'search_metadata': {'completed_in': 0.006, 'max_id': 1386885012834881536, 'max_id_str': '1386885012834881536', 'query': '%23bitcoin+OR+%23BTC+since%3A2021-04-11+until%3A2021-04-19', 'refresh_url': '?since_id=1386885012834881536&q=%23bitcoin%20OR%20%23BTC%20since%3A2021-04-11%20until%3A2021-04-19&lang=en&result_type=recent&include_entities=1', 'count': 100, 'since_id': 0, 'since_id_str': '0'}}\n"
     ]
    },
    {
     "name": "stderr",
     "output_type": "stream",
     "text": [
      "\r",
      " 90%|████████▉ | 404/450 [02:43<00:19,  2.37it/s]"
     ]
    },
    {
     "name": "stdout",
     "output_type": "stream",
     "text": [
      "{'statuses': [], 'search_metadata': {'completed_in': 0.007, 'max_id': 1386885012834881536, 'max_id_str': '1386885012834881536', 'query': '%23bitcoin+OR+%23BTC+since%3A2021-04-11+until%3A2021-04-19', 'refresh_url': '?since_id=1386885012834881536&q=%23bitcoin%20OR%20%23BTC%20since%3A2021-04-11%20until%3A2021-04-19&lang=en&result_type=recent&include_entities=1', 'count': 100, 'since_id': 0, 'since_id_str': '0'}}\n"
     ]
    },
    {
     "name": "stderr",
     "output_type": "stream",
     "text": [
      "\r",
      " 90%|█████████ | 405/450 [02:44<00:18,  2.37it/s]"
     ]
    },
    {
     "name": "stdout",
     "output_type": "stream",
     "text": [
      "{'statuses': [], 'search_metadata': {'completed_in': 0.008, 'max_id': 1386885012834881536, 'max_id_str': '1386885012834881536', 'query': '%23bitcoin+OR+%23BTC+since%3A2021-04-11+until%3A2021-04-19', 'refresh_url': '?since_id=1386885012834881536&q=%23bitcoin%20OR%20%23BTC%20since%3A2021-04-11%20until%3A2021-04-19&lang=en&result_type=recent&include_entities=1', 'count': 100, 'since_id': 0, 'since_id_str': '0'}}\n"
     ]
    },
    {
     "name": "stderr",
     "output_type": "stream",
     "text": [
      "\r",
      " 90%|█████████ | 406/450 [02:44<00:18,  2.38it/s]"
     ]
    },
    {
     "name": "stdout",
     "output_type": "stream",
     "text": [
      "{'statuses': [], 'search_metadata': {'completed_in': 0.005, 'max_id': 1386885012834881536, 'max_id_str': '1386885012834881536', 'query': '%23bitcoin+OR+%23BTC+since%3A2021-04-11+until%3A2021-04-19', 'refresh_url': '?since_id=1386885012834881536&q=%23bitcoin%20OR%20%23BTC%20since%3A2021-04-11%20until%3A2021-04-19&lang=en&result_type=recent&include_entities=1', 'count': 100, 'since_id': 0, 'since_id_str': '0'}}\n"
     ]
    },
    {
     "name": "stderr",
     "output_type": "stream",
     "text": [
      "\r",
      " 90%|█████████ | 407/450 [02:45<00:18,  2.38it/s]"
     ]
    },
    {
     "name": "stdout",
     "output_type": "stream",
     "text": [
      "{'statuses': [], 'search_metadata': {'completed_in': 0.005, 'max_id': 1386885012834881536, 'max_id_str': '1386885012834881536', 'query': '%23bitcoin+OR+%23BTC+since%3A2021-04-11+until%3A2021-04-19', 'refresh_url': '?since_id=1386885012834881536&q=%23bitcoin%20OR%20%23BTC%20since%3A2021-04-11%20until%3A2021-04-19&lang=en&result_type=recent&include_entities=1', 'count': 100, 'since_id': 0, 'since_id_str': '0'}}\n"
     ]
    },
    {
     "name": "stderr",
     "output_type": "stream",
     "text": [
      "\r",
      " 91%|█████████ | 408/450 [02:45<00:17,  2.38it/s]"
     ]
    },
    {
     "name": "stdout",
     "output_type": "stream",
     "text": [
      "{'statuses': [], 'search_metadata': {'completed_in': 0.005, 'max_id': 1386885012834881536, 'max_id_str': '1386885012834881536', 'query': '%23bitcoin+OR+%23BTC+since%3A2021-04-11+until%3A2021-04-19', 'refresh_url': '?since_id=1386885012834881536&q=%23bitcoin%20OR%20%23BTC%20since%3A2021-04-11%20until%3A2021-04-19&lang=en&result_type=recent&include_entities=1', 'count': 100, 'since_id': 0, 'since_id_str': '0'}}\n"
     ]
    },
    {
     "name": "stderr",
     "output_type": "stream",
     "text": [
      "\r",
      " 91%|█████████ | 409/450 [02:46<00:17,  2.38it/s]"
     ]
    },
    {
     "name": "stdout",
     "output_type": "stream",
     "text": [
      "{'statuses': [], 'search_metadata': {'completed_in': 0.006, 'max_id': 1386885012834881536, 'max_id_str': '1386885012834881536', 'query': '%23bitcoin+OR+%23BTC+since%3A2021-04-11+until%3A2021-04-19', 'refresh_url': '?since_id=1386885012834881536&q=%23bitcoin%20OR%20%23BTC%20since%3A2021-04-11%20until%3A2021-04-19&lang=en&result_type=recent&include_entities=1', 'count': 100, 'since_id': 0, 'since_id_str': '0'}}\n"
     ]
    },
    {
     "name": "stderr",
     "output_type": "stream",
     "text": [
      "\r",
      " 91%|█████████ | 410/450 [02:46<00:16,  2.38it/s]"
     ]
    },
    {
     "name": "stdout",
     "output_type": "stream",
     "text": [
      "{'statuses': [], 'search_metadata': {'completed_in': 0.005, 'max_id': 1386885012834881536, 'max_id_str': '1386885012834881536', 'query': '%23bitcoin+OR+%23BTC+since%3A2021-04-11+until%3A2021-04-19', 'refresh_url': '?since_id=1386885012834881536&q=%23bitcoin%20OR%20%23BTC%20since%3A2021-04-11%20until%3A2021-04-19&lang=en&result_type=recent&include_entities=1', 'count': 100, 'since_id': 0, 'since_id_str': '0'}}\n"
     ]
    },
    {
     "name": "stderr",
     "output_type": "stream",
     "text": [
      "\r",
      " 91%|█████████▏| 411/450 [02:46<00:16,  2.38it/s]"
     ]
    },
    {
     "name": "stdout",
     "output_type": "stream",
     "text": [
      "{'statuses': [], 'search_metadata': {'completed_in': 0.007, 'max_id': 1386885012834881536, 'max_id_str': '1386885012834881536', 'query': '%23bitcoin+OR+%23BTC+since%3A2021-04-11+until%3A2021-04-19', 'refresh_url': '?since_id=1386885012834881536&q=%23bitcoin%20OR%20%23BTC%20since%3A2021-04-11%20until%3A2021-04-19&lang=en&result_type=recent&include_entities=1', 'count': 100, 'since_id': 0, 'since_id_str': '0'}}\n"
     ]
    },
    {
     "name": "stderr",
     "output_type": "stream",
     "text": [
      "\r",
      " 92%|█████████▏| 412/450 [02:47<00:16,  2.37it/s]"
     ]
    },
    {
     "name": "stdout",
     "output_type": "stream",
     "text": [
      "{'statuses': [], 'search_metadata': {'completed_in': 0.007, 'max_id': 1386885012834881536, 'max_id_str': '1386885012834881536', 'query': '%23bitcoin+OR+%23BTC+since%3A2021-04-11+until%3A2021-04-19', 'refresh_url': '?since_id=1386885012834881536&q=%23bitcoin%20OR%20%23BTC%20since%3A2021-04-11%20until%3A2021-04-19&lang=en&result_type=recent&include_entities=1', 'count': 100, 'since_id': 0, 'since_id_str': '0'}}\n"
     ]
    },
    {
     "name": "stderr",
     "output_type": "stream",
     "text": [
      "\r",
      " 92%|█████████▏| 413/450 [02:47<00:15,  2.37it/s]"
     ]
    },
    {
     "name": "stdout",
     "output_type": "stream",
     "text": [
      "{'statuses': [], 'search_metadata': {'completed_in': 0.005, 'max_id': 1386885012834881536, 'max_id_str': '1386885012834881536', 'query': '%23bitcoin+OR+%23BTC+since%3A2021-04-11+until%3A2021-04-19', 'refresh_url': '?since_id=1386885012834881536&q=%23bitcoin%20OR%20%23BTC%20since%3A2021-04-11%20until%3A2021-04-19&lang=en&result_type=recent&include_entities=1', 'count': 100, 'since_id': 0, 'since_id_str': '0'}}\n"
     ]
    },
    {
     "name": "stderr",
     "output_type": "stream",
     "text": [
      "\r",
      " 92%|█████████▏| 414/450 [02:48<00:15,  2.38it/s]"
     ]
    },
    {
     "name": "stdout",
     "output_type": "stream",
     "text": [
      "{'statuses': [], 'search_metadata': {'completed_in': 0.004, 'max_id': 1386885012834881536, 'max_id_str': '1386885012834881536', 'query': '%23bitcoin+OR+%23BTC+since%3A2021-04-11+until%3A2021-04-19', 'refresh_url': '?since_id=1386885012834881536&q=%23bitcoin%20OR%20%23BTC%20since%3A2021-04-11%20until%3A2021-04-19&lang=en&result_type=recent&include_entities=1', 'count': 100, 'since_id': 0, 'since_id_str': '0'}}\n"
     ]
    },
    {
     "name": "stderr",
     "output_type": "stream",
     "text": [
      "\r",
      " 92%|█████████▏| 415/450 [02:48<00:14,  2.38it/s]"
     ]
    },
    {
     "name": "stdout",
     "output_type": "stream",
     "text": [
      "{'statuses': [], 'search_metadata': {'completed_in': 0.007, 'max_id': 1386885012834881536, 'max_id_str': '1386885012834881536', 'query': '%23bitcoin+OR+%23BTC+since%3A2021-04-11+until%3A2021-04-19', 'refresh_url': '?since_id=1386885012834881536&q=%23bitcoin%20OR%20%23BTC%20since%3A2021-04-11%20until%3A2021-04-19&lang=en&result_type=recent&include_entities=1', 'count': 100, 'since_id': 0, 'since_id_str': '0'}}\n"
     ]
    },
    {
     "name": "stderr",
     "output_type": "stream",
     "text": [
      "\r",
      " 92%|█████████▏| 416/450 [02:48<00:14,  2.38it/s]"
     ]
    },
    {
     "name": "stdout",
     "output_type": "stream",
     "text": [
      "{'statuses': [], 'search_metadata': {'completed_in': 0.007, 'max_id': 1386885012834881536, 'max_id_str': '1386885012834881536', 'query': '%23bitcoin+OR+%23BTC+since%3A2021-04-11+until%3A2021-04-19', 'refresh_url': '?since_id=1386885012834881536&q=%23bitcoin%20OR%20%23BTC%20since%3A2021-04-11%20until%3A2021-04-19&lang=en&result_type=recent&include_entities=1', 'count': 100, 'since_id': 0, 'since_id_str': '0'}}\n"
     ]
    },
    {
     "name": "stderr",
     "output_type": "stream",
     "text": [
      "\r",
      " 93%|█████████▎| 417/450 [02:49<00:13,  2.38it/s]"
     ]
    },
    {
     "name": "stdout",
     "output_type": "stream",
     "text": [
      "{'statuses': [], 'search_metadata': {'completed_in': 0.008, 'max_id': 1386885012834881536, 'max_id_str': '1386885012834881536', 'query': '%23bitcoin+OR+%23BTC+since%3A2021-04-11+until%3A2021-04-19', 'refresh_url': '?since_id=1386885012834881536&q=%23bitcoin%20OR%20%23BTC%20since%3A2021-04-11%20until%3A2021-04-19&lang=en&result_type=recent&include_entities=1', 'count': 100, 'since_id': 0, 'since_id_str': '0'}}\n"
     ]
    },
    {
     "name": "stderr",
     "output_type": "stream",
     "text": [
      "\r",
      " 93%|█████████▎| 418/450 [02:49<00:13,  2.37it/s]"
     ]
    },
    {
     "name": "stdout",
     "output_type": "stream",
     "text": [
      "{'statuses': [], 'search_metadata': {'completed_in': 0.007, 'max_id': 1386885012834881536, 'max_id_str': '1386885012834881536', 'query': '%23bitcoin+OR+%23BTC+since%3A2021-04-11+until%3A2021-04-19', 'refresh_url': '?since_id=1386885012834881536&q=%23bitcoin%20OR%20%23BTC%20since%3A2021-04-11%20until%3A2021-04-19&lang=en&result_type=recent&include_entities=1', 'count': 100, 'since_id': 0, 'since_id_str': '0'}}\n"
     ]
    },
    {
     "name": "stderr",
     "output_type": "stream",
     "text": [
      "\r",
      " 93%|█████████▎| 419/450 [02:50<00:13,  2.38it/s]"
     ]
    },
    {
     "name": "stdout",
     "output_type": "stream",
     "text": [
      "{'statuses': [], 'search_metadata': {'completed_in': 0.01, 'max_id': 1386885096959922180, 'max_id_str': '1386885096959922180', 'query': '%23bitcoin+OR+%23BTC+since%3A2021-04-11+until%3A2021-04-19', 'refresh_url': '?since_id=1386885096959922180&q=%23bitcoin%20OR%20%23BTC%20since%3A2021-04-11%20until%3A2021-04-19&lang=en&result_type=recent&include_entities=1', 'count': 100, 'since_id': 0, 'since_id_str': '0'}}\n"
     ]
    },
    {
     "name": "stderr",
     "output_type": "stream",
     "text": [
      "\r",
      " 93%|█████████▎| 420/450 [02:50<00:12,  2.38it/s]"
     ]
    },
    {
     "name": "stdout",
     "output_type": "stream",
     "text": [
      "{'statuses': [], 'search_metadata': {'completed_in': 0.006, 'max_id': 1386885096959922180, 'max_id_str': '1386885096959922180', 'query': '%23bitcoin+OR+%23BTC+since%3A2021-04-11+until%3A2021-04-19', 'refresh_url': '?since_id=1386885096959922180&q=%23bitcoin%20OR%20%23BTC%20since%3A2021-04-11%20until%3A2021-04-19&lang=en&result_type=recent&include_entities=1', 'count': 100, 'since_id': 0, 'since_id_str': '0'}}\n"
     ]
    },
    {
     "name": "stderr",
     "output_type": "stream",
     "text": [
      "\r",
      " 94%|█████████▎| 421/450 [02:51<00:12,  2.38it/s]"
     ]
    },
    {
     "name": "stdout",
     "output_type": "stream",
     "text": [
      "{'statuses': [], 'search_metadata': {'completed_in': 0.007, 'max_id': 1386885096959922180, 'max_id_str': '1386885096959922180', 'query': '%23bitcoin+OR+%23BTC+since%3A2021-04-11+until%3A2021-04-19', 'refresh_url': '?since_id=1386885096959922180&q=%23bitcoin%20OR%20%23BTC%20since%3A2021-04-11%20until%3A2021-04-19&lang=en&result_type=recent&include_entities=1', 'count': 100, 'since_id': 0, 'since_id_str': '0'}}\n"
     ]
    },
    {
     "name": "stderr",
     "output_type": "stream",
     "text": [
      "\r",
      " 94%|█████████▍| 422/450 [02:51<00:11,  2.38it/s]"
     ]
    },
    {
     "name": "stdout",
     "output_type": "stream",
     "text": [
      "{'statuses': [], 'search_metadata': {'completed_in': 0.008, 'max_id': 1386885096959922180, 'max_id_str': '1386885096959922180', 'query': '%23bitcoin+OR+%23BTC+since%3A2021-04-11+until%3A2021-04-19', 'refresh_url': '?since_id=1386885096959922180&q=%23bitcoin%20OR%20%23BTC%20since%3A2021-04-11%20until%3A2021-04-19&lang=en&result_type=recent&include_entities=1', 'count': 100, 'since_id': 0, 'since_id_str': '0'}}\n"
     ]
    },
    {
     "name": "stderr",
     "output_type": "stream",
     "text": [
      "\r",
      " 94%|█████████▍| 423/450 [02:51<00:11,  2.38it/s]"
     ]
    },
    {
     "name": "stdout",
     "output_type": "stream",
     "text": [
      "{'statuses': [], 'search_metadata': {'completed_in': 0.005, 'max_id': 1386885096959922180, 'max_id_str': '1386885096959922180', 'query': '%23bitcoin+OR+%23BTC+since%3A2021-04-11+until%3A2021-04-19', 'refresh_url': '?since_id=1386885096959922180&q=%23bitcoin%20OR%20%23BTC%20since%3A2021-04-11%20until%3A2021-04-19&lang=en&result_type=recent&include_entities=1', 'count': 100, 'since_id': 0, 'since_id_str': '0'}}\n"
     ]
    },
    {
     "name": "stderr",
     "output_type": "stream",
     "text": [
      "\r",
      " 94%|█████████▍| 424/450 [02:52<00:10,  2.39it/s]"
     ]
    },
    {
     "name": "stdout",
     "output_type": "stream",
     "text": [
      "{'statuses': [], 'search_metadata': {'completed_in': 0.005, 'max_id': 1386885096959922180, 'max_id_str': '1386885096959922180', 'query': '%23bitcoin+OR+%23BTC+since%3A2021-04-11+until%3A2021-04-19', 'refresh_url': '?since_id=1386885096959922180&q=%23bitcoin%20OR%20%23BTC%20since%3A2021-04-11%20until%3A2021-04-19&lang=en&result_type=recent&include_entities=1', 'count': 100, 'since_id': 0, 'since_id_str': '0'}}\n"
     ]
    },
    {
     "name": "stderr",
     "output_type": "stream",
     "text": [
      "\r",
      " 94%|█████████▍| 425/450 [02:52<00:10,  2.40it/s]"
     ]
    },
    {
     "name": "stdout",
     "output_type": "stream",
     "text": [
      "{'statuses': [], 'search_metadata': {'completed_in': 0.005, 'max_id': 1386885096959922180, 'max_id_str': '1386885096959922180', 'query': '%23bitcoin+OR+%23BTC+since%3A2021-04-11+until%3A2021-04-19', 'refresh_url': '?since_id=1386885096959922180&q=%23bitcoin%20OR%20%23BTC%20since%3A2021-04-11%20until%3A2021-04-19&lang=en&result_type=recent&include_entities=1', 'count': 100, 'since_id': 0, 'since_id_str': '0'}}\n"
     ]
    },
    {
     "name": "stderr",
     "output_type": "stream",
     "text": [
      "\r",
      " 95%|█████████▍| 426/450 [02:53<00:10,  2.38it/s]"
     ]
    },
    {
     "name": "stdout",
     "output_type": "stream",
     "text": [
      "{'statuses': [], 'search_metadata': {'completed_in': 0.006, 'max_id': 1386885096959922180, 'max_id_str': '1386885096959922180', 'query': '%23bitcoin+OR+%23BTC+since%3A2021-04-11+until%3A2021-04-19', 'refresh_url': '?since_id=1386885096959922180&q=%23bitcoin%20OR%20%23BTC%20since%3A2021-04-11%20until%3A2021-04-19&lang=en&result_type=recent&include_entities=1', 'count': 100, 'since_id': 0, 'since_id_str': '0'}}\n"
     ]
    },
    {
     "name": "stderr",
     "output_type": "stream",
     "text": [
      "\r",
      " 95%|█████████▍| 427/450 [02:53<00:09,  2.40it/s]"
     ]
    },
    {
     "name": "stdout",
     "output_type": "stream",
     "text": [
      "{'statuses': [], 'search_metadata': {'completed_in': 0.006, 'max_id': 1386885096959922180, 'max_id_str': '1386885096959922180', 'query': '%23bitcoin+OR+%23BTC+since%3A2021-04-11+until%3A2021-04-19', 'refresh_url': '?since_id=1386885096959922180&q=%23bitcoin%20OR%20%23BTC%20since%3A2021-04-11%20until%3A2021-04-19&lang=en&result_type=recent&include_entities=1', 'count': 100, 'since_id': 0, 'since_id_str': '0'}}\n"
     ]
    },
    {
     "name": "stderr",
     "output_type": "stream",
     "text": [
      "\r",
      " 95%|█████████▌| 428/450 [02:54<00:09,  2.39it/s]"
     ]
    },
    {
     "name": "stdout",
     "output_type": "stream",
     "text": [
      "{'statuses': [], 'search_metadata': {'completed_in': 0.007, 'max_id': 1386885096959922180, 'max_id_str': '1386885096959922180', 'query': '%23bitcoin+OR+%23BTC+since%3A2021-04-11+until%3A2021-04-19', 'refresh_url': '?since_id=1386885096959922180&q=%23bitcoin%20OR%20%23BTC%20since%3A2021-04-11%20until%3A2021-04-19&lang=en&result_type=recent&include_entities=1', 'count': 100, 'since_id': 0, 'since_id_str': '0'}}\n"
     ]
    },
    {
     "name": "stderr",
     "output_type": "stream",
     "text": [
      "\r",
      " 95%|█████████▌| 429/450 [02:54<00:08,  2.38it/s]"
     ]
    },
    {
     "name": "stdout",
     "output_type": "stream",
     "text": [
      "{'statuses': [], 'search_metadata': {'completed_in': 0.006, 'max_id': 1386885096959922180, 'max_id_str': '1386885096959922180', 'query': '%23bitcoin+OR+%23BTC+since%3A2021-04-11+until%3A2021-04-19', 'refresh_url': '?since_id=1386885096959922180&q=%23bitcoin%20OR%20%23BTC%20since%3A2021-04-11%20until%3A2021-04-19&lang=en&result_type=recent&include_entities=1', 'count': 100, 'since_id': 0, 'since_id_str': '0'}}\n"
     ]
    },
    {
     "name": "stderr",
     "output_type": "stream",
     "text": [
      "\r",
      " 96%|█████████▌| 430/450 [02:54<00:08,  2.40it/s]"
     ]
    },
    {
     "name": "stdout",
     "output_type": "stream",
     "text": [
      "{'statuses': [], 'search_metadata': {'completed_in': 0.005, 'max_id': 1386885096959922180, 'max_id_str': '1386885096959922180', 'query': '%23bitcoin+OR+%23BTC+since%3A2021-04-11+until%3A2021-04-19', 'refresh_url': '?since_id=1386885096959922180&q=%23bitcoin%20OR%20%23BTC%20since%3A2021-04-11%20until%3A2021-04-19&lang=en&result_type=recent&include_entities=1', 'count': 100, 'since_id': 0, 'since_id_str': '0'}}\n"
     ]
    },
    {
     "name": "stderr",
     "output_type": "stream",
     "text": [
      "\r",
      " 96%|█████████▌| 431/450 [02:55<00:07,  2.40it/s]"
     ]
    },
    {
     "name": "stdout",
     "output_type": "stream",
     "text": [
      "{'statuses': [], 'search_metadata': {'completed_in': 0.007, 'max_id': 1386885096959922180, 'max_id_str': '1386885096959922180', 'query': '%23bitcoin+OR+%23BTC+since%3A2021-04-11+until%3A2021-04-19', 'refresh_url': '?since_id=1386885096959922180&q=%23bitcoin%20OR%20%23BTC%20since%3A2021-04-11%20until%3A2021-04-19&lang=en&result_type=recent&include_entities=1', 'count': 100, 'since_id': 0, 'since_id_str': '0'}}\n"
     ]
    },
    {
     "name": "stderr",
     "output_type": "stream",
     "text": [
      "\r",
      " 96%|█████████▌| 432/450 [02:55<00:07,  2.39it/s]"
     ]
    },
    {
     "name": "stdout",
     "output_type": "stream",
     "text": [
      "{'statuses': [], 'search_metadata': {'completed_in': 0.005, 'max_id': 1386885096959922180, 'max_id_str': '1386885096959922180', 'query': '%23bitcoin+OR+%23BTC+since%3A2021-04-11+until%3A2021-04-19', 'refresh_url': '?since_id=1386885096959922180&q=%23bitcoin%20OR%20%23BTC%20since%3A2021-04-11%20until%3A2021-04-19&lang=en&result_type=recent&include_entities=1', 'count': 100, 'since_id': 0, 'since_id_str': '0'}}\n"
     ]
    },
    {
     "name": "stderr",
     "output_type": "stream",
     "text": [
      "\r",
      " 96%|█████████▌| 433/450 [02:56<00:07,  2.39it/s]"
     ]
    },
    {
     "name": "stdout",
     "output_type": "stream",
     "text": [
      "{'statuses': [], 'search_metadata': {'completed_in': 0.006, 'max_id': 1386885096959922180, 'max_id_str': '1386885096959922180', 'query': '%23bitcoin+OR+%23BTC+since%3A2021-04-11+until%3A2021-04-19', 'refresh_url': '?since_id=1386885096959922180&q=%23bitcoin%20OR%20%23BTC%20since%3A2021-04-11%20until%3A2021-04-19&lang=en&result_type=recent&include_entities=1', 'count': 100, 'since_id': 0, 'since_id_str': '0'}}\n"
     ]
    },
    {
     "name": "stderr",
     "output_type": "stream",
     "text": [
      "\r",
      " 96%|█████████▋| 434/450 [02:56<00:06,  2.39it/s]"
     ]
    },
    {
     "name": "stdout",
     "output_type": "stream",
     "text": [
      "{'statuses': [], 'search_metadata': {'completed_in': 0.006, 'max_id': 1386885096959922180, 'max_id_str': '1386885096959922180', 'query': '%23bitcoin+OR+%23BTC+since%3A2021-04-11+until%3A2021-04-19', 'refresh_url': '?since_id=1386885096959922180&q=%23bitcoin%20OR%20%23BTC%20since%3A2021-04-11%20until%3A2021-04-19&lang=en&result_type=recent&include_entities=1', 'count': 100, 'since_id': 0, 'since_id_str': '0'}}\n"
     ]
    },
    {
     "name": "stderr",
     "output_type": "stream",
     "text": [
      "\r",
      " 97%|█████████▋| 435/450 [02:56<00:06,  2.39it/s]"
     ]
    },
    {
     "name": "stdout",
     "output_type": "stream",
     "text": [
      "{'statuses': [], 'search_metadata': {'completed_in': 0.006, 'max_id': 1386885096959922180, 'max_id_str': '1386885096959922180', 'query': '%23bitcoin+OR+%23BTC+since%3A2021-04-11+until%3A2021-04-19', 'refresh_url': '?since_id=1386885096959922180&q=%23bitcoin%20OR%20%23BTC%20since%3A2021-04-11%20until%3A2021-04-19&lang=en&result_type=recent&include_entities=1', 'count': 100, 'since_id': 0, 'since_id_str': '0'}}\n"
     ]
    },
    {
     "name": "stderr",
     "output_type": "stream",
     "text": [
      "\r",
      " 97%|█████████▋| 436/450 [02:57<00:05,  2.40it/s]"
     ]
    },
    {
     "name": "stdout",
     "output_type": "stream",
     "text": [
      "{'statuses': [], 'search_metadata': {'completed_in': 0.006, 'max_id': 1386885096959922180, 'max_id_str': '1386885096959922180', 'query': '%23bitcoin+OR+%23BTC+since%3A2021-04-11+until%3A2021-04-19', 'refresh_url': '?since_id=1386885096959922180&q=%23bitcoin%20OR%20%23BTC%20since%3A2021-04-11%20until%3A2021-04-19&lang=en&result_type=recent&include_entities=1', 'count': 100, 'since_id': 0, 'since_id_str': '0'}}\n"
     ]
    },
    {
     "name": "stderr",
     "output_type": "stream",
     "text": [
      "\r",
      " 97%|█████████▋| 437/450 [02:57<00:05,  2.40it/s]"
     ]
    },
    {
     "name": "stdout",
     "output_type": "stream",
     "text": [
      "{'statuses': [], 'search_metadata': {'completed_in': 0.006, 'max_id': 1386885096959922180, 'max_id_str': '1386885096959922180', 'query': '%23bitcoin+OR+%23BTC+since%3A2021-04-11+until%3A2021-04-19', 'refresh_url': '?since_id=1386885096959922180&q=%23bitcoin%20OR%20%23BTC%20since%3A2021-04-11%20until%3A2021-04-19&lang=en&result_type=recent&include_entities=1', 'count': 100, 'since_id': 0, 'since_id_str': '0'}}\n"
     ]
    },
    {
     "name": "stderr",
     "output_type": "stream",
     "text": [
      "\r",
      " 97%|█████████▋| 438/450 [02:58<00:05,  2.39it/s]"
     ]
    },
    {
     "name": "stdout",
     "output_type": "stream",
     "text": [
      "{'statuses': [], 'search_metadata': {'completed_in': 0.006, 'max_id': 1386885096959922180, 'max_id_str': '1386885096959922180', 'query': '%23bitcoin+OR+%23BTC+since%3A2021-04-11+until%3A2021-04-19', 'refresh_url': '?since_id=1386885096959922180&q=%23bitcoin%20OR%20%23BTC%20since%3A2021-04-11%20until%3A2021-04-19&lang=en&result_type=recent&include_entities=1', 'count': 100, 'since_id': 0, 'since_id_str': '0'}}\n"
     ]
    },
    {
     "name": "stderr",
     "output_type": "stream",
     "text": [
      "\r",
      " 98%|█████████▊| 439/450 [02:58<00:04,  2.40it/s]"
     ]
    },
    {
     "name": "stdout",
     "output_type": "stream",
     "text": [
      "{'statuses': [], 'search_metadata': {'completed_in': 0.005, 'max_id': 1386885096959922180, 'max_id_str': '1386885096959922180', 'query': '%23bitcoin+OR+%23BTC+since%3A2021-04-11+until%3A2021-04-19', 'refresh_url': '?since_id=1386885096959922180&q=%23bitcoin%20OR%20%23BTC%20since%3A2021-04-11%20until%3A2021-04-19&lang=en&result_type=recent&include_entities=1', 'count': 100, 'since_id': 0, 'since_id_str': '0'}}\n"
     ]
    },
    {
     "name": "stderr",
     "output_type": "stream",
     "text": [
      "\r",
      " 98%|█████████▊| 440/450 [02:59<00:04,  2.40it/s]"
     ]
    },
    {
     "name": "stdout",
     "output_type": "stream",
     "text": [
      "{'statuses': [], 'search_metadata': {'completed_in': 0.006, 'max_id': 1386885096959922180, 'max_id_str': '1386885096959922180', 'query': '%23bitcoin+OR+%23BTC+since%3A2021-04-11+until%3A2021-04-19', 'refresh_url': '?since_id=1386885096959922180&q=%23bitcoin%20OR%20%23BTC%20since%3A2021-04-11%20until%3A2021-04-19&lang=en&result_type=recent&include_entities=1', 'count': 100, 'since_id': 0, 'since_id_str': '0'}}\n"
     ]
    },
    {
     "name": "stderr",
     "output_type": "stream",
     "text": [
      "\r",
      " 98%|█████████▊| 441/450 [02:59<00:03,  2.40it/s]"
     ]
    },
    {
     "name": "stdout",
     "output_type": "stream",
     "text": [
      "{'statuses': [], 'search_metadata': {'completed_in': 0.006, 'max_id': 1386885096959922180, 'max_id_str': '1386885096959922180', 'query': '%23bitcoin+OR+%23BTC+since%3A2021-04-11+until%3A2021-04-19', 'refresh_url': '?since_id=1386885096959922180&q=%23bitcoin%20OR%20%23BTC%20since%3A2021-04-11%20until%3A2021-04-19&lang=en&result_type=recent&include_entities=1', 'count': 100, 'since_id': 0, 'since_id_str': '0'}}\n"
     ]
    },
    {
     "name": "stderr",
     "output_type": "stream",
     "text": [
      "\r",
      " 98%|█████████▊| 442/450 [02:59<00:03,  2.37it/s]"
     ]
    },
    {
     "name": "stdout",
     "output_type": "stream",
     "text": [
      "{'statuses': [], 'search_metadata': {'completed_in': 0.007, 'max_id': 1386885096959922180, 'max_id_str': '1386885096959922180', 'query': '%23bitcoin+OR+%23BTC+since%3A2021-04-11+until%3A2021-04-19', 'refresh_url': '?since_id=1386885096959922180&q=%23bitcoin%20OR%20%23BTC%20since%3A2021-04-11%20until%3A2021-04-19&lang=en&result_type=recent&include_entities=1', 'count': 100, 'since_id': 0, 'since_id_str': '0'}}\n"
     ]
    },
    {
     "name": "stderr",
     "output_type": "stream",
     "text": [
      "\r",
      " 98%|█████████▊| 443/450 [03:00<00:02,  2.38it/s]"
     ]
    },
    {
     "name": "stdout",
     "output_type": "stream",
     "text": [
      "{'statuses': [], 'search_metadata': {'completed_in': 0.005, 'max_id': 1386885096959922180, 'max_id_str': '1386885096959922180', 'query': '%23bitcoin+OR+%23BTC+since%3A2021-04-11+until%3A2021-04-19', 'refresh_url': '?since_id=1386885096959922180&q=%23bitcoin%20OR%20%23BTC%20since%3A2021-04-11%20until%3A2021-04-19&lang=en&result_type=recent&include_entities=1', 'count': 100, 'since_id': 0, 'since_id_str': '0'}}\n"
     ]
    },
    {
     "name": "stderr",
     "output_type": "stream",
     "text": [
      "\r",
      " 99%|█████████▊| 444/450 [03:00<00:02,  2.39it/s]"
     ]
    },
    {
     "name": "stdout",
     "output_type": "stream",
     "text": [
      "{'statuses': [], 'search_metadata': {'completed_in': 0.004, 'max_id': 1386885096959922180, 'max_id_str': '1386885096959922180', 'query': '%23bitcoin+OR+%23BTC+since%3A2021-04-11+until%3A2021-04-19', 'refresh_url': '?since_id=1386885096959922180&q=%23bitcoin%20OR%20%23BTC%20since%3A2021-04-11%20until%3A2021-04-19&lang=en&result_type=recent&include_entities=1', 'count': 100, 'since_id': 0, 'since_id_str': '0'}}\n"
     ]
    },
    {
     "name": "stderr",
     "output_type": "stream",
     "text": [
      "\r",
      " 99%|█████████▉| 445/450 [03:01<00:02,  2.39it/s]"
     ]
    },
    {
     "name": "stdout",
     "output_type": "stream",
     "text": [
      "{'statuses': [], 'search_metadata': {'completed_in': 0.005, 'max_id': 1386885096959922180, 'max_id_str': '1386885096959922180', 'query': '%23bitcoin+OR+%23BTC+since%3A2021-04-11+until%3A2021-04-19', 'refresh_url': '?since_id=1386885096959922180&q=%23bitcoin%20OR%20%23BTC%20since%3A2021-04-11%20until%3A2021-04-19&lang=en&result_type=recent&include_entities=1', 'count': 100, 'since_id': 0, 'since_id_str': '0'}}\n"
     ]
    },
    {
     "name": "stderr",
     "output_type": "stream",
     "text": [
      "\r",
      " 99%|█████████▉| 446/450 [03:01<00:01,  2.39it/s]"
     ]
    },
    {
     "name": "stdout",
     "output_type": "stream",
     "text": [
      "{'statuses': [], 'search_metadata': {'completed_in': 0.007, 'max_id': 1386885096959922180, 'max_id_str': '1386885096959922180', 'query': '%23bitcoin+OR+%23BTC+since%3A2021-04-11+until%3A2021-04-19', 'refresh_url': '?since_id=1386885096959922180&q=%23bitcoin%20OR%20%23BTC%20since%3A2021-04-11%20until%3A2021-04-19&lang=en&result_type=recent&include_entities=1', 'count': 100, 'since_id': 0, 'since_id_str': '0'}}\n"
     ]
    },
    {
     "name": "stderr",
     "output_type": "stream",
     "text": [
      "\r",
      " 99%|█████████▉| 447/450 [03:01<00:01,  2.39it/s]"
     ]
    },
    {
     "name": "stdout",
     "output_type": "stream",
     "text": [
      "{'statuses': [], 'search_metadata': {'completed_in': 0.006, 'max_id': 1386885096959922180, 'max_id_str': '1386885096959922180', 'query': '%23bitcoin+OR+%23BTC+since%3A2021-04-11+until%3A2021-04-19', 'refresh_url': '?since_id=1386885096959922180&q=%23bitcoin%20OR%20%23BTC%20since%3A2021-04-11%20until%3A2021-04-19&lang=en&result_type=recent&include_entities=1', 'count': 100, 'since_id': 0, 'since_id_str': '0'}}\n"
     ]
    },
    {
     "name": "stderr",
     "output_type": "stream",
     "text": [
      "\r",
      "100%|█████████▉| 448/450 [03:02<00:00,  2.41it/s]"
     ]
    },
    {
     "name": "stdout",
     "output_type": "stream",
     "text": [
      "{'statuses': [], 'search_metadata': {'completed_in': 0.005, 'max_id': 1386885096959922180, 'max_id_str': '1386885096959922180', 'query': '%23bitcoin+OR+%23BTC+since%3A2021-04-11+until%3A2021-04-19', 'refresh_url': '?since_id=1386885096959922180&q=%23bitcoin%20OR%20%23BTC%20since%3A2021-04-11%20until%3A2021-04-19&lang=en&result_type=recent&include_entities=1', 'count': 100, 'since_id': 0, 'since_id_str': '0'}}\n"
     ]
    },
    {
     "name": "stderr",
     "output_type": "stream",
     "text": [
      "\r",
      "100%|█████████▉| 449/450 [03:02<00:00,  2.40it/s]"
     ]
    },
    {
     "name": "stdout",
     "output_type": "stream",
     "text": [
      "{'statuses': [], 'search_metadata': {'completed_in': 0.007, 'max_id': 1386885096959922180, 'max_id_str': '1386885096959922180', 'query': '%23bitcoin+OR+%23BTC+since%3A2021-04-11+until%3A2021-04-19', 'refresh_url': '?since_id=1386885096959922180&q=%23bitcoin%20OR%20%23BTC%20since%3A2021-04-11%20until%3A2021-04-19&lang=en&result_type=recent&include_entities=1', 'count': 100, 'since_id': 0, 'since_id_str': '0'}}\n"
     ]
    },
    {
     "name": "stderr",
     "output_type": "stream",
     "text": [
      "100%|██████████| 450/450 [03:03<00:00,  2.46it/s]"
     ]
    },
    {
     "name": "stdout",
     "output_type": "stream",
     "text": [
      "{'statuses': [], 'search_metadata': {'completed_in': 0.006, 'max_id': 1386885096959922180, 'max_id_str': '1386885096959922180', 'query': '%23bitcoin+OR+%23BTC+since%3A2021-04-11+until%3A2021-04-19', 'refresh_url': '?since_id=1386885096959922180&q=%23bitcoin%20OR%20%23BTC%20since%3A2021-04-11%20until%3A2021-04-19&lang=en&result_type=recent&include_entities=1', 'count': 100, 'since_id': 0, 'since_id_str': '0'}}\n",
      "Empty DataFrame\n",
      "Columns: [ID, Text, UserName, UserFollowerCount, RetweetCount, Likes, CreatedAt]\n",
      "Index: []\n",
      "Retrieved 0, waiting for 15 minutes until next queries\n"
     ]
    },
    {
     "name": "stderr",
     "output_type": "stream",
     "text": [
      "\n"
     ]
    },
    {
     "ename": "KeyboardInterrupt",
     "evalue": "",
     "output_type": "error",
     "traceback": [
      "\u001b[0;31m---------------------------------------------------------------------------\u001b[0m",
      "\u001b[0;31mKeyboardInterrupt\u001b[0m                         Traceback (most recent call last)",
      "\u001b[0;32m<ipython-input-5-b2ce6ae016af>\u001b[0m in \u001b[0;36m<module>\u001b[0;34m\u001b[0m\n\u001b[1;32m     36\u001b[0m         \u001b[0mdata\u001b[0m\u001b[0;34m[\u001b[0m\u001b[0;34m\"statuses\"\u001b[0m\u001b[0;34m]\u001b[0m \u001b[0;34m=\u001b[0m \u001b[0;34m[\u001b[0m\u001b[0;34m]\u001b[0m\u001b[0;34m\u001b[0m\u001b[0;34m\u001b[0m\u001b[0m\n\u001b[1;32m     37\u001b[0m \u001b[0;34m\u001b[0m\u001b[0m\n\u001b[0;32m---> 38\u001b[0;31m         \u001b[0msleep\u001b[0m\u001b[0;34m(\u001b[0m\u001b[0;36m910\u001b[0m\u001b[0;34m)\u001b[0m\u001b[0;34m\u001b[0m\u001b[0;34m\u001b[0m\u001b[0m\n\u001b[0m",
      "\u001b[0;31mKeyboardInterrupt\u001b[0m: "
     ]
    }
   ],
   "source": [
    "sleep(910)\n",
    "NUMBER_OF_QUERIES = 450\n",
    "data = {\"statuses\": []}\n",
    "next_id = ''\n",
    "with open(\"tweets_raw_file\",\"a+\", encoding='utf-8') as f:\n",
    "    \n",
    "#    if not next_id:\n",
    "#        f.write(\"ID,Text,UserName,UserFollowerCount,RetweetCount,Likes,CreatedAt\\n\")\n",
    "#        print('s')\n",
    "    while(True):\n",
    "        twitter = Twython(APP_KEY, access_token=ACCESS_TOKEN)\n",
    "        last_size = 0\n",
    "        for i in tqdm(range(NUMBER_OF_QUERIES)):\n",
    "            if not next_id:\n",
    "                #data = twitter.search(q=query, lang='en', result_type='recent', count=\"100\") # Use since_id for tweets after id\n",
    "                #data = twitter.search(q=query, lang='en', result_type='recent', count=\"100\")\n",
    "                data = twitter.search(q=query, lang='en', result_type='recent', count=\"100\", since = \"2021-04-11\", until = \"2021-04-19\")\n",
    "                print(data)\n",
    "            else:\n",
    "                data[\"statuses\"].extend(twitter.search(q=query, lang='en', result_type='mixed', count=\"100\", max_id=next_id)[\"statuses\"])\n",
    "            if len(data[\"statuses\"]) > 1:\n",
    "                next_id = data[\"statuses\"][len(data[\"statuses\"]) - 1]['id']\n",
    "            if last_size + 1 == len(data[\"statuses\"]):\n",
    "                break\n",
    "            else:\n",
    "                last_size = len(data[\"statuses\"])\n",
    "        d = pd.DataFrame([[s[\"id\"], s[\"text\"].replace('\\n','').replace('\\r',''), s[\"user\"][\"name\"], s[\"user\"][\"followers_count\"], s[\"retweet_count\"], s[\"favorite_count\"], s[\"created_at\"]] for s in data[\"statuses\"]], columns=('ID', 'Text', 'UserName', \"UserFollowerCount\", 'RetweetCount', 'Likes', \"CreatedAt\"))\n",
    "        print(d)\n",
    "        d.to_csv(f, mode='a', encoding='utf-8',index=False,header=False)\n",
    "        print('Retrieved {0}, waiting for 15 minutes until next queries'.format(len(data[\"statuses\"])))\n",
    "        #d = pd.DataFrame([[s[\"id\"], s[\"text\"].replace('\\n','').replace('\\r',''), s[\"user\"][\"name\"], s[\"user\"][\"followers_count\"], s[\"retweet_count\"], s[\"favorite_count\"], s[\"created_at\"]] for s in data[\"statuses\"]], columns=('ID', 'Text', 'UserName', \"UserFollowerCount\", 'RetweetCount', 'Likes', \"CreatedAt\"))\n",
    "        #d.to_csv(f, mode='a', encoding='utf-8',index=False,header=False)\n",
    "        if last_size + 1 == len(data[\"statuses\"]):\n",
    "            print('No more new tweets, stopping...')\n",
    "            break\n",
    "        data[\"statuses\"] = []\n",
    "        \n",
    "        sleep(910)"
   ]
  },
  {
   "cell_type": "markdown",
   "metadata": {},
   "source": [
    "## Preprocessing\n",
    "\n",
    "Now we will cleanup the data.\n",
    "\n",
    "We already filtered tweets in english in the call to the Twitter API.\n",
    "We will now filter links, @Pseudo, images, videos, unhashtag #happy -> happy.\n",
    "\n",
    "We won't transform to lower case because Vader take capital letters into consideration to emphasize sentiments.\n"
   ]
  },
  {
   "cell_type": "code",
   "execution_count": 6,
   "metadata": {},
   "outputs": [
    {
     "name": "stderr",
     "output_type": "stream",
     "text": [
      "/usr/lib/python3.9/site-packages/IPython/core/interactiveshell.py:3165: DtypeWarning: Columns (0,3,4,5) have mixed types.Specify dtype option on import or set low_memory=False.\n",
      "  has_raised = await self.run_ast_nodes(code_ast.body, cell_name,\n"
     ]
    },
    {
     "name": "stdout",
     "output_type": "stream",
     "text": [
      "(2958667, 7)\n",
      "         ID  Text  UserName  UserFollowerCount  RetweetCount  Likes  CreatedAt\n",
      "1031747  ID  Text  UserName  UserFollowerCount  RetweetCount  Likes  CreatedAt\n"
     ]
    }
   ],
   "source": [
    "df_clean = pd.read_csv(\"tweets_raw_file\")\n",
    "print(df_clean.shape)\n",
    "df_clean.head(5)\n",
    "a=df_clean.loc[df_clean['UserFollowerCount'] == 'UserFollowerCount']\n",
    "print(a)"
   ]
  },
  {
   "cell_type": "code",
   "execution_count": 7,
   "metadata": {},
   "outputs": [
    {
     "name": "stderr",
     "output_type": "stream",
     "text": [
      "/usr/lib/python3.9/site-packages/IPython/core/interactiveshell.py:3165: DtypeWarning: Columns (0,3,4,5) have mixed types.Specify dtype option on import or set low_memory=False.\n",
      "  has_raised = await self.run_ast_nodes(code_ast.body, cell_name,\n",
      " 73%|███████▎  | 2161265/2958667 [09:44<03:35, 3697.59it/s]\n"
     ]
    },
    {
     "ename": "KeyboardInterrupt",
     "evalue": "",
     "output_type": "error",
     "traceback": [
      "\u001b[0;31m---------------------------------------------------------------------------\u001b[0m",
      "\u001b[0;31mKeyboardInterrupt\u001b[0m                         Traceback (most recent call last)",
      "\u001b[0;32m<ipython-input-7-2298c3e13e69>\u001b[0m in \u001b[0;36m<module>\u001b[0;34m\u001b[0m\n\u001b[1;32m      3\u001b[0m \u001b[0md\u001b[0m \u001b[0;34m=\u001b[0m \u001b[0mpd\u001b[0m\u001b[0;34m.\u001b[0m\u001b[0mread_csv\u001b[0m\u001b[0;34m(\u001b[0m\u001b[0;34m\"tweets_raw_file\"\u001b[0m\u001b[0;34m)\u001b[0m\u001b[0;34m\u001b[0m\u001b[0;34m\u001b[0m\u001b[0m\n\u001b[1;32m      4\u001b[0m \u001b[0;32mfor\u001b[0m \u001b[0mi\u001b[0m\u001b[0;34m,\u001b[0m\u001b[0ms\u001b[0m \u001b[0;32min\u001b[0m \u001b[0menumerate\u001b[0m\u001b[0;34m(\u001b[0m\u001b[0mtqdm\u001b[0m\u001b[0;34m(\u001b[0m\u001b[0md\u001b[0m\u001b[0;34m[\u001b[0m\u001b[0;34m'Text'\u001b[0m\u001b[0;34m]\u001b[0m\u001b[0;34m)\u001b[0m\u001b[0;34m)\u001b[0m\u001b[0;34m:\u001b[0m\u001b[0;34m\u001b[0m\u001b[0;34m\u001b[0m\u001b[0m\n\u001b[0;32m----> 5\u001b[0;31m     \u001b[0mtext\u001b[0m \u001b[0;34m=\u001b[0m \u001b[0md\u001b[0m\u001b[0;34m.\u001b[0m\u001b[0mloc\u001b[0m\u001b[0;34m[\u001b[0m\u001b[0mi\u001b[0m\u001b[0;34m,\u001b[0m \u001b[0;34m'Text'\u001b[0m\u001b[0;34m]\u001b[0m\u001b[0;34m\u001b[0m\u001b[0;34m\u001b[0m\u001b[0m\n\u001b[0m\u001b[1;32m      6\u001b[0m     \u001b[0mtext\u001b[0m \u001b[0;34m=\u001b[0m \u001b[0mtext\u001b[0m\u001b[0;34m.\u001b[0m\u001b[0mreplace\u001b[0m\u001b[0;34m(\u001b[0m\u001b[0;34m\"#\"\u001b[0m\u001b[0;34m,\u001b[0m \u001b[0;34m\"\"\u001b[0m\u001b[0;34m)\u001b[0m\u001b[0;34m\u001b[0m\u001b[0;34m\u001b[0m\u001b[0m\n\u001b[1;32m      7\u001b[0m     \u001b[0mtext\u001b[0m \u001b[0;34m=\u001b[0m \u001b[0mre\u001b[0m\u001b[0;34m.\u001b[0m\u001b[0msub\u001b[0m\u001b[0;34m(\u001b[0m\u001b[0;34m'https?://(?:[-\\w.]|(?:%[\\da-fA-F]{2}))+'\u001b[0m\u001b[0;34m,\u001b[0m \u001b[0;34m''\u001b[0m\u001b[0;34m,\u001b[0m \u001b[0mtext\u001b[0m\u001b[0;34m,\u001b[0m \u001b[0mflags\u001b[0m\u001b[0;34m=\u001b[0m\u001b[0mre\u001b[0m\u001b[0;34m.\u001b[0m\u001b[0mMULTILINE\u001b[0m\u001b[0;34m)\u001b[0m\u001b[0;34m\u001b[0m\u001b[0;34m\u001b[0m\u001b[0m\n",
      "\u001b[0;32m~/.local/lib/python3.9/site-packages/pandas/core/indexing.py\u001b[0m in \u001b[0;36m__getitem__\u001b[0;34m(self, key)\u001b[0m\n\u001b[1;32m    882\u001b[0m     \u001b[0;32mdef\u001b[0m \u001b[0m__getitem__\u001b[0m\u001b[0;34m(\u001b[0m\u001b[0mself\u001b[0m\u001b[0;34m,\u001b[0m \u001b[0mkey\u001b[0m\u001b[0;34m)\u001b[0m\u001b[0;34m:\u001b[0m\u001b[0;34m\u001b[0m\u001b[0;34m\u001b[0m\u001b[0m\n\u001b[1;32m    883\u001b[0m         \u001b[0;32mif\u001b[0m \u001b[0mtype\u001b[0m\u001b[0;34m(\u001b[0m\u001b[0mkey\u001b[0m\u001b[0;34m)\u001b[0m \u001b[0;32mis\u001b[0m \u001b[0mtuple\u001b[0m\u001b[0;34m:\u001b[0m\u001b[0;34m\u001b[0m\u001b[0;34m\u001b[0m\u001b[0m\n\u001b[0;32m--> 884\u001b[0;31m             \u001b[0mkey\u001b[0m \u001b[0;34m=\u001b[0m \u001b[0mtuple\u001b[0m\u001b[0;34m(\u001b[0m\u001b[0mcom\u001b[0m\u001b[0;34m.\u001b[0m\u001b[0mapply_if_callable\u001b[0m\u001b[0;34m(\u001b[0m\u001b[0mx\u001b[0m\u001b[0;34m,\u001b[0m \u001b[0mself\u001b[0m\u001b[0;34m.\u001b[0m\u001b[0mobj\u001b[0m\u001b[0;34m)\u001b[0m \u001b[0;32mfor\u001b[0m \u001b[0mx\u001b[0m \u001b[0;32min\u001b[0m \u001b[0mkey\u001b[0m\u001b[0;34m)\u001b[0m\u001b[0;34m\u001b[0m\u001b[0;34m\u001b[0m\u001b[0m\n\u001b[0m\u001b[1;32m    885\u001b[0m             \u001b[0;32mif\u001b[0m \u001b[0mself\u001b[0m\u001b[0;34m.\u001b[0m\u001b[0m_is_scalar_access\u001b[0m\u001b[0;34m(\u001b[0m\u001b[0mkey\u001b[0m\u001b[0;34m)\u001b[0m\u001b[0;34m:\u001b[0m\u001b[0;34m\u001b[0m\u001b[0;34m\u001b[0m\u001b[0m\n\u001b[1;32m    886\u001b[0m                 \u001b[0;32mwith\u001b[0m \u001b[0msuppress\u001b[0m\u001b[0;34m(\u001b[0m\u001b[0mKeyError\u001b[0m\u001b[0;34m,\u001b[0m \u001b[0mIndexError\u001b[0m\u001b[0;34m,\u001b[0m \u001b[0mAttributeError\u001b[0m\u001b[0;34m)\u001b[0m\u001b[0;34m:\u001b[0m\u001b[0;34m\u001b[0m\u001b[0;34m\u001b[0m\u001b[0m\n",
      "\u001b[0;32m~/.local/lib/python3.9/site-packages/pandas/core/indexing.py\u001b[0m in \u001b[0;36m<genexpr>\u001b[0;34m(.0)\u001b[0m\n\u001b[1;32m    882\u001b[0m     \u001b[0;32mdef\u001b[0m \u001b[0m__getitem__\u001b[0m\u001b[0;34m(\u001b[0m\u001b[0mself\u001b[0m\u001b[0;34m,\u001b[0m \u001b[0mkey\u001b[0m\u001b[0;34m)\u001b[0m\u001b[0;34m:\u001b[0m\u001b[0;34m\u001b[0m\u001b[0;34m\u001b[0m\u001b[0m\n\u001b[1;32m    883\u001b[0m         \u001b[0;32mif\u001b[0m \u001b[0mtype\u001b[0m\u001b[0;34m(\u001b[0m\u001b[0mkey\u001b[0m\u001b[0;34m)\u001b[0m \u001b[0;32mis\u001b[0m \u001b[0mtuple\u001b[0m\u001b[0;34m:\u001b[0m\u001b[0;34m\u001b[0m\u001b[0;34m\u001b[0m\u001b[0m\n\u001b[0;32m--> 884\u001b[0;31m             \u001b[0mkey\u001b[0m \u001b[0;34m=\u001b[0m \u001b[0mtuple\u001b[0m\u001b[0;34m(\u001b[0m\u001b[0mcom\u001b[0m\u001b[0;34m.\u001b[0m\u001b[0mapply_if_callable\u001b[0m\u001b[0;34m(\u001b[0m\u001b[0mx\u001b[0m\u001b[0;34m,\u001b[0m \u001b[0mself\u001b[0m\u001b[0;34m.\u001b[0m\u001b[0mobj\u001b[0m\u001b[0;34m)\u001b[0m \u001b[0;32mfor\u001b[0m \u001b[0mx\u001b[0m \u001b[0;32min\u001b[0m \u001b[0mkey\u001b[0m\u001b[0;34m)\u001b[0m\u001b[0;34m\u001b[0m\u001b[0;34m\u001b[0m\u001b[0m\n\u001b[0m\u001b[1;32m    885\u001b[0m             \u001b[0;32mif\u001b[0m \u001b[0mself\u001b[0m\u001b[0;34m.\u001b[0m\u001b[0m_is_scalar_access\u001b[0m\u001b[0;34m(\u001b[0m\u001b[0mkey\u001b[0m\u001b[0;34m)\u001b[0m\u001b[0;34m:\u001b[0m\u001b[0;34m\u001b[0m\u001b[0;34m\u001b[0m\u001b[0m\n\u001b[1;32m    886\u001b[0m                 \u001b[0;32mwith\u001b[0m \u001b[0msuppress\u001b[0m\u001b[0;34m(\u001b[0m\u001b[0mKeyError\u001b[0m\u001b[0;34m,\u001b[0m \u001b[0mIndexError\u001b[0m\u001b[0;34m,\u001b[0m \u001b[0mAttributeError\u001b[0m\u001b[0;34m)\u001b[0m\u001b[0;34m:\u001b[0m\u001b[0;34m\u001b[0m\u001b[0;34m\u001b[0m\u001b[0m\n",
      "\u001b[0;31mKeyboardInterrupt\u001b[0m: "
     ]
    }
   ],
   "source": [
    "import re # regular expressions\n",
    "from tqdm import tnrange, tqdm_notebook, tqdm\n",
    "d = pd.read_csv(\"tweets_raw_file\")\n",
    "for i,s in enumerate(tqdm(d['Text'])):\n",
    "    text = d.loc[i, 'Text']\n",
    "    text = text.replace(\"#\", \"\")\n",
    "    text = re.sub('https?://(?:[-\\w.]|(?:%[\\da-fA-F]{2}))+', '', text, flags=re.MULTILINE)\n",
    "    text = re.sub('@\\\\w+ *', '', text, flags=re.MULTILINE)\n",
    "    d.loc[i, 'Text'] = text\n",
    "f = open(\"tweets_clean_file\", 'a+', encoding='utf-8')\n",
    "d.to_csv(f, header=True, encoding='utf-8',index=False)"
   ]
  },
  {
   "cell_type": "code",
   "execution_count": null,
   "metadata": {
    "scrolled": true
   },
   "outputs": [],
   "source": [
    "df_clean = pd.read_csv(\"tweets_clean_file\")\n",
    "df_clean.head(5)"
   ]
  },
  {
   "cell_type": "code",
   "execution_count": null,
   "metadata": {},
   "outputs": [],
   "source": [
    "df_clean.min(axis=0)"
   ]
  },
  {
   "cell_type": "code",
   "execution_count": null,
   "metadata": {},
   "outputs": [],
   "source": [
    "df_clean.info()"
   ]
  },
  {
   "cell_type": "code",
   "execution_count": null,
   "metadata": {},
   "outputs": [],
   "source": [
    "df_clean.tail(5)"
   ]
  },
  {
   "cell_type": "code",
   "execution_count": null,
   "metadata": {},
   "outputs": [],
   "source": [
    "f.close()"
   ]
  },
  {
   "cell_type": "code",
   "execution_count": null,
   "metadata": {},
   "outputs": [],
   "source": [
    "import GetOldTweets3 as got\n",
    "#GetOldTweets3 --username \"bitcoin\" --since 2021-04-11 --until 2021-04-19 --emoji unicode --lang en\n",
    "tweetCriteria = got.manager.TweetCriteria().setQuerySearch('bitcoin')\\\n",
    "                                           .setSince(\"2021-04-11\")\\\n",
    "                                           .setUntil(\"2021-04-19\")\\\n",
    "                                           .setMaxTweets(1)\n",
    "tweet = got.manager.TweetManager.getTweets(tweetCriteria)[0]\n",
    "print(tweet.text)\n"
   ]
  },
  {
   "cell_type": "code",
   "execution_count": null,
   "metadata": {},
   "outputs": [],
   "source": []
  }
 ],
 "metadata": {
  "kernelspec": {
   "display_name": "Python 3",
   "language": "python",
   "name": "python3"
  },
  "language_info": {
   "codemirror_mode": {
    "name": "ipython",
    "version": 3
   },
   "file_extension": ".py",
   "mimetype": "text/x-python",
   "name": "python",
   "nbconvert_exporter": "python",
   "pygments_lexer": "ipython3",
   "version": "3.9.4"
  }
 },
 "nbformat": 4,
 "nbformat_minor": 1
}
